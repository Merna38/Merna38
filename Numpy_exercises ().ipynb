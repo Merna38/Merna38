{
 "cells": [
  {
   "cell_type": "markdown",
   "id": "6293cc50",
   "metadata": {},
   "source": [
    "#  numpy exercises\n",
    "\n"
   ]
  },
  {
   "cell_type": "markdown",
   "id": "57fc0ee5",
   "metadata": {},
   "source": [
    "Run the `initialize.py` module, then for each question you can query the\n",
    "answer or an hint with `hint(n)` or `answer(n)` for `n` question number."
   ]
  },
  {
   "cell_type": "code",
   "execution_count": null,
   "id": "3d46fba2",
   "metadata": {},
   "outputs": [],
   "source": [
    "%run initialise.py"
   ]
  },
  {
   "cell_type": "markdown",
   "id": "3c1222ff",
   "metadata": {},
   "source": [
    "#### 1. Import the numpy package under the name `np` (★☆☆)"
   ]
  },
  {
   "cell_type": "code",
   "execution_count": 1,
   "id": "f52e6a0b",
   "metadata": {},
   "outputs": [],
   "source": [
    "import numpy as np"
   ]
  },
  {
   "cell_type": "markdown",
   "id": "9d9f4753",
   "metadata": {},
   "source": [
    "#### 2. Print the numpy version and the configuration (★☆☆)"
   ]
  },
  {
   "cell_type": "code",
   "execution_count": 2,
   "id": "b7fa5fa1",
   "metadata": {},
   "outputs": [
    {
     "name": "stdout",
     "output_type": "stream",
     "text": [
      "Python version: 3.11.5\n"
     ]
    }
   ],
   "source": [
    "import platform\n",
    "print('Python version: ' + platform.python_version())"
   ]
  },
  {
   "cell_type": "markdown",
   "id": "3e4c23c6",
   "metadata": {},
   "source": [
    "#### 3. Create a null vector of size 10 (★☆☆)"
   ]
  },
  {
   "cell_type": "code",
   "execution_count": 3,
   "id": "083c5c46",
   "metadata": {},
   "outputs": [
    {
     "name": "stdout",
     "output_type": "stream",
     "text": [
      "[0. 0. 0. 0. 0. 0. 0. 0. 0. 0.]\n"
     ]
    }
   ],
   "source": [
    "empty = np.zeros(10)\n",
    "print(empty)"
   ]
  },
  {
   "cell_type": "markdown",
   "id": "c38bbe82",
   "metadata": {},
   "source": [
    "#### 4. How to find the memory size of any array (★☆☆)"
   ]
  },
  {
   "cell_type": "code",
   "execution_count": 8,
   "id": "02b04021",
   "metadata": {},
   "outputs": [
    {
     "name": "stdout",
     "output_type": "stream",
     "text": [
      "80\n"
     ]
    }
   ],
   "source": [
    "print(empty.nbytes)"
   ]
  },
  {
   "cell_type": "markdown",
   "id": "e0c739c6",
   "metadata": {},
   "source": [
    "#### 5. Create a null vector of size 10 but the fifth value which is 1 (★☆☆)"
   ]
  },
  {
   "cell_type": "code",
   "execution_count": 23,
   "id": "bcceacf7",
   "metadata": {},
   "outputs": [
    {
     "name": "stdout",
     "output_type": "stream",
     "text": [
      "[0 0 0 0 0 0 0 0 0 0]\n",
      "[0 0 0 0 1 0 0 0 0 0]\n"
     ]
    }
   ],
   "source": [
    "arr = np.zeros((10), dtype='int'  )  \n",
    "print(arr) \n",
    "arr[4]=1\n",
    "print(arr)"
   ]
  },
  {
   "cell_type": "markdown",
   "id": "fbebedab",
   "metadata": {},
   "source": [
    "#### 7. Create a vector with values ranging from 10 to 49 (★☆☆)"
   ]
  },
  {
   "cell_type": "code",
   "execution_count": 28,
   "id": "557ae21c",
   "metadata": {},
   "outputs": [
    {
     "name": "stdout",
     "output_type": "stream",
     "text": [
      "[10 11 12 13 14 15 16 17 18 19 20 21 22 23 24 25 26 27 28 29 30 31 32 33\n",
      " 34 35 36 37 38 39 40 41 42 43 44 45 46 47 48 49]\n",
      "<class 'numpy.ndarray'>\n"
     ]
    }
   ],
   "source": [
    "arr = np.arange(10, 50)  \n",
    "print(arr)\n",
    "print(type(arr))"
   ]
  },
  {
   "cell_type": "markdown",
   "id": "ad0bff02",
   "metadata": {},
   "source": [
    "#### 8. Reverse a vector (first element becomes last) (★☆☆)"
   ]
  },
  {
   "cell_type": "code",
   "execution_count": 37,
   "id": "22d23470",
   "metadata": {},
   "outputs": [
    {
     "name": "stdout",
     "output_type": "stream",
     "text": [
      "[1 2 3 4 5]\n",
      "[5 4 3 2 1]\n"
     ]
    }
   ],
   "source": [
    "arr = np.array((1,2,3,4,5))\n",
    "print(arr)\n",
    "arr = np.flip(arr) # flip = reverse\n",
    "print(arr)"
   ]
  },
  {
   "cell_type": "markdown",
   "id": "9f59d7e1",
   "metadata": {},
   "source": [
    "#### 9. Create a 3x3 matrix with values ranging from 0 to 8 (★☆☆)"
   ]
  },
  {
   "cell_type": "code",
   "execution_count": 49,
   "id": "7449e82d",
   "metadata": {},
   "outputs": [
    {
     "data": {
      "text/plain": [
       "array([[0, 1, 2],\n",
       "       [3, 4, 5],\n",
       "       [6, 7, 8]])"
      ]
     },
     "execution_count": 49,
     "metadata": {},
     "output_type": "execute_result"
    }
   ],
   "source": [
    "arr = (np.arange(0,9).reshape(3,3)) # reshape make matrix\n",
    "arr"
   ]
  },
  {
   "cell_type": "markdown",
   "id": "f374c4cf",
   "metadata": {},
   "source": [
    "#### 10. Find indices of non-zero elements from [1,2,0,0,4,0] (★☆☆)"
   ]
  },
  {
   "cell_type": "code",
   "execution_count": 87,
   "id": "1a84bed8",
   "metadata": {},
   "outputs": [
    {
     "name": "stdout",
     "output_type": "stream",
     "text": [
      "1\n",
      "2\n",
      "4\n"
     ]
    }
   ],
   "source": [
    "arr=[1,2,0,0,4,0]\n",
    "for i in arr:\n",
    "    if(i!=0):\n",
    "        print(i)\n",
    "    "
   ]
  },
  {
   "cell_type": "markdown",
   "id": "9c4707f5",
   "metadata": {},
   "source": [
    "#### 11. Create a 3x3 identity matrix (★☆☆)"
   ]
  },
  {
   "cell_type": "code",
   "execution_count": 100,
   "id": "29dc1fd3",
   "metadata": {},
   "outputs": [
    {
     "name": "stdout",
     "output_type": "stream",
     "text": [
      "[[1 0 0]\n",
      " [0 1 0]\n",
      " [0 0 1]]\n"
     ]
    }
   ],
   "source": [
    "identity_matrix = np.eye(3)\n",
    "identity_matrix = identity_matrix.astype(int)\n",
    "print(identity_matrix)"
   ]
  },
  {
   "cell_type": "markdown",
   "id": "3bac294a",
   "metadata": {},
   "source": [
    "#### 12. Create a 3x3x3 array with random values (★☆☆)"
   ]
  },
  {
   "cell_type": "code",
   "execution_count": 52,
   "id": "eadfae67",
   "metadata": {},
   "outputs": [
    {
     "data": {
      "text/plain": [
       "array([[[0.88828807, 0.75119828, 0.1914554 ],\n",
       "        [0.05515969, 0.72826198, 0.3057574 ],\n",
       "        [0.08967598, 0.96903234, 0.8944916 ]],\n",
       "\n",
       "       [[0.22628908, 0.62471622, 0.3455872 ],\n",
       "        [0.08842885, 0.01578969, 0.14239244],\n",
       "        [0.59413263, 0.23025561, 0.6283835 ]],\n",
       "\n",
       "       [[0.76081512, 0.82140887, 0.14960765],\n",
       "        [0.25836688, 0.26118689, 0.76588905],\n",
       "        [0.892856  , 0.44501736, 0.47615758]]])"
      ]
     },
     "execution_count": 52,
     "metadata": {},
     "output_type": "execute_result"
    }
   ],
   "source": [
    "arr = np.random.rand(3,3,3) #(row,)\n",
    "arr"
   ]
  },
  {
   "cell_type": "markdown",
   "id": "466c2989",
   "metadata": {},
   "source": [
    "#### 13. Create a 10x10 array with random values and find the minimum and maximum values (★☆☆)"
   ]
  },
  {
   "cell_type": "code",
   "execution_count": 93,
   "id": "9a74dbfc",
   "metadata": {},
   "outputs": [
    {
     "name": "stdout",
     "output_type": "stream",
     "text": [
      "0.9955322360071965\n",
      "0.003978489174250588\n"
     ]
    }
   ],
   "source": [
    "arr = np.random.rand(10,10)\n",
    "print(np.max(arr))\n",
    "print(np.min(arr))"
   ]
  },
  {
   "cell_type": "markdown",
   "id": "53a8edb2",
   "metadata": {},
   "source": [
    "#### 14. Create a random vector of size 30 and find the mean value (★☆☆)"
   ]
  },
  {
   "cell_type": "code",
   "execution_count": 95,
   "id": "6691530b",
   "metadata": {},
   "outputs": [
    {
     "name": "stdout",
     "output_type": "stream",
     "text": [
      "0.5895050026044337\n"
     ]
    }
   ],
   "source": [
    "arr = np.random.rand(30)\n",
    "print(np.mean(arr))"
   ]
  },
  {
   "cell_type": "markdown",
   "id": "cbaad31c",
   "metadata": {},
   "source": [
    "#### 15. Create a 2d array with 1 on the border and 0 inside (★☆☆)"
   ]
  },
  {
   "cell_type": "code",
   "execution_count": 179,
   "id": "ad8308e3",
   "metadata": {},
   "outputs": [
    {
     "name": "stdout",
     "output_type": "stream",
     "text": [
      "[[1 1 1]\n",
      " [1 0 1]\n",
      " [1 1 1]]\n"
     ]
    }
   ],
   "source": [
    "rows = 3\n",
    "cols = 3\n",
    "array = np.zeros((rows, cols), dtype=int)\n",
    "array[0, 0:3] = 1 #first row ..define first row ,column 0:3\n",
    "array[2,0 :3] = 1   #last row \n",
    "array[0:3, 0] = 1    # first column ..define first column 0,row 0:3\n",
    "array[0:3, 2] = 1 #last column\n",
    "print(array)"
   ]
  },
  {
   "cell_type": "markdown",
   "id": "502738ac",
   "metadata": {},
   "source": [
    "#### 18. Create a 5x5 matrix with values 1,2,3,4 just below the diagonal (★☆☆)"
   ]
  },
  {
   "cell_type": "code",
   "execution_count": 181,
   "id": "faed6e2b",
   "metadata": {},
   "outputs": [
    {
     "name": "stdout",
     "output_type": "stream",
     "text": [
      "[[1 0 0 0]\n",
      " [0 2 0 0]\n",
      " [0 0 3 0]\n",
      " [0 0 0 4]]\n"
     ]
    }
   ],
   "source": [
    "arr = np.diag([1,2,3,4])\n",
    "print(arr)"
   ]
  },
  {
   "cell_type": "markdown",
   "id": "a65da660",
   "metadata": {},
   "source": [
    "#### 19. Create a 8x8 matrix and fill it with a checkerboard pattern (★☆☆)"
   ]
  },
  {
   "cell_type": "code",
   "execution_count": 46,
   "id": "ed150400",
   "metadata": {},
   "outputs": [
    {
     "name": "stdout",
     "output_type": "stream",
     "text": [
      "[[0. 1. 0. 1. 0. 1. 0. 1.]\n",
      " [1. 0. 1. 0. 1. 0. 1. 0.]\n",
      " [0. 1. 0. 1. 0. 1. 0. 1.]\n",
      " [1. 0. 1. 0. 1. 0. 1. 0.]\n",
      " [0. 1. 0. 1. 0. 1. 0. 1.]\n",
      " [1. 0. 1. 0. 1. 0. 1. 0.]\n",
      " [0. 1. 0. 1. 0. 1. 0. 1.]\n",
      " [1. 0. 1. 0. 1. 0. 1. 0.]]\n"
     ]
    }
   ],
   "source": [
    "matrix = np.zeros((8, 8))\n",
    "for i in range(8): # i :row\n",
    "    for j in range(8): # j : column\n",
    "        if (i + j) % 2 == 0:\n",
    "            matrix[i][j] = 0\n",
    "        else:\n",
    "            matrix[i][j] = 1\n",
    "print(matrix)"
   ]
  },
  {
   "cell_type": "markdown",
   "id": "9f7f9c49",
   "metadata": {},
   "source": [
    "#### 20. Consider a (6,7,8) shape array, what is the index (x,y,z) of the 100th element? (★☆☆)"
   ]
  },
  {
   "cell_type": "code",
   "execution_count": 206,
   "id": "3782b5a9",
   "metadata": {},
   "outputs": [
    {
     "name": "stdout",
     "output_type": "stream",
     "text": [
      "(1, 5, 4)\n"
     ]
    }
   ],
   "source": [
    "array = np.zeros((6, 7, 8)) #(duplicate,row,column)\n",
    "index = np.unravel_index(100, array.shape) #unravel_index :function converts a flat index to a tuple to the multi-dimensional array shape(x,y,z).\n",
    "\"\"\"\"x = index // (7 * 8)\n",
    "y = (index % (7 * 8)) // 8\n",
    "z = (index % (7 * 8)) % 8\"\"\"\n",
    "print(index)"
   ]
  },
  {
   "cell_type": "markdown",
   "id": "66bfda35",
   "metadata": {},
   "source": [
    "#### 21. Create a checkerboard 8x8 matrix using the tile function (★☆☆)"
   ]
  },
  {
   "cell_type": "code",
   "execution_count": 213,
   "id": "4c07477c",
   "metadata": {},
   "outputs": [
    {
     "name": "stdout",
     "output_type": "stream",
     "text": [
      "[[0 1 2 0 1 2 0 1 2 0 1 2 0 1 2 0 1 2 0 1 2 0 1 2]\n",
      " [0 1 2 0 1 2 0 1 2 0 1 2 0 1 2 0 1 2 0 1 2 0 1 2]\n",
      " [0 1 2 0 1 2 0 1 2 0 1 2 0 1 2 0 1 2 0 1 2 0 1 2]\n",
      " [0 1 2 0 1 2 0 1 2 0 1 2 0 1 2 0 1 2 0 1 2 0 1 2]\n",
      " [0 1 2 0 1 2 0 1 2 0 1 2 0 1 2 0 1 2 0 1 2 0 1 2]\n",
      " [0 1 2 0 1 2 0 1 2 0 1 2 0 1 2 0 1 2 0 1 2 0 1 2]\n",
      " [0 1 2 0 1 2 0 1 2 0 1 2 0 1 2 0 1 2 0 1 2 0 1 2]\n",
      " [0 1 2 0 1 2 0 1 2 0 1 2 0 1 2 0 1 2 0 1 2 0 1 2]]\n"
     ]
    }
   ],
   "source": [
    "arr = [0, 1, 2]\n",
    "print(np.tile(arr, (8,8)))"
   ]
  },
  {
   "cell_type": "markdown",
   "id": "d5bcfc08",
   "metadata": {},
   "source": [
    "#### 22. Normalize a 5x5 random matrix (★☆☆)"
   ]
  },
  {
   "cell_type": "code",
   "execution_count": 210,
   "id": "cea6c993",
   "metadata": {},
   "outputs": [
    {
     "name": "stdout",
     "output_type": "stream",
     "text": [
      "[[ 1.53747702  0.15836111  0.87808192  0.38494841  1.09161845]\n",
      " [-1.41092666  1.36723912 -0.97463529  0.1662164   0.21034233]\n",
      " [ 1.2873316   0.16153202 -1.12750698 -1.50935424 -1.6143564 ]\n",
      " [-0.22896175  0.09632473  0.21834952  0.6326832  -1.52860652]\n",
      " [ 0.37103836 -1.29619275  1.37170569  0.65465943 -0.89736873]]\n"
     ]
    }
   ],
   "source": [
    "matrix = np.random.rand(5, 5)\n",
    "mean = np.mean(matrix)\n",
    "std = np.std(matrix)\n",
    "#x*=(x-mean/std)\n",
    "normalized_matrix = (matrix - mean) / std\n",
    "print(normalized_matrix)\n"
   ]
  },
  {
   "cell_type": "code",
   "execution_count": 212,
   "id": "6d20555d",
   "metadata": {},
   "outputs": [
    {
     "name": "stdout",
     "output_type": "stream",
     "text": [
      "[[0.16779918 0.13153655 0.30720396 0.14498308 0.16751469]\n",
      " [0.17637391 0.12457741 0.32329373 0.1083126  0.17245203]\n",
      " [0.23303884 0.32513405 0.0573354  0.11759957 0.20884829]\n",
      " [0.20559203 0.22523687 0.05207789 0.1805567  0.29728667]\n",
      " [0.13119624 0.16808714 0.2634509  0.01328657 0.25685433]]\n"
     ]
    }
   ],
   "source": [
    "random_matrix = np.random.rand(5, 5)\n",
    "\n",
    "normalized_matrix = random_matrix / np.linalg.norm(random_matrix)\n",
    "\n",
    "# Print the normalized matrix\n",
    "print(normalized_matrix)"
   ]
  },
  {
   "cell_type": "markdown",
   "id": "f9a0911e",
   "metadata": {},
   "source": [
    "#### 23. Create a custom dtype that describes a color as four unsigned bytes (RGBA) (★☆☆)"
   ]
  },
  {
   "cell_type": "code",
   "execution_count": 220,
   "id": "d165044b",
   "metadata": {},
   "outputs": [
    {
     "name": "stdout",
     "output_type": "stream",
     "text": [
      "[('R', 'i1'), ('G', 'i1'), ('B', 'i1'), ('A', 'i1')]\n"
     ]
    }
   ],
   "source": [
    "rgba_dtype = np.dtype([('R', np.int8),  # Red component\n",
    "                       ('G', np.int8),  # Green component\n",
    "                       ('B', np.int8),  # Blue component\n",
    "                       ('A', np.int8)]) # Alpha component\n",
    "\n",
    "print(rgba_dtype)\n"
   ]
  },
  {
   "cell_type": "markdown",
   "id": "84dcf18e",
   "metadata": {},
   "source": [
    "# 24. Multiply a 5x3 matrix by a 3x2 matrix (real matrix product) (★☆☆)"
   ]
  },
  {
   "cell_type": "code",
   "execution_count": 223,
   "id": "6a42619f",
   "metadata": {},
   "outputs": [
    {
     "name": "stdout",
     "output_type": "stream",
     "text": [
      "[[0.79768066 0.63276026]\n",
      " [1.03444663 0.54333313]\n",
      " [1.20777047 0.89740986]\n",
      " [0.91327268 0.46856608]\n",
      " [1.35578009 0.94532073]]\n",
      "[[0.79768066 0.63276026]\n",
      " [1.03444663 0.54333313]\n",
      " [1.20777047 0.89740986]\n",
      " [0.91327268 0.46856608]\n",
      " [1.35578009 0.94532073]]\n"
     ]
    }
   ],
   "source": [
    "arr1 = np.random.rand(5,3)\n",
    "arr2 = np.random.rand(3,2)\n",
    "print(arr1.dot(arr2)) #dot use multiply matrix (5*3 3*2) ,row= column =3\n",
    "#print(arr1 @ arr2)"
   ]
  },
  {
   "cell_type": "markdown",
   "id": "847769a8",
   "metadata": {},
   "source": [
    "#### 25. Given a 1D array, negate all elements which are between 3 and 8, in place. (★☆☆)"
   ]
  },
  {
   "cell_type": "code",
   "execution_count": 253,
   "id": "e4b39c03",
   "metadata": {},
   "outputs": [
    {
     "name": "stdout",
     "output_type": "stream",
     "text": [
      "[ 1 -5 -4  9 -3 -6 -8  2 -7]\n"
     ]
    }
   ],
   "source": [
    "arr = np.array([1, 5, 4, 9, 3, 6, 8, 2, 7])\n",
    "for i in range(len(arr)): # np use len to define count list\n",
    "    if (arr[i] >= 3) and (arr[i] < 9):\n",
    "        arr[i]*=-1\n",
    "print(arr)"
   ]
  },
  {
   "cell_type": "markdown",
   "id": "c34e94bf",
   "metadata": {},
   "source": [
    "#### 28. What are the result of the following expressions? (★☆☆)\n",
    "```python\n",
    "np.array(0) / np.array(0)\n",
    "np.array(0) // np.array(0)\n",
    "np.array([np.nan]).astype(int).astype(float)\n",
    "```"
   ]
  },
  {
   "cell_type": "code",
   "execution_count": 263,
   "id": "56663562",
   "metadata": {},
   "outputs": [
    {
     "data": {
      "text/plain": [
       "'\"np.array(0) / np.array(0) result error nan to divide 0/0\\nnp.array(0) // np.array(0) result 0 \\nnp.array([np.nan]).astype(int).astype(float) convert nan to int (0)to float(0.0)'"
      ]
     },
     "execution_count": 263,
     "metadata": {},
     "output_type": "execute_result"
    }
   ],
   "source": [
    "\"\"\"\"np.array(0) / np.array(0) result error nan to divide 0/0\n",
    "np.array(0) // np.array(0) result 0 \n",
    "np.array([np.nan]).astype(int).astype(float) convert nan to int (0)to float(0.0)\"\"\""
   ]
  },
  {
   "cell_type": "markdown",
   "id": "546f5e7b",
   "metadata": {},
   "source": [
    "#### 29. How to round away from zero a float array ? (★☆☆)"
   ]
  },
  {
   "cell_type": "code",
   "execution_count": 267,
   "id": "f725a6d2",
   "metadata": {},
   "outputs": [
    {
     "name": "stdout",
     "output_type": "stream",
     "text": [
      "Original array: [-1.5  2.7 -3.4  4.9]\n",
      "Rounded up: [-1.  3. -3.  5.]\n"
     ]
    }
   ],
   "source": [
    "float_array = np.array([-1.5, 2.7, -3.4, 4.9])\n",
    "rounded_up = np.ceil(float_array)\n",
    "print(\"original array:\", float_array)\n",
    "print(\"rounded up:\", rounded_up)"
   ]
  },
  {
   "cell_type": "markdown",
   "id": "eadca856",
   "metadata": {},
   "source": [
    "#### 30. How to find common values between two arrays? (★☆☆)"
   ]
  },
  {
   "cell_type": "code",
   "execution_count": 270,
   "id": "e0270b5b",
   "metadata": {},
   "outputs": [
    {
     "name": "stdout",
     "output_type": "stream",
     "text": [
      "[3 4 5]\n",
      "<class 'numpy.ndarray'>\n"
     ]
    }
   ],
   "source": [
    "arr1 = np.array([1,2,3,4,5])\n",
    "arr2 = np.array([3,4,5,6,7])\n",
    "print(np.intersect1d(arr1, arr2))\n",
    "print(type(np.intersect1d(arr1, arr2)))"
   ]
  },
  {
   "cell_type": "markdown",
   "id": "ca16ca22",
   "metadata": {},
   "source": [
    "#### 31. How to ignore all numpy warnings (not recommended)? (★☆☆)"
   ]
  },
  {
   "cell_type": "code",
   "execution_count": 265,
   "id": "7d7208ef",
   "metadata": {},
   "outputs": [
    {
     "data": {
      "text/plain": [
       "{'divide': 'ignore', 'over': 'ignore', 'under': 'ignore', 'invalid': 'ignore'}"
      ]
     },
     "execution_count": 265,
     "metadata": {},
     "output_type": "execute_result"
    }
   ],
   "source": [
    "np.seterr(all='ignore')"
   ]
  },
  {
   "cell_type": "markdown",
   "id": "e0433e30",
   "metadata": {},
   "source": [
    "#### 33. How to get the dates of yesterday, today and tomorrow? (★☆☆)"
   ]
  },
  {
   "cell_type": "code",
   "execution_count": 254,
   "id": "9c4d2152",
   "metadata": {},
   "outputs": [
    {
     "name": "stdout",
     "output_type": "stream",
     "text": [
      "Yesterday: 2024-02-19\n",
      "Today: 2024-02-20\n",
      "Tomorrow: 2024-02-21\n"
     ]
    }
   ],
   "source": [
    "import datetime\n",
    "today = datetime.date.today()\n",
    "yesterday = today - datetime.timedelta(days=1)\n",
    "tomorrow = today + datetime.timedelta(days=1)\n",
    "print(\"Yesterday:\", yesterday)\n",
    "print(\"Today:\", today)\n",
    "print(\"Tomorrow:\", tomorrow)"
   ]
  },
  {
   "cell_type": "markdown",
   "id": "9f52a2ef",
   "metadata": {},
   "source": [
    "#### 34. How to get all the dates corresponding to the month of July 2016? (★★☆)"
   ]
  },
  {
   "cell_type": "code",
   "execution_count": 3,
   "id": "d6c34dec",
   "metadata": {},
   "outputs": [
    {
     "name": "stdout",
     "output_type": "stream",
     "text": [
      "['2016-07-01' '2016-07-02' '2016-07-03' '2016-07-04' '2016-07-05'\n",
      " '2016-07-06' '2016-07-07' '2016-07-08' '2016-07-09' '2016-07-10'\n",
      " '2016-07-11' '2016-07-12' '2016-07-13' '2016-07-14' '2016-07-15'\n",
      " '2016-07-16' '2016-07-17' '2016-07-18' '2016-07-19' '2016-07-20'\n",
      " '2016-07-21' '2016-07-22' '2016-07-23' '2016-07-24' '2016-07-25'\n",
      " '2016-07-26' '2016-07-27' '2016-07-28' '2016-07-29' '2016-07-30'\n",
      " '2016-07-31']\n"
     ]
    }
   ],
   "source": [
    "import numpy as np\n",
    "dates = np.arange('2016-07-01', '2016-08-01', dtype='datetime64[D]')\n",
    "print(dates)"
   ]
  },
  {
   "cell_type": "markdown",
   "id": "4a64e059",
   "metadata": {},
   "source": [
    "#### 35. How to compute ((A+B)*(-A/2)) in place (without copy)? (★★☆)"
   ]
  },
  {
   "cell_type": "code",
   "execution_count": 12,
   "id": "8b9729f4",
   "metadata": {},
   "outputs": [
    {
     "name": "stdout",
     "output_type": "stream",
     "text": [
      "result = -30.0\n"
     ]
    }
   ],
   "source": [
    "A = 5\n",
    "B = 7\n",
    "result1 = A + B\n",
    "result2= -A/2\n",
    "result = result1*result2\n",
    "print(\"result =\", result)"
   ]
  },
  {
   "cell_type": "markdown",
   "id": "8a98c2a8",
   "metadata": {},
   "source": [
    "#### 36. Extract the integer part of a random array of positive numbers using 4 different methods (★★☆)"
   ]
  },
  {
   "cell_type": "code",
   "execution_count": 45,
   "id": "368130b3",
   "metadata": {},
   "outputs": [
    {
     "name": "stdout",
     "output_type": "stream",
     "text": [
      "original array: [1.75807443 0.57043894 5.79058543 2.06127753 7.89515881 6.83765126\n",
      " 2.33932734 5.16865129 7.50168026 2.24121701]\n",
      "integer part using np.floor: [1. 0. 5. 2. 7. 6. 2. 5. 7. 2.]\n",
      "integer part using np.trunc: [1. 0. 5. 2. 7. 6. 2. 5. 7. 2.]\n",
      "integer part using casting: [1 0 5 2 7 6 2 5 7 2]\n",
      "integer part using // operator: [1. 0. 5. 2. 7. 6. 2. 5. 7. 2.]\n",
      "integer part using ceil [2. 1. 6. 3. 8. 7. 3. 6. 8. 3.]\n"
     ]
    }
   ],
   "source": [
    "arr = np.random.rand(10)*10\n",
    "method_1 = np.floor(arr)\n",
    "method_2 = np.trunc(arr)\n",
    "method_3 = arr.astype(int)\n",
    "method_4 = arr // 1\n",
    "method_5 = np.ceil(arr)\n",
    "print(\"original array:\", arr)\n",
    "print(\"integer part using np.floor:\", method_1)\n",
    "print(\"integer part using np.trunc:\", method_2)\n",
    "print(\"integer part using casting:\", method_3)\n",
    "print(\"integer part using // operator:\", method_4)\n",
    "print(\"integer part using ceil\",method_5)"
   ]
  },
  {
   "cell_type": "markdown",
   "id": "5a2e3d85",
   "metadata": {},
   "source": [
    "#### 37. Create a 5x5 matrix with row values ranging from 0 to 4 (★★☆)"
   ]
  },
  {
   "cell_type": "code",
   "execution_count": 29,
   "id": "1d974e8f",
   "metadata": {},
   "outputs": [
    {
     "name": "stdout",
     "output_type": "stream",
     "text": [
      "[[0 0 0 0 0]\n",
      " [1 1 1 1 1]\n",
      " [2 2 2 2 2]\n",
      " [3 3 3 3 3]\n",
      " [4 4 4 4 4]]\n"
     ]
    }
   ],
   "source": [
    "rows = 5\n",
    "cols = 5\n",
    "array = np.zeros((rows, cols), dtype=int)\n",
    "array[0, 0:5] = 0 \n",
    "array[1, 0:5] = 1 \n",
    "array[2, 0:5] = 2 \n",
    "array[3, 0:5] = 3 \n",
    "array[4,0:5] = 4   \n",
    "print(array)"
   ]
  },
  {
   "cell_type": "code",
   "execution_count": 32,
   "id": "79da1bac",
   "metadata": {},
   "outputs": [
    {
     "name": "stdout",
     "output_type": "stream",
     "text": [
      "[[0 1 2 3 4]\n",
      " [0 1 2 3 4]\n",
      " [0 1 2 3 4]\n",
      " [0 1 2 3 4]\n",
      " [0 1 2 3 4]]\n"
     ]
    }
   ],
   "source": [
    "matrix = np.tile(np.arange(5), (5, 1))\n",
    "print(matrix)\n"
   ]
  },
  {
   "cell_type": "code",
   "execution_count": 42,
   "id": "7b1cafc4",
   "metadata": {},
   "outputs": [
    {
     "name": "stdout",
     "output_type": "stream",
     "text": [
      "[[0 1 2 3 4]\n",
      " [0 1 2 3 4]\n",
      " [0 1 2 3 4]\n",
      " [0 1 2 3 4]\n",
      " [0 1 2 3 4]]\n"
     ]
    }
   ],
   "source": [
    "import numpy as np\n",
    "\n",
    "matrix = np.arange(5).reshape(1, 5).repeat(5, axis=0)\n",
    "\n",
    "# Print the matrix\n",
    "print(matrix)"
   ]
  },
  {
   "cell_type": "markdown",
   "id": "9720e2d5",
   "metadata": {},
   "source": [
    "#### 38. Consider a generator function that generates 10 integers and use it to build an array (★☆☆)"
   ]
  },
  {
   "cell_type": "code",
   "execution_count": 74,
   "id": "e5dd8fc9",
   "metadata": {},
   "outputs": [
    {
     "data": {
      "text/plain": [
       "array([[ 0,  1,  2,  3,  4,  5,  6,  7,  8,  9, 10]])"
      ]
     },
     "execution_count": 74,
     "metadata": {},
     "output_type": "execute_result"
    }
   ],
   "source": [
    "matrix = np.arange(11).reshape(1, 11)\n",
    "matrix"
   ]
  },
  {
   "cell_type": "markdown",
   "id": "c6f2c912",
   "metadata": {},
   "source": [
    "#### 39. Create a vector of size 10 with values ranging from 0 to 1, both excluded (★★☆)"
   ]
  },
  {
   "cell_type": "code",
   "execution_count": 84,
   "id": "6aaa27d3",
   "metadata": {},
   "outputs": [
    {
     "data": {
      "text/plain": [
       "array([0. , 0.1, 0.2, 0.3, 0.4, 0.5, 0.6, 0.7, 0.8, 0.9])"
      ]
     },
     "execution_count": 84,
     "metadata": {},
     "output_type": "execute_result"
    }
   ],
   "source": [
    "matrix = np.arange(0, 1, 0.1)\n",
    "matrix"
   ]
  },
  {
   "cell_type": "markdown",
   "id": "a36d6ee4",
   "metadata": {},
   "source": [
    "#### 40. Create a random vector of size 10 and sort it (★★☆)"
   ]
  },
  {
   "cell_type": "code",
   "execution_count": 88,
   "id": "e589d216",
   "metadata": {},
   "outputs": [
    {
     "name": "stdout",
     "output_type": "stream",
     "text": [
      "[0.25063671 0.27091932 0.46716289 0.52302084 0.57784393 0.64472243\n",
      " 0.73639423 0.82127646 0.94836716 0.94837977]\n"
     ]
    }
   ],
   "source": [
    "arr = np.random.rand(10)\n",
    "print(np.sort(arr))"
   ]
  },
  {
   "cell_type": "markdown",
   "id": "0fb4ad68",
   "metadata": {},
   "source": [
    "#### 41. How to sum a small array faster than np.sum? (★★☆)"
   ]
  },
  {
   "cell_type": "code",
   "execution_count": 113,
   "id": "a1ba05a0",
   "metadata": {},
   "outputs": [
    {
     "data": {
      "text/plain": [
       "34"
      ]
     },
     "execution_count": 113,
     "metadata": {},
     "output_type": "execute_result"
    }
   ],
   "source": [
    "arrA = np.array((1,2,3,4,5))\n",
    "arrB = np.array((1,2,3,8,5))\n",
    "result=np.sum(arrA+arrB)\n",
    "result"
   ]
  },
  {
   "cell_type": "markdown",
   "id": "024ac365",
   "metadata": {},
   "source": [
    "#### 42. Consider two random array A and B, check if they are equal (★★☆)"
   ]
  },
  {
   "cell_type": "code",
   "execution_count": 102,
   "id": "7db3846d",
   "metadata": {},
   "outputs": [
    {
     "name": "stdout",
     "output_type": "stream",
     "text": [
      "equal 1 1\n",
      "equal 2 2\n",
      "equal 3 3\n",
      "equal 5 5\n"
     ]
    }
   ],
   "source": [
    "arrA = np.array((1,2,3,4,5))\n",
    "arrB = np.array((1,2,3,8,5))\n",
    "for i in arrA:\n",
    "    for j in arrB:\n",
    "        if i==j:\n",
    "            \n",
    "            print(\"equal\",i,j)"
   ]
  },
  {
   "cell_type": "code",
   "execution_count": 104,
   "id": "bcfc2c23",
   "metadata": {},
   "outputs": [
    {
     "name": "stdout",
     "output_type": "stream",
     "text": [
      "Arrays are not equal.\n"
     ]
    }
   ],
   "source": [
    "arrA = np.array((1, 2, 3, 4, 5))\n",
    "arrB = np.array((1, 2, 0, 4, 5))\n",
    "if np.array_equal(arrA, arrB):\n",
    "    print(\"Arrays are equal.\")\n",
    "else:\n",
    "    print(\"Arrays are not equal.\")\n"
   ]
  },
  {
   "cell_type": "markdown",
   "id": "55df6280",
   "metadata": {},
   "source": [
    "#### 44. Consider a random 10x2 matrix representing cartesian coordinates, convert them to polar coordinates (★★☆)"
   ]
  },
  {
   "cell_type": "code",
   "execution_count": 121,
   "id": "f1c86ea0",
   "metadata": {},
   "outputs": [
    {
     "data": {
      "text/plain": [
       "array([[0.45043249, 0.90550437],\n",
       "       [0.71112281, 0.2997883 ],\n",
       "       [0.14530263, 0.77217513],\n",
       "       [0.61304582, 0.18576813],\n",
       "       [0.40140266, 0.72576411],\n",
       "       [0.24387777, 0.87967107],\n",
       "       [0.68031328, 0.50914726],\n",
       "       [0.90552038, 0.01825632],\n",
       "       [0.30913855, 0.88355053],\n",
       "       [0.35123696, 0.65191475]])"
      ]
     },
     "execution_count": 121,
     "metadata": {},
     "output_type": "execute_result"
    }
   ],
   "source": [
    "import math\n",
    "arr=np.random.rand(10,2)\n",
    "arr\n"
   ]
  },
  {
   "cell_type": "code",
   "execution_count": 122,
   "id": "69adc714",
   "metadata": {},
   "outputs": [
    {
     "name": "stdout",
     "output_type": "stream",
     "text": [
      "[[1.01134939 2.01029983]\n",
      " [0.77173096 0.42157037]\n",
      " [0.78572723 5.31425446]\n",
      " [0.64057395 0.30302488]\n",
      " [0.82937184 1.80807   ]\n",
      " [0.91285133 3.60701614]\n",
      " [0.84973942 0.74840118]\n",
      " [0.90570439 0.02016113]\n",
      " [0.93607061 2.85810527]\n",
      " [0.7405135  1.85605397]]\n"
     ]
    }
   ],
   "source": [
    "#r=squrt(x**2+y**2)\n",
    "radius=np.sqrt(arr[:, 0]**2 + arr[:, 1]**2)\n",
    "#Angle=y/x\n",
    "Angle=(arr[:, 1]/arr[:, 0])\n",
    "polar_coordinates = np.column_stack((radius, Angle))\n",
    "print(polar_coordinates)\n"
   ]
  },
  {
   "cell_type": "markdown",
   "id": "2f60f1ec",
   "metadata": {},
   "source": [
    "#### 45. Create random vector of size 10 and replace the maximum value by 0 (★★☆)"
   ]
  },
  {
   "cell_type": "code",
   "execution_count": 135,
   "id": "d9f48f1c",
   "metadata": {},
   "outputs": [
    {
     "data": {
      "text/plain": [
       "array([0.69552176, 0.32032443, 0.93569995, 0.87780795, 0.61302424,\n",
       "       0.79821997, 0.24442985, 0.10457998, 0.55924798, 0.95959933])"
      ]
     },
     "execution_count": 135,
     "metadata": {},
     "output_type": "execute_result"
    }
   ],
   "source": [
    "arr = np.random.rand(10)\n",
    "arr"
   ]
  },
  {
   "cell_type": "code",
   "execution_count": 136,
   "id": "9f5725e8",
   "metadata": {},
   "outputs": [
    {
     "data": {
      "text/plain": [
       "0.9595993258010368"
      ]
     },
     "execution_count": 136,
     "metadata": {},
     "output_type": "execute_result"
    }
   ],
   "source": [
    "maximum=np.max(arr)\n",
    "maximum"
   ]
  },
  {
   "cell_type": "code",
   "execution_count": 137,
   "id": "589a323d",
   "metadata": {},
   "outputs": [
    {
     "name": "stdout",
     "output_type": "stream",
     "text": [
      "[0.69552176 0.32032443 0.93569995 0.87780795 0.61302424 0.79821997\n",
      " 0.24442985 0.10457998 0.55924798 0.        ]\n"
     ]
    }
   ],
   "source": [
    "arr[arr == maximum] = 0\n",
    "print(arr)"
   ]
  },
  {
   "cell_type": "markdown",
   "id": "d7b9bc42",
   "metadata": {},
   "source": [
    "#### 47. Given two arrays, X and Y, construct the Cauchy matrix C (Cij =1/(xi - yj)) (★★☆)"
   ]
  },
  {
   "cell_type": "code",
   "execution_count": 163,
   "id": "a24824fb",
   "metadata": {},
   "outputs": [
    {
     "name": "stdout",
     "output_type": "stream",
     "text": [
      "Cauchy matrix C:\n",
      "[[-0.33333333 -0.25       -0.2       ]\n",
      " [-0.5        -0.33333333 -0.25      ]\n",
      " [-1.         -0.5        -0.33333333]]\n"
     ]
    }
   ],
   "source": [
    "X = np.array([1, 2, 3])\n",
    "Y = np.array([4, 5, 6])\n",
    "#c=1/(x-y)\n",
    "C = 1 / (X[:, np.newaxis] - Y)\n",
    "print(\"Cauchy matrix C:\")\n",
    "print(C)\n"
   ]
  },
  {
   "cell_type": "markdown",
   "id": "9b317a98",
   "metadata": {},
   "source": [
    "#### 49. How to print all the values of an array? (★★☆)"
   ]
  },
  {
   "cell_type": "code",
   "execution_count": 145,
   "id": "309cdeb9",
   "metadata": {},
   "outputs": [
    {
     "data": {
      "text/plain": [
       "array([0.30042994, 0.50227111, 0.98447052, 0.8628909 , 0.1556513 ,\n",
       "       0.07609849, 0.98439538, 0.0909434 , 0.42541168, 0.4814505 ])"
      ]
     },
     "execution_count": 145,
     "metadata": {},
     "output_type": "execute_result"
    }
   ],
   "source": [
    "arr=np.random.rand(10)\n",
    "arr"
   ]
  },
  {
   "cell_type": "code",
   "execution_count": 151,
   "id": "b08f71ba",
   "metadata": {},
   "outputs": [
    {
     "name": "stdout",
     "output_type": "stream",
     "text": [
      "0.7905981190787306\n",
      "0.055205604038003786\n",
      "0.17880665413621233\n",
      "0.6981525925794255\n",
      "0.7253914903124186\n",
      "0.380467611105906\n",
      "0.3130651357497417\n",
      "0.3486465362116057\n",
      "0.5938827889243873\n",
      "0.2262048000435236\n"
     ]
    }
   ],
   "source": [
    "arr =np.random.rand(10)\n",
    "# Use np.nditer to iterate through the array\n",
    "for x in np.nditer(arr):\n",
    "    print(x)"
   ]
  },
  {
   "cell_type": "code",
   "execution_count": 158,
   "id": "b781f1de",
   "metadata": {},
   "outputs": [
    {
     "name": "stdout",
     "output_type": "stream",
     "text": [
      "[0.95482984 0.98533163 0.00736974 0.27067143 0.034076   0.63535585\n",
      " 0.10804479 0.96197018 0.04506197 0.27660474]\n"
     ]
    }
   ],
   "source": [
    "arr = np.random.rand(10)\n",
    "np.set_printoptions(threshold=np.inf)\n",
    "print(arr)\n",
    "#used print value array\n",
    "#np.nditer(arr) :Use : np.nditer to iterate through the array\n",
    "#np.set_printoptions :Set the printing threshold to infinity\n",
    "#np.ravel :Flatten the array and print it\n",
    "#np.array2string :Convert the array to a string and print it"
   ]
  },
  {
   "cell_type": "markdown",
   "id": "b580f9d0",
   "metadata": {},
   "source": [
    "#### 50. How to find the closest value (to a given scalar) in a vector? (★★☆)"
   ]
  },
  {
   "cell_type": "code",
   "execution_count": 160,
   "id": "4aee7c72",
   "metadata": {},
   "outputs": [
    {
     "name": "stdout",
     "output_type": "stream",
     "text": [
      "3\n"
     ]
    }
   ],
   "source": [
    "x = np.arange(10)\n",
    "y = 3.14\n",
    "closest_index = np.argmin(np.abs(x - y))\n",
    "closest_value = x[closest_index]\n",
    "print(closest_value)"
   ]
  },
  {
   "cell_type": "markdown",
   "id": "602e6252",
   "metadata": {},
   "source": [
    "#### 51. Create a structured array representing a position (x,y) and a color (r,g,b) (★★☆)"
   ]
  },
  {
   "cell_type": "code",
   "execution_count": 166,
   "id": "cf002b3a",
   "metadata": {},
   "outputs": [
    {
     "name": "stdout",
     "output_type": "stream",
     "text": [
      "Structured array:\n",
      "[((1. , 2. ), (255,   0,   0)) ((3.5, 4.5), (  0, 255,   0))\n",
      " ((6. , 7. ), (  0,   0, 255))]\n"
     ]
    }
   ],
   "source": [
    "dtype = [('position', [('x', float), ('y', float)]),('color', [('r', int), ('g', int), ('b', int)])]\n",
    "structured_array = np.array([((1.0, 2.0), (255, 0, 0)), ((3.5, 4.5), (0, 255, 0)),((6.0, 7.0), (0, 0, 255))], dtype=dtype)\n",
    "print(\"Structured array:\")\n",
    "print(structured_array)\n"
   ]
  },
  {
   "cell_type": "markdown",
   "id": "343c5a85",
   "metadata": {},
   "source": [
    "#### 53. How to convert a float (32 bits) array into an integer (32 bits) in place?"
   ]
  },
  {
   "cell_type": "code",
   "execution_count": 162,
   "id": "fc1b687b",
   "metadata": {},
   "outputs": [
    {
     "name": "stdout",
     "output_type": "stream",
     "text": [
      "[1.1 2.2 3.3 4.4 5.5]\n"
     ]
    }
   ],
   "source": [
    "float_array = np.array([1.1, 2.2, 3.3, 4.4, 5.5], dtype=np.float32)\n",
    "float_array.astype(np.int32)\n",
    "print(float_array)"
   ]
  },
  {
   "cell_type": "markdown",
   "id": "c23bd80d",
   "metadata": {},
   "source": [
    "#### 55. What is the equivalent of enumerate for numpy arrays? (★★☆)"
   ]
  },
  {
   "cell_type": "code",
   "execution_count": 175,
   "id": "d95d9578",
   "metadata": {},
   "outputs": [
    {
     "name": "stdout",
     "output_type": "stream",
     "text": [
      "Index: (0, 0) , Value: 1\n",
      "Index: (0, 1) , Value: 2\n",
      "Index: (0, 2) , Value: 3\n",
      "Index: (1, 0) , Value: 4\n",
      "Index: (1, 1) , Value: 5\n",
      "Index: (1, 2) , Value: 6\n"
     ]
    }
   ],
   "source": [
    "arr = np.array([[1, 2, 3], [4, 5, 6]])\n",
    "#arr=np.random.rand(5)\n",
    "for index, value in np.ndenumerate(arr): # ndenumerate used both the index and value of each element\n",
    "    print(\"index:\", index, \", value:\", value)\n"
   ]
  },
  {
   "cell_type": "markdown",
   "id": "8b3933eb",
   "metadata": {},
   "source": [
    "#### 58. Subtract the mean of each row of a matrix (★★☆)"
   ]
  },
  {
   "cell_type": "code",
   "execution_count": 295,
   "id": "a306c9ef",
   "metadata": {},
   "outputs": [
    {
     "name": "stdout",
     "output_type": "stream",
     "text": [
      "Original matrix:\n",
      "[[1 2 3]\n",
      " [4 5 6]\n",
      " [7 8 9]]\n",
      "\n",
      "Subtracting the mean of each row:\n",
      "[[-1.  0.  1.]\n",
      " [-1.  0.  1.]\n",
      " [-1.  0.  1.]]\n"
     ]
    }
   ],
   "source": [
    "import numpy as np\n",
    "matrix = np.array([[1, 2, 3],\n",
    "                   [4, 5, 6],\n",
    "                   [7, 8, 9]])\n",
    "\n",
    "row_means = np.mean(matrix, axis=1, keepdims=True)\n",
    "\n",
    "result_matrix = matrix - row_means\n",
    "\n",
    "print(\"Original matrix:\")\n",
    "print(matrix)\n",
    "print(\"\\nSubtracting the mean of each row:\")\n",
    "print(result_matrix)\n"
   ]
  },
  {
   "cell_type": "markdown",
   "id": "00fa00a1",
   "metadata": {},
   "source": [
    "#### 60. How to tell if a given 2D array has null columns? (★★☆)"
   ]
  },
  {
   "cell_type": "code",
   "execution_count": 286,
   "id": "3436e165",
   "metadata": {},
   "outputs": [
    {
     "name": "stdout",
     "output_type": "stream",
     "text": [
      "Array 1 has null columns: True\n",
      "Array 2 has null columns: False\n"
     ]
    }
   ],
   "source": [
    "def has_null_columns(array):\n",
    "    if array.size == 0:\n",
    "        return False\n",
    "    null_columns = np.all(array == 0, axis=1)# axis (0,1) ?\n",
    "    \n",
    "    return np.any(null_columns)\n",
    "\n",
    "\n",
    "arr1 = np.array([[0, 9, 8],[0, 0 ,0],[4, 7, 0]])\n",
    "\n",
    "arr2 = np.array([[0, 8, 1],[8, 6, 0],[1, 8, 0]])\n",
    "\n",
    "print(\"Array 1 has null columns:\", has_null_columns(arr1))\n",
    "print(\"Array 2 has null columns:\", has_null_columns(arr2))\n"
   ]
  },
  {
   "cell_type": "code",
   "execution_count": 270,
   "id": "8b826ae1",
   "metadata": {},
   "outputs": [
    {
     "name": "stdout",
     "output_type": "stream",
     "text": [
      "Array 1 has empty columns: False\n",
      "Array 2 has empty columns: False\n"
     ]
    }
   ],
   "source": [
    "import numpy as np\n",
    "\n",
    "def has_empty_columns(array):\n",
    "    empty_columns = np.all(array == 0, axis=1)\n",
    "    \n",
    "    return np.any(empty_columns)\n",
    "\n",
    "arr1 = np.array([[1, 0, 3],[9, 0, 5],[0, 0, 6]])\n",
    "\n",
    "arr2 = np.array([[1, 2, 3],[5, 0, 0],[7, 8, 9]])\n",
    "\n",
    "print(\"Array 1 has empty columns:\", has_empty_columns(arr1))\n",
    "print(\"Array 2 has empty columns:\", has_empty_columns(arr2))\n"
   ]
  },
  {
   "cell_type": "markdown",
   "id": "5a65c7a2",
   "metadata": {},
   "source": [
    "#### 61. Find the nearest value from a given value in an array (★★☆)"
   ]
  },
  {
   "cell_type": "code",
   "execution_count": 194,
   "id": "73f149d6",
   "metadata": {},
   "outputs": [
    {
     "name": "stdout",
     "output_type": "stream",
     "text": [
      "enter value87.5\n",
      "Nearest value to 87.5 in the array: 87\n"
     ]
    }
   ],
   "source": [
    "def nearest_value(array, value):\n",
    "    differences = np.abs(array - value).argmin()\n",
    "    nearest_value = array[differences] \n",
    "    return nearest_value\n",
    "\n",
    "arr = np.arange(100)\n",
    "given=float(input(\"enter value\"))\n",
    "nearest = nearest_value(arr, given)\n",
    "print(\"Nearest value to\", given, \"in the array:\", nearest)\n"
   ]
  },
  {
   "cell_type": "markdown",
   "id": "6c042efa",
   "metadata": {},
   "source": [
    "#### 63. Create an array class that has a name attribute (★★☆)"
   ]
  },
  {
   "cell_type": "code",
   "execution_count": 179,
   "id": "45b3d2e0",
   "metadata": {},
   "outputs": [
    {
     "name": "stdout",
     "output_type": "stream",
     "text": [
      "[1, 2, 3]\n",
      "Array name: my_array\n"
     ]
    }
   ],
   "source": [
    "class NamedArray:\n",
    "    def __init__(self, data, name=None):\n",
    "        self.data = data\n",
    "        self.name = name\n",
    "arr = NamedArray([1, 2, 3], name='my_array')\n",
    "print(arr.data)\n",
    "print(\"Array name:\", arr.name)\n"
   ]
  },
  {
   "cell_type": "markdown",
   "id": "0a075c3d",
   "metadata": {},
   "source": [
    "#### 64. Consider a given vector, how to add 1 to each element indexed by a second vector (be careful with repeated indices)? (★★★)"
   ]
  },
  {
   "cell_type": "code",
   "execution_count": 20,
   "id": "36c50470",
   "metadata": {},
   "outputs": [
    {
     "name": "stdout",
     "output_type": "stream",
     "text": [
      "[ 3  5  6  9  5  6 10  2  7]\n"
     ]
    }
   ],
   "source": [
    "arr = np.array([1, 5, 4, 9, 3, 6, 8, 2, 7])\n",
    "indices = np.array([0, 2, 4, 6])\n",
    "for i in indices:\n",
    "    arr[i]+=2\n",
    "print(arr) "
   ]
  },
  {
   "cell_type": "markdown",
   "id": "661b2ffe",
   "metadata": {},
   "source": [
    "##### 65. How to accumulate elements of a vector (X) to an array (F) based on an index list (I)? (★★★)"
   ]
  },
  {
   "cell_type": "code",
   "execution_count": 67,
   "id": "58aa5f82",
   "metadata": {},
   "outputs": [
    {
     "name": "stdout",
     "output_type": "stream",
     "text": [
      "[10 20  5 15 25]\n"
     ]
    }
   ],
   "source": [
    "x = np.array([5,10,15,20,25])\n",
    "l = np.array([2,0,3,1,4])\n",
    "f=np.zeros_like(x)\n",
    "for i in range(len(l)):\n",
    "        f[l[i]] += x[i]\n",
    "        #f[i]=l[i]\n",
    "    \n",
    "print(f) "
   ]
  },
  {
   "cell_type": "markdown",
   "id": "d89dc506",
   "metadata": {},
   "source": [
    "#### 66. Considering a (w,h,3) image of (dtype=ubyte), compute the number of unique colors (★★☆)"
   ]
  },
  {
   "cell_type": "code",
   "execution_count": 91,
   "id": "3fe1f4d4",
   "metadata": {},
   "outputs": [
    {
     "name": "stdout",
     "output_type": "stream",
     "text": [
      "number color image: 3\n"
     ]
    }
   ],
   "source": [
    "\n",
    "image = [[[255, 0, 0], [0, 255, 0], [255, 0, 0]],[[0, 0, 255], [255, 255, 255], [0, 0, 255]]]\n",
    "image = np.array(image)\n",
    "reshaped_image = image.reshape(-1, 6)\n",
    "unique_colors = np.unique(reshaped_image, axis=1)\n",
    "num_colors = len(unique_colors)\n",
    "\n",
    "print(\"number color image:\", num_colors)\n"
   ]
  },
  {
   "cell_type": "markdown",
   "id": "535a5d81",
   "metadata": {},
   "source": [
    "#### 67. Considering a four dimensions array, how to get sum over the last two axis at once? (★★★)"
   ]
  },
  {
   "cell_type": "code",
   "execution_count": 105,
   "id": "f954ab9d",
   "metadata": {},
   "outputs": [
    {
     "name": "stdout",
     "output_type": "stream",
     "text": [
      "Original array:\n",
      "[[[[56 96]\n",
      "   [90  9]]\n",
      "\n",
      "  [[15  4]\n",
      "   [49 85]]]\n",
      "\n",
      "\n",
      " [[[34 65]\n",
      "   [70 95]]\n",
      "\n",
      "  [[85 26]\n",
      "   [92 30]]]]\n",
      "\n",
      " last two axes:\n",
      "[[251 153]\n",
      " [264 233]]\n"
     ]
    }
   ],
   "source": [
    "import numpy as np\n",
    "\n",
    "array = np.random.randint(0, 100, size=(2, 2 ,2, 2))# 4d(2, 2 ,2, 2)\n",
    "sum_axis = np.sum(array, axis=(-2, -1))\n",
    "\n",
    "print(\"Original array:\")\n",
    "print(array)\n",
    "print(\"\\n last two axes:\")\n",
    "print(sum_axis)\n"
   ]
  },
  {
   "cell_type": "markdown",
   "id": "f90d4c40",
   "metadata": {},
   "source": [
    "#### 69. How to get the diagonal of a dot product? (★★★)"
   ]
  },
  {
   "cell_type": "code",
   "execution_count": 106,
   "id": "b47d392d",
   "metadata": {},
   "outputs": [
    {
     "name": "stdout",
     "output_type": "stream",
     "text": [
      "[[ 1  0  0  0]\n",
      " [ 0 42  0  0]\n",
      " [ 0  0 27  0]\n",
      " [ 0  0  0 24]]\n"
     ]
    }
   ],
   "source": [
    "arr1 = np.diag([1,2,3,4])\n",
    "arr2 = np.diag([1,21,9,6])\n",
    "print(arr1.dot(arr2)) #dot use multiply matrix (5*3 3*2) ,row= column =3\n",
    "#print(arr1 @ arr2)\n"
   ]
  },
  {
   "cell_type": "code",
   "execution_count": 111,
   "id": "7950706b",
   "metadata": {},
   "outputs": [
    {
     "name": "stdout",
     "output_type": "stream",
     "text": [
      "dot\n",
      " [[ 1  0  0  0]\n",
      " [ 0 42  0  0]\n",
      " [ 0  0 27  0]\n",
      " [ 0  0  0 24]]\n",
      "\n",
      "diagonal\n",
      " [ 1 42 27 24]\n"
     ]
    }
   ],
   "source": [
    "arr1 = np.diag([1,2,3,4])\n",
    "arr2 = np.diag([1,21,9,6])\n",
    "dot=np.dot(arr1,arr2)\n",
    "print(\"dot\\n\",dot)\n",
    "diag=np.diag(dot)\n",
    "print()\n",
    "print(\"diagonal\\n\",diag)"
   ]
  },
  {
   "cell_type": "markdown",
   "id": "a8a97e7d",
   "metadata": {},
   "source": [
    "#### 70. Consider the vector [1, 2, 3, 4, 5], how to build a new vector with 3 consecutive zeros interleaved between each value? (★★★)"
   ]
  },
  {
   "cell_type": "code",
   "execution_count": 170,
   "id": "38103903",
   "metadata": {},
   "outputs": [
    {
     "name": "stdout",
     "output_type": "stream",
     "text": [
      "[1, 0, 0, 0, 2, 0, 0, 0, 3, 0, 0, 0, 4, 0, 0, 0, 5]\n"
     ]
    }
   ],
   "source": [
    "original_vector = [1, 2, 3, 4, 5]\n",
    "\n",
    "new_vector = [x for num in original_vector for x in (num, 0, 0, 0)]\n",
    "\n",
    "# Remove the last three zeros\n",
    "new_vector = new_vector[:-3]\n",
    "\n",
    "print(new_vector)\n"
   ]
  },
  {
   "cell_type": "code",
   "execution_count": 169,
   "id": "097b432d",
   "metadata": {},
   "outputs": [
    {
     "name": "stdout",
     "output_type": "stream",
     "text": [
      "[1, 0, 0, 0, 2, 0, 0, 0, 3, 0, 0, 0, 4, 0, 0, 0, 5]\n"
     ]
    }
   ],
   "source": [
    "original_vector = [1, 2, 3, 4, 5]\n",
    "\n",
    "new_vector = []\n",
    "\n",
    "for num in original_vector:\n",
    "    \n",
    "    new_vector.append(num)\n",
    "    new_vector.extend([0] * 3)\n",
    "\n",
    "new_vector = new_vector[:-3]\n",
    "\n",
    "print(new_vector)\n"
   ]
  },
  {
   "cell_type": "markdown",
   "id": "d6a30d60",
   "metadata": {},
   "source": [
    "#### 71. Consider an array of dimension (5,5,3), how to mulitply it by an array with dimensions (5,5)? (★★★)"
   ]
  },
  {
   "cell_type": "code",
   "execution_count": 119,
   "id": "e9703f2e",
   "metadata": {},
   "outputs": [
    {
     "name": "stdout",
     "output_type": "stream",
     "text": [
      "orignal array\n",
      " [[[5 2 8]\n",
      "  [5 3 9]\n",
      "  [3 1 6]\n",
      "  [4 6 4]\n",
      "  [0 8 9]]\n",
      "\n",
      " [[5 9 7]\n",
      "  [9 4 8]\n",
      "  [9 5 2]\n",
      "  [2 5 8]\n",
      "  [4 8 2]]\n",
      "\n",
      " [[8 4 5]\n",
      "  [0 4 5]\n",
      "  [7 4 1]\n",
      "  [4 5 1]\n",
      "  [4 5 8]]\n",
      "\n",
      " [[0 3 7]\n",
      "  [0 1 9]\n",
      "  [2 7 3]\n",
      "  [8 8 7]\n",
      "  [1 5 8]]\n",
      "\n",
      " [[8 2 7]\n",
      "  [6 0 4]\n",
      "  [1 7 5]\n",
      "  [8 1 2]\n",
      "  [4 1 6]]]\n",
      "orignal array2\n",
      " [[[5 2 8]\n",
      "  [5 3 9]\n",
      "  [3 1 6]\n",
      "  [4 6 4]\n",
      "  [0 8 9]]\n",
      "\n",
      " [[5 9 7]\n",
      "  [9 4 8]\n",
      "  [9 5 2]\n",
      "  [2 5 8]\n",
      "  [4 8 2]]\n",
      "\n",
      " [[8 4 5]\n",
      "  [0 4 5]\n",
      "  [7 4 1]\n",
      "  [4 5 1]\n",
      "  [4 5 8]]\n",
      "\n",
      " [[0 3 7]\n",
      "  [0 1 9]\n",
      "  [2 7 3]\n",
      "  [8 8 7]\n",
      "  [1 5 8]]\n",
      "\n",
      " [[8 2 7]\n",
      "  [6 0 4]\n",
      "  [1 7 5]\n",
      "  [8 1 2]\n",
      "  [4 1 6]]]\n",
      "result=\n",
      " [[[10  4 16]\n",
      "  [10  6 18]\n",
      "  [18  6 36]\n",
      "  [32 48 32]\n",
      "  [ 0 24 27]]\n",
      "\n",
      " [[25 45 35]\n",
      "  [36 16 32]\n",
      "  [27 15  6]\n",
      "  [ 4 10 16]\n",
      "  [ 0  0  0]]\n",
      "\n",
      " [[40 20 25]\n",
      "  [ 0 20 25]\n",
      "  [21 12  3]\n",
      "  [36 45  9]\n",
      "  [16 20 32]]\n",
      "\n",
      " [[ 0 27 63]\n",
      "  [ 0  5 45]\n",
      "  [ 0  0  0]\n",
      "  [16 16 14]\n",
      "  [ 7 35 56]]\n",
      "\n",
      " [[40 10 35]\n",
      "  [48  0 32]\n",
      "  [ 8 56 40]\n",
      "  [56  7 14]\n",
      "  [20  5 30]]]\n"
     ]
    }
   ],
   "source": [
    "array = np.random.randint(0, 10, size=(5, 5 ,3))\n",
    "array2 = np.random.randint(0, 10, size=(5, 5,1))\n",
    "result=(array*array2)\n",
    "print(\"orignal array\\n\",array)\n",
    "print(\"orignal array2\\n\",array)\n",
    "print(\"result=\\n\",result)\n",
    "\n"
   ]
  },
  {
   "cell_type": "markdown",
   "id": "bac359a9",
   "metadata": {},
   "source": [
    "#### 72. How to swap two rows of an array? (★★★)"
   ]
  },
  {
   "cell_type": "code",
   "execution_count": 174,
   "id": "f1b432b1",
   "metadata": {},
   "outputs": [
    {
     "name": "stdout",
     "output_type": "stream",
     "text": [
      "Array after swapping rows 0 and 1:\n",
      "[[4 5 6]\n",
      " [4 5 6]\n",
      " [7 8 9]]\n"
     ]
    }
   ],
   "source": [
    "import numpy as np\n",
    "\n",
    "array = np.array([[1, 2, 3],\n",
    "                  [4, 5, 6],\n",
    "                  [7, 8, 9]])\n",
    "\n",
    "# Swap rows 0 and 1\n",
    "array[0], array[1] = array[1], array[0]\n",
    "\n",
    "print(\"Array after swapping rows 0 and 1:\")\n",
    "print(array)\n"
   ]
  },
  {
   "cell_type": "markdown",
   "id": "e94a5c1d",
   "metadata": {},
   "source": [
    "#### 77. How to negate a boolean, or to change the sign of a float inplace? (★★★)"
   ]
  },
  {
   "cell_type": "code",
   "execution_count": 176,
   "id": "c0f9504f",
   "metadata": {},
   "outputs": [
    {
     "name": "stdout",
     "output_type": "stream",
     "text": [
      "False\n"
     ]
    }
   ],
   "source": [
    "\n",
    "boolean_value = True\n",
    "negated_boolean = not boolean_value\n",
    "print(negated_boolean)  \n"
   ]
  },
  {
   "cell_type": "code",
   "execution_count": 177,
   "id": "bcedfed7",
   "metadata": {},
   "outputs": [
    {
     "name": "stdout",
     "output_type": "stream",
     "text": [
      "-10.5\n"
     ]
    }
   ],
   "source": [
    "\n",
    "float_value = 10.5\n",
    "float_value *= -1\n",
    "print(float_value)  \n"
   ]
  },
  {
   "cell_type": "markdown",
   "id": "93cfeab3",
   "metadata": {},
   "source": [
    "#### 81. Consider an array Z = [1,2,3,4,5,6,7,8,9,10,11,12,13,14], how to generate an array R = [[1,2,3,4], [2,3,4,5], [3,4,5,6], ..., [11,12,13,14]]? (★★★)"
   ]
  },
  {
   "cell_type": "code",
   "execution_count": 180,
   "id": "360de791",
   "metadata": {},
   "outputs": [
    {
     "name": "stdout",
     "output_type": "stream",
     "text": [
      "[[1, 2, 3, 4], [2, 3, 4, 5], [3, 4, 5, 6], [4, 5, 6, 7], [5, 6, 7, 8], [6, 7, 8, 9], [7, 8, 9, 10], [8, 9, 10, 11], [9, 10, 11, 12], [10, 11, 12, 13], [11, 12, 13, 14]]\n"
     ]
    }
   ],
   "source": [
    "Z = [1, 2, 3, 4, 5, 6, 7, 8, 9, 10, 11, 12, 13, 14]\n",
    "\n",
    "subarray_length = 4\n",
    "\n",
    "R = []\n",
    "\n",
    "for i in range(len(Z) - subarray_length + 1):\n",
    "    subarray = Z[i:i+subarray_length]\n",
    "    R.append(subarray)\n",
    "\n",
    "print(R)\n"
   ]
  },
  {
   "cell_type": "markdown",
   "id": "4c15ceff",
   "metadata": {},
   "source": [
    "#### 82. Compute a matrix rank (★★★)"
   ]
  },
  {
   "cell_type": "code",
   "execution_count": 178,
   "id": "9a4272d2",
   "metadata": {},
   "outputs": [
    {
     "name": "stdout",
     "output_type": "stream",
     "text": [
      "Rank of the matrix: 2\n"
     ]
    }
   ],
   "source": [
    "import numpy as np\n",
    "\n",
    "matrix = np.array([[1, 2, 3],\n",
    "                   [4, 5, 6],\n",
    "                   [7, 8, 9]])\n",
    "\n",
    "rank = np.linalg.matrix_rank(matrix)\n",
    "\n",
    "print(\"Rank of the matrix:\", rank)\n"
   ]
  },
  {
   "cell_type": "markdown",
   "id": "1171cb84",
   "metadata": {},
   "source": [
    "#### 83. How to find the most frequent value in an array?"
   ]
  },
  {
   "cell_type": "code",
   "execution_count": 186,
   "id": "33e951c8",
   "metadata": {},
   "outputs": [
    {
     "name": "stdout",
     "output_type": "stream",
     "text": [
      "Mode of the array: 7\n"
     ]
    }
   ],
   "source": [
    "from scipy.stats import mode\n",
    "import numpy as np\n",
    "\n",
    "arr = np.array([1, 1, 7, 7,7,7,8, 7, 8, 9, 9, 5, 4, 5, 4])\n",
    "mode_result = mode(arr)\n",
    "\n",
    "print(\"Mode of the array:\", mode_result.mode)\n"
   ]
  },
  {
   "cell_type": "markdown",
   "id": "158f9945",
   "metadata": {},
   "source": [
    "#### 87. Consider a 16x16 array, how to get the block-sum (block size is 4x4)? (★★★)"
   ]
  },
  {
   "cell_type": "code",
   "execution_count": 181,
   "id": "5a9b808f",
   "metadata": {},
   "outputs": [
    {
     "name": "stdout",
     "output_type": "stream",
     "text": [
      "Block-sum (block size 4x4):\n",
      "[[72 79 84 68]\n",
      " [88 71 91 65]\n",
      " [89 64 88 75]\n",
      " [75 62 63 75]]\n"
     ]
    }
   ],
   "source": [
    "import numpy as np\n",
    "\n",
    "array = np.random.randint(1, 10, size=(16, 16))\n",
    "\n",
    "blocks = array.reshape(4, 4, 4, 4)\n",
    "\n",
    "block_sum = np.sum(blocks, axis=(2, 3))\n",
    "\n",
    "print(\"Block-sum (block size 4x4):\")\n",
    "print(block_sum)\n"
   ]
  },
  {
   "cell_type": "markdown",
   "id": "a80570cd",
   "metadata": {},
   "source": [
    "#### 94. Considering a 10x3 matrix, extract rows with unequal values (e.g. [2,2,3]) (★★★)"
   ]
  },
  {
   "cell_type": "code",
   "execution_count": 187,
   "id": "84db8de1",
   "metadata": {},
   "outputs": [
    {
     "name": "stdout",
     "output_type": "stream",
     "text": [
      "Rows with unequal values:\n",
      "[[3 4 5]\n",
      " [4 1 9]\n",
      " [2 9 3]\n",
      " [1 6 4]\n",
      " [1 2 0]\n",
      " [9 4 7]\n",
      " [3 5 1]\n",
      " [3 9 2]\n",
      " [1 1 9]\n",
      " [6 0 3]]\n"
     ]
    }
   ],
   "source": [
    "import numpy as np\n",
    "\n",
    "matrix = np.random.randint(0, 10, size=(10, 3))\n",
    "\n",
    "unequal_rows = matrix[np.any(np.diff(matrix, axis=1), axis=1)]\n",
    "\n",
    "print(\"Rows with unequal values:\")\n",
    "print(unequal_rows)\n"
   ]
  },
  {
   "cell_type": "markdown",
   "id": "420e2343",
   "metadata": {},
   "source": [
    "#### 96. Given a two dimensional array, how to extract unique rows? (★★★)"
   ]
  },
  {
   "cell_type": "code",
   "execution_count": 188,
   "id": "4680dfd0",
   "metadata": {},
   "outputs": [
    {
     "name": "stdout",
     "output_type": "stream",
     "text": [
      "Unique rows:\n",
      "[[1 2 3]\n",
      " [4 5 6]\n",
      " [7 8 9]]\n"
     ]
    }
   ],
   "source": [
    "import numpy as np\n",
    "\n",
    "array = np.array([[1, 2, 3],\n",
    "                  [4, 5, 6],\n",
    "                  [1, 2, 3],\n",
    "                  [7, 8, 9],\n",
    "                  [4, 5, 6]])\n",
    "\n",
    "unique_rows = np.unique(array, axis=0)\n",
    "\n",
    "print(\"Unique rows:\")\n",
    "print(unique_rows)\n"
   ]
  },
  {
   "cell_type": "code",
   "execution_count": 189,
   "id": "5f5327fa",
   "metadata": {},
   "outputs": [
    {
     "name": "stdout",
     "output_type": "stream",
     "text": [
      "Rows with unequal values:\n",
      "[[9 3 6]\n",
      " [3 8 3]\n",
      " [9 3 1]\n",
      " [7 3 4]\n",
      " [4 3 1]\n",
      " [1 6 7]\n",
      " [9 2 8]\n",
      " [5 9 8]]\n"
     ]
    }
   ],
   "source": [
    "matrix = np.random.randint(0, 10, size=(10, 3))\n",
    "\n",
    "unequal_rows = matrix[np.all(np.diff(matrix, axis=1), axis=1)]\n",
    "\n",
    "\n",
    "print(\"Rows with unequal values:\")\n",
    "print(unequal_rows)"
   ]
  }
 ],
 "metadata": {
  "kernelspec": {
   "display_name": "Python 3 (ipykernel)",
   "language": "python",
   "name": "python3"
  },
  "language_info": {
   "codemirror_mode": {
    "name": "ipython",
    "version": 3
   },
   "file_extension": ".py",
   "mimetype": "text/x-python",
   "name": "python",
   "nbconvert_exporter": "python",
   "pygments_lexer": "ipython3",
   "version": "3.11.5"
  }
 },
 "nbformat": 4,
 "nbformat_minor": 5
}
