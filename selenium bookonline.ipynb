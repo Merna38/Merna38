{
 "cells": [
  {
   "cell_type": "code",
   "execution_count": null,
   "id": "4d44d95b",
   "metadata": {},
   "outputs": [],
   "source": []
  },
  {
   "cell_type": "code",
   "execution_count": 73,
   "id": "e12a5350",
   "metadata": {},
   "outputs": [],
   "source": [
    "import csv\n",
    "from selenium import webdriver\n",
    "from selenium.webdriver.common.by import By\n",
    "from selenium.webdriver.support.ui import WebDriverWait\n",
    "from selenium.webdriver.support import expected_conditions as EC\n",
    "\n",
    "driver = webdriver.Chrome()\n",
    "\n",
    "csvfile = open('onlinebook-business.csv', 'w', newline='', encoding='utf-8')\n",
    "writer = csv.writer(csvfile)\n",
    "writer.writerow([\"Namebook\", \"Pricebook\", \"Starrating\"])\n",
    "\n",
    "driver.get(\"https://books.toscrape.com/\")\n",
    "\n",
    "business_link = WebDriverWait(driver, 10).until(EC.element_to_be_clickable((By.LINK_TEXT, \"Business\")))\n",
    "business_link.click()\n",
    "\n",
    "books = driver.find_elements(By.CSS_SELECTOR, 'article.product_pod')\n",
    "for book in books:\n",
    "    starrating = book.find_element(By.CSS_SELECTOR, 'p.star-rating')\n",
    "    if 'No rating' in starrating.get_attribute('class'):\n",
    "        starrating = \"No rating\"\n",
    "    else:\n",
    "        starrating = starrating.get_attribute('class').split()[-1]\n",
    "    namebook = book.find_element(By.CSS_SELECTOR, 'h3 a').get_attribute('title')\n",
    "    pricebook = book.find_element(By.CSS_SELECTOR, 'p.price_color').text\n",
    "    writer.writerow([namebook ,pricebook ,starrating])\n",
    "    \n",
    "\n",
    "csvfile.close()\n",
    "\n",
    "driver.quit()\n"
   ]
  },
  {
   "cell_type": "code",
   "execution_count": null,
   "id": "d8edd0b3",
   "metadata": {},
   "outputs": [],
   "source": []
  }
 ],
 "metadata": {
  "kernelspec": {
   "display_name": "Python 3 (ipykernel)",
   "language": "python",
   "name": "python3"
  },
  "language_info": {
   "codemirror_mode": {
    "name": "ipython",
    "version": 3
   },
   "file_extension": ".py",
   "mimetype": "text/x-python",
   "name": "python",
   "nbconvert_exporter": "python",
   "pygments_lexer": "ipython3",
   "version": "3.11.5"
  }
 },
 "nbformat": 4,
 "nbformat_minor": 5
}
