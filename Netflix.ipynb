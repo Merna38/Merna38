{
 "cells": [
  {
   "cell_type": "code",
   "execution_count": 1,
   "id": "0d918ba5",
   "metadata": {},
   "outputs": [],
   "source": [
    "import pandas as pd\n",
    "import numpy as np\n",
    "import matplotlib.pyplot as plt\n",
    "import seaborn as sns\n",
    "import plotly.express as px\n",
    "from sklearn.model_selection import train_test_split\n",
    "from sklearn.linear_model import LogisticRegression\n",
    "from sklearn.ensemble import RandomForestClassifier\n",
    "from sklearn.ensemble import GradientBoostingClassifier\n",
    "from sklearn.tree import DecisionTreeClassifier\n",
    "from sklearn.neighbors import KNeighborsClassifier\n",
    "from sklearn.naive_bayes import GaussianNB\n",
    "from sklearn.svm import SVC\n",
    "from sklearn.metrics import accuracy_score\n",
    "from scipy import stats\n",
    "from plotly.offline import iplot\n",
    "from plotly.subplots import make_subplots\n",
    "import warnings\n",
    "warnings.simplefilter(action=\"ignore\")\n",
    "sns.set_theme(palette=sns.color_palette(\"muted\"),style=\"darkgrid\")\n",
    "from sklearn.model_selection import train_test_split,cross_val_score\n",
    "from lightgbm import LGBMRegressor\n",
    "from xgboost import XGBRegressor\n",
    "from sklearn.preprocessing import RobustScaler,StandardScaler,MaxAbsScaler,MinMaxScaler\n",
    "from sklearn.ensemble import StackingRegressor\n",
    "from sklearn.linear_model import RidgeCV\n",
    "import sklearn.metrics as metrics\n",
    "import scikitplot as skplt\n",
    "import category_encoders as ce"
   ]
  },
  {
   "cell_type": "code",
   "execution_count": 2,
   "id": "fab300ac",
   "metadata": {},
   "outputs": [],
   "source": [
    "data=pd.read_csv(\"netflix_titles.csv\",encoding= 'iso-8859-1')"
   ]
  },
  {
   "cell_type": "code",
   "execution_count": 3,
   "id": "c8fe2067",
   "metadata": {},
   "outputs": [
    {
     "data": {
      "text/html": [
       "<div>\n",
       "<style scoped>\n",
       "    .dataframe tbody tr th:only-of-type {\n",
       "        vertical-align: middle;\n",
       "    }\n",
       "\n",
       "    .dataframe tbody tr th {\n",
       "        vertical-align: top;\n",
       "    }\n",
       "\n",
       "    .dataframe thead th {\n",
       "        text-align: right;\n",
       "    }\n",
       "</style>\n",
       "<table border=\"1\" class=\"dataframe\">\n",
       "  <thead>\n",
       "    <tr style=\"text-align: right;\">\n",
       "      <th></th>\n",
       "      <th>show_id</th>\n",
       "      <th>type</th>\n",
       "      <th>title</th>\n",
       "      <th>director</th>\n",
       "      <th>cast</th>\n",
       "      <th>country</th>\n",
       "      <th>date_added</th>\n",
       "      <th>release_year</th>\n",
       "      <th>rating</th>\n",
       "      <th>duration</th>\n",
       "      <th>...</th>\n",
       "      <th>Unnamed: 16</th>\n",
       "      <th>Unnamed: 17</th>\n",
       "      <th>Unnamed: 18</th>\n",
       "      <th>Unnamed: 19</th>\n",
       "      <th>Unnamed: 20</th>\n",
       "      <th>Unnamed: 21</th>\n",
       "      <th>Unnamed: 22</th>\n",
       "      <th>Unnamed: 23</th>\n",
       "      <th>Unnamed: 24</th>\n",
       "      <th>Unnamed: 25</th>\n",
       "    </tr>\n",
       "  </thead>\n",
       "  <tbody>\n",
       "    <tr>\n",
       "      <th>2303</th>\n",
       "      <td>s2304</td>\n",
       "      <td>TV Show</td>\n",
       "      <td>Warrior Nun</td>\n",
       "      <td>NaN</td>\n",
       "      <td>Alba Baptista, Toya Turner, Lorena Andrea, Kri...</td>\n",
       "      <td>United States</td>\n",
       "      <td>July 2, 2020</td>\n",
       "      <td>2020</td>\n",
       "      <td>TV-MA</td>\n",
       "      <td>1 Season</td>\n",
       "      <td>...</td>\n",
       "      <td>NaN</td>\n",
       "      <td>NaN</td>\n",
       "      <td>NaN</td>\n",
       "      <td>NaN</td>\n",
       "      <td>NaN</td>\n",
       "      <td>NaN</td>\n",
       "      <td>NaN</td>\n",
       "      <td>NaN</td>\n",
       "      <td>NaN</td>\n",
       "      <td>NaN</td>\n",
       "    </tr>\n",
       "    <tr>\n",
       "      <th>7108</th>\n",
       "      <td>s7109</td>\n",
       "      <td>Movie</td>\n",
       "      <td>ìµê°ì ì¬ ë¯¸ëí¹ê³µë : ìì",
       "ì íì</td>\n",
       "      <td>Young Jun Lee</td>\n",
       "      <td>Um Sang-hyun, Yang Jeong-hwa, Jeon Tae-yeol, S...</td>\n",
       "      <td>NaN</td>\n",
       "      <td>September 1, 2018</td>\n",
       "      <td>2018</td>\n",
       "      <td>TV-Y7</td>\n",
       "      <td>68 min</td>\n",
       "      <td>...</td>\n",
       "      <td>NaN</td>\n",
       "      <td>NaN</td>\n",
       "      <td>NaN</td>\n",
       "      <td>NaN</td>\n",
       "      <td>NaN</td>\n",
       "      <td>NaN</td>\n",
       "      <td>NaN</td>\n",
       "      <td>NaN</td>\n",
       "      <td>NaN</td>\n",
       "      <td>NaN</td>\n",
       "    </tr>\n",
       "    <tr>\n",
       "      <th>5123</th>\n",
       "      <td>s5124</td>\n",
       "      <td>Movie</td>\n",
       "      <td>Pottersville</td>\n",
       "      <td>Seth Henrikson</td>\n",
       "      <td>Michael Shannon, Judy Greer, Thomas Lennon, Ro...</td>\n",
       "      <td>United States</td>\n",
       "      <td>December 15, 2017</td>\n",
       "      <td>2017</td>\n",
       "      <td>PG-13</td>\n",
       "      <td>86 min</td>\n",
       "      <td>...</td>\n",
       "      <td>NaN</td>\n",
       "      <td>NaN</td>\n",
       "      <td>NaN</td>\n",
       "      <td>NaN</td>\n",
       "      <td>NaN</td>\n",
       "      <td>NaN</td>\n",
       "      <td>NaN</td>\n",
       "      <td>NaN</td>\n",
       "      <td>NaN</td>\n",
       "      <td>NaN</td>\n",
       "    </tr>\n",
       "    <tr>\n",
       "      <th>3289</th>\n",
       "      <td>s3290</td>\n",
       "      <td>Movie</td>\n",
       "      <td>Jeff Garlin: Our Man In Chicago</td>\n",
       "      <td>Christopher Storer</td>\n",
       "      <td>Jeff Garlin</td>\n",
       "      <td>United States</td>\n",
       "      <td>November 12, 2019</td>\n",
       "      <td>2019</td>\n",
       "      <td>TV-MA</td>\n",
       "      <td>59 min</td>\n",
       "      <td>...</td>\n",
       "      <td>NaN</td>\n",
       "      <td>NaN</td>\n",
       "      <td>NaN</td>\n",
       "      <td>NaN</td>\n",
       "      <td>NaN</td>\n",
       "      <td>NaN</td>\n",
       "      <td>NaN</td>\n",
       "      <td>NaN</td>\n",
       "      <td>NaN</td>\n",
       "      <td>NaN</td>\n",
       "    </tr>\n",
       "    <tr>\n",
       "      <th>5481</th>\n",
       "      <td>s5482</td>\n",
       "      <td>Movie</td>\n",
       "      <td>Chamatkar</td>\n",
       "      <td>Rajiv Mehra</td>\n",
       "      <td>Shah Rukh Khan, Naseeruddin Shah, Urmila Maton...</td>\n",
       "      <td>India</td>\n",
       "      <td>May 15, 2017</td>\n",
       "      <td>1992</td>\n",
       "      <td>TV-14</td>\n",
       "      <td>164 min</td>\n",
       "      <td>...</td>\n",
       "      <td>NaN</td>\n",
       "      <td>NaN</td>\n",
       "      <td>NaN</td>\n",
       "      <td>NaN</td>\n",
       "      <td>NaN</td>\n",
       "      <td>NaN</td>\n",
       "      <td>NaN</td>\n",
       "      <td>NaN</td>\n",
       "      <td>NaN</td>\n",
       "      <td>NaN</td>\n",
       "    </tr>\n",
       "    <tr>\n",
       "      <th>6383</th>\n",
       "      <td>s6384</td>\n",
       "      <td>Movie</td>\n",
       "      <td>Bruno and Boots: The Wizzle War</td>\n",
       "      <td>Vivieno Caldinelli</td>\n",
       "      <td>Jonny Gray, Callan Potter, Matt Baram, Carolin...</td>\n",
       "      <td>Canada</td>\n",
       "      <td>July 1, 2017</td>\n",
       "      <td>2017</td>\n",
       "      <td>TV-PG</td>\n",
       "      <td>90 min</td>\n",
       "      <td>...</td>\n",
       "      <td>NaN</td>\n",
       "      <td>NaN</td>\n",
       "      <td>NaN</td>\n",
       "      <td>NaN</td>\n",
       "      <td>NaN</td>\n",
       "      <td>NaN</td>\n",
       "      <td>NaN</td>\n",
       "      <td>NaN</td>\n",
       "      <td>NaN</td>\n",
       "      <td>NaN</td>\n",
       "    </tr>\n",
       "    <tr>\n",
       "      <th>7692</th>\n",
       "      <td>s7693</td>\n",
       "      <td>Movie</td>\n",
       "      <td>Pablo Escobar: Angel or Demon?</td>\n",
       "      <td>Jorge Granier</td>\n",
       "      <td>NaN</td>\n",
       "      <td>Venezuela, Colombia</td>\n",
       "      <td>March 23, 2018</td>\n",
       "      <td>2007</td>\n",
       "      <td>NR</td>\n",
       "      <td>82 min</td>\n",
       "      <td>...</td>\n",
       "      <td>NaN</td>\n",
       "      <td>NaN</td>\n",
       "      <td>NaN</td>\n",
       "      <td>NaN</td>\n",
       "      <td>NaN</td>\n",
       "      <td>NaN</td>\n",
       "      <td>NaN</td>\n",
       "      <td>NaN</td>\n",
       "      <td>NaN</td>\n",
       "      <td>NaN</td>\n",
       "    </tr>\n",
       "    <tr>\n",
       "      <th>6674</th>\n",
       "      <td>s6675</td>\n",
       "      <td>TV Show</td>\n",
       "      <td>El Chavo</td>\n",
       "      <td>NaN</td>\n",
       "      <td>Roberto GÃ³mez BolaÃ±os, MarÃ­a Antonieta de l...</td>\n",
       "      <td>Mexico</td>\n",
       "      <td>December 31, 2017</td>\n",
       "      <td>1979</td>\n",
       "      <td>TV-PG</td>\n",
       "      <td>1 Season</td>\n",
       "      <td>...</td>\n",
       "      <td>NaN</td>\n",
       "      <td>NaN</td>\n",
       "      <td>NaN</td>\n",
       "      <td>NaN</td>\n",
       "      <td>NaN</td>\n",
       "      <td>NaN</td>\n",
       "      <td>NaN</td>\n",
       "      <td>NaN</td>\n",
       "      <td>NaN</td>\n",
       "      <td>NaN</td>\n",
       "    </tr>\n",
       "    <tr>\n",
       "      <th>3459</th>\n",
       "      <td>s3460</td>\n",
       "      <td>Movie</td>\n",
       "      <td>Ready to Mingle</td>\n",
       "      <td>Luis Javier Henaine</td>\n",
       "      <td>Cassandra Ciangherotti, Gabriela de la Garza, ...</td>\n",
       "      <td>Mexico</td>\n",
       "      <td>October 2, 2019</td>\n",
       "      <td>2019</td>\n",
       "      <td>TV-MA</td>\n",
       "      <td>98 min</td>\n",
       "      <td>...</td>\n",
       "      <td>NaN</td>\n",
       "      <td>NaN</td>\n",
       "      <td>NaN</td>\n",
       "      <td>NaN</td>\n",
       "      <td>NaN</td>\n",
       "      <td>NaN</td>\n",
       "      <td>NaN</td>\n",
       "      <td>NaN</td>\n",
       "      <td>NaN</td>\n",
       "      <td>NaN</td>\n",
       "    </tr>\n",
       "    <tr>\n",
       "      <th>3366</th>\n",
       "      <td>s3367</td>\n",
       "      <td>Movie</td>\n",
       "      <td>Little Miss Sumo</td>\n",
       "      <td>Matt Kay</td>\n",
       "      <td>Hiyori Kon</td>\n",
       "      <td>United Kingdom</td>\n",
       "      <td>October 28, 2019</td>\n",
       "      <td>2018</td>\n",
       "      <td>TV-G</td>\n",
       "      <td>20 min</td>\n",
       "      <td>...</td>\n",
       "      <td>NaN</td>\n",
       "      <td>NaN</td>\n",
       "      <td>NaN</td>\n",
       "      <td>NaN</td>\n",
       "      <td>NaN</td>\n",
       "      <td>NaN</td>\n",
       "      <td>NaN</td>\n",
       "      <td>NaN</td>\n",
       "      <td>NaN</td>\n",
       "      <td>NaN</td>\n",
       "    </tr>\n",
       "    <tr>\n",
       "      <th>6124</th>\n",
       "      <td>s6125</td>\n",
       "      <td>Movie</td>\n",
       "      <td>Alpha and Omega 2: A Howl-iday Adventure</td>\n",
       "      <td>Richard Rich</td>\n",
       "      <td>Ben Diskin, Kate Higgins, Blackie Rose, Lindsa...</td>\n",
       "      <td>United States</td>\n",
       "      <td>October 1, 2019</td>\n",
       "      <td>2013</td>\n",
       "      <td>TV-G</td>\n",
       "      <td>45 min</td>\n",
       "      <td>...</td>\n",
       "      <td>NaN</td>\n",
       "      <td>NaN</td>\n",
       "      <td>NaN</td>\n",
       "      <td>NaN</td>\n",
       "      <td>NaN</td>\n",
       "      <td>NaN</td>\n",
       "      <td>NaN</td>\n",
       "      <td>NaN</td>\n",
       "      <td>NaN</td>\n",
       "      <td>NaN</td>\n",
       "    </tr>\n",
       "    <tr>\n",
       "      <th>3829</th>\n",
       "      <td>s3830</td>\n",
       "      <td>Movie</td>\n",
       "      <td>Malibu Rescue</td>\n",
       "      <td>Savage Steve Holland</td>\n",
       "      <td>Ricardo Hurtado, Breanna Yde, Jackie R. Jacobs...</td>\n",
       "      <td>United States</td>\n",
       "      <td>May 13, 2019</td>\n",
       "      <td>2019</td>\n",
       "      <td>TV-G</td>\n",
       "      <td>70 min</td>\n",
       "      <td>...</td>\n",
       "      <td>NaN</td>\n",
       "      <td>NaN</td>\n",
       "      <td>NaN</td>\n",
       "      <td>NaN</td>\n",
       "      <td>NaN</td>\n",
       "      <td>NaN</td>\n",
       "      <td>NaN</td>\n",
       "      <td>NaN</td>\n",
       "      <td>NaN</td>\n",
       "      <td>NaN</td>\n",
       "    </tr>\n",
       "    <tr>\n",
       "      <th>7784</th>\n",
       "      <td>s7785</td>\n",
       "      <td>TV Show</td>\n",
       "      <td>Power Rangers Wild Force</td>\n",
       "      <td>NaN</td>\n",
       "      <td>Ricardo Medina Jr., Alyson Kiperman, Phillip J...</td>\n",
       "      <td>United States, Netherlands, Japan, France</td>\n",
       "      <td>January 1, 2016</td>\n",
       "      <td>2002</td>\n",
       "      <td>TV-Y7</td>\n",
       "      <td>1 Season</td>\n",
       "      <td>...</td>\n",
       "      <td>NaN</td>\n",
       "      <td>NaN</td>\n",
       "      <td>NaN</td>\n",
       "      <td>NaN</td>\n",
       "      <td>NaN</td>\n",
       "      <td>NaN</td>\n",
       "      <td>NaN</td>\n",
       "      <td>NaN</td>\n",
       "      <td>NaN</td>\n",
       "      <td>NaN</td>\n",
       "    </tr>\n",
       "    <tr>\n",
       "      <th>3216</th>\n",
       "      <td>s3217</td>\n",
       "      <td>TV Show</td>\n",
       "      <td>The Charming Stepmom</td>\n",
       "      <td>NaN</td>\n",
       "      <td>Shahkrit Yamnarm, View Wannarot Sontichai, Kri...</td>\n",
       "      <td>NaN</td>\n",
       "      <td>November 29, 2019</td>\n",
       "      <td>2019</td>\n",
       "      <td>TV-14</td>\n",
       "      <td>1 Season</td>\n",
       "      <td>...</td>\n",
       "      <td>NaN</td>\n",
       "      <td>NaN</td>\n",
       "      <td>NaN</td>\n",
       "      <td>NaN</td>\n",
       "      <td>NaN</td>\n",
       "      <td>NaN</td>\n",
       "      <td>NaN</td>\n",
       "      <td>NaN</td>\n",
       "      <td>NaN</td>\n",
       "      <td>NaN</td>\n",
       "    </tr>\n",
       "    <tr>\n",
       "      <th>6338</th>\n",
       "      <td>s6339</td>\n",
       "      <td>Movie</td>\n",
       "      <td>Blue Is the Warmest Color</td>\n",
       "      <td>Abdellatif Kechiche</td>\n",
       "      <td>LÃ©a Seydoux, AdÃ¨le Exarchopoulos, Salim Kech...</td>\n",
       "      <td>France, Belgium, Spain</td>\n",
       "      <td>August 26, 2016</td>\n",
       "      <td>2013</td>\n",
       "      <td>NC-17</td>\n",
       "      <td>180 min</td>\n",
       "      <td>...</td>\n",
       "      <td>NaN</td>\n",
       "      <td>NaN</td>\n",
       "      <td>NaN</td>\n",
       "      <td>NaN</td>\n",
       "      <td>NaN</td>\n",
       "      <td>NaN</td>\n",
       "      <td>NaN</td>\n",
       "      <td>NaN</td>\n",
       "      <td>NaN</td>\n",
       "      <td>NaN</td>\n",
       "    </tr>\n",
       "  </tbody>\n",
       "</table>\n",
       "<p>15 rows × 26 columns</p>\n",
       "</div>"
      ],
      "text/plain": [
       "     show_id     type                                            title  \\\n",
       "2303   s2304  TV Show                                      Warrior Nun   \n",
       "7108   s7109    Movie  ìµê°ì ì¬ ë¯¸ëí¹ê³µë : ìì\n",
       "ì íì   \n",
       "5123   s5124    Movie                                     Pottersville   \n",
       "3289   s3290    Movie                  Jeff Garlin: Our Man In Chicago   \n",
       "5481   s5482    Movie                                        Chamatkar   \n",
       "6383   s6384    Movie                  Bruno and Boots: The Wizzle War   \n",
       "7692   s7693    Movie                   Pablo Escobar: Angel or Demon?   \n",
       "6674   s6675  TV Show                                         El Chavo   \n",
       "3459   s3460    Movie                                  Ready to Mingle   \n",
       "3366   s3367    Movie                                 Little Miss Sumo   \n",
       "6124   s6125    Movie         Alpha and Omega 2: A Howl-iday Adventure   \n",
       "3829   s3830    Movie                                    Malibu Rescue   \n",
       "7784   s7785  TV Show                         Power Rangers Wild Force   \n",
       "3216   s3217  TV Show                             The Charming Stepmom   \n",
       "6338   s6339    Movie                        Blue Is the Warmest Color   \n",
       "\n",
       "                  director                                               cast  \\\n",
       "2303                   NaN  Alba Baptista, Toya Turner, Lorena Andrea, Kri...   \n",
       "7108         Young Jun Lee  Um Sang-hyun, Yang Jeong-hwa, Jeon Tae-yeol, S...   \n",
       "5123        Seth Henrikson  Michael Shannon, Judy Greer, Thomas Lennon, Ro...   \n",
       "3289    Christopher Storer                                        Jeff Garlin   \n",
       "5481           Rajiv Mehra  Shah Rukh Khan, Naseeruddin Shah, Urmila Maton...   \n",
       "6383    Vivieno Caldinelli  Jonny Gray, Callan Potter, Matt Baram, Carolin...   \n",
       "7692         Jorge Granier                                                NaN   \n",
       "6674                   NaN  Roberto GÃ³mez BolaÃ±os, MarÃ­a Antonieta de l...   \n",
       "3459   Luis Javier Henaine  Cassandra Ciangherotti, Gabriela de la Garza, ...   \n",
       "3366              Matt Kay                                         Hiyori Kon   \n",
       "6124          Richard Rich  Ben Diskin, Kate Higgins, Blackie Rose, Lindsa...   \n",
       "3829  Savage Steve Holland  Ricardo Hurtado, Breanna Yde, Jackie R. Jacobs...   \n",
       "7784                   NaN  Ricardo Medina Jr., Alyson Kiperman, Phillip J...   \n",
       "3216                   NaN  Shahkrit Yamnarm, View Wannarot Sontichai, Kri...   \n",
       "6338   Abdellatif Kechiche  LÃ©a Seydoux, AdÃ¨le Exarchopoulos, Salim Kech...   \n",
       "\n",
       "                                        country         date_added  \\\n",
       "2303                              United States       July 2, 2020   \n",
       "7108                                        NaN  September 1, 2018   \n",
       "5123                              United States  December 15, 2017   \n",
       "3289                              United States  November 12, 2019   \n",
       "5481                                      India       May 15, 2017   \n",
       "6383                                     Canada       July 1, 2017   \n",
       "7692                        Venezuela, Colombia     March 23, 2018   \n",
       "6674                                     Mexico  December 31, 2017   \n",
       "3459                                     Mexico    October 2, 2019   \n",
       "3366                             United Kingdom   October 28, 2019   \n",
       "6124                              United States    October 1, 2019   \n",
       "3829                              United States       May 13, 2019   \n",
       "7784  United States, Netherlands, Japan, France    January 1, 2016   \n",
       "3216                                        NaN  November 29, 2019   \n",
       "6338                     France, Belgium, Spain    August 26, 2016   \n",
       "\n",
       "      release_year rating  duration  ... Unnamed: 16 Unnamed: 17  Unnamed: 18  \\\n",
       "2303          2020  TV-MA  1 Season  ...         NaN         NaN          NaN   \n",
       "7108          2018  TV-Y7    68 min  ...         NaN         NaN          NaN   \n",
       "5123          2017  PG-13    86 min  ...         NaN         NaN          NaN   \n",
       "3289          2019  TV-MA    59 min  ...         NaN         NaN          NaN   \n",
       "5481          1992  TV-14   164 min  ...         NaN         NaN          NaN   \n",
       "6383          2017  TV-PG    90 min  ...         NaN         NaN          NaN   \n",
       "7692          2007     NR    82 min  ...         NaN         NaN          NaN   \n",
       "6674          1979  TV-PG  1 Season  ...         NaN         NaN          NaN   \n",
       "3459          2019  TV-MA    98 min  ...         NaN         NaN          NaN   \n",
       "3366          2018   TV-G    20 min  ...         NaN         NaN          NaN   \n",
       "6124          2013   TV-G    45 min  ...         NaN         NaN          NaN   \n",
       "3829          2019   TV-G    70 min  ...         NaN         NaN          NaN   \n",
       "7784          2002  TV-Y7  1 Season  ...         NaN         NaN          NaN   \n",
       "3216          2019  TV-14  1 Season  ...         NaN         NaN          NaN   \n",
       "6338          2013  NC-17   180 min  ...         NaN         NaN          NaN   \n",
       "\n",
       "      Unnamed: 19  Unnamed: 20  Unnamed: 21  Unnamed: 22  Unnamed: 23  \\\n",
       "2303          NaN          NaN          NaN          NaN          NaN   \n",
       "7108          NaN          NaN          NaN          NaN          NaN   \n",
       "5123          NaN          NaN          NaN          NaN          NaN   \n",
       "3289          NaN          NaN          NaN          NaN          NaN   \n",
       "5481          NaN          NaN          NaN          NaN          NaN   \n",
       "6383          NaN          NaN          NaN          NaN          NaN   \n",
       "7692          NaN          NaN          NaN          NaN          NaN   \n",
       "6674          NaN          NaN          NaN          NaN          NaN   \n",
       "3459          NaN          NaN          NaN          NaN          NaN   \n",
       "3366          NaN          NaN          NaN          NaN          NaN   \n",
       "6124          NaN          NaN          NaN          NaN          NaN   \n",
       "3829          NaN          NaN          NaN          NaN          NaN   \n",
       "7784          NaN          NaN          NaN          NaN          NaN   \n",
       "3216          NaN          NaN          NaN          NaN          NaN   \n",
       "6338          NaN          NaN          NaN          NaN          NaN   \n",
       "\n",
       "      Unnamed: 24  Unnamed: 25  \n",
       "2303          NaN          NaN  \n",
       "7108          NaN          NaN  \n",
       "5123          NaN          NaN  \n",
       "3289          NaN          NaN  \n",
       "5481          NaN          NaN  \n",
       "6383          NaN          NaN  \n",
       "7692          NaN          NaN  \n",
       "6674          NaN          NaN  \n",
       "3459          NaN          NaN  \n",
       "3366          NaN          NaN  \n",
       "6124          NaN          NaN  \n",
       "3829          NaN          NaN  \n",
       "7784          NaN          NaN  \n",
       "3216          NaN          NaN  \n",
       "6338          NaN          NaN  \n",
       "\n",
       "[15 rows x 26 columns]"
      ]
     },
     "execution_count": 3,
     "metadata": {},
     "output_type": "execute_result"
    }
   ],
   "source": [
    "data.sample(15)"
   ]
  },
  {
   "cell_type": "code",
   "execution_count": 4,
   "id": "9871f104",
   "metadata": {},
   "outputs": [
    {
     "data": {
      "text/plain": [
       "(8809, 26)"
      ]
     },
     "execution_count": 4,
     "metadata": {},
     "output_type": "execute_result"
    }
   ],
   "source": [
    "data.shape"
   ]
  },
  {
   "cell_type": "code",
   "execution_count": 5,
   "id": "7bcf2517",
   "metadata": {},
   "outputs": [
    {
     "name": "stdout",
     "output_type": "stream",
     "text": [
      "<class 'pandas.core.frame.DataFrame'>\n",
      "RangeIndex: 8809 entries, 0 to 8808\n",
      "Data columns (total 26 columns):\n",
      " #   Column        Non-Null Count  Dtype  \n",
      "---  ------        --------------  -----  \n",
      " 0   show_id       8809 non-null   object \n",
      " 1   type          8809 non-null   object \n",
      " 2   title         8809 non-null   object \n",
      " 3   director      6175 non-null   object \n",
      " 4   cast          7984 non-null   object \n",
      " 5   country       7978 non-null   object \n",
      " 6   date_added    8799 non-null   object \n",
      " 7   release_year  8809 non-null   int64  \n",
      " 8   rating        8805 non-null   object \n",
      " 9   duration      8806 non-null   object \n",
      " 10  listed_in     8809 non-null   object \n",
      " 11  description   8809 non-null   object \n",
      " 12  Unnamed: 12   0 non-null      float64\n",
      " 13  Unnamed: 13   0 non-null      float64\n",
      " 14  Unnamed: 14   0 non-null      float64\n",
      " 15  Unnamed: 15   0 non-null      float64\n",
      " 16  Unnamed: 16   0 non-null      float64\n",
      " 17  Unnamed: 17   0 non-null      float64\n",
      " 18  Unnamed: 18   0 non-null      float64\n",
      " 19  Unnamed: 19   0 non-null      float64\n",
      " 20  Unnamed: 20   0 non-null      float64\n",
      " 21  Unnamed: 21   0 non-null      float64\n",
      " 22  Unnamed: 22   0 non-null      float64\n",
      " 23  Unnamed: 23   0 non-null      float64\n",
      " 24  Unnamed: 24   0 non-null      float64\n",
      " 25  Unnamed: 25   0 non-null      float64\n",
      "dtypes: float64(14), int64(1), object(11)\n",
      "memory usage: 1.7+ MB\n"
     ]
    }
   ],
   "source": [
    "data.info()"
   ]
  },
  {
   "cell_type": "code",
   "execution_count": 6,
   "id": "e8aaceab",
   "metadata": {},
   "outputs": [
    {
     "data": {
      "text/plain": [
       "0"
      ]
     },
     "execution_count": 6,
     "metadata": {},
     "output_type": "execute_result"
    }
   ],
   "source": [
    "data.duplicated().sum()"
   ]
  },
  {
   "cell_type": "code",
   "execution_count": 7,
   "id": "8d6bd67f",
   "metadata": {},
   "outputs": [
    {
     "data": {
      "text/plain": [
       "Index(['show_id', 'type', 'title', 'director', 'cast', 'country', 'date_added',\n",
       "       'release_year', 'rating', 'duration', 'listed_in', 'description',\n",
       "       'Unnamed: 12', 'Unnamed: 13', 'Unnamed: 14', 'Unnamed: 15',\n",
       "       'Unnamed: 16', 'Unnamed: 17', 'Unnamed: 18', 'Unnamed: 19',\n",
       "       'Unnamed: 20', 'Unnamed: 21', 'Unnamed: 22', 'Unnamed: 23',\n",
       "       'Unnamed: 24', 'Unnamed: 25'],\n",
       "      dtype='object')"
      ]
     },
     "execution_count": 7,
     "metadata": {},
     "output_type": "execute_result"
    }
   ],
   "source": [
    "data.columns"
   ]
  },
  {
   "cell_type": "code",
   "execution_count": 8,
   "id": "22754f06",
   "metadata": {},
   "outputs": [
    {
     "data": {
      "text/plain": [
       "show_id            0\n",
       "type               0\n",
       "title              0\n",
       "description        0\n",
       "listed_in          0\n",
       "release_year       0\n",
       "duration           3\n",
       "rating             4\n",
       "date_added        10\n",
       "cast             825\n",
       "country          831\n",
       "director        2634\n",
       "Unnamed: 19     8809\n",
       "Unnamed: 23     8809\n",
       "Unnamed: 22     8809\n",
       "Unnamed: 21     8809\n",
       "Unnamed: 20     8809\n",
       "Unnamed: 18     8809\n",
       "Unnamed: 12     8809\n",
       "Unnamed: 16     8809\n",
       "Unnamed: 15     8809\n",
       "Unnamed: 14     8809\n",
       "Unnamed: 13     8809\n",
       "Unnamed: 24     8809\n",
       "Unnamed: 17     8809\n",
       "Unnamed: 25     8809\n",
       "dtype: int64"
      ]
     },
     "execution_count": 8,
     "metadata": {},
     "output_type": "execute_result"
    }
   ],
   "source": [
    "nan=data.isna().sum().sort_values()\n",
    "nan"
   ]
  },
  {
   "cell_type": "code",
   "execution_count": 9,
   "id": "46153581",
   "metadata": {},
   "outputs": [
    {
     "data": {
      "text/plain": [
       "show_id           0.000000\n",
       "type              0.000000\n",
       "title             0.000000\n",
       "description       0.000000\n",
       "listed_in         0.000000\n",
       "release_year      0.000000\n",
       "duration          0.034056\n",
       "rating            0.045408\n",
       "date_added        0.113520\n",
       "cast              9.365422\n",
       "country           9.433534\n",
       "director         29.901237\n",
       "Unnamed: 19     100.000000\n",
       "Unnamed: 23     100.000000\n",
       "Unnamed: 22     100.000000\n",
       "Unnamed: 21     100.000000\n",
       "Unnamed: 20     100.000000\n",
       "Unnamed: 18     100.000000\n",
       "Unnamed: 12     100.000000\n",
       "Unnamed: 16     100.000000\n",
       "Unnamed: 15     100.000000\n",
       "Unnamed: 14     100.000000\n",
       "Unnamed: 13     100.000000\n",
       "Unnamed: 24     100.000000\n",
       "Unnamed: 17     100.000000\n",
       "Unnamed: 25     100.000000\n",
       "dtype: float64"
      ]
     },
     "execution_count": 9,
     "metadata": {},
     "output_type": "execute_result"
    }
   ],
   "source": [
    "nan/len(data)*100"
   ]
  },
  {
   "cell_type": "code",
   "execution_count": 10,
   "id": "92ffd4c2",
   "metadata": {},
   "outputs": [
    {
     "name": "stdout",
     "output_type": "stream",
     "text": [
      "Index(['show_id', 'type', 'title', 'director', 'cast', 'country', 'date_added',\n",
      "       'release_year', 'rating', 'duration', 'listed_in', 'description'],\n",
      "      dtype='object')\n"
     ]
    }
   ],
   "source": [
    "data.drop(['Unnamed: 12', 'Unnamed: 13', 'Unnamed: 14', 'Unnamed: 15',\n",
    "           'Unnamed: 16', 'Unnamed: 17', 'Unnamed: 18', 'Unnamed: 19',\n",
    "           'Unnamed: 20', 'Unnamed: 21', 'Unnamed: 22', 'Unnamed: 23',\n",
    "           'Unnamed: 24', 'Unnamed: 25'], axis=1, inplace=True)\n",
    "print(data.columns)"
   ]
  },
  {
   "cell_type": "code",
   "execution_count": 11,
   "id": "0db0b7e0",
   "metadata": {},
   "outputs": [
    {
     "data": {
      "text/html": [
       "<div>\n",
       "<style scoped>\n",
       "    .dataframe tbody tr th:only-of-type {\n",
       "        vertical-align: middle;\n",
       "    }\n",
       "\n",
       "    .dataframe tbody tr th {\n",
       "        vertical-align: top;\n",
       "    }\n",
       "\n",
       "    .dataframe thead th {\n",
       "        text-align: right;\n",
       "    }\n",
       "</style>\n",
       "<table border=\"1\" class=\"dataframe\">\n",
       "  <thead>\n",
       "    <tr style=\"text-align: right;\">\n",
       "      <th></th>\n",
       "      <th>show_id</th>\n",
       "      <th>type</th>\n",
       "      <th>title</th>\n",
       "      <th>director</th>\n",
       "      <th>cast</th>\n",
       "      <th>country</th>\n",
       "      <th>date_added</th>\n",
       "      <th>release_year</th>\n",
       "      <th>rating</th>\n",
       "      <th>duration</th>\n",
       "      <th>listed_in</th>\n",
       "      <th>description</th>\n",
       "    </tr>\n",
       "  </thead>\n",
       "  <tbody>\n",
       "    <tr>\n",
       "      <th>2777</th>\n",
       "      <td>s2778</td>\n",
       "      <td>TV Show</td>\n",
       "      <td>Unorthodox</td>\n",
       "      <td>NaN</td>\n",
       "      <td>Shira Haas, Amit Rahav, Jeff Wilbusch, Alex Re...</td>\n",
       "      <td>Germany</td>\n",
       "      <td>March 26, 2020</td>\n",
       "      <td>2020</td>\n",
       "      <td>TV-MA</td>\n",
       "      <td>1 Season</td>\n",
       "      <td>International TV Shows, TV Dramas</td>\n",
       "      <td>A Hasidic Jewish woman in Brooklyn flees to Be...</td>\n",
       "    </tr>\n",
       "    <tr>\n",
       "      <th>7876</th>\n",
       "      <td>s7877</td>\n",
       "      <td>Movie</td>\n",
       "      <td>Roberto Saviano: Writing Under Police Protection</td>\n",
       "      <td>Pierfrancesco Diliberto</td>\n",
       "      <td>Pierfrancesco Diliberto</td>\n",
       "      <td>Italy</td>\n",
       "      <td>May 1, 2018</td>\n",
       "      <td>2016</td>\n",
       "      <td>TV-14</td>\n",
       "      <td>45 min</td>\n",
       "      <td>Documentaries, International Movies</td>\n",
       "      <td>Italian TV host Pif revisits Roberto Saviano, ...</td>\n",
       "    </tr>\n",
       "    <tr>\n",
       "      <th>374</th>\n",
       "      <td>s375</td>\n",
       "      <td>Movie</td>\n",
       "      <td>Flower Girl</td>\n",
       "      <td>Michelle Bello</td>\n",
       "      <td>Damilola Adegbite, Chris Attoh, Chuks Chukwuje...</td>\n",
       "      <td>Nigeria</td>\n",
       "      <td>July 29, 2021</td>\n",
       "      <td>2013</td>\n",
       "      <td>TV-PG</td>\n",
       "      <td>94 min</td>\n",
       "      <td>Comedies, International Movies, Romantic Movies</td>\n",
       "      <td>When a young florist who's long dreamed of her...</td>\n",
       "    </tr>\n",
       "    <tr>\n",
       "      <th>2582</th>\n",
       "      <td>s2583</td>\n",
       "      <td>Movie</td>\n",
       "      <td>Madagascar: Escape 2 Africa</td>\n",
       "      <td>Eric Darnell, Tom McGrath</td>\n",
       "      <td>Ben Stiller, Chris Rock, David Schwimmer, Jada...</td>\n",
       "      <td>United States</td>\n",
       "      <td>May 1, 2020</td>\n",
       "      <td>2008</td>\n",
       "      <td>PG</td>\n",
       "      <td>91 min</td>\n",
       "      <td>Children &amp; Family Movies, Comedies</td>\n",
       "      <td>A botched rescue strands Alex the lion and his...</td>\n",
       "    </tr>\n",
       "    <tr>\n",
       "      <th>4309</th>\n",
       "      <td>s4310</td>\n",
       "      <td>TV Show</td>\n",
       "      <td>Tidelands</td>\n",
       "      <td>NaN</td>\n",
       "      <td>Charlotte Best, Elsa Pataky, Marco Pigossi, Aa...</td>\n",
       "      <td>Australia</td>\n",
       "      <td>December 14, 2018</td>\n",
       "      <td>2018</td>\n",
       "      <td>TV-MA</td>\n",
       "      <td>1 Season</td>\n",
       "      <td>Crime TV Shows, International TV Shows, TV Dramas</td>\n",
       "      <td>Ex-con Cal McTeer's return to her hometown of ...</td>\n",
       "    </tr>\n",
       "    <tr>\n",
       "      <th>4608</th>\n",
       "      <td>s4609</td>\n",
       "      <td>TV Show</td>\n",
       "      <td>Three Wives One Husband</td>\n",
       "      <td>NaN</td>\n",
       "      <td>NaN</td>\n",
       "      <td>United Kingdom</td>\n",
       "      <td>October 1, 2018</td>\n",
       "      <td>2018</td>\n",
       "      <td>TV-14</td>\n",
       "      <td>1 Season</td>\n",
       "      <td>British TV Shows, International TV Shows, Real...</td>\n",
       "      <td>A film crew captures a year in the life of mod...</td>\n",
       "    </tr>\n",
       "    <tr>\n",
       "      <th>1433</th>\n",
       "      <td>s1434</td>\n",
       "      <td>Movie</td>\n",
       "      <td>100% Halal</td>\n",
       "      <td>Jastis Arimba</td>\n",
       "      <td>Anisa Rahma, Ariyo Wahab, Anandito Dwis, Fitri...</td>\n",
       "      <td>Indonesia</td>\n",
       "      <td>January 7, 2021</td>\n",
       "      <td>2020</td>\n",
       "      <td>TV-14</td>\n",
       "      <td>101 min</td>\n",
       "      <td>Dramas, International Movies</td>\n",
       "      <td>After high school, a young woman marries the m...</td>\n",
       "    </tr>\n",
       "    <tr>\n",
       "      <th>2838</th>\n",
       "      <td>s2839</td>\n",
       "      <td>TV Show</td>\n",
       "      <td>Ugly Delicious</td>\n",
       "      <td>NaN</td>\n",
       "      <td>David Chang, Peter Meehan</td>\n",
       "      <td>United States</td>\n",
       "      <td>March 6, 2020</td>\n",
       "      <td>2020</td>\n",
       "      <td>TV-MA</td>\n",
       "      <td>2 Seasons</td>\n",
       "      <td>Docuseries</td>\n",
       "      <td>All the flavor. None of the BS. Star chef Davi...</td>\n",
       "    </tr>\n",
       "  </tbody>\n",
       "</table>\n",
       "</div>"
      ],
      "text/plain": [
       "     show_id     type                                             title  \\\n",
       "2777   s2778  TV Show                                        Unorthodox   \n",
       "7876   s7877    Movie  Roberto Saviano: Writing Under Police Protection   \n",
       "374     s375    Movie                                       Flower Girl   \n",
       "2582   s2583    Movie                       Madagascar: Escape 2 Africa   \n",
       "4309   s4310  TV Show                                         Tidelands   \n",
       "4608   s4609  TV Show                           Three Wives One Husband   \n",
       "1433   s1434    Movie                                        100% Halal   \n",
       "2838   s2839  TV Show                                    Ugly Delicious   \n",
       "\n",
       "                       director  \\\n",
       "2777                        NaN   \n",
       "7876    Pierfrancesco Diliberto   \n",
       "374              Michelle Bello   \n",
       "2582  Eric Darnell, Tom McGrath   \n",
       "4309                        NaN   \n",
       "4608                        NaN   \n",
       "1433              Jastis Arimba   \n",
       "2838                        NaN   \n",
       "\n",
       "                                                   cast         country  \\\n",
       "2777  Shira Haas, Amit Rahav, Jeff Wilbusch, Alex Re...         Germany   \n",
       "7876                            Pierfrancesco Diliberto           Italy   \n",
       "374   Damilola Adegbite, Chris Attoh, Chuks Chukwuje...         Nigeria   \n",
       "2582  Ben Stiller, Chris Rock, David Schwimmer, Jada...   United States   \n",
       "4309  Charlotte Best, Elsa Pataky, Marco Pigossi, Aa...       Australia   \n",
       "4608                                                NaN  United Kingdom   \n",
       "1433  Anisa Rahma, Ariyo Wahab, Anandito Dwis, Fitri...       Indonesia   \n",
       "2838                          David Chang, Peter Meehan   United States   \n",
       "\n",
       "             date_added  release_year rating   duration  \\\n",
       "2777     March 26, 2020          2020  TV-MA   1 Season   \n",
       "7876        May 1, 2018          2016  TV-14     45 min   \n",
       "374       July 29, 2021          2013  TV-PG     94 min   \n",
       "2582        May 1, 2020          2008     PG     91 min   \n",
       "4309  December 14, 2018          2018  TV-MA   1 Season   \n",
       "4608    October 1, 2018          2018  TV-14   1 Season   \n",
       "1433    January 7, 2021          2020  TV-14    101 min   \n",
       "2838      March 6, 2020          2020  TV-MA  2 Seasons   \n",
       "\n",
       "                                              listed_in  \\\n",
       "2777                  International TV Shows, TV Dramas   \n",
       "7876                Documentaries, International Movies   \n",
       "374     Comedies, International Movies, Romantic Movies   \n",
       "2582                 Children & Family Movies, Comedies   \n",
       "4309  Crime TV Shows, International TV Shows, TV Dramas   \n",
       "4608  British TV Shows, International TV Shows, Real...   \n",
       "1433                       Dramas, International Movies   \n",
       "2838                                         Docuseries   \n",
       "\n",
       "                                            description  \n",
       "2777  A Hasidic Jewish woman in Brooklyn flees to Be...  \n",
       "7876  Italian TV host Pif revisits Roberto Saviano, ...  \n",
       "374   When a young florist who's long dreamed of her...  \n",
       "2582  A botched rescue strands Alex the lion and his...  \n",
       "4309  Ex-con Cal McTeer's return to her hometown of ...  \n",
       "4608  A film crew captures a year in the life of mod...  \n",
       "1433  After high school, a young woman marries the m...  \n",
       "2838  All the flavor. None of the BS. Star chef Davi...  "
      ]
     },
     "execution_count": 11,
     "metadata": {},
     "output_type": "execute_result"
    }
   ],
   "source": [
    "data.sample(8)"
   ]
  },
  {
   "cell_type": "code",
   "execution_count": 12,
   "id": "729da76c",
   "metadata": {},
   "outputs": [
    {
     "name": "stdout",
     "output_type": "stream",
     "text": [
      "<class 'pandas.core.frame.DataFrame'>\n",
      "RangeIndex: 8809 entries, 0 to 8808\n",
      "Data columns (total 12 columns):\n",
      " #   Column        Non-Null Count  Dtype \n",
      "---  ------        --------------  ----- \n",
      " 0   show_id       8809 non-null   object\n",
      " 1   type          8809 non-null   object\n",
      " 2   title         8809 non-null   object\n",
      " 3   director      6175 non-null   object\n",
      " 4   cast          7984 non-null   object\n",
      " 5   country       7978 non-null   object\n",
      " 6   date_added    8799 non-null   object\n",
      " 7   release_year  8809 non-null   int64 \n",
      " 8   rating        8805 non-null   object\n",
      " 9   duration      8806 non-null   object\n",
      " 10  listed_in     8809 non-null   object\n",
      " 11  description   8809 non-null   object\n",
      "dtypes: int64(1), object(11)\n",
      "memory usage: 826.0+ KB\n"
     ]
    }
   ],
   "source": [
    "data.info()"
   ]
  },
  {
   "cell_type": "code",
   "execution_count": 13,
   "id": "a976e796",
   "metadata": {},
   "outputs": [
    {
     "data": {
      "text/plain": [
       "show_id            0\n",
       "type               0\n",
       "title              0\n",
       "release_year       0\n",
       "listed_in          0\n",
       "description        0\n",
       "duration           3\n",
       "rating             4\n",
       "date_added        10\n",
       "cast             825\n",
       "country          831\n",
       "director        2634\n",
       "dtype: int64"
      ]
     },
     "execution_count": 13,
     "metadata": {},
     "output_type": "execute_result"
    }
   ],
   "source": [
    "nan=data.isna().sum().sort_values()\n",
    "nan"
   ]
  },
  {
   "cell_type": "code",
   "execution_count": 14,
   "id": "f8d59673",
   "metadata": {},
   "outputs": [
    {
     "data": {
      "text/plain": [
       "show_id          0.000000\n",
       "type             0.000000\n",
       "title            0.000000\n",
       "release_year     0.000000\n",
       "listed_in        0.000000\n",
       "description      0.000000\n",
       "duration         0.034056\n",
       "rating           0.045408\n",
       "date_added       0.113520\n",
       "cast             9.365422\n",
       "country          9.433534\n",
       "director        29.901237\n",
       "dtype: float64"
      ]
     },
     "execution_count": 14,
     "metadata": {},
     "output_type": "execute_result"
    }
   ],
   "source": [
    "nan/len(data)*100"
   ]
  },
  {
   "cell_type": "code",
   "execution_count": 15,
   "id": "cc37f14d",
   "metadata": {},
   "outputs": [
    {
     "data": {
      "text/plain": [
       "array(['Movie', 'TV Show'], dtype=object)"
      ]
     },
     "execution_count": 15,
     "metadata": {},
     "output_type": "execute_result"
    }
   ],
   "source": [
    "data[\"type\"].unique()"
   ]
  },
  {
   "cell_type": "code",
   "execution_count": 16,
   "id": "32a2022f",
   "metadata": {},
   "outputs": [
    {
     "data": {
      "text/plain": [
       "4529"
      ]
     },
     "execution_count": 16,
     "metadata": {},
     "output_type": "execute_result"
    }
   ],
   "source": [
    "data[\"director\"].nunique()"
   ]
  },
  {
   "cell_type": "code",
   "execution_count": 17,
   "id": "f5ee559b",
   "metadata": {},
   "outputs": [
    {
     "data": {
      "text/plain": [
       "748"
      ]
     },
     "execution_count": 17,
     "metadata": {},
     "output_type": "execute_result"
    }
   ],
   "source": [
    "data[\"country\"].nunique()"
   ]
  },
  {
   "cell_type": "code",
   "execution_count": 18,
   "id": "2f32865b",
   "metadata": {},
   "outputs": [
    {
     "data": {
      "text/plain": [
       "array(['PG-13', 'TV-MA', 'PG', 'TV-14', 'TV-PG', 'TV-Y', 'TV-Y7', 'R',\n",
       "       'TV-G', 'G', 'NC-17', '74 min', '84 min', '66 min', 'NR', nan,\n",
       "       'TV-Y7-FV', 'UR', 'A'], dtype=object)"
      ]
     },
     "execution_count": 18,
     "metadata": {},
     "output_type": "execute_result"
    }
   ],
   "source": [
    "data[\"rating\"].unique()"
   ]
  },
  {
   "cell_type": "code",
   "execution_count": 22,
   "id": "778bcaad",
   "metadata": {},
   "outputs": [
    {
     "data": {
      "text/plain": [
       "array(['Documentaries', 'International TV Shows, TV Dramas, TV Mysteries',\n",
       "       'Crime TV Shows, International TV Shows, TV Action & Adventure',\n",
       "       'Docuseries, Reality TV',\n",
       "       'International TV Shows, Romantic TV Shows, TV Comedies',\n",
       "       'TV Dramas, TV Horror, TV Mysteries', 'Children & Family Movies',\n",
       "       'Dramas, Independent Movies, International Movies',\n",
       "       'British TV Shows, Reality TV', 'Comedies, Dramas',\n",
       "       'Crime TV Shows, Docuseries, International TV Shows',\n",
       "       'Dramas, International Movies',\n",
       "       'Children & Family Movies, Comedies',\n",
       "       'British TV Shows, Crime TV Shows, Docuseries',\n",
       "       'TV Comedies, TV Dramas', 'Documentaries, International Movies',\n",
       "       'Crime TV Shows, Spanish-Language TV Shows, TV Dramas',\n",
       "       'Thrillers',\n",
       "       'International TV Shows, Spanish-Language TV Shows, TV Action & Adventure',\n",
       "       'International TV Shows, TV Action & Adventure, TV Dramas',\n",
       "       'Comedies, International Movies',\n",
       "       'Comedies, International Movies, Romantic Movies',\n",
       "       'Docuseries, International TV Shows, Reality TV',\n",
       "       'Comedies, International Movies, Music & Music', 'Comedies',\n",
       "       'Horror Movies, Sci-Fi & Fantasy', 'TV Comedies',\n",
       "       'British TV Shows, International TV Shows, TV Comedies',\n",
       "       'International TV Shows, TV Dramas, TV Thrillers', \"Kids' TV\",\n",
       "       'Dramas, International Movies, Thrillers',\n",
       "       'Action & Adventure, Dramas, International Movies',\n",
       "       \"Kids' TV, TV Comedies\", 'Action & Adventure, Dramas',\n",
       "       \"Kids' TV, TV Sci-Fi & Fantasy\",\n",
       "       'Action & Adventure, Classic Movies, Dramas',\n",
       "       'Dramas, Horror Movies, Thrillers',\n",
       "       'Action & Adventure, Horror Movies, Thrillers',\n",
       "       'Action & Adventure', 'Dramas, Thrillers',\n",
       "       'International TV Shows, TV Dramas',\n",
       "       'International TV Shows, TV Dramas, TV Sci-Fi & Fantasy',\n",
       "       'Action & Adventure, Anime Features, International Movies',\n",
       "       'Reality TV', 'Docuseries, International TV Shows',\n",
       "       'Documentaries, International Movies, Sports Movies',\n",
       "       'International TV Shows, Reality TV, Romantic TV Shows',\n",
       "       'British TV Shows, Docuseries, International TV Shows',\n",
       "       'Anime Series, International TV Shows',\n",
       "       'Comedies, Dramas, International Movies',\n",
       "       'Crime TV Shows, TV Comedies, TV Dramas',\n",
       "       'Action & Adventure, Comedies, Dramas', \"Anime Series, Kids' TV\",\n",
       "       'International Movies, Thrillers', \"Kids' TV, Korean TV Shows\",\n",
       "       'Documentaries, Sports Movies', 'Sci-Fi & Fantasy, Thrillers',\n",
       "       'Dramas, International Movies, Romantic Movies',\n",
       "       'Documentaries, Music & Music',\n",
       "       \"Kids' TV, TV Comedies, TV Sci-Fi & Fantasy\",\n",
       "       \"British TV Shows, Kids' TV\", 'Docuseries, Science & Nature TV',\n",
       "       'Children & Family Movies, Dramas',\n",
       "       \"Kids' TV, TV Dramas, Teen TV Shows\",\n",
       "       'Crime TV Shows, International TV Shows, Spanish-Language TV Shows',\n",
       "       'Docuseries, International TV Shows, Spanish-Language TV Shows',\n",
       "       'Dramas', 'Comedies, Romantic Movies', 'Dramas, Romantic Movies',\n",
       "       'Comedies, Dramas, Independent Movies',\n",
       "       'Crime TV Shows, TV Action & Adventure, TV Comedies',\n",
       "       'Children & Family Movies, Music & Music',\n",
       "       'Action & Adventure, Classic Movies, Cult Movies',\n",
       "       'International TV Shows, TV Action & Adventure, TV Comedies',\n",
       "       'Action & Adventure, Sci-Fi & Fantasy',\n",
       "       'Action & Adventure, Comedies', 'Classic Movies, Comedies, Dramas',\n",
       "       'Comedies, Cult Movies', 'Comedies, Cult Movies, Music & Music',\n",
       "       'Comedies, Music & Music', 'TV Shows',\n",
       "       'Action & Adventure, International Movies',\n",
       "       'Anime Series, International TV Shows, Teen TV Shows',\n",
       "       'Action & Adventure, Children & Family Movies, Cult Movies',\n",
       "       'Comedies, Dramas, Romantic Movies',\n",
       "       'Comedies, Cult Movies, Sci-Fi & Fantasy',\n",
       "       'Classic Movies, Dramas',\n",
       "       'Action & Adventure, Children & Family Movies, Comedies',\n",
       "       'Dramas, Faith & Spirituality', 'Documentaries, LGBTQ Movies',\n",
       "       'Action & Adventure, Classic Movies', 'Docuseries',\n",
       "       'International TV Shows, TV Comedies',\n",
       "       'Dramas, Independent Movies',\n",
       "       'Action & Adventure, Comedies, International Movies',\n",
       "       'International TV Shows, Spanish-Language TV Shows, TV Dramas',\n",
       "       'Crime TV Shows, International TV Shows, TV Dramas',\n",
       "       'Action & Adventure, Horror Movies, International Movies',\n",
       "       'Comedies, International Movies, Sci-Fi & Fantasy',\n",
       "       'Action & Adventure, International Movies, Music & Music',\n",
       "       'Dramas, International Movies, Music & Music',\n",
       "       'Horror Movies, International Movies', 'Reality TV, Teen TV Shows',\n",
       "       'Crime TV Shows, TV Dramas, TV Mysteries',\n",
       "       'International TV Shows, Reality TV',\n",
       "       'International TV Shows, TV Comedies, TV Dramas',\n",
       "       'Dramas, Independent Movies, Romantic Movies', 'Horror Movies',\n",
       "       'Documentaries, LGBTQ Movies, Sports Movies',\n",
       "       'Horror Movies, International Movies, Thrillers',\n",
       "       'Action & Adventure, Anime Features',\n",
       "       'TV Dramas, TV Mysteries, TV Sci-Fi & Fantasy',\n",
       "       'International TV Shows, Spanish-Language TV Shows, TV Comedies',\n",
       "       'Children & Family Movies, Comedies, Music & Music',\n",
       "       'Comedies, Independent Movies',\n",
       "       'Anime Series, International TV Shows, Romantic TV Shows',\n",
       "       'Classic Movies, Dramas, Independent Movies',\n",
       "       'International TV Shows, Romantic TV Shows, Spanish-Language TV Shows',\n",
       "       'International TV Shows, TV Dramas, Teen TV Shows',\n",
       "       'Stand-Up Comedy',\n",
       "       'Action & Adventure, Anime Features, Children & Family Movies',\n",
       "       'International TV Shows, Romantic TV Shows, TV Dramas',\n",
       "       'International Movies, Music & Music',\n",
       "       'TV Action & Adventure, TV Dramas, TV Mysteries',\n",
       "       'Horror Movies, Independent Movies, International Movies',\n",
       "       'Comedies, Cult Movies, International Movies',\n",
       "       'Classic Movies, Dramas, International Movies', 'Movies',\n",
       "       'Crime TV Shows, Docuseries',\n",
       "       'Children & Family Movies, Comedies, Sci-Fi & Fantasy',\n",
       "       'Anime Series, International TV Shows, TV Thrillers',\n",
       "       'Action & Adventure, Horror Movies, Sci-Fi & Fantasy',\n",
       "       'Classic Movies, Comedies, Cult Movies',\n",
       "       'TV Dramas, Teen TV Shows',\n",
       "       'Action & Adventure, Sci-Fi & Fantasy, Thrillers',\n",
       "       'Children & Family Movies, Comedies, Dramas',\n",
       "       'Dramas, Sports Movies',\n",
       "       'Action & Adventure, Dramas, Sci-Fi & Fantasy',\n",
       "       'Action & Adventure, Comedies, Cult Movies',\n",
       "       'Dramas, Independent Movies, Thrillers',\n",
       "       'TV Dramas, TV Sci-Fi & Fantasy',\n",
       "       'Action & Adventure, International Movies, Thrillers',\n",
       "       'British TV Shows, International TV Shows, Reality TV',\n",
       "       'TV Action & Adventure, TV Dramas, Teen TV Shows', 'Anime Series',\n",
       "       'Crime TV Shows, TV Action & Adventure, TV Sci-Fi & Fantasy',\n",
       "       'Crime TV Shows, International TV Shows, TV Comedies',\n",
       "       'Stand-Up Comedy & Talk Shows, TV Comedies',\n",
       "       'Classic & Cult TV, TV Action & Adventure, TV Dramas',\n",
       "       'Children & Family Movies, Sports Movies',\n",
       "       'TV Action & Adventure, TV Sci-Fi & Fantasy',\n",
       "       'Anime Series, Stand-Up Comedy & Talk Shows', 'TV Dramas',\n",
       "       'Anime Features, Children & Family Movies, International Movies',\n",
       "       'Classic & Cult TV, Crime TV Shows, International TV Shows',\n",
       "       'Crime TV Shows, International TV Shows, Romantic TV Shows',\n",
       "       'Horror Movies, LGBTQ Movies',\n",
       "       'Action & Adventure, Dramas, Romantic Movies',\n",
       "       'Documentaries, International Movies, Music & Music',\n",
       "       'TV Comedies, TV Dramas, Teen TV Shows',\n",
       "       'Children & Family Movies, Comedies, Sports Movies',\n",
       "       'Children & Family Movies, Dramas, International Movies',\n",
       "       'Comedies, Documentaries, International Movies',\n",
       "       'Romantic TV Shows, TV Dramas',\n",
       "       'Anime Series, TV Horror, TV Thrillers',\n",
       "       'International Movies, Romantic Movies',\n",
       "       'TV Action & Adventure, TV Dramas, TV Sci-Fi & Fantasy',\n",
       "       \"Kids' TV, Korean TV Shows, TV Comedies\",\n",
       "       'British TV Shows, Crime TV Shows, International TV Shows',\n",
       "       'Crime TV Shows, TV Horror, TV Mysteries',\n",
       "       'Docuseries, International TV Shows, Science & Nature TV',\n",
       "       'British TV Shows, International TV Shows, TV Dramas',\n",
       "       \"Kids' TV, TV Action & Adventure, TV Sci-Fi & Fantasy\",\n",
       "       'International Movies, Romantic Movies, Thrillers',\n",
       "       'Action & Adventure, Cult Movies, International Movies',\n",
       "       'Action & Adventure, Comedies, Sci-Fi & Fantasy',\n",
       "       \"International TV Shows, Kids' TV, TV Mysteries\",\n",
       "       'Action & Adventure, Thrillers',\n",
       "       'Dramas, Faith & Spirituality, International Movies',\n",
       "       'Action & Adventure, Classic Movies, Comedies',\n",
       "       'Action & Adventure, Comedies, Sports Movies',\n",
       "       'Action & Adventure, Children & Family Movies, Classic Movies',\n",
       "       'Action & Adventure, Children & Family Movies, Dramas',\n",
       "       'Horror Movies, Thrillers', 'Action & Adventure, Romantic Movies',\n",
       "       'Dramas, Romantic Movies, Sci-Fi & Fantasy',\n",
       "       'Dramas, Music & Music, Romantic Movies',\n",
       "       'Anime Series, Crime TV Shows, International TV Shows',\n",
       "       'Reality TV, Romantic TV Shows',\n",
       "       'International Movies, Music & Music, Romantic Movies',\n",
       "       'Reality TV, TV Action & Adventure, TV Mysteries',\n",
       "       'Crime TV Shows, TV Dramas',\n",
       "       'International TV Shows, Reality TV, Spanish-Language TV Shows',\n",
       "       'Crime TV Shows, TV Dramas, TV Thrillers',\n",
       "       'British TV Shows, Docuseries',\n",
       "       'International TV Shows, Korean TV Shows, TV Comedies',\n",
       "       'Action & Adventure, Anime Features, Classic Movies',\n",
       "       'TV Action & Adventure, TV Dramas, TV Horror',\n",
       "       'Crime TV Shows, International TV Shows, TV Thrillers',\n",
       "       'Anime Series, Crime TV Shows, TV Horror',\n",
       "       'Anime Features, Documentaries', 'Comedies, Horror Movies',\n",
       "       'International TV Shows, Spanish-Language TV Shows, Stand-Up Comedy & Talk Shows',\n",
       "       'Children & Family Movies, Documentaries, International Movies',\n",
       "       'Romantic TV Shows, TV Comedies, TV Dramas',\n",
       "       'Dramas, Faith & Spirituality, Romantic Movies',\n",
       "       'Dramas, Independent Movies, LGBTQ Movies',\n",
       "       'Comedies, Independent Movies, LGBTQ Movies',\n",
       "       'Action & Adventure, Cult Movies, Sci-Fi & Fantasy',\n",
       "       'Cult Movies, Horror Movies',\n",
       "       'Action & Adventure, Dramas, Sports Movies',\n",
       "       'Anime Series, Romantic TV Shows, Teen TV Shows',\n",
       "       'Dramas, International Movies, LGBTQ Movies',\n",
       "       'Dramas, Romantic Movies, Thrillers',\n",
       "       'Children & Family Movies, Dramas, Faith & Spirituality',\n",
       "       'Dramas, International Movies, Sports Movies',\n",
       "       'Action & Adventure, Horror Movies',\n",
       "       'Documentaries, International Movies, LGBTQ Movies',\n",
       "       'Dramas, Independent Movies, Sci-Fi & Fantasy',\n",
       "       'Comedies, Independent Movies, International Movies',\n",
       "       'Reality TV, TV Horror, TV Thrillers',\n",
       "       'TV Action & Adventure, TV Horror, TV Sci-Fi & Fantasy',\n",
       "       'International TV Shows, TV Horror, TV Sci-Fi & Fantasy',\n",
       "       'Independent Movies, International Movies, Thrillers',\n",
       "       'Independent Movies, Thrillers', 'Documentaries, Dramas',\n",
       "       'Action & Adventure, Sports Movies',\n",
       "       'Dramas, International Movies, Sci-Fi & Fantasy',\n",
       "       'Comedies, Independent Movies, Romantic Movies',\n",
       "       'Horror Movies, Romantic Movies, Sci-Fi & Fantasy',\n",
       "       'International TV Shows, Stand-Up Comedy & Talk Shows',\n",
       "       'Action & Adventure, Anime Features, Horror Movies',\n",
       "       'Cult Movies, Dramas, Music & Music', 'TV Dramas, TV Thrillers',\n",
       "       'Crime TV Shows, International TV Shows, Korean TV Shows',\n",
       "       'TV Horror, TV Mysteries, TV Thrillers',\n",
       "       'Comedies, Horror Movies, International Movies',\n",
       "       'Crime TV Shows, Docuseries, TV Mysteries',\n",
       "       'Comedies, International Movies, Sports Movies',\n",
       "       'Classic Movies, Music & Music',\n",
       "       'Reality TV, TV Comedies, TV Horror',\n",
       "       'Children & Family Movies, Faith & Spirituality, Music & Music',\n",
       "       'International TV Shows, Korean TV Shows, Stand-Up Comedy & Talk Shows',\n",
       "       'Dramas, Music & Music',\n",
       "       'Docuseries, Science & Nature TV, TV Action & Adventure',\n",
       "       \"British TV Shows, Kids' TV, TV Dramas\",\n",
       "       'International TV Shows, Korean TV Shows, Romantic TV Shows',\n",
       "       'Horror Movies, Independent Movies',\n",
       "       \"Anime Series, Kids' TV, TV Action & Adventure\",\n",
       "       'Comedies, Dramas, Music & Music', 'TV Horror, Teen TV Shows',\n",
       "       'Comedies, LGBTQ Movies, Thrillers',\n",
       "       'Docuseries, Reality TV, Science & Nature TV',\n",
       "       'Crime TV Shows, Spanish-Language TV Shows, TV Action & Adventure',\n",
       "       'Romantic TV Shows, Teen TV Shows', 'TV Comedies, Teen TV Shows',\n",
       "       'Romantic TV Shows, TV Dramas, Teen TV Shows',\n",
       "       'Children & Family Movies, Sci-Fi & Fantasy',\n",
       "       'Romantic TV Shows, TV Action & Adventure, TV Dramas',\n",
       "       'Comedies, International Movies, LGBTQ Movies',\n",
       "       'Dramas, Sci-Fi & Fantasy', \"Kids' TV, TV Thrillers\",\n",
       "       'TV Action & Adventure, TV Comedies, TV Sci-Fi & Fantasy',\n",
       "       'British TV Shows, Romantic TV Shows, TV Dramas',\n",
       "       'Anime Series, International TV Shows, Spanish-Language TV Shows',\n",
       "       'Docuseries, TV Comedies',\n",
       "       'Comedies, Romantic Movies, Sports Movies',\n",
       "       'TV Action & Adventure, TV Comedies, TV Dramas',\n",
       "       'Children & Family Movies, Dramas, Sports Movies',\n",
       "       'Action & Adventure, Dramas, Independent Movies',\n",
       "       'Spanish-Language TV Shows, TV Dramas', 'Dramas, LGBTQ Movies',\n",
       "       'TV Horror, TV Mysteries, TV Sci-Fi & Fantasy',\n",
       "       'Action & Adventure, Dramas, Faith & Spirituality',\n",
       "       'International TV Shows, TV Mysteries, TV Thrillers',\n",
       "       'British TV Shows, Classic & Cult TV, International TV Shows',\n",
       "       'Action & Adventure, Comedies, Independent Movies',\n",
       "       'Music & Music', \"British TV Shows, Kids' TV, TV Comedies\",\n",
       "       'Docuseries, Spanish-Language TV Shows',\n",
       "       'Dramas, Independent Movies, Sports Movies',\n",
       "       'TV Dramas, TV Mysteries, TV Thrillers',\n",
       "       'Comedies, LGBTQ Movies, Music & Music',\n",
       "       'International TV Shows, TV Action & Adventure, TV Mysteries',\n",
       "       \"Kids' TV, TV Comedies, Teen TV Shows\",\n",
       "       'International TV Shows, TV Dramas, TV Horror',\n",
       "       'Comedies, International Movies, Thrillers',\n",
       "       'Classic & Cult TV, TV Action & Adventure, TV Sci-Fi & Fantasy',\n",
       "       'International TV Shows, TV Horror, TV Mysteries',\n",
       "       'Children & Family Movies, Documentaries',\n",
       "       'Music & Music, Romantic Movies', 'Romantic Movies',\n",
       "       'Children & Family Movies, Classic Movies, Comedies',\n",
       "       'TV Action & Adventure, TV Dramas',\n",
       "       'Dramas, LGBTQ Movies, Romantic Movies',\n",
       "       'Children & Family Movies, Comedies, Romantic Movies',\n",
       "       'Comedies, Sports Movies', 'International Movies',\n",
       "       'International TV Shows, Romantic TV Shows, TV Mysteries',\n",
       "       'Stand-Up Comedy & Talk Shows',\n",
       "       'Action & Adventure, International Movies, Romantic Movies',\n",
       "       'Reality TV, TV Comedies',\n",
       "       'Cult Movies, Dramas, International Movies', \"Kids' TV, TV Dramas\",\n",
       "       'Crime TV Shows, International TV Shows, TV Mysteries',\n",
       "       'Action & Adventure, Sci-Fi & Fantasy, Sports Movies',\n",
       "       'TV Dramas, TV Sci-Fi & Fantasy, TV Thrillers',\n",
       "       'Romantic TV Shows, TV Dramas, TV Sci-Fi & Fantasy',\n",
       "       'Docuseries, TV Sci-Fi & Fantasy',\n",
       "       'Anime Features, International Movies',\n",
       "       \"British TV Shows, Classic & Cult TV, Kids' TV\",\n",
       "       'British TV Shows, Reality TV, Romantic TV Shows',\n",
       "       'Documentaries, Faith & Spirituality, International Movies',\n",
       "       \"Kids' TV, Reality TV, TV Dramas\", 'LGBTQ Movies, Thrillers',\n",
       "       'TV Action & Adventure, TV Mysteries, TV Sci-Fi & Fantasy',\n",
       "       'Reality TV, Science & Nature TV',\n",
       "       \"Kids' TV, TV Action & Adventure, TV Comedies\",\n",
       "       'International TV Shows, Romantic TV Shows, TV Action & Adventure',\n",
       "       'Children & Family Movies, Dramas, Independent Movies',\n",
       "       'Comedies, Music & Music, Romantic Movies',\n",
       "       'International TV Shows, Korean TV Shows, Reality TV',\n",
       "       'Classic & Cult TV, TV Dramas, TV Sci-Fi & Fantasy',\n",
       "       'Anime Features, Children & Family Movies',\n",
       "       'Action & Adventure, International Movies, Sci-Fi & Fantasy',\n",
       "       'Crime TV Shows, TV Action & Adventure, TV Dramas',\n",
       "       'Classic & Cult TV, TV Action & Adventure, TV Horror',\n",
       "       'International TV Shows, Korean TV Shows, TV Dramas',\n",
       "       'International TV Shows, TV Action & Adventure, TV Horror',\n",
       "       'Action & Adventure, Comedies, Romantic Movies',\n",
       "       'International TV Shows, Korean TV Shows, TV Action & Adventure',\n",
       "       \"Classic & Cult TV, Kids' TV, TV Action & Adventure\",\n",
       "       'Anime Series, International TV Shows, TV Horror',\n",
       "       'International TV Shows, Korean TV Shows, TV Horror',\n",
       "       'Children & Family Movies, Comedies, International Movies',\n",
       "       'International Movies, Sci-Fi & Fantasy',\n",
       "       'International Movies, Sci-Fi & Fantasy, Thrillers',\n",
       "       'Children & Family Movies, Dramas, Romantic Movies',\n",
       "       'Anime Series, Romantic TV Shows',\n",
       "       'Comedies, Dramas, LGBTQ Movies',\n",
       "       'British TV Shows, International TV Shows, TV Action & Adventure',\n",
       "       'Docuseries, Science & Nature TV, TV Comedies',\n",
       "       'International TV Shows, Stand-Up Comedy & Talk Shows, TV Comedies',\n",
       "       'Children & Family Movies, Dramas, Music & Music',\n",
       "       'Action & Adventure, Independent Movies, International Movies',\n",
       "       'Action & Adventure, Children & Family Movies, Sci-Fi & Fantasy',\n",
       "       'Horror Movies, Independent Movies, Sci-Fi & Fantasy',\n",
       "       'TV Dramas, TV Sci-Fi & Fantasy, Teen TV Shows',\n",
       "       'Anime Features, International Movies, Sci-Fi & Fantasy',\n",
       "       'Dramas, Independent Movies, Music & Music',\n",
       "       \"Kids' TV, TV Comedies, TV Dramas\",\n",
       "       'Children & Family Movies, Documentaries, Sports Movies',\n",
       "       'Independent Movies, Sci-Fi & Fantasy, Thrillers',\n",
       "       'Anime Features, Music & Music, Sci-Fi & Fantasy',\n",
       "       'TV Comedies, TV Dramas, TV Sci-Fi & Fantasy',\n",
       "       'Crime TV Shows, TV Action & Adventure',\n",
       "       'Comedies, Faith & Spirituality, Romantic Movies',\n",
       "       \"Kids' TV, TV Action & Adventure\",\n",
       "       'Action & Adventure, Independent Movies',\n",
       "       'International TV Shows, Reality TV, TV Comedies',\n",
       "       'Docuseries, Reality TV, Teen TV Shows',\n",
       "       'Crime TV Shows, International TV Shows, Reality TV',\n",
       "       'Anime Series, Teen TV Shows',\n",
       "       'Crime TV Shows, Romantic TV Shows, TV Dramas',\n",
       "       'Anime Features, Romantic Movies',\n",
       "       'Horror Movies, Sci-Fi & Fantasy, Thrillers',\n",
       "       'International TV Shows, TV Comedies, TV Sci-Fi & Fantasy',\n",
       "       'International TV Shows, Romantic TV Shows',\n",
       "       'Anime Features, Music & Music',\n",
       "       'Anime Features, International Movies, Romantic Movies',\n",
       "       'International TV Shows, Romantic TV Shows, Teen TV Shows',\n",
       "       'Docuseries, Stand-Up Comedy & Talk Shows',\n",
       "       'Horror Movies, Independent Movies, Thrillers',\n",
       "       'TV Action & Adventure, TV Comedies, TV Horror',\n",
       "       'Documentaries, Stand-Up Comedy',\n",
       "       \"Kids' TV, Spanish-Language TV Shows\",\n",
       "       \"British TV Shows, Kids' TV, TV Thrillers\",\n",
       "       \"Kids' TV, TV Action & Adventure, TV Dramas\",\n",
       "       'Anime Series, Crime TV Shows',\n",
       "       'Dramas, Sci-Fi & Fantasy, Thrillers',\n",
       "       'TV Comedies, TV Dramas, TV Horror',\n",
       "       'Children & Family Movies, Comedies, LGBTQ Movies',\n",
       "       'International TV Shows, TV Action & Adventure, TV Sci-Fi & Fantasy',\n",
       "       'Docuseries, TV Dramas',\n",
       "       'Horror Movies, International Movies, Romantic Movies',\n",
       "       'Crime TV Shows, Docuseries, Science & Nature TV',\n",
       "       'International Movies, Music & Music, Thrillers',\n",
       "       \"Kids' TV, Spanish-Language TV Shows, Teen TV Shows\",\n",
       "       'Comedies, Horror Movies, Independent Movies',\n",
       "       'Action & Adventure, International Movies, Sports Movies',\n",
       "       'Action & Adventure, Independent Movies, Sci-Fi & Fantasy',\n",
       "       'Horror Movies, LGBTQ Movies, Music & Music',\n",
       "       'Comedies, Music & Music, Sports Movies',\n",
       "       'TV Horror, TV Mysteries, Teen TV Shows',\n",
       "       'Romantic TV Shows, TV Comedies',\n",
       "       \"Kids' TV, Reality TV, Science & Nature TV\",\n",
       "       'International Movies, Romantic Movies, Sci-Fi & Fantasy',\n",
       "       'TV Comedies, TV Horror, TV Thrillers', 'TV Action & Adventure',\n",
       "       'International TV Shows, Spanish-Language TV Shows, TV Horror',\n",
       "       'Crime TV Shows, TV Action & Adventure, TV Thrillers',\n",
       "       'Music & Music, Stand-Up Comedy', 'British TV Shows, TV Comedies',\n",
       "       'TV Comedies, TV Sci-Fi & Fantasy, Teen TV Shows',\n",
       "       'TV Comedies, TV Sci-Fi & Fantasy',\n",
       "       'Romantic TV Shows, Spanish-Language TV Shows, TV Comedies',\n",
       "       'Crime TV Shows, International TV Shows, TV Sci-Fi & Fantasy',\n",
       "       'British TV Shows, International TV Shows, Romantic TV Shows',\n",
       "       \"Crime TV Shows, Kids' TV\",\n",
       "       'Horror Movies, International Movies, Sci-Fi & Fantasy',\n",
       "       'TV Comedies, TV Mysteries',\n",
       "       'Cult Movies, Horror Movies, Independent Movies',\n",
       "       'British TV Shows, Docuseries, TV Comedies',\n",
       "       'Comedies, Documentaries',\n",
       "       'Reality TV, Science & Nature TV, TV Action & Adventure',\n",
       "       'TV Comedies, TV Dramas, TV Mysteries',\n",
       "       'Crime TV Shows, TV Comedies, Teen TV Shows',\n",
       "       \"Docuseries, Kids' TV, Science & Nature TV\",\n",
       "       'Reality TV, Spanish-Language TV Shows',\n",
       "       'Action & Adventure, Anime Features, Sci-Fi & Fantasy',\n",
       "       \"Crime TV Shows, Kids' TV, TV Comedies\",\n",
       "       'Dramas, Faith & Spirituality, Independent Movies',\n",
       "       'Documentaries, Faith & Spirituality',\n",
       "       'British TV Shows, International TV Shows, Stand-Up Comedy & Talk Shows',\n",
       "       'Comedies, Dramas, Faith & Spirituality',\n",
       "       'Classic & Cult TV, TV Comedies',\n",
       "       'Dramas, Romantic Movies, Sports Movies',\n",
       "       'Stand-Up Comedy & Talk Shows, TV Mysteries, TV Sci-Fi & Fantasy',\n",
       "       'TV Sci-Fi & Fantasy, TV Thrillers',\n",
       "       'Comedies, Independent Movies, Music & Music',\n",
       "       'Comedies, Cult Movies, Independent Movies',\n",
       "       'Documentaries, Dramas, International Movies',\n",
       "       'British TV Shows, TV Horror, TV Thrillers',\n",
       "       'British TV Shows, Docuseries, Science & Nature TV',\n",
       "       'Children & Family Movies, Comedies, Cult Movies', 'Sports Movies',\n",
       "       'Sci-Fi & Fantasy', 'Comedies, LGBTQ Movies',\n",
       "       'Comedies, Independent Movies, Thrillers',\n",
       "       'Classic Movies, Cult Movies, Dramas',\n",
       "       'British TV Shows, TV Comedies, TV Dramas',\n",
       "       'Action & Adventure, Children & Family Movies, Independent Movies',\n",
       "       'Action & Adventure, Documentaries, International Movies',\n",
       "       'Children & Family Movies, Independent Movies',\n",
       "       'Comedies, Cult Movies, Dramas',\n",
       "       'International TV Shows, TV Horror, TV Thrillers',\n",
       "       'Classic Movies, Thrillers',\n",
       "       'Crime TV Shows, TV Dramas, TV Horror',\n",
       "       'British TV Shows, Docuseries, Reality TV',\n",
       "       'Documentaries, LGBTQ Movies, Music & Music',\n",
       "       'Classic Movies, Dramas, Romantic Movies',\n",
       "       'Crime TV Shows, Romantic TV Shows, Spanish-Language TV Shows',\n",
       "       'Classic Movies, Cult Movies, Horror Movies',\n",
       "       'Anime Series, Crime TV Shows, TV Thrillers',\n",
       "       'Children & Family Movies, Classic Movies',\n",
       "       'Classic Movies, Comedies, International Movies',\n",
       "       'Comedies, Sci-Fi & Fantasy',\n",
       "       'Action & Adventure, Cult Movies, Dramas',\n",
       "       'Documentaries, Faith & Spirituality, Music & Music',\n",
       "       'British TV Shows, Classic & Cult TV, TV Comedies',\n",
       "       'International Movies, Sports Movies', 'International TV Shows',\n",
       "       \"Classic & Cult TV, Kids' TV, Spanish-Language TV Shows\",\n",
       "       'Romantic TV Shows, Spanish-Language TV Shows, TV Dramas',\n",
       "       'Children & Family Movies, Comedies, Faith & Spirituality',\n",
       "       'British TV Shows, Crime TV Shows, TV Dramas',\n",
       "       'Classic Movies, Dramas, Music & Music',\n",
       "       'Cult Movies, Horror Movies, Thrillers',\n",
       "       'Action & Adventure, Classic Movies, Sci-Fi & Fantasy',\n",
       "       'TV Action & Adventure, TV Comedies',\n",
       "       'Classic Movies, Comedies, Music & Music', 'Independent Movies',\n",
       "       'Documentaries, Horror Movies',\n",
       "       'Classic & Cult TV, TV Horror, TV Mysteries',\n",
       "       'Comedies, Faith & Spirituality, International Movies',\n",
       "       'Dramas, Horror Movies, Sci-Fi & Fantasy',\n",
       "       'British TV Shows, TV Dramas, TV Sci-Fi & Fantasy',\n",
       "       'Comedies, Cult Movies, Horror Movies',\n",
       "       'Comedies, Cult Movies, Sports Movies',\n",
       "       'Classic Movies, Documentaries',\n",
       "       'Action & Adventure, Faith & Spirituality, Sci-Fi & Fantasy',\n",
       "       'Action & Adventure, Children & Family Movies',\n",
       "       'International TV Shows, Reality TV, TV Action & Adventure',\n",
       "       'Docuseries, Science & Nature TV, TV Dramas', 'Anime Features',\n",
       "       'Action & Adventure, Horror Movies, Independent Movies',\n",
       "       'Action & Adventure, Classic Movies, International Movies',\n",
       "       'Cult Movies, Independent Movies, Thrillers',\n",
       "       'Crime TV Shows, TV Comedies',\n",
       "       'Classic Movies, Cult Movies, Documentaries',\n",
       "       \"Classic & Cult TV, Kids' TV, TV Comedies\",\n",
       "       'Classic Movies, Dramas, LGBTQ Movies',\n",
       "       'Classic Movies, Dramas, Sports Movies',\n",
       "       'Action & Adventure, Cult Movies',\n",
       "       'Action & Adventure, Comedies, Music & Music',\n",
       "       'Classic Movies, Horror Movies, Thrillers',\n",
       "       'Classic Movies, Comedies, Independent Movies',\n",
       "       'Children & Family Movies, Classic Movies, Dramas',\n",
       "       'Dramas, Faith & Spirituality, Sports Movies',\n",
       "       'Classic Movies, Comedies, Romantic Movies',\n",
       "       'Dramas, Horror Movies, Music & Music',\n",
       "       'Classic Movies, Independent Movies, Thrillers',\n",
       "       'Children & Family Movies, Faith & Spirituality',\n",
       "       'Classic Movies, Comedies, Sports Movies',\n",
       "       'Comedies, Dramas, Sports Movies',\n",
       "       'Action & Adventure, Romantic Movies, Sci-Fi & Fantasy',\n",
       "       'Classic & Cult TV, TV Sci-Fi & Fantasy',\n",
       "       'Comedies, Cult Movies, LGBTQ Movies',\n",
       "       'Comedies, Horror Movies, Sci-Fi & Fantasy',\n",
       "       'Action & Adventure, Comedies, Horror Movies',\n",
       "       'Classic & Cult TV, Crime TV Shows, TV Dramas',\n",
       "       'Action & Adventure, Documentaries, Sports Movies',\n",
       "       'International Movies, LGBTQ Movies, Romantic Movies',\n",
       "       'Cult Movies, Dramas, Thrillers', 'Sci-fi, Horror, Action',\n",
       "       'Drama, Romance, Thriller'], dtype=object)"
      ]
     },
     "execution_count": 22,
     "metadata": {},
     "output_type": "execute_result"
    }
   ],
   "source": [
    "data[\"listed_in\"].unique()"
   ]
  },
  {
   "cell_type": "code",
   "execution_count": 19,
   "id": "c4add184",
   "metadata": {},
   "outputs": [],
   "source": [
    "data[\"listed_in\"] = data.loc[:,\"listed_in\"].str.replace(\"Musicals\",\"Music\")"
   ]
  },
  {
   "cell_type": "code",
   "execution_count": 60,
   "id": "b2b219e8",
   "metadata": {},
   "outputs": [],
   "source": [
    "data[\"Main_genre\"] = data.loc[:,\"listed_in\"].str.extract(\"(^\\w{1,20})\")\n",
    "data[\"Main_genre\"] = data.loc[:,\"Main_genre\"].str.replace(\"Dramas\",\"Drama\")"
   ]
  },
  {
   "cell_type": "code",
   "execution_count": 61,
   "id": "a38e60e6",
   "metadata": {},
   "outputs": [],
   "source": [
    "data[\"Main_genre\"] = data.loc[:,\"Main_genre\"].str.replace(\"Stand\",\"Stand-Up\")"
   ]
  },
  {
   "cell_type": "code",
   "execution_count": 62,
   "id": "ea31b8b1",
   "metadata": {},
   "outputs": [
    {
     "data": {
      "text/plain": [
       "array(['Documentaries', 'International', 'Crime', 'Docuseries', 'TV',\n",
       "       'Children', 'Drama', 'British', 'Comedies', 'Thrillers', 'Horror',\n",
       "       'Kids', 'Action', 'Reality', 'Anime', 'Sci', 'Classic', 'Stand-Up',\n",
       "       'Movies', 'Romantic', 'Cult', 'Independent', 'Spanish', 'Music',\n",
       "       'LGBTQ', 'Sports'], dtype=object)"
      ]
     },
     "execution_count": 62,
     "metadata": {},
     "output_type": "execute_result"
    }
   ],
   "source": [
    "data[\"Main_genre\"].unique()"
   ]
  },
  {
   "cell_type": "code",
   "execution_count": 34,
   "id": "17decef8",
   "metadata": {},
   "outputs": [
    {
     "data": {
      "text/plain": [
       "array(['90 min', '2 Seasons', '1 Season', '91 min', '125 min',\n",
       "       '9 Seasons', '104 min', '127 min', '4 Seasons', '67 min', '94 min',\n",
       "       '5 Seasons', '161 min', '61 min', '166 min', '147 min', '103 min',\n",
       "       '97 min', '106 min', '111 min', '3 Seasons', '110 min', '105 min',\n",
       "       '96 min', '124 min', '116 min', '98 min', '23 min', '115 min',\n",
       "       '122 min', '99 min', '88 min', '100 min', '6 Seasons', '102 min',\n",
       "       '93 min', '95 min', '85 min', '83 min', '113 min', '13 min',\n",
       "       '182 min', '48 min', '145 min', '87 min', '92 min', '80 min',\n",
       "       '117 min', '128 min', '119 min', '143 min', '114 min', '118 min',\n",
       "       '108 min', '63 min', '121 min', '142 min', '154 min', '120 min',\n",
       "       '82 min', '109 min', '101 min', '86 min', '229 min', '76 min',\n",
       "       '89 min', '156 min', '112 min', '107 min', '129 min', '135 min',\n",
       "       '136 min', '165 min', '150 min', '133 min', '70 min', '84 min',\n",
       "       '140 min', '78 min', '7 Seasons', '64 min', '59 min', '139 min',\n",
       "       '69 min', '148 min', '189 min', '141 min', '130 min', '138 min',\n",
       "       '81 min', '132 min', '10 Seasons', '123 min', '65 min', '68 min',\n",
       "       '66 min', '62 min', '74 min', '131 min', '39 min', '46 min',\n",
       "       '38 min', '8 Seasons', '17 Seasons', '126 min', '155 min',\n",
       "       '159 min', '137 min', '12 min', '273 min', '36 min', '34 min',\n",
       "       '77 min', '60 min', '49 min', '58 min', '72 min', '204 min',\n",
       "       '212 min', '25 min', '73 min', '29 min', '47 min', '32 min',\n",
       "       '35 min', '71 min', '149 min', '33 min', '15 min', '54 min',\n",
       "       '224 min', '162 min', '37 min', '75 min', '79 min', '55 min',\n",
       "       '158 min', '164 min', '173 min', '181 min', '185 min', '21 min',\n",
       "       '24 min', '51 min', '151 min', '42 min', '22 min', '134 min',\n",
       "       '177 min', '13 Seasons', '52 min', '14 min', '53 min', '8 min',\n",
       "       '57 min', '28 min', '50 min', '9 min', '26 min', '45 min',\n",
       "       '171 min', '27 min', '44 min', '146 min', '20 min', '157 min',\n",
       "       '17 min', '203 min', '41 min', '30 min', '194 min', '15 Seasons',\n",
       "       '233 min', '237 min', '230 min', '195 min', '253 min', '152 min',\n",
       "       '190 min', '160 min', '208 min', '180 min', '144 min', '5 min',\n",
       "       '174 min', '170 min', '192 min', '209 min', '187 min', '172 min',\n",
       "       '16 min', '186 min', '11 min', '193 min', '176 min', '56 min',\n",
       "       '169 min', '40 min', '10 min', '3 min', '168 min', '312 min',\n",
       "       '153 min', '214 min', '31 min', '163 min', '19 min', '12 Seasons',\n",
       "       nan, '179 min', '11 Seasons', '43 min', '200 min', '196 min',\n",
       "       '167 min', '178 min', '228 min', '18 min', '205 min', '201 min',\n",
       "       '191 min'], dtype=object)"
      ]
     },
     "execution_count": 34,
     "metadata": {},
     "output_type": "execute_result"
    }
   ],
   "source": [
    "data[\"duration\"].unique()"
   ]
  },
  {
   "cell_type": "code",
   "execution_count": 35,
   "id": "9c333353",
   "metadata": {},
   "outputs": [],
   "source": [
    "from datetime import datetime"
   ]
  },
  {
   "cell_type": "code",
   "execution_count": 36,
   "id": "a4f438dd",
   "metadata": {},
   "outputs": [],
   "source": [
    "data['date_added'] = data['date_added'].str.strip()\n",
    "data['date_added'] = pd.to_datetime(data['date_added'])"
   ]
  },
  {
   "cell_type": "code",
   "execution_count": 37,
   "id": "e357e097",
   "metadata": {},
   "outputs": [
    {
     "data": {
      "text/html": [
       "<div>\n",
       "<style scoped>\n",
       "    .dataframe tbody tr th:only-of-type {\n",
       "        vertical-align: middle;\n",
       "    }\n",
       "\n",
       "    .dataframe tbody tr th {\n",
       "        vertical-align: top;\n",
       "    }\n",
       "\n",
       "    .dataframe thead th {\n",
       "        text-align: right;\n",
       "    }\n",
       "</style>\n",
       "<table border=\"1\" class=\"dataframe\">\n",
       "  <thead>\n",
       "    <tr style=\"text-align: right;\">\n",
       "      <th></th>\n",
       "      <th>show_id</th>\n",
       "      <th>type</th>\n",
       "      <th>title</th>\n",
       "      <th>director</th>\n",
       "      <th>cast</th>\n",
       "      <th>country</th>\n",
       "      <th>date_added</th>\n",
       "      <th>release_year</th>\n",
       "      <th>rating</th>\n",
       "      <th>duration</th>\n",
       "      <th>listed_in</th>\n",
       "      <th>description</th>\n",
       "      <th>Main_genre</th>\n",
       "    </tr>\n",
       "  </thead>\n",
       "  <tbody>\n",
       "    <tr>\n",
       "      <th>5760</th>\n",
       "      <td>s5761</td>\n",
       "      <td>Movie</td>\n",
       "      <td>The Siege of Jadotville</td>\n",
       "      <td>Richie Smyth</td>\n",
       "      <td>Jamie Dornan, Guillaume Canet, Emmanuelle Seig...</td>\n",
       "      <td>Ireland, South Africa</td>\n",
       "      <td>2016-10-07</td>\n",
       "      <td>2016</td>\n",
       "      <td>TV-MA</td>\n",
       "      <td>108 min</td>\n",
       "      <td>Action &amp; Adventure, Dramas, International Movies</td>\n",
       "      <td>Besieged by overwhelming enemy forces, Irish s...</td>\n",
       "      <td>Action</td>\n",
       "    </tr>\n",
       "    <tr>\n",
       "      <th>6877</th>\n",
       "      <td>s6878</td>\n",
       "      <td>Movie</td>\n",
       "      <td>Good Luck</td>\n",
       "      <td>Tarek Abdel Moaty</td>\n",
       "      <td>Ahmed Eid, May Kassab, Diaa El Merghany, Samy ...</td>\n",
       "      <td>Egypt</td>\n",
       "      <td>2019-06-21</td>\n",
       "      <td>2012</td>\n",
       "      <td>TV-MA</td>\n",
       "      <td>99 min</td>\n",
       "      <td>Dramas, International Movies</td>\n",
       "      <td>Seeking an apartment to share with his wife, a...</td>\n",
       "      <td>Drama</td>\n",
       "    </tr>\n",
       "  </tbody>\n",
       "</table>\n",
       "</div>"
      ],
      "text/plain": [
       "     show_id   type                    title           director  \\\n",
       "5760   s5761  Movie  The Siege of Jadotville       Richie Smyth   \n",
       "6877   s6878  Movie                Good Luck  Tarek Abdel Moaty   \n",
       "\n",
       "                                                   cast  \\\n",
       "5760  Jamie Dornan, Guillaume Canet, Emmanuelle Seig...   \n",
       "6877  Ahmed Eid, May Kassab, Diaa El Merghany, Samy ...   \n",
       "\n",
       "                    country date_added  release_year rating duration  \\\n",
       "5760  Ireland, South Africa 2016-10-07          2016  TV-MA  108 min   \n",
       "6877                  Egypt 2019-06-21          2012  TV-MA   99 min   \n",
       "\n",
       "                                             listed_in  \\\n",
       "5760  Action & Adventure, Dramas, International Movies   \n",
       "6877                      Dramas, International Movies   \n",
       "\n",
       "                                            description Main_genre  \n",
       "5760  Besieged by overwhelming enemy forces, Irish s...     Action  \n",
       "6877  Seeking an apartment to share with his wife, a...      Drama  "
      ]
     },
     "execution_count": 37,
     "metadata": {},
     "output_type": "execute_result"
    }
   ],
   "source": [
    "data.sample(2)"
   ]
  },
  {
   "cell_type": "code",
   "execution_count": 38,
   "id": "1379be75",
   "metadata": {},
   "outputs": [],
   "source": [
    "#data[\"duration\"] = data.loc[:,\"duration\"].str.replace(\"min\",\"\")"
   ]
  },
  {
   "cell_type": "code",
   "execution_count": 39,
   "id": "0907ff41",
   "metadata": {},
   "outputs": [
    {
     "data": {
      "application/vnd.plotly.v1+json": {
       "config": {
        "plotlyServerURL": "https://plot.ly"
       },
       "data": [
        {
         "domain": {
          "x": [
           0,
           1
          ],
          "y": [
           0,
           1
          ]
         },
         "hovertemplate": "type=%{label}<extra></extra>",
         "labels": [
          "Movie",
          "TV Show",
          "TV Show",
          "TV Show",
          "TV Show",
          "TV Show",
          "Movie",
          "Movie",
          "TV Show",
          "Movie",
          "TV Show",
          "TV Show",
          "Movie",
          "Movie",
          "TV Show",
          "TV Show",
          "Movie",
          "TV Show",
          "Movie",
          "TV Show",
          "TV Show",
          "TV Show",
          "Movie",
          "Movie",
          "Movie",
          "TV Show",
          "Movie",
          "Movie",
          "Movie",
          "Movie",
          "Movie",
          "TV Show",
          "TV Show",
          "TV Show",
          "TV Show",
          "Movie",
          "Movie",
          "TV Show",
          "Movie",
          "TV Show",
          "TV Show",
          "Movie",
          "Movie",
          "Movie",
          "Movie",
          "Movie",
          "Movie",
          "TV Show",
          "Movie",
          "TV Show",
          "TV Show",
          "Movie",
          "Movie",
          "Movie",
          "Movie",
          "TV Show",
          "Movie",
          "Movie",
          "Movie",
          "Movie",
          "Movie",
          "Movie",
          "Movie",
          "Movie",
          "Movie",
          "TV Show",
          "TV Show",
          "TV Show",
          "Movie",
          "TV Show",
          "TV Show",
          "Movie",
          "TV Show",
          "Movie",
          "TV Show",
          "Movie",
          "TV Show",
          "Movie",
          "Movie",
          "Movie",
          "Movie",
          "Movie",
          "TV Show",
          "TV Show",
          "Movie",
          "TV Show",
          "Movie",
          "TV Show",
          "Movie",
          "TV Show",
          "Movie",
          "Movie",
          "TV Show",
          "Movie",
          "Movie",
          "TV Show",
          "Movie",
          "TV Show",
          "TV Show",
          "TV Show",
          "TV Show",
          "Movie",
          "TV Show",
          "Movie",
          "TV Show",
          "Movie",
          "TV Show",
          "Movie",
          "TV Show",
          "TV Show",
          "TV Show",
          "TV Show",
          "Movie",
          "Movie",
          "Movie",
          "Movie",
          "Movie",
          "Movie",
          "Movie",
          "Movie",
          "TV Show",
          "TV Show",
          "Movie",
          "TV Show",
          "TV Show",
          "TV Show",
          "Movie",
          "Movie",
          "Movie",
          "Movie",
          "Movie",
          "Movie",
          "TV Show",
          "Movie",
          "Movie",
          "Movie",
          "Movie",
          "Movie",
          "Movie",
          "Movie",
          "Movie",
          "Movie",
          "Movie",
          "Movie",
          "Movie",
          "Movie",
          "Movie",
          "TV Show",
          "TV Show",
          "Movie",
          "Movie",
          "Movie",
          "Movie",
          "TV Show",
          "TV Show",
          "Movie",
          "Movie",
          "Movie",
          "Movie",
          "Movie",
          "TV Show",
          "Movie",
          "Movie",
          "Movie",
          "Movie",
          "TV Show",
          "Movie",
          "Movie",
          "Movie",
          "Movie",
          "Movie",
          "Movie",
          "Movie",
          "Movie",
          "Movie",
          "Movie",
          "Movie",
          "Movie",
          "Movie",
          "Movie",
          "Movie",
          "TV Show",
          "Movie",
          "Movie",
          "TV Show",
          "Movie",
          "TV Show",
          "TV Show",
          "Movie",
          "TV Show",
          "Movie",
          "Movie",
          "Movie",
          "TV Show",
          "TV Show",
          "Movie",
          "Movie",
          "TV Show",
          "TV Show",
          "Movie",
          "Movie",
          "Movie",
          "Movie",
          "Movie",
          "Movie",
          "Movie",
          "Movie",
          "Movie",
          "Movie",
          "Movie",
          "Movie",
          "Movie",
          "TV Show",
          "TV Show",
          "Movie",
          "Movie",
          "Movie",
          "Movie",
          "TV Show",
          "TV Show",
          "TV Show",
          "Movie",
          "TV Show",
          "TV Show",
          "TV Show",
          "TV Show",
          "TV Show",
          "Movie",
          "Movie",
          "Movie",
          "Movie",
          "Movie",
          "TV Show",
          "Movie",
          "TV Show",
          "Movie",
          "Movie",
          "Movie",
          "Movie",
          "Movie",
          "Movie",
          "TV Show",
          "TV Show",
          "TV Show",
          "Movie",
          "TV Show",
          "Movie",
          "Movie",
          "TV Show",
          "Movie",
          "Movie",
          "Movie",
          "Movie",
          "Movie",
          "TV Show",
          "Movie",
          "Movie",
          "Movie",
          "Movie",
          "Movie",
          "TV Show",
          "Movie",
          "Movie",
          "TV Show",
          "Movie",
          "TV Show",
          "TV Show",
          "Movie",
          "Movie",
          "TV Show",
          "Movie",
          "TV Show",
          "TV Show",
          "TV Show",
          "TV Show",
          "TV Show",
          "TV Show",
          "TV Show",
          "Movie",
          "Movie",
          "TV Show",
          "Movie",
          "Movie",
          "Movie",
          "Movie",
          "Movie",
          "TV Show",
          "TV Show",
          "TV Show",
          "TV Show",
          "Movie",
          "TV Show",
          "Movie",
          "Movie",
          "Movie",
          "Movie",
          "TV Show",
          "TV Show",
          "Movie",
          "Movie",
          "Movie",
          "Movie",
          "Movie",
          "Movie",
          "Movie",
          "Movie",
          "Movie",
          "Movie",
          "Movie",
          "TV Show",
          "TV Show",
          "TV Show",
          "TV Show",
          "TV Show",
          "Movie",
          "Movie",
          "TV Show",
          "Movie",
          "Movie",
          "TV Show",
          "TV Show",
          "TV Show",
          "TV Show",
          "TV Show",
          "TV Show",
          "Movie",
          "Movie",
          "Movie",
          "Movie",
          "Movie",
          "Movie",
          "TV Show",
          "Movie",
          "Movie",
          "Movie",
          "Movie",
          "TV Show",
          "Movie",
          "TV Show",
          "Movie",
          "Movie",
          "Movie",
          "Movie",
          "Movie",
          "Movie",
          "Movie",
          "Movie",
          "Movie",
          "Movie",
          "Movie",
          "Movie",
          "Movie",
          "Movie",
          "Movie",
          "Movie",
          "Movie",
          "Movie",
          "Movie",
          "Movie",
          "Movie",
          "Movie",
          "TV Show",
          "Movie",
          "Movie",
          "TV Show",
          "Movie",
          "TV Show",
          "Movie",
          "TV Show",
          "TV Show",
          "TV Show",
          "Movie",
          "Movie",
          "Movie",
          "Movie",
          "Movie",
          "TV Show",
          "Movie",
          "Movie",
          "TV Show",
          "TV Show",
          "TV Show",
          "TV Show",
          "Movie",
          "Movie",
          "TV Show",
          "TV Show",
          "Movie",
          "TV Show",
          "Movie",
          "TV Show",
          "TV Show",
          "Movie",
          "Movie",
          "Movie",
          "Movie",
          "Movie",
          "TV Show",
          "Movie",
          "TV Show",
          "TV Show",
          "TV Show",
          "Movie",
          "TV Show",
          "Movie",
          "Movie",
          "Movie",
          "Movie",
          "Movie",
          "Movie",
          "Movie",
          "Movie",
          "Movie",
          "Movie",
          "Movie",
          "Movie",
          "Movie",
          "Movie",
          "Movie",
          "Movie",
          "Movie",
          "Movie",
          "Movie",
          "Movie",
          "Movie",
          "TV Show",
          "Movie",
          "Movie",
          "Movie",
          "Movie",
          "TV Show",
          "TV Show",
          "Movie",
          "Movie",
          "TV Show",
          "TV Show",
          "Movie",
          "Movie",
          "Movie",
          "Movie",
          "TV Show",
          "Movie",
          "TV Show",
          "Movie",
          "TV Show",
          "Movie",
          "Movie",
          "Movie",
          "Movie",
          "Movie",
          "Movie",
          "Movie",
          "Movie",
          "TV Show",
          "Movie",
          "Movie",
          "TV Show",
          "Movie",
          "Movie",
          "TV Show",
          "Movie",
          "Movie",
          "Movie",
          "Movie",
          "Movie",
          "TV Show",
          "TV Show",
          "Movie",
          "Movie",
          "Movie",
          "Movie",
          "Movie",
          "TV Show",
          "Movie",
          "Movie",
          "Movie",
          "Movie",
          "TV Show",
          "TV Show",
          "Movie",
          "Movie",
          "Movie",
          "TV Show",
          "Movie",
          "Movie",
          "Movie",
          "Movie",
          "TV Show",
          "TV Show",
          "Movie",
          "TV Show",
          "Movie",
          "Movie",
          "TV Show",
          "Movie",
          "Movie",
          "Movie",
          "TV Show",
          "Movie",
          "TV Show",
          "Movie",
          "Movie",
          "Movie",
          "TV Show",
          "TV Show",
          "Movie",
          "Movie",
          "Movie",
          "Movie",
          "TV Show",
          "TV Show",
          "TV Show",
          "TV Show",
          "TV Show",
          "TV Show",
          "TV Show",
          "TV Show",
          "TV Show",
          "Movie",
          "TV Show",
          "TV Show",
          "TV Show",
          "TV Show",
          "TV Show",
          "TV Show",
          "TV Show",
          "TV Show",
          "TV Show",
          "Movie",
          "Movie",
          "TV Show",
          "Movie",
          "TV Show",
          "TV Show",
          "Movie",
          "TV Show",
          "TV Show",
          "TV Show",
          "TV Show",
          "TV Show",
          "TV Show",
          "Movie",
          "Movie",
          "TV Show",
          "TV Show",
          "TV Show",
          "TV Show",
          "TV Show",
          "TV Show",
          "TV Show",
          "Movie",
          "Movie",
          "Movie",
          "TV Show",
          "Movie",
          "Movie",
          "Movie",
          "Movie",
          "Movie",
          "Movie",
          "Movie",
          "Movie",
          "Movie",
          "Movie",
          "Movie",
          "TV Show",
          "Movie",
          "Movie",
          "Movie",
          "Movie",
          "Movie",
          "TV Show",
          "Movie",
          "Movie",
          "Movie",
          "Movie",
          "Movie",
          "TV Show",
          "Movie",
          "Movie",
          "Movie",
          "Movie",
          "Movie",
          "Movie",
          "Movie",
          "Movie",
          "Movie",
          "TV Show",
          "TV Show",
          "Movie",
          "TV Show",
          "Movie",
          "Movie",
          "Movie",
          "Movie",
          "Movie",
          "Movie",
          "Movie",
          "Movie",
          "Movie",
          "Movie",
          "Movie",
          "Movie",
          "Movie",
          "Movie",
          "Movie",
          "Movie",
          "Movie",
          "Movie",
          "Movie",
          "Movie",
          "Movie",
          "Movie",
          "Movie",
          "Movie",
          "Movie",
          "Movie",
          "TV Show",
          "Movie",
          "Movie",
          "TV Show",
          "TV Show",
          "Movie",
          "Movie",
          "Movie",
          "TV Show",
          "TV Show",
          "TV Show",
          "TV Show",
          "Movie",
          "Movie",
          "TV Show",
          "Movie",
          "Movie",
          "Movie",
          "Movie",
          "Movie",
          "TV Show",
          "TV Show",
          "TV Show",
          "TV Show",
          "Movie",
          "TV Show",
          "Movie",
          "Movie",
          "Movie",
          "Movie",
          "TV Show",
          "TV Show",
          "Movie",
          "Movie",
          "Movie",
          "Movie",
          "TV Show",
          "Movie",
          "Movie",
          "Movie",
          "TV Show",
          "TV Show",
          "TV Show",
          "TV Show",
          "TV Show",
          "TV Show",
          "TV Show",
          "TV Show",
          "TV Show",
          "TV Show",
          "TV Show",
          "TV Show",
          "TV Show",
          "Movie",
          "Movie",
          "Movie",
          "TV Show",
          "TV Show",
          "TV Show",
          "TV Show",
          "TV Show",
          "TV Show",
          "TV Show",
          "TV Show",
          "TV Show",
          "TV Show",
          "Movie",
          "TV Show",
          "Movie",
          "TV Show",
          "Movie",
          "Movie",
          "Movie",
          "Movie",
          "TV Show",
          "TV Show",
          "Movie",
          "Movie",
          "Movie",
          "TV Show",
          "TV Show",
          "Movie",
          "TV Show",
          "TV Show",
          "Movie",
          "Movie",
          "TV Show",
          "Movie",
          "Movie",
          "TV Show",
          "TV Show",
          "Movie",
          "TV Show",
          "TV Show",
          "Movie",
          "Movie",
          "TV Show",
          "TV Show",
          "TV Show",
          "Movie",
          "Movie",
          "Movie",
          "TV Show",
          "TV Show",
          "Movie",
          "Movie",
          "TV Show",
          "Movie",
          "TV Show",
          "TV Show",
          "Movie",
          "Movie",
          "Movie",
          "Movie",
          "TV Show",
          "Movie",
          "TV Show",
          "TV Show",
          "Movie",
          "Movie",
          "TV Show",
          "Movie",
          "Movie",
          "Movie",
          "Movie",
          "Movie",
          "Movie",
          "TV Show",
          "Movie",
          "Movie",
          "Movie",
          "TV Show",
          "TV Show",
          "Movie",
          "TV Show",
          "Movie",
          "TV Show",
          "Movie",
          "Movie",
          "Movie",
          "Movie",
          "TV Show",
          "Movie",
          "Movie",
          "TV Show",
          "Movie",
          "TV Show",
          "Movie",
          "Movie",
          "Movie",
          "TV Show",
          "Movie",
          "Movie",
          "Movie",
          "TV Show",
          "TV Show",
          "Movie",
          "Movie",
          "Movie",
          "Movie",
          "Movie",
          "TV Show",
          "Movie",
          "TV Show",
          "Movie",
          "Movie",
          "Movie",
          "Movie",
          "TV Show",
          "Movie",
          "Movie",
          "Movie",
          "TV Show",
          "Movie",
          "Movie",
          "Movie",
          "Movie",
          "Movie",
          "TV Show",
          "Movie",
          "Movie",
          "Movie",
          "Movie",
          "Movie",
          "Movie",
          "Movie",
          "TV Show",
          "Movie",
          "TV Show",
          "Movie",
          "Movie",
          "Movie",
          "Movie",
          "Movie",
          "Movie",
          "Movie",
          "TV Show",
          "Movie",
          "Movie",
          "Movie",
          "Movie",
          "Movie",
          "Movie",
          "TV Show",
          "Movie",
          "Movie",
          "Movie",
          "Movie",
          "TV Show",
          "Movie",
          "Movie",
          "Movie",
          "Movie",
          "TV Show",
          "TV Show",
          "TV Show",
          "TV Show",
          "Movie",
          "TV Show",
          "Movie",
          "TV Show",
          "Movie",
          "Movie",
          "Movie",
          "Movie",
          "TV Show",
          "TV Show",
          "Movie",
          "Movie",
          "Movie",
          "TV Show",
          "TV Show",
          "Movie",
          "Movie",
          "Movie",
          "Movie",
          "Movie",
          "Movie",
          "TV Show",
          "Movie",
          "TV Show",
          "Movie",
          "Movie",
          "Movie",
          "Movie",
          "TV Show",
          "Movie",
          "Movie",
          "Movie",
          "Movie",
          "Movie",
          "TV Show",
          "TV Show",
          "Movie",
          "Movie",
          "Movie",
          "Movie",
          "TV Show",
          "Movie",
          "TV Show",
          "Movie",
          "Movie",
          "TV Show",
          "TV Show",
          "Movie",
          "Movie",
          "TV Show",
          "TV Show",
          "Movie",
          "TV Show",
          "Movie",
          "Movie",
          "Movie",
          "TV Show",
          "Movie",
          "Movie",
          "Movie",
          "Movie",
          "Movie",
          "TV Show",
          "TV Show",
          "Movie",
          "Movie",
          "TV Show",
          "Movie",
          "TV Show",
          "Movie",
          "Movie",
          "Movie",
          "Movie",
          "Movie",
          "TV Show",
          "Movie",
          "Movie",
          "TV Show",
          "Movie",
          "Movie",
          "Movie",
          "Movie",
          "Movie",
          "Movie",
          "TV Show",
          "TV Show",
          "TV Show",
          "TV Show",
          "Movie",
          "TV Show",
          "Movie",
          "TV Show",
          "Movie",
          "TV Show",
          "Movie",
          "Movie",
          "Movie",
          "Movie",
          "Movie",
          "Movie",
          "Movie",
          "Movie",
          "TV Show",
          "Movie",
          "Movie",
          "Movie",
          "Movie",
          "Movie",
          "Movie",
          "Movie",
          "Movie",
          "Movie",
          "Movie",
          "Movie",
          "Movie",
          "Movie",
          "Movie",
          "Movie",
          "Movie",
          "Movie",
          "Movie",
          "Movie",
          "Movie",
          "TV Show",
          "Movie",
          "Movie",
          "TV Show",
          "Movie",
          "Movie",
          "TV Show",
          "Movie",
          "TV Show",
          "Movie",
          "TV Show",
          "TV Show",
          "Movie",
          "Movie",
          "Movie",
          "TV Show",
          "Movie",
          "Movie",
          "Movie",
          "Movie",
          "Movie",
          "Movie",
          "Movie",
          "Movie",
          "Movie",
          "Movie",
          "Movie",
          "Movie",
          "Movie",
          "Movie",
          "Movie",
          "TV Show",
          "Movie",
          "Movie",
          "Movie",
          "Movie",
          "TV Show",
          "Movie",
          "Movie",
          "Movie",
          "TV Show",
          "Movie",
          "Movie",
          "Movie",
          "Movie",
          "Movie",
          "TV Show",
          "TV Show",
          "Movie",
          "Movie",
          "Movie",
          "Movie",
          "Movie",
          "Movie",
          "Movie",
          "TV Show",
          "Movie",
          "TV Show",
          "Movie",
          "Movie",
          "Movie",
          "Movie",
          "Movie",
          "Movie",
          "Movie",
          "Movie",
          "Movie",
          "Movie",
          "TV Show",
          "Movie",
          "Movie",
          "Movie",
          "Movie",
          "Movie",
          "Movie",
          "TV Show",
          "Movie",
          "Movie",
          "Movie",
          "Movie",
          "Movie",
          "TV Show",
          "Movie",
          "TV Show",
          "Movie",
          "TV Show",
          "TV Show",
          "TV Show",
          "TV Show",
          "Movie",
          "TV Show",
          "TV Show",
          "TV Show",
          "Movie",
          "TV Show",
          "Movie",
          "Movie",
          "Movie",
          "Movie",
          "TV Show",
          "TV Show",
          "TV Show",
          "TV Show",
          "TV Show",
          "TV Show",
          "TV Show",
          "TV Show",
          "TV Show",
          "TV Show",
          "Movie",
          "TV Show",
          "TV Show",
          "Movie",
          "Movie",
          "Movie",
          "Movie",
          "Movie",
          "Movie",
          "TV Show",
          "Movie",
          "Movie",
          "Movie",
          "TV Show",
          "Movie",
          "TV Show",
          "TV Show",
          "Movie",
          "TV Show",
          "Movie",
          "Movie",
          "Movie",
          "Movie",
          "Movie",
          "Movie",
          "TV Show",
          "Movie",
          "TV Show",
          "TV Show",
          "TV Show",
          "Movie",
          "Movie",
          "Movie",
          "Movie",
          "Movie",
          "Movie",
          "Movie",
          "Movie",
          "Movie",
          "Movie",
          "Movie",
          "Movie",
          "Movie",
          "Movie",
          "Movie",
          "Movie",
          "Movie",
          "Movie",
          "Movie",
          "Movie",
          "TV Show",
          "Movie",
          "Movie",
          "Movie",
          "Movie",
          "Movie",
          "Movie",
          "TV Show",
          "Movie",
          "TV Show",
          "Movie",
          "TV Show",
          "Movie",
          "TV Show",
          "Movie",
          "Movie",
          "Movie",
          "Movie",
          "Movie",
          "Movie",
          "Movie",
          "Movie",
          "Movie",
          "Movie",
          "Movie",
          "Movie",
          "Movie",
          "TV Show",
          "Movie",
          "Movie",
          "TV Show",
          "Movie",
          "TV Show",
          "TV Show",
          "Movie",
          "Movie",
          "TV Show",
          "Movie",
          "Movie",
          "Movie",
          "Movie",
          "Movie",
          "TV Show",
          "Movie",
          "Movie",
          "Movie",
          "Movie",
          "TV Show",
          "Movie",
          "Movie",
          "TV Show",
          "Movie",
          "TV Show",
          "TV Show",
          "Movie",
          "Movie",
          "Movie",
          "TV Show",
          "TV Show",
          "Movie",
          "Movie",
          "Movie",
          "Movie",
          "TV Show",
          "TV Show",
          "TV Show",
          "TV Show",
          "Movie",
          "Movie",
          "Movie",
          "TV Show",
          "Movie",
          "Movie",
          "Movie",
          "Movie",
          "Movie",
          "Movie",
          "Movie",
          "Movie",
          "Movie",
          "TV Show",
          "Movie",
          "Movie",
          "Movie",
          "TV Show",
          "TV Show",
          "Movie",
          "Movie",
          "Movie",
          "TV Show",
          "TV Show",
          "Movie",
          "Movie",
          "Movie",
          "TV Show",
          "Movie",
          "Movie",
          "TV Show",
          "Movie",
          "Movie",
          "Movie",
          "TV Show",
          "Movie",
          "Movie",
          "Movie",
          "Movie",
          "Movie",
          "TV Show",
          "TV Show",
          "TV Show",
          "TV Show",
          "TV Show",
          "Movie",
          "TV Show",
          "Movie",
          "TV Show",
          "Movie",
          "Movie",
          "TV Show",
          "TV Show",
          "Movie",
          "Movie",
          "TV Show",
          "Movie",
          "Movie",
          "Movie",
          "TV Show",
          "Movie",
          "Movie",
          "TV Show",
          "TV Show",
          "Movie",
          "Movie",
          "Movie",
          "Movie",
          "Movie",
          "Movie",
          "Movie",
          "Movie",
          "Movie",
          "Movie",
          "TV Show",
          "Movie",
          "Movie",
          "Movie",
          "Movie",
          "Movie",
          "Movie",
          "Movie",
          "Movie",
          "Movie",
          "Movie",
          "TV Show",
          "Movie",
          "TV Show",
          "TV Show",
          "TV Show",
          "Movie",
          "TV Show",
          "TV Show",
          "Movie",
          "TV Show",
          "Movie",
          "Movie",
          "Movie",
          "Movie",
          "TV Show",
          "Movie",
          "Movie",
          "TV Show",
          "Movie",
          "Movie",
          "Movie",
          "Movie",
          "Movie",
          "Movie",
          "Movie",
          "TV Show",
          "TV Show",
          "Movie",
          "TV Show",
          "Movie",
          "TV Show",
          "TV Show",
          "TV Show",
          "TV Show",
          "TV Show",
          "Movie",
          "Movie",
          "Movie",
          "TV Show",
          "Movie",
          "TV Show",
          "Movie",
          "TV Show",
          "Movie",
          "Movie",
          "TV Show",
          "TV Show",
          "Movie",
          "Movie",
          "TV Show",
          "Movie",
          "Movie",
          "TV Show",
          "TV Show",
          "Movie",
          "Movie",
          "Movie",
          "Movie",
          "Movie",
          "Movie",
          "TV Show",
          "Movie",
          "Movie",
          "TV Show",
          "TV Show",
          "Movie",
          "Movie",
          "TV Show",
          "Movie",
          "Movie",
          "TV Show",
          "TV Show",
          "Movie",
          "Movie",
          "Movie",
          "Movie",
          "Movie",
          "Movie",
          "Movie",
          "Movie",
          "TV Show",
          "TV Show",
          "TV Show",
          "Movie",
          "TV Show",
          "Movie",
          "TV Show",
          "TV Show",
          "TV Show",
          "Movie",
          "Movie",
          "Movie",
          "TV Show",
          "TV Show",
          "TV Show",
          "TV Show",
          "Movie",
          "TV Show",
          "Movie",
          "Movie",
          "Movie",
          "Movie",
          "Movie",
          "TV Show",
          "Movie",
          "TV Show",
          "Movie",
          "TV Show",
          "Movie",
          "TV Show",
          "Movie",
          "Movie",
          "TV Show",
          "Movie",
          "Movie",
          "TV Show",
          "TV Show",
          "TV Show",
          "Movie",
          "Movie",
          "Movie",
          "Movie",
          "Movie",
          "Movie",
          "TV Show",
          "Movie",
          "TV Show",
          "TV Show",
          "Movie",
          "Movie",
          "Movie",
          "Movie",
          "TV Show",
          "TV Show",
          "TV Show",
          "Movie",
          "TV Show",
          "Movie",
          "Movie",
          "Movie",
          "TV Show",
          "Movie",
          "Movie",
          "Movie",
          "Movie",
          "Movie",
          "Movie",
          "Movie",
          "TV Show",
          "Movie",
          "Movie",
          "TV Show",
          "Movie",
          "Movie",
          "Movie",
          "Movie",
          "Movie",
          "Movie",
          "Movie",
          "TV Show",
          "Movie",
          "TV Show",
          "TV Show",
          "Movie",
          "TV Show",
          "Movie",
          "Movie",
          "Movie",
          "Movie",
          "TV Show",
          "Movie",
          "TV Show",
          "TV Show",
          "Movie",
          "TV Show",
          "TV Show",
          "Movie",
          "Movie",
          "Movie",
          "Movie",
          "TV Show",
          "TV Show",
          "Movie",
          "Movie",
          "Movie",
          "Movie",
          "Movie",
          "TV Show",
          "Movie",
          "TV Show",
          "Movie",
          "Movie",
          "TV Show",
          "Movie",
          "TV Show",
          "TV Show",
          "Movie",
          "TV Show",
          "Movie",
          "Movie",
          "Movie",
          "Movie",
          "Movie",
          "Movie",
          "Movie",
          "TV Show",
          "Movie",
          "Movie",
          "TV Show",
          "TV Show",
          "TV Show",
          "TV Show",
          "TV Show",
          "Movie",
          "TV Show",
          "TV Show",
          "Movie",
          "Movie",
          "Movie",
          "TV Show",
          "Movie",
          "TV Show",
          "Movie",
          "Movie",
          "TV Show",
          "Movie",
          "Movie",
          "Movie",
          "Movie",
          "Movie",
          "Movie",
          "Movie",
          "Movie",
          "Movie",
          "Movie",
          "TV Show",
          "Movie",
          "TV Show",
          "TV Show",
          "Movie",
          "TV Show",
          "Movie",
          "Movie",
          "Movie",
          "Movie",
          "Movie",
          "TV Show",
          "Movie",
          "TV Show",
          "Movie",
          "Movie",
          "Movie",
          "TV Show",
          "Movie",
          "Movie",
          "Movie",
          "Movie",
          "Movie",
          "Movie",
          "TV Show",
          "TV Show",
          "Movie",
          "TV Show",
          "Movie",
          "TV Show",
          "TV Show",
          "Movie",
          "TV Show",
          "Movie",
          "Movie",
          "TV Show",
          "TV Show",
          "Movie",
          "TV Show",
          "Movie",
          "TV Show",
          "Movie",
          "TV Show",
          "TV Show",
          "TV Show",
          "TV Show",
          "Movie",
          "Movie",
          "TV Show",
          "TV Show",
          "Movie",
          "TV Show",
          "TV Show",
          "Movie",
          "Movie",
          "Movie",
          "TV Show",
          "Movie",
          "Movie",
          "TV Show",
          "Movie",
          "TV Show",
          "Movie",
          "Movie",
          "Movie",
          "Movie",
          "TV Show",
          "TV Show",
          "Movie",
          "TV Show",
          "TV Show",
          "TV Show",
          "Movie",
          "Movie",
          "Movie",
          "TV Show",
          "TV Show",
          "Movie",
          "Movie",
          "Movie",
          "TV Show",
          "Movie",
          "TV Show",
          "TV Show",
          "TV Show",
          "Movie",
          "TV Show",
          "TV Show",
          "Movie",
          "Movie",
          "TV Show",
          "Movie",
          "Movie",
          "TV Show",
          "Movie",
          "Movie",
          "Movie",
          "Movie",
          "Movie",
          "Movie",
          "TV Show",
          "Movie",
          "TV Show",
          "Movie",
          "Movie",
          "Movie",
          "Movie",
          "Movie",
          "TV Show",
          "Movie",
          "Movie",
          "TV Show",
          "TV Show",
          "Movie",
          "Movie",
          "TV Show",
          "TV Show",
          "Movie",
          "Movie",
          "TV Show",
          "TV Show",
          "Movie",
          "TV Show",
          "Movie",
          "TV Show",
          "TV Show",
          "Movie",
          "Movie",
          "Movie",
          "Movie",
          "Movie",
          "TV Show",
          "Movie",
          "Movie",
          "Movie",
          "TV Show",
          "TV Show",
          "TV Show",
          "TV Show",
          "Movie",
          "Movie",
          "Movie",
          "Movie",
          "Movie",
          "Movie",
          "Movie",
          "TV Show",
          "Movie",
          "Movie",
          "Movie",
          "Movie",
          "TV Show",
          "Movie",
          "Movie",
          "Movie",
          "TV Show",
          "Movie",
          "Movie",
          "TV Show",
          "Movie",
          "Movie",
          "Movie",
          "Movie",
          "Movie",
          "TV Show",
          "TV Show",
          "Movie",
          "TV Show",
          "Movie",
          "TV Show",
          "Movie",
          "Movie",
          "Movie",
          "Movie",
          "Movie",
          "Movie",
          "Movie",
          "Movie",
          "Movie",
          "Movie",
          "Movie",
          "TV Show",
          "Movie",
          "Movie",
          "TV Show",
          "TV Show",
          "Movie",
          "Movie",
          "Movie",
          "TV Show",
          "TV Show",
          "Movie",
          "Movie",
          "TV Show",
          "TV Show",
          "TV Show",
          "Movie",
          "Movie",
          "TV Show",
          "Movie",
          "Movie",
          "Movie",
          "Movie",
          "TV Show",
          "Movie",
          "TV Show",
          "Movie",
          "Movie",
          "TV Show",
          "Movie",
          "Movie",
          "Movie",
          "TV Show",
          "TV Show",
          "TV Show",
          "TV Show",
          "Movie",
          "Movie",
          "TV Show",
          "TV Show",
          "TV Show",
          "TV Show",
          "Movie",
          "TV Show",
          "Movie",
          "Movie",
          "Movie",
          "TV Show",
          "Movie",
          "Movie",
          "TV Show",
          "Movie",
          "Movie",
          "Movie",
          "TV Show",
          "Movie",
          "Movie",
          "TV Show",
          "Movie",
          "Movie",
          "Movie",
          "Movie",
          "Movie",
          "TV Show",
          "Movie",
          "TV Show",
          "Movie",
          "TV Show",
          "Movie",
          "Movie",
          "Movie",
          "TV Show",
          "TV Show",
          "TV Show",
          "TV Show",
          "TV Show",
          "TV Show",
          "TV Show",
          "Movie",
          "Movie",
          "Movie",
          "Movie",
          "TV Show",
          "TV Show",
          "Movie",
          "Movie",
          "TV Show",
          "Movie",
          "TV Show",
          "Movie",
          "TV Show",
          "Movie",
          "Movie",
          "Movie",
          "Movie",
          "TV Show",
          "TV Show",
          "Movie",
          "TV Show",
          "TV Show",
          "Movie",
          "Movie",
          "Movie",
          "Movie",
          "Movie",
          "Movie",
          "Movie",
          "TV Show",
          "TV Show",
          "Movie",
          "Movie",
          "TV Show",
          "Movie",
          "Movie",
          "Movie",
          "Movie",
          "TV Show",
          "TV Show",
          "Movie",
          "Movie",
          "TV Show",
          "TV Show",
          "Movie",
          "Movie",
          "Movie",
          "Movie",
          "Movie",
          "Movie",
          "Movie",
          "Movie",
          "TV Show",
          "Movie",
          "Movie",
          "Movie",
          "Movie",
          "Movie",
          "Movie",
          "Movie",
          "Movie",
          "Movie",
          "Movie",
          "Movie",
          "Movie",
          "Movie",
          "Movie",
          "TV Show",
          "Movie",
          "Movie",
          "Movie",
          "Movie",
          "Movie",
          "TV Show",
          "Movie",
          "Movie",
          "TV Show",
          "Movie",
          "TV Show",
          "TV Show",
          "TV Show",
          "Movie",
          "Movie",
          "Movie",
          "Movie",
          "Movie",
          "TV Show",
          "TV Show",
          "Movie",
          "Movie",
          "TV Show",
          "TV Show",
          "Movie",
          "TV Show",
          "Movie",
          "Movie",
          "Movie",
          "Movie",
          "Movie",
          "TV Show",
          "Movie",
          "Movie",
          "Movie",
          "TV Show",
          "Movie",
          "Movie",
          "Movie",
          "TV Show",
          "Movie",
          "Movie",
          "Movie",
          "Movie",
          "TV Show",
          "Movie",
          "TV Show",
          "Movie",
          "TV Show",
          "TV Show",
          "Movie",
          "TV Show",
          "Movie",
          "Movie",
          "Movie",
          "Movie",
          "TV Show",
          "Movie",
          "Movie",
          "Movie",
          "TV Show",
          "TV Show",
          "Movie",
          "Movie",
          "TV Show",
          "TV Show",
          "TV Show",
          "Movie",
          "Movie",
          "Movie",
          "Movie",
          "Movie",
          "Movie",
          "Movie",
          "Movie",
          "Movie",
          "Movie",
          "TV Show",
          "TV Show",
          "TV Show",
          "Movie",
          "TV Show",
          "Movie",
          "Movie",
          "Movie",
          "TV Show",
          "TV Show",
          "Movie",
          "TV Show",
          "TV Show",
          "Movie",
          "Movie",
          "Movie",
          "TV Show",
          "TV Show",
          "Movie",
          "TV Show",
          "Movie",
          "Movie",
          "TV Show",
          "TV Show",
          "Movie",
          "Movie",
          "Movie",
          "TV Show",
          "Movie",
          "Movie",
          "Movie",
          "Movie",
          "Movie",
          "Movie",
          "Movie",
          "Movie",
          "Movie",
          "Movie",
          "Movie",
          "Movie",
          "Movie",
          "TV Show",
          "TV Show",
          "TV Show",
          "Movie",
          "TV Show",
          "TV Show",
          "Movie",
          "TV Show",
          "TV Show",
          "Movie",
          "Movie",
          "TV Show",
          "Movie",
          "Movie",
          "TV Show",
          "Movie",
          "Movie",
          "Movie",
          "Movie",
          "Movie",
          "Movie",
          "Movie",
          "Movie",
          "Movie",
          "Movie",
          "Movie",
          "TV Show",
          "Movie",
          "Movie",
          "Movie",
          "Movie",
          "TV Show",
          "TV Show",
          "TV Show",
          "Movie",
          "Movie",
          "TV Show",
          "Movie",
          "Movie",
          "Movie",
          "Movie",
          "TV Show",
          "TV Show",
          "TV Show",
          "TV Show",
          "Movie",
          "TV Show",
          "TV Show",
          "Movie",
          "Movie",
          "Movie",
          "TV Show",
          "Movie",
          "Movie",
          "Movie",
          "TV Show",
          "Movie",
          "Movie",
          "Movie",
          "TV Show",
          "Movie",
          "TV Show",
          "TV Show",
          "Movie",
          "Movie",
          "TV Show",
          "TV Show",
          "Movie",
          "Movie",
          "Movie",
          "Movie",
          "Movie",
          "Movie",
          "Movie",
          "TV Show",
          "TV Show",
          "Movie",
          "Movie",
          "Movie",
          "Movie",
          "Movie",
          "Movie",
          "Movie",
          "Movie",
          "Movie",
          "TV Show",
          "TV Show",
          "Movie",
          "Movie",
          "Movie",
          "TV Show",
          "Movie",
          "Movie",
          "TV Show",
          "Movie",
          "TV Show",
          "Movie",
          "TV Show",
          "Movie",
          "Movie",
          "TV Show",
          "Movie",
          "Movie",
          "Movie",
          "Movie",
          "Movie",
          "TV Show",
          "TV Show",
          "Movie",
          "Movie",
          "Movie",
          "TV Show",
          "Movie",
          "Movie",
          "Movie",
          "TV Show",
          "TV Show",
          "TV Show",
          "Movie",
          "TV Show",
          "Movie",
          "TV Show",
          "TV Show",
          "TV Show",
          "Movie",
          "Movie",
          "TV Show",
          "Movie",
          "Movie",
          "Movie",
          "Movie",
          "TV Show",
          "Movie",
          "TV Show",
          "Movie",
          "Movie",
          "Movie",
          "Movie",
          "TV Show",
          "TV Show",
          "Movie",
          "Movie",
          "TV Show",
          "Movie",
          "Movie",
          "Movie",
          "TV Show",
          "Movie",
          "Movie",
          "TV Show",
          "Movie",
          "TV Show",
          "TV Show",
          "Movie",
          "TV Show",
          "TV Show",
          "Movie",
          "Movie",
          "TV Show",
          "TV Show",
          "Movie",
          "TV Show",
          "Movie",
          "Movie",
          "Movie",
          "TV Show",
          "TV Show",
          "Movie",
          "Movie",
          "Movie",
          "Movie",
          "TV Show",
          "Movie",
          "Movie",
          "Movie",
          "TV Show",
          "TV Show",
          "TV Show",
          "TV Show",
          "Movie",
          "TV Show",
          "Movie",
          "Movie",
          "Movie",
          "Movie",
          "Movie",
          "TV Show",
          "TV Show",
          "TV Show",
          "TV Show",
          "Movie",
          "Movie",
          "Movie",
          "TV Show",
          "Movie",
          "Movie",
          "Movie",
          "TV Show",
          "TV Show",
          "Movie",
          "Movie",
          "TV Show",
          "Movie",
          "Movie",
          "TV Show",
          "TV Show",
          "TV Show",
          "Movie",
          "Movie",
          "TV Show",
          "TV Show",
          "TV Show",
          "Movie",
          "TV Show",
          "Movie",
          "TV Show",
          "Movie",
          "Movie",
          "TV Show",
          "Movie",
          "Movie",
          "TV Show",
          "Movie",
          "TV Show",
          "Movie",
          "Movie",
          "TV Show",
          "TV Show",
          "TV Show",
          "Movie",
          "Movie",
          "TV Show",
          "Movie",
          "TV Show",
          "TV Show",
          "Movie",
          "Movie",
          "TV Show",
          "Movie",
          "Movie",
          "Movie",
          "Movie",
          "TV Show",
          "TV Show",
          "Movie",
          "TV Show",
          "Movie",
          "TV Show",
          "Movie",
          "Movie",
          "Movie",
          "Movie",
          "Movie",
          "Movie",
          "TV Show",
          "Movie",
          "TV Show",
          "Movie",
          "Movie",
          "Movie",
          "Movie",
          "Movie",
          "Movie",
          "Movie",
          "Movie",
          "TV Show",
          "Movie",
          "TV Show",
          "Movie",
          "Movie",
          "TV Show",
          "TV Show",
          "Movie",
          "Movie",
          "Movie",
          "TV Show",
          "TV Show",
          "Movie",
          "TV Show",
          "TV Show",
          "TV Show",
          "Movie",
          "TV Show",
          "TV Show",
          "Movie",
          "Movie",
          "Movie",
          "Movie",
          "TV Show",
          "Movie",
          "TV Show",
          "TV Show",
          "Movie",
          "Movie",
          "TV Show",
          "Movie",
          "Movie",
          "Movie",
          "TV Show",
          "TV Show",
          "Movie",
          "Movie",
          "TV Show",
          "Movie",
          "TV Show",
          "Movie",
          "TV Show",
          "TV Show",
          "TV Show",
          "Movie",
          "Movie",
          "TV Show",
          "Movie",
          "Movie",
          "Movie",
          "Movie",
          "Movie",
          "Movie",
          "Movie",
          "Movie",
          "Movie",
          "Movie",
          "Movie",
          "Movie",
          "Movie",
          "Movie",
          "Movie",
          "Movie",
          "TV Show",
          "Movie",
          "Movie",
          "Movie",
          "Movie",
          "Movie",
          "Movie",
          "Movie",
          "Movie",
          "Movie",
          "Movie",
          "Movie",
          "Movie",
          "Movie",
          "Movie",
          "Movie",
          "Movie",
          "TV Show",
          "TV Show",
          "Movie",
          "Movie",
          "Movie",
          "TV Show",
          "TV Show",
          "TV Show",
          "Movie",
          "TV Show",
          "Movie",
          "TV Show",
          "Movie",
          "TV Show",
          "TV Show",
          "TV Show",
          "Movie",
          "Movie",
          "Movie",
          "Movie",
          "Movie",
          "TV Show",
          "Movie",
          "Movie",
          "Movie",
          "Movie",
          "TV Show",
          "Movie",
          "TV Show",
          "Movie",
          "TV Show",
          "Movie",
          "Movie",
          "Movie",
          "Movie",
          "TV Show",
          "Movie",
          "TV Show",
          "Movie",
          "TV Show",
          "Movie",
          "Movie",
          "Movie",
          "Movie",
          "Movie",
          "TV Show",
          "Movie",
          "Movie",
          "Movie",
          "Movie",
          "Movie",
          "TV Show",
          "Movie",
          "Movie",
          "TV Show",
          "Movie",
          "Movie",
          "TV Show",
          "Movie",
          "Movie",
          "TV Show",
          "Movie",
          "Movie",
          "Movie",
          "Movie",
          "TV Show",
          "Movie",
          "TV Show",
          "Movie",
          "Movie",
          "TV Show",
          "Movie",
          "Movie",
          "Movie",
          "Movie",
          "Movie",
          "Movie",
          "Movie",
          "Movie",
          "Movie",
          "Movie",
          "Movie",
          "Movie",
          "Movie",
          "Movie",
          "Movie",
          "TV Show",
          "Movie",
          "Movie",
          "Movie",
          "Movie",
          "TV Show",
          "Movie",
          "Movie",
          "Movie",
          "Movie",
          "TV Show",
          "Movie",
          "TV Show",
          "Movie",
          "Movie",
          "Movie",
          "TV Show",
          "TV Show",
          "TV Show",
          "Movie",
          "Movie",
          "TV Show",
          "TV Show",
          "TV Show",
          "Movie",
          "Movie",
          "TV Show",
          "TV Show",
          "TV Show",
          "Movie",
          "TV Show",
          "TV Show",
          "Movie",
          "Movie",
          "Movie",
          "Movie",
          "Movie",
          "TV Show",
          "Movie",
          "TV Show",
          "Movie",
          "Movie",
          "Movie",
          "Movie",
          "TV Show",
          "TV Show",
          "Movie",
          "Movie",
          "TV Show",
          "Movie",
          "Movie",
          "Movie",
          "Movie",
          "Movie",
          "TV Show",
          "Movie",
          "Movie",
          "Movie",
          "Movie",
          "Movie",
          "Movie",
          "Movie",
          "Movie",
          "Movie",
          "Movie",
          "Movie",
          "TV Show",
          "Movie",
          "Movie",
          "TV Show",
          "Movie",
          "TV Show",
          "TV Show",
          "Movie",
          "TV Show",
          "TV Show",
          "Movie",
          "Movie",
          "Movie",
          "Movie",
          "Movie",
          "TV Show",
          "Movie",
          "TV Show",
          "TV Show",
          "Movie",
          "Movie",
          "Movie",
          "TV Show",
          "Movie",
          "Movie",
          "Movie",
          "TV Show",
          "Movie",
          "TV Show",
          "TV Show",
          "Movie",
          "Movie",
          "TV Show",
          "Movie",
          "Movie",
          "Movie",
          "TV Show",
          "Movie",
          "Movie",
          "Movie",
          "Movie",
          "Movie",
          "TV Show",
          "Movie",
          "Movie",
          "Movie",
          "Movie",
          "Movie",
          "Movie",
          "Movie",
          "Movie",
          "TV Show",
          "Movie",
          "Movie",
          "Movie",
          "TV Show",
          "Movie",
          "Movie",
          "Movie",
          "Movie",
          "Movie",
          "Movie",
          "Movie",
          "TV Show",
          "TV Show",
          "Movie",
          "Movie",
          "Movie",
          "Movie",
          "Movie",
          "TV Show",
          "TV Show",
          "Movie",
          "TV Show",
          "TV Show",
          "TV Show",
          "Movie",
          "Movie",
          "TV Show",
          "TV Show",
          "TV Show",
          "TV Show",
          "TV Show",
          "TV Show",
          "TV Show",
          "TV Show",
          "TV Show",
          "Movie",
          "Movie",
          "Movie",
          "Movie",
          "Movie",
          "Movie",
          "Movie",
          "Movie",
          "Movie",
          "Movie",
          "Movie",
          "TV Show",
          "Movie",
          "Movie",
          "Movie",
          "TV Show",
          "Movie",
          "TV Show",
          "Movie",
          "Movie",
          "TV Show",
          "TV Show",
          "TV Show",
          "TV Show",
          "Movie",
          "Movie",
          "TV Show",
          "Movie",
          "Movie",
          "Movie",
          "Movie",
          "Movie",
          "Movie",
          "Movie",
          "TV Show",
          "Movie",
          "Movie",
          "TV Show",
          "TV Show",
          "Movie",
          "Movie",
          "Movie",
          "Movie",
          "TV Show",
          "TV Show",
          "Movie",
          "Movie",
          "Movie",
          "Movie",
          "TV Show",
          "Movie",
          "Movie",
          "TV Show",
          "Movie",
          "TV Show",
          "TV Show",
          "Movie",
          "TV Show",
          "Movie",
          "TV Show",
          "Movie",
          "Movie",
          "Movie",
          "Movie",
          "Movie",
          "Movie",
          "Movie",
          "TV Show",
          "TV Show",
          "TV Show",
          "Movie",
          "TV Show",
          "TV Show",
          "Movie",
          "Movie",
          "TV Show",
          "Movie",
          "Movie",
          "TV Show",
          "Movie",
          "TV Show",
          "Movie",
          "Movie",
          "Movie",
          "Movie",
          "Movie",
          "Movie",
          "Movie",
          "Movie",
          "Movie",
          "Movie",
          "Movie",
          "Movie",
          "Movie",
          "Movie",
          "Movie",
          "TV Show",
          "TV Show",
          "Movie",
          "Movie",
          "TV Show",
          "Movie",
          "Movie",
          "Movie",
          "Movie",
          "Movie",
          "Movie",
          "Movie",
          "TV Show",
          "TV Show",
          "TV Show",
          "Movie",
          "TV Show",
          "Movie",
          "TV Show",
          "Movie",
          "Movie",
          "TV Show",
          "Movie",
          "Movie",
          "TV Show",
          "Movie",
          "Movie",
          "Movie",
          "Movie",
          "Movie",
          "TV Show",
          "TV Show",
          "TV Show",
          "TV Show",
          "TV Show",
          "TV Show",
          "Movie",
          "TV Show",
          "TV Show",
          "TV Show",
          "Movie",
          "Movie",
          "TV Show",
          "TV Show",
          "Movie",
          "Movie",
          "Movie",
          "Movie",
          "TV Show",
          "TV Show",
          "Movie",
          "Movie",
          "Movie",
          "Movie",
          "Movie",
          "Movie",
          "Movie",
          "TV Show",
          "Movie",
          "Movie",
          "Movie",
          "Movie",
          "Movie",
          "Movie",
          "TV Show",
          "Movie",
          "Movie",
          "Movie",
          "Movie",
          "TV Show",
          "Movie",
          "TV Show",
          "TV Show",
          "Movie",
          "Movie",
          "Movie",
          "Movie",
          "Movie",
          "Movie",
          "Movie",
          "Movie",
          "TV Show",
          "Movie",
          "TV Show",
          "Movie",
          "Movie",
          "Movie",
          "Movie",
          "Movie",
          "Movie",
          "Movie",
          "TV Show",
          "Movie",
          "Movie",
          "Movie",
          "Movie",
          "Movie",
          "Movie",
          "Movie",
          "Movie",
          "TV Show",
          "Movie",
          "Movie",
          "Movie",
          "Movie",
          "Movie",
          "Movie",
          "Movie",
          "Movie",
          "TV Show",
          "Movie",
          "Movie",
          "TV Show",
          "TV Show",
          "Movie",
          "TV Show",
          "TV Show",
          "Movie",
          "Movie",
          "TV Show",
          "Movie",
          "TV Show",
          "Movie",
          "Movie",
          "TV Show",
          "TV Show",
          "Movie",
          "Movie",
          "Movie",
          "Movie",
          "Movie",
          "Movie",
          "TV Show",
          "Movie",
          "TV Show",
          "Movie",
          "Movie",
          "TV Show",
          "TV Show",
          "Movie",
          "TV Show",
          "Movie",
          "Movie",
          "Movie",
          "Movie",
          "TV Show",
          "Movie",
          "TV Show",
          "Movie",
          "Movie",
          "TV Show",
          "Movie",
          "Movie",
          "Movie",
          "Movie",
          "Movie",
          "TV Show",
          "TV Show",
          "TV Show",
          "Movie",
          "TV Show",
          "TV Show",
          "Movie",
          "TV Show",
          "TV Show",
          "TV Show",
          "TV Show",
          "TV Show",
          "TV Show",
          "Movie",
          "TV Show",
          "Movie",
          "Movie",
          "Movie",
          "Movie",
          "TV Show",
          "Movie",
          "TV Show",
          "Movie",
          "Movie",
          "TV Show",
          "TV Show",
          "Movie",
          "Movie",
          "Movie",
          "Movie",
          "TV Show",
          "Movie",
          "Movie",
          "TV Show",
          "Movie",
          "TV Show",
          "Movie",
          "Movie",
          "TV Show",
          "Movie",
          "Movie",
          "TV Show",
          "TV Show",
          "TV Show",
          "TV Show",
          "Movie",
          "Movie",
          "Movie",
          "Movie",
          "Movie",
          "Movie",
          "Movie",
          "Movie",
          "Movie",
          "Movie",
          "TV Show",
          "Movie",
          "Movie",
          "TV Show",
          "Movie",
          "Movie",
          "Movie",
          "Movie",
          "TV Show",
          "Movie",
          "Movie",
          "Movie",
          "Movie",
          "Movie",
          "Movie",
          "Movie",
          "TV Show",
          "TV Show",
          "Movie",
          "TV Show",
          "Movie",
          "Movie",
          "Movie",
          "Movie",
          "Movie",
          "Movie",
          "Movie",
          "Movie",
          "Movie",
          "Movie",
          "TV Show",
          "Movie",
          "TV Show",
          "TV Show",
          "TV Show",
          "Movie",
          "TV Show",
          "TV Show",
          "Movie",
          "TV Show",
          "Movie",
          "Movie",
          "TV Show",
          "Movie",
          "Movie",
          "TV Show",
          "Movie",
          "Movie",
          "Movie",
          "Movie",
          "TV Show",
          "Movie",
          "TV Show",
          "TV Show",
          "TV Show",
          "TV Show",
          "TV Show",
          "Movie",
          "Movie",
          "Movie",
          "Movie",
          "Movie",
          "TV Show",
          "Movie",
          "TV Show",
          "Movie",
          "Movie",
          "Movie",
          "TV Show",
          "Movie",
          "Movie",
          "Movie",
          "TV Show",
          "Movie",
          "Movie",
          "Movie",
          "Movie",
          "Movie",
          "Movie",
          "TV Show",
          "Movie",
          "Movie",
          "TV Show",
          "TV Show",
          "TV Show",
          "TV Show",
          "Movie",
          "Movie",
          "TV Show",
          "Movie",
          "Movie",
          "Movie",
          "Movie",
          "TV Show",
          "Movie",
          "Movie",
          "Movie",
          "Movie",
          "Movie",
          "TV Show",
          "TV Show",
          "Movie",
          "Movie",
          "TV Show",
          "TV Show",
          "Movie",
          "TV Show",
          "TV Show",
          "Movie",
          "TV Show",
          "TV Show",
          "Movie",
          "Movie",
          "Movie",
          "Movie",
          "TV Show",
          "Movie",
          "Movie",
          "Movie",
          "Movie",
          "TV Show",
          "TV Show",
          "Movie",
          "Movie",
          "TV Show",
          "Movie",
          "Movie",
          "TV Show",
          "TV Show",
          "TV Show",
          "Movie",
          "Movie",
          "Movie",
          "TV Show",
          "Movie",
          "Movie",
          "TV Show",
          "Movie",
          "TV Show",
          "TV Show",
          "Movie",
          "TV Show",
          "TV Show",
          "Movie",
          "TV Show",
          "TV Show",
          "TV Show",
          "Movie",
          "Movie",
          "Movie",
          "Movie",
          "Movie",
          "Movie",
          "TV Show",
          "TV Show",
          "TV Show",
          "TV Show",
          "Movie",
          "Movie",
          "TV Show",
          "TV Show",
          "TV Show",
          "TV Show",
          "TV Show",
          "Movie",
          "Movie",
          "Movie",
          "TV Show",
          "Movie",
          "Movie",
          "Movie",
          "Movie",
          "TV Show",
          "TV Show",
          "TV Show",
          "TV Show",
          "Movie",
          "TV Show",
          "Movie",
          "Movie",
          "Movie",
          "Movie",
          "TV Show",
          "Movie",
          "Movie",
          "Movie",
          "TV Show",
          "Movie",
          "Movie",
          "Movie",
          "TV Show",
          "Movie",
          "TV Show",
          "Movie",
          "Movie",
          "TV Show",
          "TV Show",
          "TV Show",
          "TV Show",
          "TV Show",
          "Movie",
          "TV Show",
          "TV Show",
          "Movie",
          "TV Show",
          "Movie",
          "Movie",
          "TV Show",
          "Movie",
          "TV Show",
          "Movie",
          "TV Show",
          "TV Show",
          "Movie",
          "TV Show",
          "TV Show",
          "Movie",
          "TV Show",
          "TV Show",
          "Movie",
          "Movie",
          "Movie",
          "Movie",
          "Movie",
          "Movie",
          "TV Show",
          "Movie",
          "TV Show",
          "TV Show",
          "TV Show",
          "Movie",
          "Movie",
          "Movie",
          "TV Show",
          "Movie",
          "Movie",
          "TV Show",
          "TV Show",
          "TV Show",
          "Movie",
          "Movie",
          "TV Show",
          "Movie",
          "Movie",
          "TV Show",
          "TV Show",
          "TV Show",
          "TV Show",
          "TV Show",
          "TV Show",
          "TV Show",
          "Movie",
          "Movie",
          "Movie",
          "TV Show",
          "Movie",
          "Movie",
          "TV Show",
          "TV Show",
          "Movie",
          "Movie",
          "Movie",
          "Movie",
          "Movie",
          "Movie",
          "TV Show",
          "Movie",
          "Movie",
          "TV Show",
          "Movie",
          "TV Show",
          "Movie",
          "Movie",
          "TV Show",
          "Movie",
          "Movie",
          "Movie",
          "Movie",
          "Movie",
          "TV Show",
          "Movie",
          "TV Show",
          "TV Show",
          "TV Show",
          "TV Show",
          "Movie",
          "Movie",
          "Movie",
          "Movie",
          "TV Show",
          "TV Show",
          "TV Show",
          "TV Show",
          "Movie",
          "Movie",
          "Movie",
          "Movie",
          "Movie",
          "Movie",
          "TV Show",
          "Movie",
          "Movie",
          "Movie",
          "Movie",
          "Movie",
          "Movie",
          "Movie",
          "Movie",
          "TV Show",
          "Movie",
          "TV Show",
          "Movie",
          "Movie",
          "Movie",
          "Movie",
          "Movie",
          "Movie",
          "Movie",
          "Movie",
          "Movie",
          "Movie",
          "Movie",
          "Movie",
          "Movie",
          "Movie",
          "Movie",
          "Movie",
          "TV Show",
          "Movie",
          "Movie",
          "TV Show",
          "Movie",
          "Movie",
          "Movie",
          "Movie",
          "TV Show",
          "TV Show",
          "TV Show",
          "TV Show",
          "TV Show",
          "Movie",
          "Movie",
          "Movie",
          "Movie",
          "TV Show",
          "TV Show",
          "TV Show",
          "TV Show",
          "Movie",
          "TV Show",
          "Movie",
          "Movie",
          "Movie",
          "Movie",
          "TV Show",
          "Movie",
          "Movie",
          "Movie",
          "Movie",
          "Movie",
          "Movie",
          "TV Show",
          "Movie",
          "Movie",
          "Movie",
          "Movie",
          "TV Show",
          "Movie",
          "Movie",
          "Movie",
          "TV Show",
          "Movie",
          "Movie",
          "Movie",
          "TV Show",
          "Movie",
          "Movie",
          "Movie",
          "TV Show",
          "Movie",
          "Movie",
          "TV Show",
          "TV Show",
          "TV Show",
          "TV Show",
          "Movie",
          "Movie",
          "Movie",
          "Movie",
          "Movie",
          "Movie",
          "Movie",
          "TV Show",
          "Movie",
          "TV Show",
          "Movie",
          "Movie",
          "Movie",
          "TV Show",
          "Movie",
          "TV Show",
          "Movie",
          "Movie",
          "TV Show",
          "TV Show",
          "TV Show",
          "Movie",
          "TV Show",
          "TV Show",
          "TV Show",
          "Movie",
          "TV Show",
          "Movie",
          "Movie",
          "TV Show",
          "Movie",
          "Movie",
          "TV Show",
          "Movie",
          "TV Show",
          "TV Show",
          "Movie",
          "Movie",
          "Movie",
          "Movie",
          "TV Show",
          "Movie",
          "Movie",
          "Movie",
          "Movie",
          "Movie",
          "TV Show",
          "TV Show",
          "TV Show",
          "Movie",
          "Movie",
          "TV Show",
          "TV Show",
          "TV Show",
          "TV Show",
          "Movie",
          "TV Show",
          "Movie",
          "TV Show",
          "TV Show",
          "TV Show",
          "TV Show",
          "Movie",
          "TV Show",
          "TV Show",
          "TV Show",
          "Movie",
          "Movie",
          "TV Show",
          "Movie",
          "TV Show",
          "TV Show",
          "TV Show",
          "Movie",
          "Movie",
          "TV Show",
          "Movie",
          "Movie",
          "TV Show",
          "Movie",
          "Movie",
          "TV Show",
          "Movie",
          "TV Show",
          "Movie",
          "Movie",
          "Movie",
          "TV Show",
          "Movie",
          "Movie",
          "TV Show",
          "Movie",
          "Movie",
          "TV Show",
          "Movie",
          "Movie",
          "Movie",
          "Movie",
          "Movie",
          "Movie",
          "Movie",
          "Movie",
          "TV Show",
          "Movie",
          "TV Show",
          "TV Show",
          "Movie",
          "TV Show",
          "Movie",
          "Movie",
          "TV Show",
          "Movie",
          "Movie",
          "TV Show",
          "Movie",
          "Movie",
          "TV Show",
          "TV Show",
          "TV Show",
          "TV Show",
          "Movie",
          "TV Show",
          "TV Show",
          "Movie",
          "Movie",
          "Movie",
          "Movie",
          "Movie",
          "TV Show",
          "TV Show",
          "Movie",
          "Movie",
          "TV Show",
          "TV Show",
          "TV Show",
          "TV Show",
          "Movie",
          "TV Show",
          "TV Show",
          "Movie",
          "TV Show",
          "Movie",
          "Movie",
          "Movie",
          "TV Show",
          "TV Show",
          "TV Show",
          "TV Show",
          "Movie",
          "Movie",
          "TV Show",
          "Movie",
          "TV Show",
          "Movie",
          "TV Show",
          "TV Show",
          "Movie",
          "Movie",
          "TV Show",
          "TV Show",
          "Movie",
          "Movie",
          "TV Show",
          "Movie",
          "Movie",
          "Movie",
          "Movie",
          "Movie",
          "Movie",
          "Movie",
          "TV Show",
          "Movie",
          "Movie",
          "Movie",
          "Movie",
          "Movie",
          "Movie",
          "TV Show",
          "TV Show",
          "Movie",
          "TV Show",
          "TV Show",
          "Movie",
          "TV Show",
          "Movie",
          "Movie",
          "Movie",
          "TV Show",
          "Movie",
          "Movie",
          "Movie",
          "TV Show",
          "TV Show",
          "TV Show",
          "Movie",
          "Movie",
          "Movie",
          "TV Show",
          "Movie",
          "Movie",
          "TV Show",
          "Movie",
          "Movie",
          "TV Show",
          "Movie",
          "Movie",
          "Movie",
          "TV Show",
          "Movie",
          "Movie",
          "TV Show",
          "Movie",
          "TV Show",
          "Movie",
          "TV Show",
          "Movie",
          "Movie",
          "TV Show",
          "Movie",
          "Movie",
          "Movie",
          "TV Show",
          "TV Show",
          "Movie",
          "Movie",
          "Movie",
          "TV Show",
          "Movie",
          "Movie",
          "TV Show",
          "TV Show",
          "TV Show",
          "TV Show",
          "Movie",
          "TV Show",
          "TV Show",
          "Movie",
          "Movie",
          "TV Show",
          "TV Show",
          "TV Show",
          "TV Show",
          "Movie",
          "TV Show",
          "TV Show",
          "Movie",
          "Movie",
          "TV Show",
          "Movie",
          "Movie",
          "TV Show",
          "TV Show",
          "Movie",
          "Movie",
          "TV Show",
          "Movie",
          "Movie",
          "Movie",
          "TV Show",
          "Movie",
          "TV Show",
          "Movie",
          "Movie",
          "Movie",
          "Movie",
          "TV Show",
          "TV Show",
          "Movie",
          "TV Show",
          "Movie",
          "Movie",
          "Movie",
          "Movie",
          "Movie",
          "Movie",
          "Movie",
          "TV Show",
          "Movie",
          "TV Show",
          "TV Show",
          "TV Show",
          "TV Show",
          "TV Show",
          "TV Show",
          "Movie",
          "Movie",
          "Movie",
          "TV Show",
          "Movie",
          "Movie",
          "Movie",
          "Movie",
          "TV Show",
          "Movie",
          "Movie",
          "Movie",
          "TV Show",
          "Movie",
          "TV Show",
          "Movie",
          "Movie",
          "TV Show",
          "TV Show",
          "TV Show",
          "TV Show",
          "Movie",
          "Movie",
          "Movie",
          "Movie",
          "Movie",
          "Movie",
          "TV Show",
          "Movie",
          "Movie",
          "Movie",
          "Movie",
          "TV Show",
          "TV Show",
          "TV Show",
          "Movie",
          "TV Show",
          "Movie",
          "Movie",
          "TV Show",
          "Movie",
          "Movie",
          "Movie",
          "TV Show",
          "TV Show",
          "TV Show",
          "TV Show",
          "Movie",
          "Movie",
          "Movie",
          "Movie",
          "TV Show",
          "Movie",
          "Movie",
          "TV Show",
          "TV Show",
          "Movie",
          "Movie",
          "Movie",
          "Movie",
          "Movie",
          "Movie",
          "Movie",
          "Movie",
          "TV Show",
          "Movie",
          "Movie",
          "Movie",
          "TV Show",
          "TV Show",
          "TV Show",
          "TV Show",
          "TV Show",
          "Movie",
          "TV Show",
          "Movie",
          "Movie",
          "Movie",
          "TV Show",
          "Movie",
          "TV Show",
          "TV Show",
          "TV Show",
          "TV Show",
          "Movie",
          "TV Show",
          "Movie",
          "Movie",
          "Movie",
          "Movie",
          "TV Show",
          "TV Show",
          "Movie",
          "TV Show",
          "TV Show",
          "Movie",
          "Movie",
          "TV Show",
          "TV Show",
          "TV Show",
          "TV Show",
          "TV Show",
          "TV Show",
          "TV Show",
          "TV Show",
          "TV Show",
          "TV Show",
          "TV Show",
          "TV Show",
          "Movie",
          "Movie",
          "Movie",
          "Movie",
          "Movie",
          "Movie",
          "Movie",
          "Movie",
          "TV Show",
          "Movie",
          "Movie",
          "TV Show",
          "Movie",
          "Movie",
          "Movie",
          "Movie",
          "TV Show",
          "TV Show",
          "Movie",
          "Movie",
          "TV Show",
          "Movie",
          "Movie",
          "Movie",
          "TV Show",
          "Movie",
          "TV Show",
          "Movie",
          "TV Show",
          "Movie",
          "Movie",
          "Movie",
          "Movie",
          "Movie",
          "Movie",
          "TV Show",
          "Movie",
          "TV Show",
          "TV Show",
          "TV Show",
          "TV Show",
          "Movie",
          "Movie",
          "TV Show",
          "TV Show",
          "Movie",
          "Movie",
          "TV Show",
          "TV Show",
          "TV Show",
          "TV Show",
          "TV Show",
          "Movie",
          "TV Show",
          "Movie",
          "TV Show",
          "Movie",
          "TV Show",
          "TV Show",
          "Movie",
          "Movie",
          "TV Show",
          "Movie",
          "Movie",
          "TV Show",
          "Movie",
          "TV Show",
          "Movie",
          "TV Show",
          "TV Show",
          "TV Show",
          "TV Show",
          "TV Show",
          "TV Show",
          "TV Show",
          "TV Show",
          "TV Show",
          "Movie",
          "TV Show",
          "TV Show",
          "TV Show",
          "Movie",
          "Movie",
          "Movie",
          "TV Show",
          "Movie",
          "TV Show",
          "Movie",
          "TV Show",
          "TV Show",
          "Movie",
          "TV Show",
          "TV Show",
          "Movie",
          "TV Show",
          "Movie",
          "Movie",
          "Movie",
          "Movie",
          "Movie",
          "TV Show",
          "Movie",
          "Movie",
          "TV Show",
          "Movie",
          "TV Show",
          "TV Show",
          "TV Show",
          "TV Show",
          "TV Show",
          "TV Show",
          "TV Show",
          "Movie",
          "Movie",
          "Movie",
          "Movie",
          "Movie",
          "Movie",
          "Movie",
          "Movie",
          "TV Show",
          "TV Show",
          "Movie",
          "Movie",
          "Movie",
          "TV Show",
          "TV Show",
          "TV Show",
          "TV Show",
          "TV Show",
          "TV Show",
          "Movie",
          "TV Show",
          "TV Show",
          "TV Show",
          "TV Show",
          "TV Show",
          "Movie",
          "TV Show",
          "TV Show",
          "Movie",
          "Movie",
          "Movie",
          "Movie",
          "TV Show",
          "Movie",
          "TV Show",
          "Movie",
          "Movie",
          "Movie",
          "Movie",
          "Movie",
          "Movie",
          "TV Show",
          "TV Show",
          "Movie",
          "Movie",
          "Movie",
          "TV Show",
          "Movie",
          "Movie",
          "Movie",
          "TV Show",
          "TV Show",
          "TV Show",
          "Movie",
          "TV Show",
          "Movie",
          "TV Show",
          "Movie",
          "Movie",
          "TV Show",
          "Movie",
          "TV Show",
          "Movie",
          "Movie",
          "TV Show",
          "Movie",
          "TV Show",
          "Movie",
          "TV Show",
          "Movie",
          "Movie",
          "TV Show",
          "Movie",
          "TV Show",
          "Movie",
          "Movie",
          "Movie",
          "Movie",
          "TV Show",
          "TV Show",
          "TV Show",
          "Movie",
          "Movie",
          "Movie",
          "TV Show",
          "Movie",
          "Movie",
          "Movie",
          "Movie",
          "TV Show",
          "Movie",
          "Movie",
          "Movie",
          "TV Show",
          "Movie",
          "TV Show",
          "TV Show",
          "Movie",
          "TV Show",
          "Movie",
          "Movie",
          "Movie",
          "Movie",
          "TV Show",
          "Movie",
          "Movie",
          "Movie",
          "TV Show",
          "Movie",
          "TV Show",
          "TV Show",
          "TV Show",
          "TV Show",
          "Movie",
          "Movie",
          "TV Show",
          "TV Show",
          "TV Show",
          "TV Show",
          "TV Show",
          "TV Show",
          "TV Show",
          "TV Show",
          "TV Show",
          "TV Show",
          "TV Show",
          "TV Show",
          "TV Show",
          "TV Show",
          "Movie",
          "Movie",
          "Movie",
          "TV Show",
          "TV Show",
          "Movie",
          "Movie",
          "TV Show",
          "Movie",
          "Movie",
          "TV Show",
          "Movie",
          "Movie",
          "TV Show",
          "Movie",
          "Movie",
          "Movie",
          "Movie",
          "Movie",
          "TV Show",
          "Movie",
          "TV Show",
          "TV Show",
          "TV Show",
          "TV Show",
          "TV Show",
          "TV Show",
          "TV Show",
          "Movie",
          "TV Show",
          "TV Show",
          "Movie",
          "Movie",
          "Movie",
          "Movie",
          "TV Show",
          "TV Show",
          "Movie",
          "Movie",
          "Movie",
          "TV Show",
          "TV Show",
          "Movie",
          "TV Show",
          "TV Show",
          "TV Show",
          "Movie",
          "Movie",
          "Movie",
          "Movie",
          "Movie",
          "Movie",
          "Movie",
          "Movie",
          "Movie",
          "Movie",
          "Movie",
          "Movie",
          "Movie",
          "Movie",
          "Movie",
          "Movie",
          "Movie",
          "TV Show",
          "Movie",
          "Movie",
          "Movie",
          "Movie",
          "TV Show",
          "Movie",
          "TV Show",
          "TV Show",
          "Movie",
          "Movie",
          "TV Show",
          "Movie",
          "Movie",
          "TV Show",
          "Movie",
          "TV Show",
          "TV Show",
          "TV Show",
          "Movie",
          "TV Show",
          "TV Show",
          "TV Show",
          "TV Show",
          "TV Show",
          "Movie",
          "TV Show",
          "Movie",
          "Movie",
          "TV Show",
          "Movie",
          "Movie",
          "Movie",
          "TV Show",
          "Movie",
          "Movie",
          "TV Show",
          "Movie",
          "TV Show",
          "Movie",
          "Movie",
          "TV Show",
          "Movie",
          "Movie",
          "TV Show",
          "TV Show",
          "Movie",
          "Movie",
          "TV Show",
          "TV Show",
          "TV Show",
          "TV Show",
          "Movie",
          "Movie",
          "Movie",
          "Movie",
          "TV Show",
          "Movie",
          "Movie",
          "TV Show",
          "TV Show",
          "TV Show",
          "Movie",
          "Movie",
          "TV Show",
          "Movie",
          "TV Show",
          "Movie",
          "TV Show",
          "TV Show",
          "Movie",
          "Movie",
          "Movie",
          "Movie",
          "Movie",
          "Movie",
          "TV Show",
          "Movie",
          "TV Show",
          "Movie",
          "Movie",
          "TV Show",
          "Movie",
          "Movie",
          "Movie",
          "Movie",
          "TV Show",
          "Movie",
          "Movie",
          "Movie",
          "Movie",
          "Movie",
          "TV Show",
          "Movie",
          "TV Show",
          "TV Show",
          "TV Show",
          "Movie",
          "Movie",
          "Movie",
          "Movie",
          "Movie",
          "TV Show",
          "TV Show",
          "Movie",
          "Movie",
          "TV Show",
          "TV Show",
          "TV Show",
          "TV Show",
          "TV Show",
          "Movie",
          "TV Show",
          "Movie",
          "Movie",
          "TV Show",
          "Movie",
          "Movie",
          "Movie",
          "Movie",
          "Movie",
          "Movie",
          "TV Show",
          "TV Show",
          "TV Show",
          "Movie",
          "Movie",
          "Movie",
          "Movie",
          "Movie",
          "Movie",
          "Movie",
          "Movie",
          "Movie",
          "TV Show",
          "TV Show",
          "TV Show",
          "TV Show",
          "Movie",
          "Movie",
          "Movie",
          "Movie",
          "Movie",
          "TV Show",
          "Movie",
          "Movie",
          "Movie",
          "Movie",
          "Movie",
          "Movie",
          "Movie",
          "Movie",
          "Movie",
          "Movie",
          "Movie",
          "Movie",
          "Movie",
          "Movie",
          "Movie",
          "TV Show",
          "Movie",
          "Movie",
          "Movie",
          "Movie",
          "TV Show",
          "Movie",
          "Movie",
          "Movie",
          "Movie",
          "TV Show",
          "TV Show",
          "Movie",
          "Movie",
          "Movie",
          "Movie",
          "Movie",
          "Movie",
          "Movie",
          "Movie",
          "Movie",
          "Movie",
          "Movie",
          "Movie",
          "Movie",
          "TV Show",
          "TV Show",
          "Movie",
          "Movie",
          "Movie",
          "TV Show",
          "Movie",
          "TV Show",
          "Movie",
          "Movie",
          "TV Show",
          "Movie",
          "TV Show",
          "Movie",
          "TV Show",
          "TV Show",
          "Movie",
          "Movie",
          "TV Show",
          "Movie",
          "Movie",
          "TV Show",
          "TV Show",
          "TV Show",
          "Movie",
          "TV Show",
          "TV Show",
          "TV Show",
          "TV Show",
          "Movie",
          "Movie",
          "Movie",
          "Movie",
          "Movie",
          "Movie",
          "Movie",
          "Movie",
          "TV Show",
          "TV Show",
          "TV Show",
          "TV Show",
          "Movie",
          "Movie",
          "Movie",
          "Movie",
          "TV Show",
          "Movie",
          "Movie",
          "Movie",
          "Movie",
          "Movie",
          "Movie",
          "Movie",
          "Movie",
          "Movie",
          "Movie",
          "Movie",
          "Movie",
          "TV Show",
          "TV Show",
          "Movie",
          "Movie",
          "TV Show",
          "TV Show",
          "TV Show",
          "Movie",
          "Movie",
          "TV Show",
          "TV Show",
          "Movie",
          "TV Show",
          "Movie",
          "Movie",
          "Movie",
          "TV Show",
          "TV Show",
          "Movie",
          "Movie",
          "Movie",
          "TV Show",
          "TV Show",
          "Movie",
          "Movie",
          "Movie",
          "Movie",
          "TV Show",
          "Movie",
          "Movie",
          "Movie",
          "Movie",
          "Movie",
          "Movie",
          "TV Show",
          "Movie",
          "Movie",
          "TV Show",
          "TV Show",
          "TV Show",
          "TV Show",
          "Movie",
          "Movie",
          "Movie",
          "TV Show",
          "TV Show",
          "Movie",
          "Movie",
          "Movie",
          "Movie",
          "Movie",
          "Movie",
          "Movie",
          "TV Show",
          "TV Show",
          "Movie",
          "TV Show",
          "Movie",
          "TV Show",
          "Movie",
          "Movie",
          "Movie",
          "Movie",
          "Movie",
          "TV Show",
          "TV Show",
          "Movie",
          "Movie",
          "Movie",
          "Movie",
          "Movie",
          "Movie",
          "Movie",
          "Movie",
          "Movie",
          "Movie",
          "Movie",
          "Movie",
          "Movie",
          "Movie",
          "Movie",
          "Movie",
          "Movie",
          "Movie",
          "Movie",
          "Movie",
          "Movie",
          "Movie",
          "TV Show",
          "TV Show",
          "Movie",
          "Movie",
          "TV Show",
          "Movie",
          "TV Show",
          "TV Show",
          "Movie",
          "Movie",
          "TV Show",
          "TV Show",
          "TV Show",
          "TV Show",
          "TV Show",
          "TV Show",
          "TV Show",
          "Movie",
          "Movie",
          "TV Show",
          "TV Show",
          "TV Show",
          "TV Show",
          "TV Show",
          "TV Show",
          "Movie",
          "TV Show",
          "Movie",
          "Movie",
          "TV Show",
          "Movie",
          "Movie",
          "Movie",
          "Movie",
          "TV Show",
          "Movie",
          "Movie",
          "Movie",
          "TV Show",
          "Movie",
          "TV Show",
          "Movie",
          "Movie",
          "Movie",
          "Movie",
          "Movie",
          "TV Show",
          "Movie",
          "Movie",
          "Movie",
          "Movie",
          "Movie",
          "Movie",
          "Movie",
          "TV Show",
          "TV Show",
          "Movie",
          "TV Show",
          "TV Show",
          "TV Show",
          "TV Show",
          "TV Show",
          "TV Show",
          "Movie",
          "Movie",
          "Movie",
          "TV Show",
          "Movie",
          "Movie",
          "Movie",
          "TV Show",
          "TV Show",
          "Movie",
          "Movie",
          "Movie",
          "Movie",
          "TV Show",
          "TV Show",
          "Movie",
          "Movie",
          "Movie",
          "Movie",
          "Movie",
          "Movie",
          "Movie",
          "Movie",
          "Movie",
          "Movie",
          "Movie",
          "Movie",
          "TV Show",
          "Movie",
          "Movie",
          "Movie",
          "Movie",
          "Movie",
          "Movie",
          "Movie",
          "Movie",
          "Movie",
          "TV Show",
          "Movie",
          "Movie",
          "TV Show",
          "Movie",
          "Movie",
          "TV Show",
          "Movie",
          "Movie",
          "TV Show",
          "Movie",
          "Movie",
          "TV Show",
          "TV Show",
          "Movie",
          "TV Show",
          "TV Show",
          "TV Show",
          "TV Show",
          "Movie",
          "Movie",
          "TV Show",
          "TV Show",
          "Movie",
          "Movie",
          "Movie",
          "TV Show",
          "Movie",
          "Movie",
          "TV Show",
          "TV Show",
          "TV Show",
          "Movie",
          "Movie",
          "TV Show",
          "Movie",
          "Movie",
          "TV Show",
          "Movie",
          "TV Show",
          "Movie",
          "Movie",
          "Movie",
          "Movie",
          "Movie",
          "Movie",
          "Movie",
          "Movie",
          "Movie",
          "TV Show",
          "TV Show",
          "Movie",
          "Movie",
          "TV Show",
          "Movie",
          "TV Show",
          "TV Show",
          "TV Show",
          "TV Show",
          "TV Show",
          "TV Show",
          "Movie",
          "Movie",
          "TV Show",
          "Movie",
          "TV Show",
          "Movie",
          "Movie",
          "Movie",
          "Movie",
          "Movie",
          "Movie",
          "Movie",
          "Movie",
          "Movie",
          "Movie",
          "Movie",
          "Movie",
          "Movie",
          "Movie",
          "TV Show",
          "Movie",
          "Movie",
          "Movie",
          "Movie",
          "Movie",
          "TV Show",
          "Movie",
          "Movie",
          "Movie",
          "Movie",
          "Movie",
          "Movie",
          "Movie",
          "Movie",
          "Movie",
          "Movie",
          "Movie",
          "Movie",
          "Movie",
          "Movie",
          "Movie",
          "Movie",
          "Movie",
          "Movie",
          "Movie",
          "Movie",
          "Movie",
          "Movie",
          "Movie",
          "Movie",
          "TV Show",
          "Movie",
          "Movie",
          "Movie",
          "Movie",
          "Movie",
          "Movie",
          "Movie",
          "TV Show",
          "Movie",
          "Movie",
          "Movie",
          "Movie",
          "Movie",
          "Movie",
          "TV Show",
          "Movie",
          "TV Show",
          "TV Show",
          "Movie",
          "Movie",
          "Movie",
          "TV Show",
          "Movie",
          "TV Show",
          "Movie",
          "TV Show",
          "TV Show",
          "TV Show",
          "Movie",
          "Movie",
          "Movie",
          "Movie",
          "TV Show",
          "TV Show",
          "Movie",
          "Movie",
          "TV Show",
          "Movie",
          "Movie",
          "TV Show",
          "Movie",
          "TV Show",
          "TV Show",
          "Movie",
          "Movie",
          "Movie",
          "TV Show",
          "Movie",
          "Movie",
          "TV Show",
          "Movie",
          "Movie",
          "TV Show",
          "Movie",
          "Movie",
          "TV Show",
          "TV Show",
          "Movie",
          "TV Show",
          "TV Show",
          "Movie",
          "TV Show",
          "Movie",
          "Movie",
          "Movie",
          "TV Show",
          "Movie",
          "TV Show",
          "TV Show",
          "TV Show",
          "Movie",
          "Movie",
          "Movie",
          "TV Show",
          "TV Show",
          "Movie",
          "Movie",
          "Movie",
          "Movie",
          "Movie",
          "TV Show",
          "Movie",
          "Movie",
          "Movie",
          "Movie",
          "Movie",
          "Movie",
          "TV Show",
          "TV Show",
          "TV Show",
          "Movie",
          "TV Show",
          "Movie",
          "Movie",
          "Movie",
          "Movie",
          "Movie",
          "Movie",
          "Movie",
          "Movie",
          "Movie",
          "Movie",
          "Movie",
          "Movie",
          "Movie",
          "Movie",
          "Movie",
          "Movie",
          "TV Show",
          "Movie",
          "Movie",
          "Movie",
          "Movie",
          "Movie",
          "Movie",
          "Movie",
          "Movie",
          "Movie",
          "Movie",
          "Movie",
          "Movie",
          "Movie",
          "Movie",
          "Movie",
          "Movie",
          "Movie",
          "Movie",
          "Movie",
          "Movie",
          "Movie",
          "Movie",
          "Movie",
          "Movie",
          "Movie",
          "Movie",
          "Movie",
          "Movie",
          "Movie",
          "Movie",
          "Movie",
          "Movie",
          "Movie",
          "TV Show",
          "Movie",
          "Movie",
          "Movie",
          "TV Show",
          "Movie",
          "Movie",
          "Movie",
          "Movie",
          "Movie",
          "Movie",
          "Movie",
          "Movie",
          "Movie",
          "Movie",
          "Movie",
          "Movie",
          "TV Show",
          "TV Show",
          "TV Show",
          "Movie",
          "Movie",
          "Movie",
          "TV Show",
          "TV Show",
          "TV Show",
          "Movie",
          "Movie",
          "TV Show",
          "TV Show",
          "TV Show",
          "TV Show",
          "TV Show",
          "TV Show",
          "TV Show",
          "TV Show",
          "TV Show",
          "Movie",
          "Movie",
          "TV Show",
          "Movie",
          "TV Show",
          "Movie",
          "TV Show",
          "TV Show",
          "Movie",
          "TV Show",
          "TV Show",
          "TV Show",
          "Movie",
          "TV Show",
          "TV Show",
          "Movie",
          "Movie",
          "TV Show",
          "Movie",
          "Movie",
          "Movie",
          "TV Show",
          "TV Show",
          "TV Show",
          "Movie",
          "Movie",
          "Movie",
          "Movie",
          "Movie",
          "TV Show",
          "Movie",
          "TV Show",
          "TV Show",
          "TV Show",
          "Movie",
          "TV Show",
          "TV Show",
          "TV Show",
          "Movie",
          "Movie",
          "Movie",
          "TV Show",
          "Movie",
          "Movie",
          "TV Show",
          "Movie",
          "TV Show",
          "Movie",
          "TV Show",
          "Movie",
          "Movie",
          "Movie",
          "Movie",
          "Movie",
          "Movie",
          "TV Show",
          "Movie",
          "Movie",
          "Movie",
          "Movie",
          "Movie",
          "TV Show",
          "TV Show",
          "TV Show",
          "Movie",
          "Movie",
          "Movie",
          "Movie",
          "TV Show",
          "TV Show",
          "TV Show",
          "Movie",
          "Movie",
          "Movie",
          "Movie",
          "TV Show",
          "TV Show",
          "Movie",
          "Movie",
          "Movie",
          "Movie",
          "Movie",
          "Movie",
          "Movie",
          "Movie",
          "Movie",
          "Movie",
          "Movie",
          "Movie",
          "Movie",
          "Movie",
          "Movie",
          "Movie",
          "Movie",
          "Movie",
          "Movie",
          "Movie",
          "TV Show",
          "Movie",
          "Movie",
          "TV Show",
          "TV Show",
          "TV Show",
          "TV Show",
          "Movie",
          "Movie",
          "TV Show",
          "Movie",
          "Movie",
          "TV Show",
          "Movie",
          "TV Show",
          "Movie",
          "TV Show",
          "Movie",
          "Movie",
          "Movie",
          "TV Show",
          "TV Show",
          "Movie",
          "Movie",
          "TV Show",
          "TV Show",
          "TV Show",
          "Movie",
          "Movie",
          "TV Show",
          "Movie",
          "Movie",
          "Movie",
          "TV Show",
          "TV Show",
          "Movie",
          "Movie",
          "Movie",
          "TV Show",
          "TV Show",
          "TV Show",
          "TV Show",
          "TV Show",
          "Movie",
          "Movie",
          "Movie",
          "Movie",
          "Movie",
          "Movie",
          "Movie",
          "Movie",
          "Movie",
          "Movie",
          "Movie",
          "Movie",
          "Movie",
          "Movie",
          "Movie",
          "Movie",
          "Movie",
          "TV Show",
          "Movie",
          "Movie",
          "Movie",
          "Movie",
          "Movie",
          "TV Show",
          "Movie",
          "Movie",
          "TV Show",
          "Movie",
          "TV Show",
          "Movie",
          "Movie",
          "Movie",
          "TV Show",
          "Movie",
          "TV Show",
          "Movie",
          "Movie",
          "TV Show",
          "Movie",
          "Movie",
          "TV Show",
          "Movie",
          "Movie",
          "TV Show",
          "Movie",
          "Movie",
          "Movie",
          "Movie",
          "Movie",
          "Movie",
          "TV Show",
          "TV Show",
          "Movie",
          "Movie",
          "Movie",
          "TV Show",
          "TV Show",
          "TV Show",
          "Movie",
          "Movie",
          "TV Show",
          "Movie",
          "Movie",
          "TV Show",
          "TV Show",
          "TV Show",
          "Movie",
          "TV Show",
          "Movie",
          "Movie",
          "Movie",
          "TV Show",
          "TV Show",
          "Movie",
          "Movie",
          "TV Show",
          "TV Show",
          "Movie",
          "Movie",
          "Movie",
          "Movie",
          "TV Show",
          "Movie",
          "Movie",
          "TV Show",
          "Movie",
          "TV Show",
          "Movie",
          "TV Show",
          "Movie",
          "Movie",
          "Movie",
          "Movie",
          "TV Show",
          "Movie",
          "Movie",
          "Movie",
          "Movie",
          "TV Show",
          "Movie",
          "Movie",
          "Movie",
          "Movie",
          "Movie",
          "Movie",
          "Movie",
          "Movie",
          "Movie",
          "Movie",
          "Movie",
          "Movie",
          "Movie",
          "Movie",
          "Movie",
          "Movie",
          "Movie",
          "Movie",
          "TV Show",
          "Movie",
          "TV Show",
          "Movie",
          "Movie",
          "TV Show",
          "Movie",
          "Movie",
          "TV Show",
          "Movie",
          "TV Show",
          "Movie",
          "TV Show",
          "Movie",
          "Movie",
          "TV Show",
          "TV Show",
          "Movie",
          "Movie",
          "Movie",
          "Movie",
          "Movie",
          "Movie",
          "Movie",
          "Movie",
          "Movie",
          "TV Show",
          "TV Show",
          "TV Show",
          "Movie",
          "Movie",
          "Movie",
          "TV Show",
          "Movie",
          "Movie",
          "TV Show",
          "Movie",
          "Movie",
          "Movie",
          "Movie",
          "Movie",
          "Movie",
          "Movie",
          "TV Show",
          "TV Show",
          "Movie",
          "Movie",
          "Movie",
          "TV Show",
          "Movie",
          "Movie",
          "TV Show",
          "Movie",
          "TV Show",
          "Movie",
          "Movie",
          "Movie",
          "Movie",
          "Movie",
          "TV Show",
          "Movie",
          "Movie",
          "Movie",
          "TV Show",
          "Movie",
          "Movie",
          "TV Show",
          "Movie",
          "Movie",
          "TV Show",
          "TV Show",
          "Movie",
          "Movie",
          "Movie",
          "Movie",
          "TV Show",
          "Movie",
          "Movie",
          "TV Show",
          "Movie",
          "TV Show",
          "Movie",
          "TV Show",
          "Movie",
          "Movie",
          "Movie",
          "TV Show",
          "TV Show",
          "Movie",
          "Movie",
          "TV Show",
          "Movie",
          "Movie",
          "TV Show",
          "TV Show",
          "Movie",
          "TV Show",
          "Movie",
          "Movie",
          "TV Show",
          "Movie",
          "Movie",
          "TV Show",
          "Movie",
          "Movie",
          "Movie",
          "TV Show",
          "Movie",
          "Movie",
          "Movie",
          "Movie",
          "Movie",
          "Movie",
          "Movie",
          "Movie",
          "Movie",
          "Movie",
          "Movie",
          "Movie",
          "Movie",
          "Movie",
          "Movie",
          "Movie",
          "Movie",
          "Movie",
          "Movie",
          "Movie",
          "Movie",
          "TV Show",
          "TV Show",
          "Movie",
          "TV Show",
          "TV Show",
          "Movie",
          "TV Show",
          "Movie",
          "Movie",
          "TV Show",
          "TV Show",
          "Movie",
          "TV Show",
          "Movie",
          "Movie",
          "Movie",
          "Movie",
          "Movie",
          "Movie",
          "Movie",
          "TV Show",
          "Movie",
          "TV Show",
          "Movie",
          "Movie",
          "Movie",
          "Movie",
          "Movie",
          "TV Show",
          "Movie",
          "Movie",
          "TV Show",
          "Movie",
          "Movie",
          "Movie",
          "Movie",
          "Movie",
          "TV Show",
          "Movie",
          "TV Show",
          "Movie",
          "Movie",
          "Movie",
          "TV Show",
          "TV Show",
          "Movie",
          "Movie",
          "Movie",
          "Movie",
          "TV Show",
          "Movie",
          "TV Show",
          "Movie",
          "Movie",
          "Movie",
          "Movie",
          "TV Show",
          "Movie",
          "Movie",
          "Movie",
          "Movie",
          "Movie",
          "Movie",
          "TV Show",
          "TV Show",
          "Movie",
          "TV Show",
          "Movie",
          "Movie",
          "TV Show",
          "TV Show",
          "TV Show",
          "TV Show",
          "TV Show",
          "TV Show",
          "Movie",
          "Movie",
          "TV Show",
          "Movie",
          "TV Show",
          "Movie",
          "Movie",
          "Movie",
          "TV Show",
          "Movie",
          "TV Show",
          "TV Show",
          "Movie",
          "Movie",
          "Movie",
          "Movie",
          "Movie",
          "TV Show",
          "TV Show",
          "TV Show",
          "Movie",
          "Movie",
          "Movie",
          "Movie",
          "TV Show",
          "TV Show",
          "Movie",
          "TV Show",
          "Movie",
          "Movie",
          "Movie",
          "Movie",
          "Movie",
          "Movie",
          "Movie",
          "Movie",
          "Movie",
          "TV Show",
          "TV Show",
          "Movie",
          "TV Show",
          "Movie",
          "Movie",
          "TV Show",
          "TV Show",
          "Movie",
          "TV Show",
          "Movie",
          "TV Show",
          "TV Show",
          "Movie",
          "Movie",
          "Movie",
          "TV Show",
          "TV Show",
          "TV Show",
          "TV Show",
          "Movie",
          "TV Show",
          "Movie",
          "Movie",
          "Movie",
          "Movie",
          "Movie",
          "TV Show",
          "TV Show",
          "Movie",
          "TV Show",
          "TV Show",
          "TV Show",
          "Movie",
          "Movie",
          "TV Show",
          "TV Show",
          "TV Show",
          "Movie",
          "Movie",
          "TV Show",
          "Movie",
          "TV Show",
          "Movie",
          "Movie",
          "Movie",
          "TV Show",
          "TV Show",
          "Movie",
          "Movie",
          "Movie",
          "Movie",
          "Movie",
          "TV Show",
          "TV Show",
          "TV Show",
          "TV Show",
          "TV Show",
          "Movie",
          "Movie",
          "Movie",
          "Movie",
          "TV Show",
          "Movie",
          "Movie",
          "Movie",
          "Movie",
          "TV Show",
          "TV Show",
          "Movie",
          "TV Show",
          "Movie",
          "TV Show",
          "Movie",
          "Movie",
          "Movie",
          "Movie",
          "TV Show",
          "TV Show",
          "Movie",
          "Movie",
          "TV Show",
          "Movie",
          "TV Show",
          "Movie",
          "Movie",
          "Movie",
          "Movie",
          "Movie",
          "Movie",
          "Movie",
          "Movie",
          "Movie",
          "TV Show",
          "TV Show",
          "Movie",
          "Movie",
          "Movie",
          "TV Show",
          "TV Show",
          "Movie",
          "Movie",
          "Movie",
          "Movie",
          "TV Show",
          "TV Show",
          "TV Show",
          "TV Show",
          "TV Show",
          "TV Show",
          "Movie",
          "Movie",
          "TV Show",
          "TV Show",
          "Movie",
          "Movie",
          "TV Show",
          "Movie",
          "Movie",
          "TV Show",
          "TV Show",
          "TV Show",
          "Movie",
          "Movie",
          "TV Show",
          "TV Show",
          "Movie",
          "Movie",
          "Movie",
          "Movie",
          "Movie",
          "Movie",
          "Movie",
          "Movie",
          "TV Show",
          "Movie",
          "TV Show",
          "Movie",
          "Movie",
          "Movie",
          "TV Show",
          "Movie",
          "TV Show",
          "Movie",
          "Movie",
          "Movie",
          "TV Show",
          "TV Show",
          "TV Show",
          "TV Show",
          "TV Show",
          "TV Show",
          "Movie",
          "Movie",
          "Movie",
          "Movie",
          "Movie",
          "Movie",
          "Movie",
          "TV Show",
          "TV Show",
          "TV Show",
          "Movie",
          "TV Show",
          "Movie",
          "Movie",
          "Movie",
          "TV Show",
          "Movie",
          "Movie",
          "Movie",
          "Movie",
          "Movie",
          "Movie",
          "Movie",
          "Movie",
          "Movie",
          "Movie",
          "Movie",
          "Movie",
          "Movie",
          "Movie",
          "TV Show",
          "TV Show",
          "Movie",
          "Movie",
          "TV Show",
          "Movie",
          "Movie",
          "TV Show",
          "Movie",
          "Movie",
          "Movie",
          "Movie",
          "Movie",
          "Movie",
          "Movie",
          "Movie",
          "Movie",
          "Movie",
          "Movie",
          "Movie",
          "Movie",
          "Movie",
          "Movie",
          "Movie",
          "Movie",
          "TV Show",
          "Movie",
          "TV Show",
          "TV Show",
          "TV Show",
          "TV Show",
          "Movie",
          "TV Show",
          "Movie",
          "TV Show",
          "TV Show",
          "TV Show",
          "Movie",
          "Movie",
          "Movie",
          "TV Show",
          "Movie",
          "TV Show",
          "TV Show",
          "Movie",
          "TV Show",
          "TV Show",
          "TV Show",
          "Movie",
          "Movie",
          "Movie",
          "Movie",
          "TV Show",
          "Movie",
          "Movie",
          "Movie",
          "Movie",
          "Movie",
          "Movie",
          "Movie",
          "TV Show",
          "TV Show",
          "TV Show",
          "TV Show",
          "TV Show",
          "Movie",
          "TV Show",
          "Movie",
          "TV Show",
          "Movie",
          "TV Show",
          "Movie",
          "TV Show",
          "TV Show",
          "Movie",
          "TV Show",
          "Movie",
          "TV Show",
          "Movie",
          "TV Show",
          "Movie",
          "TV Show",
          "Movie",
          "TV Show",
          "TV Show",
          "TV Show",
          "TV Show",
          "TV Show",
          "Movie",
          "TV Show",
          "TV Show",
          "Movie",
          "TV Show",
          "TV Show",
          "TV Show",
          "Movie",
          "Movie",
          "Movie",
          "Movie",
          "Movie",
          "Movie",
          "TV Show",
          "TV Show",
          "Movie",
          "Movie",
          "TV Show",
          "Movie",
          "Movie",
          "TV Show",
          "Movie",
          "Movie",
          "Movie",
          "Movie",
          "TV Show",
          "TV Show",
          "TV Show",
          "TV Show",
          "TV Show",
          "TV Show",
          "TV Show",
          "Movie",
          "Movie",
          "Movie",
          "Movie",
          "TV Show",
          "TV Show",
          "Movie",
          "Movie",
          "Movie",
          "Movie",
          "Movie",
          "Movie",
          "Movie",
          "Movie",
          "Movie",
          "Movie",
          "Movie",
          "TV Show",
          "TV Show",
          "TV Show",
          "Movie",
          "Movie",
          "Movie",
          "Movie",
          "TV Show",
          "TV Show",
          "Movie",
          "Movie",
          "Movie",
          "Movie",
          "TV Show",
          "Movie",
          "Movie",
          "Movie",
          "Movie",
          "Movie",
          "Movie",
          "TV Show",
          "Movie",
          "TV Show",
          "Movie",
          "Movie",
          "Movie",
          "Movie",
          "Movie",
          "Movie",
          "Movie",
          "Movie",
          "TV Show",
          "Movie",
          "Movie",
          "Movie",
          "Movie",
          "Movie",
          "TV Show",
          "Movie",
          "Movie",
          "Movie",
          "Movie",
          "Movie",
          "Movie",
          "Movie",
          "Movie",
          "Movie",
          "Movie",
          "Movie",
          "Movie",
          "Movie",
          "Movie",
          "TV Show",
          "TV Show",
          "Movie",
          "Movie",
          "TV Show",
          "TV Show",
          "Movie",
          "Movie",
          "Movie",
          "Movie",
          "TV Show",
          "TV Show",
          "TV Show",
          "Movie",
          "TV Show",
          "Movie",
          "Movie",
          "Movie",
          "Movie",
          "Movie",
          "Movie",
          "Movie",
          "Movie",
          "Movie",
          "Movie",
          "Movie",
          "Movie",
          "Movie",
          "TV Show",
          "TV Show",
          "Movie",
          "Movie",
          "Movie",
          "TV Show",
          "Movie",
          "Movie",
          "Movie",
          "Movie",
          "Movie",
          "Movie",
          "Movie",
          "Movie",
          "Movie",
          "Movie",
          "Movie",
          "TV Show",
          "TV Show",
          "Movie",
          "Movie",
          "TV Show",
          "Movie",
          "Movie",
          "Movie",
          "TV Show",
          "TV Show",
          "Movie",
          "Movie",
          "TV Show",
          "TV Show",
          "Movie",
          "TV Show",
          "Movie",
          "Movie",
          "Movie",
          "Movie",
          "Movie",
          "TV Show",
          "Movie",
          "Movie",
          "TV Show",
          "Movie",
          "TV Show",
          "Movie",
          "Movie",
          "TV Show",
          "Movie",
          "TV Show",
          "Movie",
          "Movie",
          "Movie",
          "Movie",
          "Movie",
          "TV Show",
          "TV Show",
          "TV Show",
          "Movie",
          "Movie",
          "Movie",
          "Movie",
          "TV Show",
          "Movie",
          "Movie",
          "TV Show",
          "Movie",
          "TV Show",
          "Movie",
          "Movie",
          "Movie",
          "Movie",
          "TV Show",
          "TV Show",
          "Movie",
          "Movie",
          "Movie",
          "Movie",
          "Movie",
          "Movie",
          "Movie",
          "Movie",
          "Movie",
          "Movie",
          "Movie",
          "Movie",
          "Movie",
          "Movie",
          "Movie",
          "Movie",
          "Movie",
          "Movie",
          "Movie",
          "Movie",
          "Movie",
          "Movie",
          "Movie",
          "Movie",
          "Movie",
          "Movie",
          "Movie",
          "Movie",
          "Movie",
          "Movie",
          "TV Show",
          "Movie",
          "Movie",
          "Movie",
          "Movie",
          "Movie",
          "Movie",
          "Movie",
          "Movie",
          "Movie",
          "TV Show",
          "Movie",
          "Movie",
          "TV Show",
          "TV Show",
          "TV Show",
          "Movie",
          "Movie",
          "TV Show",
          "Movie",
          "Movie",
          "Movie",
          "TV Show",
          "Movie",
          "Movie",
          "TV Show",
          "Movie",
          "TV Show",
          "TV Show",
          "TV Show",
          "TV Show",
          "TV Show",
          "TV Show",
          "TV Show",
          "TV Show",
          "TV Show",
          "Movie",
          "TV Show",
          "Movie",
          "Movie",
          "TV Show",
          "Movie",
          "Movie",
          "TV Show",
          "TV Show",
          "Movie",
          "TV Show",
          "Movie",
          "Movie",
          "Movie",
          "TV Show",
          "Movie",
          "TV Show",
          "Movie",
          "Movie",
          "Movie",
          "Movie",
          "Movie",
          "Movie",
          "TV Show",
          "TV Show",
          "Movie",
          "Movie",
          "TV Show",
          "Movie",
          "Movie",
          "Movie",
          "TV Show",
          "Movie",
          "Movie",
          "Movie",
          "Movie",
          "Movie",
          "Movie",
          "Movie",
          "TV Show",
          "TV Show",
          "Movie",
          "Movie",
          "Movie",
          "TV Show",
          "Movie",
          "TV Show",
          "TV Show",
          "Movie",
          "Movie",
          "Movie",
          "TV Show",
          "TV Show",
          "TV Show",
          "TV Show",
          "TV Show",
          "TV Show",
          "Movie",
          "Movie",
          "Movie",
          "Movie",
          "Movie",
          "Movie",
          "Movie",
          "Movie",
          "TV Show",
          "Movie",
          "Movie",
          "TV Show",
          "Movie",
          "Movie",
          "Movie",
          "Movie",
          "Movie",
          "Movie",
          "TV Show",
          "TV Show",
          "TV Show",
          "Movie",
          "Movie",
          "Movie",
          "Movie",
          "Movie",
          "TV Show",
          "Movie",
          "Movie",
          "TV Show",
          "TV Show",
          "Movie",
          "Movie",
          "TV Show",
          "Movie",
          "TV Show",
          "TV Show",
          "Movie",
          "TV Show",
          "Movie",
          "Movie",
          "TV Show",
          "Movie",
          "Movie",
          "TV Show",
          "Movie",
          "Movie",
          "Movie",
          "TV Show",
          "Movie",
          "Movie",
          "Movie",
          "TV Show",
          "Movie",
          "Movie",
          "Movie",
          "Movie",
          "Movie",
          "Movie",
          "Movie",
          "Movie",
          "Movie",
          "Movie",
          "Movie",
          "Movie",
          "Movie",
          "TV Show",
          "TV Show",
          "TV Show",
          "TV Show",
          "TV Show",
          "Movie",
          "TV Show",
          "TV Show",
          "TV Show",
          "Movie",
          "Movie",
          "Movie",
          "TV Show",
          "TV Show",
          "Movie",
          "Movie",
          "Movie",
          "Movie",
          "Movie",
          "Movie",
          "Movie",
          "Movie",
          "Movie",
          "TV Show",
          "TV Show",
          "Movie",
          "TV Show",
          "Movie",
          "TV Show",
          "Movie",
          "TV Show",
          "Movie",
          "Movie",
          "Movie",
          "Movie",
          "TV Show",
          "Movie",
          "TV Show",
          "Movie",
          "TV Show",
          "Movie",
          "Movie",
          "Movie",
          "Movie",
          "TV Show",
          "TV Show",
          "TV Show",
          "Movie",
          "Movie",
          "Movie",
          "Movie",
          "Movie",
          "Movie",
          "Movie",
          "TV Show",
          "Movie",
          "TV Show",
          "TV Show",
          "Movie",
          "Movie",
          "Movie",
          "Movie",
          "Movie",
          "TV Show",
          "TV Show",
          "Movie",
          "Movie",
          "TV Show",
          "TV Show",
          "Movie",
          "TV Show",
          "TV Show",
          "TV Show",
          "Movie",
          "Movie",
          "Movie",
          "Movie",
          "Movie",
          "TV Show",
          "Movie",
          "Movie",
          "Movie",
          "Movie",
          "TV Show",
          "Movie",
          "Movie",
          "TV Show",
          "Movie",
          "Movie",
          "TV Show",
          "Movie",
          "Movie",
          "Movie",
          "Movie",
          "Movie",
          "Movie",
          "TV Show",
          "Movie",
          "Movie",
          "Movie",
          "Movie",
          "TV Show",
          "Movie",
          "TV Show",
          "Movie",
          "Movie",
          "Movie",
          "Movie",
          "Movie",
          "TV Show",
          "Movie",
          "Movie",
          "Movie",
          "Movie",
          "Movie",
          "TV Show",
          "Movie",
          "Movie",
          "Movie",
          "Movie",
          "Movie",
          "Movie",
          "Movie",
          "TV Show",
          "TV Show",
          "Movie",
          "Movie",
          "Movie",
          "Movie",
          "Movie",
          "Movie",
          "Movie",
          "Movie",
          "Movie",
          "TV Show",
          "Movie",
          "Movie",
          "Movie",
          "Movie",
          "Movie",
          "TV Show",
          "TV Show",
          "Movie",
          "Movie",
          "Movie",
          "Movie",
          "Movie",
          "Movie",
          "Movie",
          "Movie",
          "Movie",
          "Movie",
          "Movie",
          "Movie",
          "Movie",
          "Movie",
          "Movie",
          "Movie",
          "Movie",
          "Movie",
          "Movie",
          "Movie",
          "Movie",
          "Movie",
          "Movie",
          "TV Show",
          "Movie",
          "Movie",
          "Movie",
          "Movie",
          "Movie",
          "Movie",
          "Movie",
          "Movie",
          "Movie",
          "TV Show",
          "Movie",
          "Movie",
          "Movie",
          "TV Show",
          "Movie",
          "Movie",
          "Movie",
          "Movie",
          "Movie",
          "TV Show",
          "Movie",
          "TV Show",
          "Movie",
          "Movie",
          "Movie",
          "Movie",
          "Movie",
          "Movie",
          "Movie",
          "Movie",
          "Movie",
          "Movie",
          "Movie",
          "Movie",
          "Movie",
          "Movie",
          "TV Show",
          "Movie",
          "Movie",
          "Movie",
          "Movie",
          "Movie",
          "Movie",
          "Movie",
          "Movie",
          "Movie",
          "Movie",
          "Movie",
          "Movie",
          "Movie",
          "Movie",
          "Movie",
          "Movie",
          "Movie",
          "Movie",
          "Movie",
          "Movie",
          "Movie",
          "Movie",
          "TV Show",
          "Movie",
          "TV Show",
          "Movie",
          "Movie",
          "Movie",
          "Movie",
          "Movie",
          "Movie",
          "Movie",
          "Movie",
          "Movie",
          "Movie",
          "TV Show",
          "Movie",
          "Movie",
          "Movie",
          "Movie",
          "Movie",
          "Movie",
          "TV Show",
          "Movie",
          "Movie",
          "Movie",
          "Movie",
          "Movie",
          "Movie",
          "Movie",
          "Movie",
          "Movie",
          "Movie",
          "Movie",
          "Movie",
          "Movie",
          "Movie",
          "Movie",
          "Movie",
          "Movie",
          "Movie",
          "Movie",
          "Movie",
          "Movie",
          "TV Show",
          "TV Show",
          "Movie",
          "Movie",
          "Movie",
          "Movie",
          "Movie",
          "Movie",
          "Movie",
          "Movie",
          "Movie",
          "Movie",
          "Movie",
          "TV Show",
          "Movie",
          "Movie",
          "Movie",
          "Movie",
          "Movie",
          "Movie",
          "Movie",
          "Movie",
          "Movie",
          "TV Show",
          "Movie",
          "Movie",
          "Movie",
          "Movie",
          "TV Show",
          "Movie",
          "Movie",
          "Movie",
          "Movie",
          "Movie",
          "TV Show",
          "TV Show",
          "TV Show",
          "Movie",
          "Movie",
          "TV Show",
          "Movie",
          "Movie",
          "Movie",
          "Movie",
          "Movie",
          "Movie",
          "Movie",
          "Movie",
          "Movie",
          "Movie",
          "Movie",
          "Movie",
          "Movie",
          "Movie",
          "Movie",
          "Movie",
          "Movie",
          "Movie",
          "Movie",
          "Movie",
          "TV Show",
          "Movie",
          "Movie",
          "Movie",
          "Movie",
          "Movie",
          "TV Show",
          "Movie",
          "Movie",
          "Movie",
          "Movie",
          "TV Show",
          "Movie",
          "TV Show",
          "Movie",
          "Movie",
          "Movie",
          "Movie",
          "Movie",
          "Movie",
          "TV Show",
          "Movie",
          "Movie",
          "Movie",
          "Movie",
          "Movie",
          "Movie",
          "Movie",
          "Movie",
          "Movie",
          "TV Show",
          "Movie",
          "Movie",
          "Movie",
          "Movie",
          "TV Show",
          "Movie",
          "Movie",
          "Movie",
          "Movie",
          "TV Show",
          "TV Show",
          "Movie",
          "Movie",
          "Movie",
          "Movie",
          "Movie",
          "Movie",
          "TV Show",
          "Movie",
          "Movie",
          "TV Show",
          "Movie",
          "Movie",
          "Movie",
          "Movie",
          "Movie",
          "Movie",
          "Movie",
          "Movie",
          "Movie",
          "Movie",
          "Movie",
          "Movie",
          "Movie",
          "Movie",
          "Movie",
          "Movie",
          "TV Show",
          "Movie",
          "Movie",
          "Movie",
          "TV Show",
          "Movie",
          "Movie",
          "Movie",
          "Movie",
          "Movie",
          "Movie",
          "Movie",
          "Movie",
          "Movie",
          "Movie",
          "Movie",
          "Movie",
          "Movie",
          "Movie",
          "TV Show",
          "Movie",
          "Movie",
          "TV Show",
          "Movie",
          "Movie",
          "TV Show",
          "Movie",
          "Movie",
          "Movie",
          "Movie",
          "Movie",
          "Movie",
          "Movie",
          "Movie",
          "TV Show",
          "Movie",
          "Movie",
          "Movie",
          "Movie",
          "Movie",
          "Movie",
          "Movie",
          "Movie",
          "Movie",
          "Movie",
          "Movie",
          "Movie",
          "Movie",
          "Movie",
          "Movie",
          "Movie",
          "Movie",
          "Movie",
          "Movie",
          "Movie",
          "TV Show",
          "TV Show",
          "Movie",
          "TV Show",
          "TV Show",
          "Movie",
          "Movie",
          "Movie",
          "Movie",
          "TV Show",
          "Movie",
          "Movie",
          "Movie",
          "TV Show",
          "TV Show",
          "TV Show",
          "TV Show",
          "Movie",
          "Movie",
          "Movie",
          "Movie",
          "Movie",
          "Movie",
          "Movie",
          "Movie",
          "Movie",
          "TV Show",
          "TV Show",
          "Movie",
          "Movie",
          "TV Show",
          "Movie",
          "TV Show",
          "Movie",
          "Movie",
          "Movie",
          "Movie",
          "Movie",
          "Movie",
          "Movie",
          "Movie",
          "Movie",
          "TV Show",
          "Movie",
          "Movie",
          "TV Show",
          "TV Show",
          "Movie",
          "Movie",
          "Movie",
          "Movie",
          "Movie",
          "TV Show",
          "Movie",
          "Movie",
          "TV Show",
          "Movie",
          "Movie",
          "Movie",
          "Movie",
          "Movie",
          "Movie",
          "Movie",
          "Movie",
          "Movie",
          "Movie",
          "Movie",
          "Movie",
          "Movie",
          "TV Show",
          "TV Show",
          "Movie",
          "Movie",
          "Movie",
          "TV Show",
          "Movie",
          "Movie",
          "Movie",
          "Movie",
          "Movie",
          "Movie",
          "Movie",
          "Movie",
          "Movie",
          "Movie",
          "Movie",
          "TV Show",
          "Movie",
          "Movie",
          "Movie",
          "Movie",
          "Movie",
          "TV Show",
          "Movie",
          "Movie",
          "Movie",
          "Movie",
          "Movie",
          "TV Show",
          "Movie",
          "Movie",
          "Movie",
          "Movie",
          "Movie",
          "Movie",
          "Movie",
          "Movie",
          "Movie",
          "TV Show",
          "Movie",
          "Movie",
          "TV Show",
          "TV Show",
          "Movie",
          "Movie",
          "TV Show",
          "Movie",
          "Movie",
          "Movie",
          "TV Show",
          "Movie",
          "Movie",
          "TV Show",
          "Movie",
          "TV Show",
          "Movie",
          "Movie",
          "Movie",
          "Movie",
          "TV Show",
          "Movie",
          "Movie",
          "TV Show",
          "Movie",
          "Movie",
          "Movie",
          "TV Show",
          "Movie",
          "Movie",
          "Movie",
          "TV Show",
          "Movie",
          "Movie",
          "Movie",
          "TV Show",
          "Movie",
          "Movie",
          "Movie",
          "Movie",
          "TV Show",
          "Movie",
          "Movie",
          "TV Show",
          "Movie",
          "Movie",
          "TV Show",
          "Movie",
          "Movie",
          "TV Show",
          "TV Show",
          "Movie",
          "Movie",
          "TV Show",
          "Movie",
          "TV Show",
          "Movie",
          "Movie",
          "TV Show",
          "Movie",
          "Movie",
          "Movie",
          "TV Show",
          "Movie",
          "Movie",
          "Movie",
          "Movie",
          "Movie",
          "TV Show",
          "Movie",
          "Movie",
          "Movie",
          "TV Show",
          "Movie",
          "Movie",
          "Movie",
          "Movie",
          "Movie",
          "Movie",
          "Movie",
          "Movie",
          "Movie",
          "Movie",
          "Movie",
          "Movie",
          "Movie",
          "Movie",
          "Movie",
          "Movie",
          "Movie",
          "Movie",
          "Movie",
          "Movie",
          "TV Show",
          "Movie",
          "Movie",
          "Movie",
          "TV Show",
          "TV Show",
          "TV Show",
          "Movie",
          "TV Show",
          "TV Show",
          "Movie",
          "Movie",
          "Movie",
          "Movie",
          "Movie",
          "Movie",
          "Movie",
          "Movie",
          "TV Show",
          "Movie",
          "Movie",
          "Movie",
          "Movie",
          "Movie",
          "Movie",
          "Movie",
          "TV Show",
          "Movie",
          "Movie",
          "Movie",
          "Movie",
          "Movie",
          "TV Show",
          "Movie",
          "Movie",
          "Movie",
          "TV Show",
          "Movie",
          "Movie",
          "TV Show",
          "Movie",
          "Movie",
          "Movie",
          "Movie",
          "TV Show",
          "Movie",
          "Movie",
          "TV Show",
          "Movie",
          "Movie",
          "Movie",
          "Movie",
          "Movie",
          "TV Show",
          "TV Show",
          "TV Show",
          "TV Show",
          "TV Show",
          "TV Show",
          "Movie",
          "Movie",
          "Movie",
          "TV Show",
          "TV Show",
          "Movie",
          "Movie",
          "Movie",
          "Movie",
          "TV Show",
          "TV Show",
          "Movie",
          "Movie",
          "Movie",
          "TV Show",
          "Movie",
          "Movie",
          "Movie",
          "Movie",
          "Movie",
          "Movie",
          "Movie",
          "TV Show",
          "Movie",
          "Movie",
          "Movie",
          "Movie",
          "Movie",
          "TV Show",
          "Movie",
          "Movie",
          "Movie",
          "TV Show",
          "Movie",
          "Movie",
          "Movie",
          "Movie",
          "Movie",
          "Movie",
          "TV Show",
          "Movie",
          "Movie",
          "Movie",
          "Movie",
          "Movie",
          "Movie",
          "TV Show",
          "Movie",
          "Movie",
          "TV Show",
          "TV Show",
          "Movie",
          "Movie",
          "Movie",
          "Movie",
          "Movie",
          "Movie",
          "Movie",
          "TV Show",
          "Movie",
          "Movie",
          "TV Show",
          "TV Show",
          "Movie",
          "Movie",
          "Movie",
          "Movie",
          "Movie",
          "Movie",
          "Movie",
          "Movie",
          "Movie",
          "Movie",
          "Movie",
          "Movie",
          "Movie",
          "TV Show",
          "TV Show",
          "Movie",
          "Movie",
          "Movie",
          "Movie",
          "Movie",
          "Movie",
          "Movie",
          "Movie",
          "Movie",
          "Movie",
          "Movie",
          "Movie",
          "Movie",
          "TV Show",
          "Movie",
          "TV Show",
          "Movie",
          "Movie",
          "Movie",
          "Movie",
          "Movie",
          "Movie",
          "Movie",
          "TV Show",
          "Movie",
          "TV Show",
          "Movie",
          "Movie",
          "Movie",
          "Movie",
          "TV Show",
          "Movie",
          "Movie",
          "Movie",
          "Movie",
          "Movie",
          "Movie",
          "Movie",
          "Movie",
          "Movie",
          "Movie",
          "Movie",
          "Movie",
          "Movie",
          "Movie",
          "Movie",
          "Movie",
          "TV Show",
          "Movie",
          "Movie",
          "Movie",
          "Movie",
          "Movie",
          "Movie",
          "Movie",
          "Movie",
          "Movie",
          "Movie",
          "TV Show",
          "Movie",
          "Movie",
          "Movie",
          "Movie",
          "TV Show",
          "TV Show",
          "Movie",
          "Movie",
          "Movie",
          "Movie",
          "Movie",
          "TV Show",
          "TV Show",
          "TV Show",
          "Movie",
          "Movie",
          "TV Show",
          "Movie",
          "Movie",
          "Movie",
          "Movie",
          "Movie",
          "Movie",
          "Movie",
          "TV Show",
          "TV Show",
          "TV Show",
          "TV Show",
          "Movie",
          "TV Show",
          "Movie",
          "TV Show",
          "Movie",
          "Movie",
          "Movie",
          "Movie",
          "Movie",
          "Movie",
          "Movie",
          "Movie",
          "Movie",
          "Movie",
          "Movie",
          "TV Show",
          "Movie",
          "Movie",
          "TV Show",
          "Movie",
          "TV Show",
          "Movie",
          "TV Show",
          "Movie",
          "Movie",
          "Movie",
          "Movie",
          "Movie",
          "Movie",
          "Movie",
          "Movie",
          "Movie",
          "Movie",
          "Movie",
          "TV Show",
          "Movie",
          "Movie",
          "Movie",
          "Movie",
          "TV Show",
          "Movie",
          "Movie",
          "TV Show",
          "TV Show",
          "Movie",
          "Movie",
          "Movie",
          "Movie",
          "Movie",
          "TV Show",
          "Movie",
          "Movie",
          "Movie",
          "TV Show",
          "Movie",
          "Movie",
          "TV Show",
          "TV Show",
          "Movie",
          "Movie",
          "Movie",
          "Movie",
          "Movie",
          "Movie",
          "Movie",
          "Movie",
          "TV Show",
          "TV Show",
          "Movie",
          "TV Show",
          "Movie",
          "Movie",
          "Movie",
          "Movie",
          "Movie",
          "TV Show",
          "Movie",
          "Movie",
          "Movie",
          "Movie",
          "Movie",
          "Movie",
          "Movie",
          "Movie",
          "Movie",
          "Movie",
          "Movie",
          "Movie",
          "TV Show",
          "Movie",
          "Movie",
          "TV Show",
          "Movie",
          "Movie",
          "Movie",
          "TV Show",
          "Movie",
          "Movie",
          "TV Show",
          "TV Show",
          "Movie",
          "Movie",
          "Movie",
          "Movie",
          "Movie",
          "Movie",
          "Movie",
          "TV Show",
          "Movie",
          "Movie",
          "TV Show",
          "Movie",
          "Movie",
          "TV Show",
          "Movie",
          "Movie",
          "TV Show",
          "Movie",
          "Movie",
          "Movie",
          "TV Show",
          "Movie",
          "Movie",
          "Movie",
          "Movie",
          "Movie",
          "Movie",
          "Movie",
          "TV Show",
          "Movie",
          "Movie",
          "TV Show",
          "Movie",
          "Movie",
          "Movie",
          "TV Show",
          "Movie",
          "Movie",
          "Movie",
          "Movie",
          "Movie",
          "Movie",
          "Movie",
          "Movie",
          "Movie",
          "TV Show",
          "Movie",
          "TV Show",
          "Movie",
          "TV Show",
          "TV Show",
          "Movie",
          "TV Show",
          "Movie",
          "Movie",
          "Movie",
          "Movie",
          "Movie",
          "Movie",
          "TV Show",
          "TV Show",
          "TV Show",
          "Movie",
          "TV Show",
          "Movie",
          "Movie",
          "TV Show",
          "Movie",
          "Movie",
          "Movie",
          "Movie",
          "Movie",
          "Movie",
          "Movie",
          "TV Show",
          "Movie",
          "Movie",
          "Movie",
          "Movie",
          "Movie",
          "Movie",
          "Movie",
          "TV Show",
          "Movie",
          "Movie",
          "Movie",
          "Movie",
          "Movie",
          "Movie",
          "Movie",
          "Movie",
          "Movie",
          "Movie",
          "TV Show",
          "Movie",
          "Movie",
          "TV Show",
          "Movie",
          "TV Show",
          "Movie",
          "Movie",
          "Movie",
          "Movie",
          "Movie",
          "Movie",
          "Movie",
          "Movie",
          "Movie",
          "Movie",
          "Movie",
          "TV Show",
          "Movie",
          "Movie",
          "Movie",
          "TV Show",
          "TV Show",
          "Movie",
          "Movie",
          "Movie",
          "TV Show",
          "TV Show",
          "Movie",
          "Movie",
          "Movie",
          "Movie",
          "Movie",
          "TV Show",
          "Movie",
          "Movie",
          "Movie",
          "Movie",
          "TV Show",
          "Movie",
          "Movie",
          "Movie",
          "Movie",
          "Movie",
          "Movie",
          "Movie",
          "Movie",
          "Movie",
          "Movie",
          "TV Show",
          "Movie",
          "TV Show",
          "Movie",
          "Movie",
          "TV Show",
          "TV Show",
          "Movie",
          "Movie",
          "Movie",
          "Movie",
          "Movie",
          "Movie",
          "TV Show",
          "Movie",
          "TV Show",
          "Movie",
          "Movie",
          "TV Show",
          "Movie",
          "TV Show",
          "Movie",
          "Movie",
          "Movie",
          "TV Show",
          "Movie",
          "Movie",
          "Movie",
          "Movie",
          "Movie",
          "Movie",
          "Movie",
          "Movie",
          "Movie",
          "TV Show",
          "Movie",
          "TV Show",
          "Movie",
          "TV Show",
          "Movie",
          "Movie",
          "Movie",
          "Movie",
          "Movie",
          "Movie",
          "Movie",
          "TV Show",
          "Movie",
          "TV Show",
          "Movie",
          "Movie",
          "Movie",
          "TV Show",
          "TV Show",
          "TV Show",
          "Movie",
          "Movie",
          "TV Show",
          "Movie",
          "TV Show",
          "Movie",
          "Movie",
          "Movie",
          "Movie",
          "TV Show",
          "Movie",
          "Movie",
          "Movie",
          "Movie",
          "Movie",
          "Movie",
          "Movie",
          "Movie",
          "Movie",
          "Movie",
          "Movie",
          "Movie",
          "Movie",
          "Movie",
          "TV Show",
          "Movie",
          "TV Show",
          "Movie",
          "Movie",
          "Movie",
          "Movie",
          "Movie",
          "Movie",
          "Movie",
          "TV Show",
          "Movie",
          "Movie",
          "Movie",
          "Movie",
          "Movie",
          "Movie",
          "Movie",
          "Movie",
          "Movie",
          "Movie",
          "TV Show",
          "Movie",
          "Movie",
          "Movie",
          "Movie",
          "Movie",
          "Movie",
          "TV Show",
          "Movie",
          "Movie",
          "Movie",
          "TV Show",
          "TV Show",
          "Movie",
          "Movie",
          "Movie",
          "TV Show",
          "Movie",
          "Movie",
          "Movie",
          "Movie",
          "Movie",
          "TV Show",
          "Movie",
          "Movie",
          "Movie",
          "Movie",
          "Movie",
          "Movie",
          "Movie",
          "Movie",
          "Movie",
          "Movie",
          "TV Show",
          "Movie",
          "Movie",
          "Movie",
          "TV Show",
          "Movie",
          "Movie",
          "Movie",
          "Movie",
          "TV Show",
          "Movie",
          "Movie",
          "Movie",
          "Movie",
          "Movie",
          "Movie",
          "Movie",
          "Movie",
          "Movie",
          "TV Show",
          "Movie",
          "Movie",
          "Movie",
          "Movie",
          "Movie",
          "Movie",
          "Movie",
          "Movie",
          "Movie",
          "Movie",
          "TV Show",
          "TV Show",
          "TV Show",
          "TV Show",
          "Movie",
          "TV Show",
          "Movie",
          "Movie",
          "Movie",
          "Movie",
          "Movie",
          "Movie",
          "Movie",
          "Movie",
          "Movie",
          "Movie",
          "Movie",
          "Movie",
          "TV Show",
          "Movie",
          "TV Show",
          "TV Show",
          "Movie",
          "Movie",
          "Movie",
          "Movie",
          "Movie",
          "Movie",
          "Movie",
          "Movie",
          "Movie",
          "Movie",
          "TV Show",
          "Movie",
          "Movie",
          "Movie",
          "Movie",
          "Movie",
          "Movie",
          "Movie",
          "TV Show",
          "Movie",
          "Movie",
          "TV Show",
          "Movie",
          "TV Show",
          "Movie",
          "Movie",
          "Movie",
          "TV Show",
          "Movie",
          "TV Show",
          "Movie",
          "Movie",
          "Movie",
          "Movie",
          "Movie",
          "Movie",
          "Movie",
          "Movie",
          "TV Show",
          "Movie",
          "TV Show",
          "TV Show",
          "Movie",
          "Movie",
          "Movie",
          "Movie",
          "TV Show",
          "Movie",
          "Movie",
          "Movie",
          "Movie",
          "Movie",
          "Movie",
          "TV Show",
          "Movie",
          "TV Show",
          "Movie",
          "Movie",
          "Movie",
          "Movie",
          "Movie",
          "Movie",
          "Movie",
          "Movie",
          "Movie",
          "Movie",
          "Movie",
          "Movie",
          "Movie",
          "Movie",
          "Movie",
          "Movie",
          "Movie",
          "TV Show",
          "TV Show",
          "TV Show",
          "Movie",
          "Movie",
          "Movie",
          "Movie",
          "TV Show",
          "Movie",
          "TV Show",
          "TV Show",
          "Movie",
          "TV Show",
          "Movie",
          "Movie",
          "Movie",
          "Movie",
          "Movie",
          "Movie",
          "Movie",
          "Movie",
          "TV Show",
          "Movie",
          "Movie",
          "Movie",
          "Movie",
          "Movie",
          "Movie",
          "Movie",
          "Movie",
          "Movie",
          "Movie",
          "Movie",
          "Movie",
          "TV Show",
          "Movie",
          "Movie",
          "Movie",
          "Movie",
          "TV Show",
          "TV Show",
          "Movie",
          "TV Show",
          "Movie",
          "Movie",
          "Movie",
          "Movie",
          "TV Show",
          "Movie",
          "Movie",
          "Movie",
          "Movie",
          "Movie",
          "Movie",
          "Movie",
          "Movie",
          "Movie",
          "Movie",
          "Movie",
          "Movie",
          "TV Show",
          "Movie",
          "Movie",
          "Movie",
          "Movie",
          "Movie",
          "Movie",
          "Movie",
          "Movie",
          "Movie",
          "TV Show",
          "Movie",
          "Movie",
          "Movie",
          "Movie",
          "Movie",
          "Movie",
          "Movie",
          "Movie",
          "TV Show",
          "TV Show",
          "TV Show",
          "TV Show",
          "TV Show",
          "Movie",
          "Movie",
          "Movie",
          "Movie",
          "Movie",
          "TV Show",
          "Movie",
          "TV Show",
          "Movie",
          "TV Show",
          "Movie",
          "Movie",
          "Movie",
          "Movie",
          "Movie",
          "Movie",
          "Movie",
          "Movie",
          "Movie",
          "Movie",
          "TV Show",
          "Movie",
          "Movie",
          "Movie",
          "Movie",
          "Movie",
          "TV Show",
          "Movie",
          "TV Show",
          "TV Show",
          "Movie",
          "Movie",
          "TV Show",
          "Movie",
          "Movie",
          "Movie",
          "TV Show",
          "Movie",
          "TV Show",
          "Movie",
          "Movie",
          "TV Show",
          "TV Show",
          "Movie",
          "Movie",
          "Movie",
          "Movie",
          "Movie",
          "TV Show",
          "Movie",
          "Movie",
          "Movie",
          "Movie",
          "TV Show",
          "Movie",
          "Movie",
          "Movie",
          "Movie",
          "Movie",
          "Movie",
          "Movie",
          "Movie",
          "TV Show",
          "Movie",
          "Movie",
          "TV Show",
          "TV Show",
          "Movie",
          "Movie",
          "Movie",
          "Movie",
          "Movie",
          "TV Show",
          "Movie",
          "TV Show",
          "Movie",
          "Movie",
          "Movie",
          "Movie",
          "TV Show",
          "Movie",
          "TV Show",
          "Movie",
          "TV Show",
          "TV Show",
          "Movie",
          "Movie",
          "Movie",
          "Movie",
          "TV Show",
          "TV Show",
          "Movie",
          "Movie",
          "Movie",
          "TV Show",
          "Movie",
          "Movie",
          "Movie",
          "Movie",
          "Movie",
          "TV Show",
          "Movie",
          "Movie",
          "Movie",
          "Movie",
          "Movie",
          "Movie",
          "Movie",
          "Movie",
          "TV Show",
          "Movie",
          "Movie",
          "Movie",
          "Movie",
          "Movie",
          "Movie",
          "TV Show",
          "TV Show",
          "Movie",
          "Movie",
          "Movie",
          "Movie",
          "TV Show",
          "TV Show",
          "TV Show",
          "Movie",
          "TV Show",
          "Movie",
          "Movie",
          "Movie",
          "Movie",
          "Movie",
          "Movie",
          "TV Show",
          "Movie",
          "Movie",
          "Movie",
          "Movie",
          "Movie",
          "Movie",
          "Movie",
          "Movie",
          "Movie",
          "Movie",
          "Movie",
          "TV Show",
          "Movie",
          "TV Show",
          "Movie",
          "TV Show",
          "TV Show",
          "Movie",
          "Movie",
          "Movie",
          "Movie",
          "Movie",
          "Movie",
          "Movie",
          "Movie",
          "TV Show",
          "Movie",
          "Movie",
          "Movie",
          "Movie",
          "Movie",
          "Movie",
          "Movie",
          "Movie",
          "Movie",
          "Movie",
          "Movie",
          "Movie",
          "Movie",
          "Movie",
          "Movie",
          "Movie",
          "TV Show",
          "TV Show",
          "Movie",
          "TV Show",
          "Movie",
          "Movie",
          "Movie",
          "Movie",
          "Movie",
          "Movie",
          "Movie",
          "TV Show",
          "TV Show",
          "Movie",
          "TV Show",
          "Movie",
          "Movie",
          "Movie",
          "TV Show",
          "Movie",
          "TV Show",
          "Movie",
          "TV Show",
          "Movie",
          "TV Show",
          "Movie",
          "Movie",
          "Movie",
          "TV Show",
          "Movie",
          "Movie",
          "Movie",
          "Movie",
          "TV Show",
          "Movie",
          "Movie",
          "Movie",
          "Movie",
          "Movie",
          "Movie",
          "Movie",
          "Movie",
          "Movie",
          "Movie",
          "Movie",
          "TV Show",
          "Movie",
          "Movie",
          "TV Show",
          "Movie",
          "TV Show",
          "Movie",
          "Movie",
          "Movie",
          "Movie",
          "Movie",
          "Movie",
          "Movie",
          "Movie",
          "Movie",
          "Movie",
          "Movie",
          "Movie",
          "Movie",
          "Movie",
          "Movie",
          "Movie",
          "TV Show",
          "Movie",
          "TV Show",
          "TV Show",
          "Movie",
          "Movie",
          "Movie",
          "Movie",
          "Movie",
          "Movie",
          "Movie",
          "Movie",
          "Movie",
          "Movie",
          "Movie",
          "Movie",
          "Movie",
          "Movie",
          "Movie",
          "TV Show",
          "Movie",
          "Movie",
          "Movie",
          "Movie",
          "Movie",
          "Movie",
          "TV Show",
          "TV Show",
          "Movie",
          "Movie",
          "Movie",
          "Movie",
          "Movie",
          "Movie",
          "Movie",
          "Movie",
          "TV Show",
          "Movie",
          "TV Show",
          "Movie",
          "Movie",
          "Movie",
          "Movie",
          "Movie",
          "Movie",
          "TV Show",
          "Movie",
          "Movie",
          "Movie",
          "TV Show",
          "Movie",
          "Movie",
          "Movie",
          "Movie",
          "Movie",
          "Movie",
          "Movie",
          "Movie",
          "Movie",
          "Movie",
          "Movie",
          "Movie",
          "Movie",
          "Movie",
          "Movie",
          "Movie",
          "TV Show",
          "TV Show",
          "Movie",
          "TV Show",
          "TV Show",
          "TV Show",
          "TV Show",
          "Movie",
          "TV Show",
          "Movie",
          "Movie",
          "Movie",
          "Movie",
          "Movie",
          "Movie",
          "Movie",
          "Movie",
          "Movie",
          "TV Show",
          "Movie",
          "TV Show",
          "TV Show",
          "Movie",
          "Movie",
          "Movie",
          "TV Show",
          "Movie",
          "Movie",
          "Movie",
          "TV Show",
          "Movie",
          "Movie",
          "Movie",
          "Movie",
          "Movie",
          "Movie",
          "Movie",
          "Movie",
          "Movie",
          "Movie",
          "Movie",
          "Movie",
          "Movie",
          "Movie",
          "Movie",
          "Movie",
          "Movie",
          "Movie",
          "Movie",
          "Movie",
          "Movie",
          "Movie",
          "Movie",
          "Movie",
          "Movie",
          "TV Show",
          "TV Show",
          "Movie",
          "Movie",
          "TV Show",
          "TV Show",
          "TV Show",
          "Movie",
          "Movie",
          "TV Show",
          "Movie",
          "Movie",
          "Movie",
          "Movie",
          "Movie",
          "Movie",
          "Movie",
          "TV Show",
          "Movie",
          "Movie",
          "Movie",
          "Movie",
          "Movie",
          "TV Show",
          "Movie",
          "TV Show",
          "TV Show",
          "Movie",
          "Movie",
          "Movie",
          "Movie",
          "Movie",
          "Movie",
          "Movie",
          "Movie",
          "Movie",
          "Movie",
          "Movie",
          "Movie",
          "Movie",
          "Movie",
          "Movie",
          "Movie",
          "TV Show",
          "Movie",
          "Movie",
          "Movie",
          "Movie",
          "TV Show",
          "Movie",
          "Movie",
          "TV Show",
          "TV Show",
          "Movie",
          "Movie",
          "Movie",
          "TV Show",
          "Movie",
          "Movie",
          "Movie",
          "Movie",
          "Movie",
          "Movie",
          "Movie",
          "Movie",
          "Movie",
          "TV Show",
          "Movie",
          "Movie",
          "Movie",
          "TV Show",
          "Movie",
          "Movie",
          "Movie",
          "Movie",
          "TV Show",
          "Movie",
          "Movie",
          "Movie",
          "Movie",
          "Movie",
          "Movie",
          "TV Show",
          "Movie",
          "Movie",
          "Movie",
          "TV Show",
          "TV Show",
          "Movie",
          "Movie",
          "Movie",
          "Movie",
          "Movie",
          "Movie",
          "Movie",
          "TV Show",
          "Movie",
          "Movie",
          "TV Show",
          "Movie",
          "Movie",
          "Movie",
          "TV Show",
          "Movie",
          "Movie",
          "Movie",
          "TV Show",
          "Movie",
          "Movie",
          "Movie",
          "Movie",
          "Movie",
          "Movie",
          "Movie",
          "Movie",
          "Movie",
          "Movie",
          "Movie",
          "Movie",
          "Movie",
          "TV Show",
          "Movie",
          "Movie",
          "Movie",
          "TV Show",
          "TV Show",
          "Movie",
          "Movie",
          "Movie",
          "Movie",
          "Movie",
          "Movie",
          "Movie",
          "TV Show",
          "Movie",
          "Movie",
          "TV Show",
          "TV Show",
          "TV Show",
          "TV Show",
          "TV Show",
          "TV Show",
          "TV Show",
          "TV Show",
          "TV Show",
          "TV Show",
          "TV Show",
          "TV Show",
          "TV Show",
          "TV Show",
          "TV Show",
          "Movie",
          "Movie",
          "Movie",
          "TV Show",
          "Movie",
          "TV Show",
          "Movie",
          "Movie",
          "TV Show",
          "TV Show",
          "TV Show",
          "TV Show",
          "TV Show",
          "Movie",
          "Movie",
          "Movie",
          "Movie",
          "Movie",
          "Movie",
          "Movie",
          "Movie",
          "TV Show",
          "Movie",
          "Movie",
          "TV Show",
          "Movie",
          "TV Show",
          "Movie",
          "Movie",
          "Movie",
          "Movie",
          "Movie",
          "TV Show",
          "Movie",
          "TV Show",
          "Movie",
          "TV Show",
          "Movie",
          "TV Show",
          "TV Show",
          "Movie",
          "TV Show",
          "Movie",
          "Movie",
          "Movie",
          "Movie",
          "Movie",
          "Movie",
          "Movie",
          "Movie",
          "Movie",
          "Movie",
          "Movie",
          "Movie",
          "TV Show",
          "Movie",
          "Movie",
          "Movie",
          "Movie",
          "Movie",
          "Movie",
          "TV Show",
          "Movie",
          "Movie",
          "TV Show",
          "Movie",
          "TV Show",
          "Movie",
          "TV Show",
          "Movie",
          "Movie",
          "Movie",
          "Movie",
          "TV Show",
          "Movie",
          "Movie",
          "TV Show",
          "Movie",
          "Movie",
          "Movie",
          "Movie",
          "Movie",
          "TV Show",
          "Movie",
          "Movie",
          "Movie",
          "Movie",
          "Movie",
          "TV Show",
          "Movie",
          "TV Show",
          "Movie",
          "Movie",
          "TV Show",
          "Movie",
          "Movie",
          "TV Show",
          "Movie",
          "TV Show",
          "Movie",
          "Movie",
          "Movie",
          "Movie",
          "Movie",
          "TV Show",
          "Movie",
          "Movie",
          "Movie",
          "Movie",
          "Movie",
          "Movie",
          "Movie",
          "Movie",
          "Movie",
          "Movie",
          "Movie",
          "Movie",
          "Movie",
          "TV Show",
          "Movie",
          "Movie",
          "Movie",
          "TV Show",
          "TV Show",
          "Movie",
          "Movie",
          "Movie",
          "Movie",
          "Movie",
          "Movie",
          "Movie",
          "Movie",
          "TV Show",
          "Movie",
          "TV Show",
          "Movie",
          "Movie",
          "Movie",
          "Movie",
          "Movie",
          "Movie",
          "Movie",
          "Movie",
          "Movie",
          "TV Show",
          "Movie",
          "Movie",
          "Movie",
          "Movie",
          "Movie",
          "Movie",
          "Movie",
          "Movie",
          "Movie",
          "Movie",
          "Movie",
          "Movie",
          "Movie",
          "Movie",
          "Movie",
          "Movie",
          "Movie",
          "Movie",
          "Movie",
          "Movie",
          "Movie",
          "Movie",
          "Movie",
          "TV Show",
          "Movie",
          "Movie",
          "Movie",
          "Movie",
          "Movie",
          "TV Show",
          "Movie",
          "Movie",
          "Movie",
          "Movie",
          "TV Show",
          "Movie",
          "Movie",
          "Movie",
          "Movie",
          "Movie",
          "Movie",
          "Movie",
          "Movie",
          "Movie",
          "Movie",
          "Movie",
          "Movie",
          "Movie",
          "Movie",
          "TV Show",
          "Movie",
          "Movie",
          "Movie",
          "Movie",
          "Movie",
          "Movie",
          "Movie",
          "Movie",
          "Movie",
          "Movie",
          "Movie",
          "Movie",
          "Movie",
          "TV Show",
          "Movie",
          "TV Show",
          "Movie",
          "Movie",
          "Movie",
          "Movie",
          "Movie",
          "Movie",
          "TV Show",
          "Movie",
          "TV Show",
          "Movie",
          "Movie",
          "Movie",
          "Movie",
          "Movie",
          "Movie",
          "Movie",
          "Movie",
          "TV Show",
          "Movie",
          "Movie",
          "Movie",
          "Movie",
          "Movie",
          "Movie",
          "Movie",
          "Movie",
          "Movie",
          "Movie",
          "Movie",
          "Movie",
          "TV Show",
          "Movie",
          "Movie",
          "Movie",
          "Movie",
          "TV Show",
          "TV Show",
          "TV Show",
          "Movie",
          "Movie",
          "Movie",
          "Movie",
          "Movie",
          "Movie",
          "Movie",
          "TV Show",
          "TV Show",
          "Movie",
          "Movie",
          "Movie",
          "Movie",
          "Movie",
          "Movie",
          "Movie",
          "Movie",
          "TV Show",
          "Movie",
          "Movie",
          "Movie",
          "Movie",
          "Movie",
          "Movie",
          "Movie",
          "Movie",
          "Movie",
          "Movie",
          "Movie",
          "Movie",
          "Movie",
          "Movie",
          "Movie",
          "Movie",
          "Movie",
          "TV Show",
          "Movie",
          "Movie",
          "Movie",
          "TV Show",
          "Movie",
          "TV Show",
          "Movie",
          "Movie",
          "Movie",
          "Movie",
          "Movie",
          "TV Show",
          "Movie",
          "Movie",
          "Movie",
          "Movie",
          "Movie",
          "Movie",
          "Movie",
          "Movie",
          "Movie",
          "Movie",
          "Movie",
          "Movie",
          "TV Show",
          "Movie",
          "TV Show",
          "Movie",
          "Movie",
          "Movie",
          "Movie",
          "Movie",
          "Movie",
          "Movie",
          "TV Show",
          "TV Show",
          "Movie",
          "Movie",
          "TV Show",
          "Movie",
          "Movie",
          "Movie",
          "Movie",
          "TV Show",
          "Movie",
          "Movie",
          "Movie",
          "Movie",
          "TV Show",
          "Movie",
          "TV Show",
          "Movie",
          "Movie",
          "Movie",
          "Movie",
          "Movie",
          "Movie",
          "Movie",
          "TV Show",
          "Movie",
          "Movie",
          "Movie",
          "TV Show",
          "Movie",
          "Movie",
          "Movie",
          "TV Show",
          "Movie",
          "Movie",
          "Movie",
          "TV Show",
          "Movie",
          "Movie",
          "TV Show",
          "Movie",
          "Movie",
          "Movie",
          "Movie",
          "TV Show",
          "Movie",
          "Movie",
          "Movie",
          "Movie",
          "Movie",
          "TV Show",
          "Movie",
          "Movie",
          "Movie",
          "TV Show",
          "TV Show",
          "Movie",
          "Movie",
          "Movie",
          "Movie",
          "Movie",
          "Movie",
          "Movie",
          "Movie",
          "Movie",
          "Movie",
          "Movie",
          "Movie",
          "Movie",
          "Movie",
          "Movie",
          "Movie",
          "TV Show",
          "Movie",
          "Movie",
          "Movie",
          "Movie",
          "Movie",
          "Movie",
          "TV Show",
          "TV Show",
          "TV Show",
          "TV Show",
          "Movie",
          "Movie",
          "Movie",
          "Movie",
          "TV Show",
          "Movie",
          "TV Show",
          "Movie",
          "Movie",
          "Movie",
          "Movie",
          "Movie",
          "Movie",
          "TV Show",
          "Movie",
          "Movie",
          "Movie",
          "TV Show",
          "Movie",
          "Movie",
          "Movie",
          "Movie",
          "Movie",
          "TV Show",
          "Movie",
          "Movie",
          "Movie",
          "Movie",
          "Movie",
          "Movie",
          "TV Show",
          "TV Show",
          "TV Show",
          "TV Show",
          "Movie",
          "Movie",
          "Movie",
          "Movie",
          "TV Show",
          "Movie",
          "TV Show",
          "Movie",
          "Movie",
          "Movie",
          "Movie",
          "Movie",
          "Movie",
          "Movie",
          "Movie",
          "Movie",
          "Movie",
          "Movie",
          "Movie",
          "Movie",
          "Movie",
          "Movie",
          "Movie",
          "Movie",
          "Movie",
          "TV Show",
          "Movie",
          "Movie",
          "Movie",
          "Movie",
          "Movie",
          "Movie",
          "Movie",
          "TV Show",
          "Movie",
          "Movie",
          "Movie",
          "Movie",
          "Movie",
          "Movie",
          "TV Show",
          "Movie",
          "Movie",
          "Movie",
          "Movie",
          "Movie",
          "Movie",
          "TV Show",
          "Movie",
          "Movie",
          "Movie",
          "Movie",
          "TV Show",
          "Movie",
          "Movie",
          "Movie",
          "Movie",
          "Movie",
          "Movie",
          "Movie",
          "Movie",
          "TV Show",
          "Movie",
          "Movie",
          "Movie",
          "Movie",
          "Movie",
          "TV Show",
          "Movie",
          "Movie",
          "Movie",
          "Movie",
          "TV Show",
          "Movie",
          "Movie",
          "Movie",
          "Movie",
          "TV Show",
          "Movie",
          "Movie",
          "Movie",
          "Movie",
          "Movie",
          "TV Show",
          "Movie",
          "Movie",
          "Movie",
          "Movie",
          "Movie",
          "Movie",
          "Movie",
          "Movie",
          "TV Show",
          "Movie",
          "Movie",
          "Movie",
          "Movie",
          "Movie",
          "Movie",
          "Movie",
          "Movie",
          "TV Show",
          "Movie",
          "Movie",
          "Movie",
          "TV Show",
          "TV Show",
          "Movie",
          "Movie",
          "Movie",
          "Movie",
          "TV Show",
          "Movie",
          "Movie",
          "Movie",
          "Movie",
          "Movie",
          "Movie",
          "Movie",
          "Movie",
          "Movie",
          "TV Show",
          "Movie",
          "Movie",
          "TV Show",
          "Movie",
          "TV Show",
          "Movie",
          "Movie",
          "Movie",
          "Movie",
          "Movie",
          "Movie",
          "Movie",
          "Movie",
          "Movie",
          "Movie",
          "TV Show",
          "Movie",
          "TV Show",
          "Movie",
          "Movie",
          "Movie",
          "TV Show",
          "Movie",
          "Movie",
          "Movie",
          "TV Show",
          "Movie",
          "Movie",
          "Movie",
          "Movie",
          "Movie",
          "Movie",
          "Movie",
          "Movie",
          "TV Show",
          "Movie",
          "TV Show",
          "Movie",
          "Movie",
          "TV Show",
          "Movie",
          "TV Show",
          "Movie",
          "Movie",
          "TV Show",
          "Movie",
          "TV Show",
          "TV Show",
          "Movie",
          "Movie",
          "Movie",
          "Movie",
          "Movie",
          "Movie",
          "Movie",
          "Movie",
          "Movie",
          "Movie",
          "Movie",
          "Movie",
          "TV Show",
          "Movie",
          "Movie",
          "Movie",
          "Movie",
          "TV Show",
          "Movie",
          "Movie",
          "Movie",
          "Movie",
          "Movie",
          "Movie",
          "Movie",
          "Movie",
          "Movie",
          "Movie",
          "Movie",
          "Movie",
          "Movie",
          "TV Show",
          "Movie",
          "Movie",
          "Movie",
          "Movie",
          "Movie",
          "Movie",
          "Movie",
          "Movie",
          "Movie",
          "TV Show",
          "TV Show",
          "TV Show",
          "TV Show",
          "Movie",
          "Movie",
          "Movie",
          "TV Show",
          "TV Show",
          "Movie",
          "TV Show",
          "Movie",
          "Movie",
          "Movie",
          "Movie",
          "Movie",
          "TV Show",
          "Movie",
          "TV Show",
          "Movie",
          "Movie",
          "TV Show",
          "Movie",
          "Movie",
          "Movie",
          "Movie",
          "Movie",
          "Movie",
          "Movie",
          "Movie",
          "Movie",
          "Movie",
          "Movie",
          "Movie",
          "Movie",
          "Movie",
          "Movie",
          "Movie",
          "Movie",
          "Movie",
          "Movie",
          "Movie",
          "Movie",
          "Movie",
          "Movie",
          "Movie",
          "Movie",
          "Movie",
          "Movie",
          "Movie",
          "TV Show",
          "Movie",
          "Movie",
          "TV Show",
          "Movie",
          "TV Show",
          "Movie",
          "Movie",
          "Movie",
          "Movie",
          "Movie",
          "TV Show",
          "Movie",
          "Movie",
          "Movie",
          "Movie",
          "Movie",
          "Movie",
          "Movie",
          "TV Show",
          "Movie",
          "Movie",
          "Movie",
          "Movie",
          "Movie",
          "Movie",
          "Movie",
          "Movie",
          "Movie",
          "Movie",
          "Movie",
          "Movie",
          "TV Show",
          "Movie",
          "Movie",
          "Movie",
          "Movie",
          "Movie",
          "Movie",
          "TV Show",
          "Movie",
          "Movie",
          "Movie",
          "Movie",
          "Movie",
          "Movie",
          "Movie",
          "TV Show",
          "TV Show",
          "Movie",
          "Movie",
          "Movie",
          "TV Show",
          "Movie",
          "Movie",
          "Movie",
          "Movie",
          "Movie",
          "Movie",
          "Movie",
          "Movie",
          "Movie",
          "TV Show",
          "Movie",
          "Movie",
          "Movie",
          "Movie",
          "Movie",
          "TV Show",
          "Movie",
          "TV Show",
          "Movie",
          "Movie",
          "TV Show",
          "TV Show",
          "Movie",
          "Movie",
          "Movie",
          "TV Show",
          "Movie",
          "TV Show",
          "Movie",
          "Movie",
          "Movie",
          "Movie",
          "Movie",
          "TV Show",
          "Movie",
          "Movie",
          "TV Show",
          "Movie",
          "Movie",
          "Movie",
          "Movie",
          "Movie",
          "Movie",
          "TV Show",
          "Movie",
          "Movie",
          "Movie",
          "Movie",
          "Movie",
          "Movie",
          "TV Show",
          "TV Show",
          "Movie",
          "Movie",
          "Movie",
          "Movie",
          "Movie",
          "Movie",
          "Movie",
          "Movie",
          "Movie",
          "Movie",
          "Movie",
          "Movie",
          "TV Show",
          "Movie",
          "Movie",
          "Movie",
          "TV Show",
          "TV Show",
          "Movie",
          "Movie",
          "TV Show",
          "Movie",
          "Movie",
          "TV Show",
          "TV Show",
          "Movie",
          "Movie",
          "Movie",
          "TV Show",
          "TV Show",
          "Movie",
          "Movie",
          "Movie",
          "TV Show",
          "Movie",
          "Movie",
          "Movie",
          "Movie",
          "Movie",
          "Movie",
          "Movie",
          "Movie",
          "Movie",
          "Movie",
          "Movie",
          "Movie",
          "Movie",
          "Movie",
          "Movie",
          "Movie",
          "Movie",
          "Movie",
          "Movie",
          "Movie",
          "Movie",
          "Movie",
          "Movie",
          "TV Show",
          "Movie",
          "Movie",
          "Movie",
          "Movie",
          "Movie",
          "Movie",
          "Movie",
          "Movie",
          "Movie",
          "Movie",
          "TV Show",
          "Movie",
          "TV Show",
          "Movie",
          "Movie",
          "Movie",
          "Movie",
          "Movie",
          "Movie",
          "TV Show",
          "Movie",
          "Movie",
          "Movie",
          "Movie",
          "Movie",
          "Movie",
          "Movie",
          "Movie",
          "Movie",
          "Movie",
          "Movie",
          "Movie",
          "Movie",
          "Movie",
          "Movie",
          "TV Show",
          "Movie",
          "Movie",
          "Movie",
          "Movie",
          "Movie",
          "Movie",
          "Movie",
          "Movie",
          "Movie",
          "TV Show",
          "Movie",
          "Movie",
          "Movie",
          "Movie",
          "TV Show",
          "Movie",
          "Movie",
          "Movie",
          "Movie",
          "Movie",
          "TV Show",
          "Movie",
          "Movie",
          "Movie",
          "Movie",
          "Movie",
          "Movie",
          "Movie",
          "Movie",
          "Movie",
          "TV Show",
          "Movie",
          "Movie",
          "Movie",
          "Movie",
          "Movie",
          "Movie",
          "Movie",
          "Movie",
          "Movie",
          "TV Show",
          "Movie",
          "TV Show",
          "Movie",
          "Movie",
          "Movie",
          "Movie",
          "Movie",
          "Movie",
          "Movie",
          "TV Show",
          "TV Show",
          "Movie",
          "Movie",
          "Movie",
          "Movie",
          "TV Show",
          "Movie",
          "Movie",
          "Movie",
          "Movie",
          "Movie",
          "Movie",
          "Movie",
          "Movie",
          "Movie",
          "TV Show",
          "Movie",
          "Movie",
          "Movie",
          "TV Show",
          "TV Show",
          "Movie",
          "Movie",
          "Movie",
          "Movie",
          "Movie",
          "TV Show",
          "Movie",
          "TV Show",
          "Movie",
          "Movie",
          "Movie",
          "Movie",
          "Movie",
          "TV Show",
          "Movie",
          "Movie",
          "TV Show",
          "Movie",
          "Movie",
          "Movie",
          "Movie",
          "Movie",
          "Movie",
          "Movie",
          "Movie",
          "Movie",
          "Movie",
          "Movie",
          "Movie",
          "Movie",
          "Movie",
          "Movie",
          "Movie",
          "TV Show",
          "Movie",
          "Movie",
          "Movie",
          "Movie",
          "TV Show",
          "Movie",
          "Movie",
          "TV Show",
          "Movie",
          "TV Show",
          "Movie",
          "Movie",
          "Movie",
          "Movie",
          "Movie",
          "Movie",
          "Movie",
          "Movie",
          "Movie",
          "TV Show",
          "TV Show",
          "TV Show",
          "Movie",
          "Movie",
          "TV Show",
          "Movie",
          "Movie",
          "TV Show",
          "Movie",
          "Movie",
          "Movie",
          "TV Show",
          "Movie"
         ],
         "legendgroup": "",
         "name": "",
         "showlegend": true,
         "type": "pie"
        }
       ],
       "layout": {
        "legend": {
         "tracegroupgap": 0
        },
        "template": {
         "data": {
          "bar": [
           {
            "error_x": {
             "color": "#2a3f5f"
            },
            "error_y": {
             "color": "#2a3f5f"
            },
            "marker": {
             "line": {
              "color": "#E5ECF6",
              "width": 0.5
             },
             "pattern": {
              "fillmode": "overlay",
              "size": 10,
              "solidity": 0.2
             }
            },
            "type": "bar"
           }
          ],
          "barpolar": [
           {
            "marker": {
             "line": {
              "color": "#E5ECF6",
              "width": 0.5
             },
             "pattern": {
              "fillmode": "overlay",
              "size": 10,
              "solidity": 0.2
             }
            },
            "type": "barpolar"
           }
          ],
          "carpet": [
           {
            "aaxis": {
             "endlinecolor": "#2a3f5f",
             "gridcolor": "white",
             "linecolor": "white",
             "minorgridcolor": "white",
             "startlinecolor": "#2a3f5f"
            },
            "baxis": {
             "endlinecolor": "#2a3f5f",
             "gridcolor": "white",
             "linecolor": "white",
             "minorgridcolor": "white",
             "startlinecolor": "#2a3f5f"
            },
            "type": "carpet"
           }
          ],
          "choropleth": [
           {
            "colorbar": {
             "outlinewidth": 0,
             "ticks": ""
            },
            "type": "choropleth"
           }
          ],
          "contour": [
           {
            "colorbar": {
             "outlinewidth": 0,
             "ticks": ""
            },
            "colorscale": [
             [
              0,
              "#0d0887"
             ],
             [
              0.1111111111111111,
              "#46039f"
             ],
             [
              0.2222222222222222,
              "#7201a8"
             ],
             [
              0.3333333333333333,
              "#9c179e"
             ],
             [
              0.4444444444444444,
              "#bd3786"
             ],
             [
              0.5555555555555556,
              "#d8576b"
             ],
             [
              0.6666666666666666,
              "#ed7953"
             ],
             [
              0.7777777777777778,
              "#fb9f3a"
             ],
             [
              0.8888888888888888,
              "#fdca26"
             ],
             [
              1,
              "#f0f921"
             ]
            ],
            "type": "contour"
           }
          ],
          "contourcarpet": [
           {
            "colorbar": {
             "outlinewidth": 0,
             "ticks": ""
            },
            "type": "contourcarpet"
           }
          ],
          "heatmap": [
           {
            "colorbar": {
             "outlinewidth": 0,
             "ticks": ""
            },
            "colorscale": [
             [
              0,
              "#0d0887"
             ],
             [
              0.1111111111111111,
              "#46039f"
             ],
             [
              0.2222222222222222,
              "#7201a8"
             ],
             [
              0.3333333333333333,
              "#9c179e"
             ],
             [
              0.4444444444444444,
              "#bd3786"
             ],
             [
              0.5555555555555556,
              "#d8576b"
             ],
             [
              0.6666666666666666,
              "#ed7953"
             ],
             [
              0.7777777777777778,
              "#fb9f3a"
             ],
             [
              0.8888888888888888,
              "#fdca26"
             ],
             [
              1,
              "#f0f921"
             ]
            ],
            "type": "heatmap"
           }
          ],
          "heatmapgl": [
           {
            "colorbar": {
             "outlinewidth": 0,
             "ticks": ""
            },
            "colorscale": [
             [
              0,
              "#0d0887"
             ],
             [
              0.1111111111111111,
              "#46039f"
             ],
             [
              0.2222222222222222,
              "#7201a8"
             ],
             [
              0.3333333333333333,
              "#9c179e"
             ],
             [
              0.4444444444444444,
              "#bd3786"
             ],
             [
              0.5555555555555556,
              "#d8576b"
             ],
             [
              0.6666666666666666,
              "#ed7953"
             ],
             [
              0.7777777777777778,
              "#fb9f3a"
             ],
             [
              0.8888888888888888,
              "#fdca26"
             ],
             [
              1,
              "#f0f921"
             ]
            ],
            "type": "heatmapgl"
           }
          ],
          "histogram": [
           {
            "marker": {
             "pattern": {
              "fillmode": "overlay",
              "size": 10,
              "solidity": 0.2
             }
            },
            "type": "histogram"
           }
          ],
          "histogram2d": [
           {
            "colorbar": {
             "outlinewidth": 0,
             "ticks": ""
            },
            "colorscale": [
             [
              0,
              "#0d0887"
             ],
             [
              0.1111111111111111,
              "#46039f"
             ],
             [
              0.2222222222222222,
              "#7201a8"
             ],
             [
              0.3333333333333333,
              "#9c179e"
             ],
             [
              0.4444444444444444,
              "#bd3786"
             ],
             [
              0.5555555555555556,
              "#d8576b"
             ],
             [
              0.6666666666666666,
              "#ed7953"
             ],
             [
              0.7777777777777778,
              "#fb9f3a"
             ],
             [
              0.8888888888888888,
              "#fdca26"
             ],
             [
              1,
              "#f0f921"
             ]
            ],
            "type": "histogram2d"
           }
          ],
          "histogram2dcontour": [
           {
            "colorbar": {
             "outlinewidth": 0,
             "ticks": ""
            },
            "colorscale": [
             [
              0,
              "#0d0887"
             ],
             [
              0.1111111111111111,
              "#46039f"
             ],
             [
              0.2222222222222222,
              "#7201a8"
             ],
             [
              0.3333333333333333,
              "#9c179e"
             ],
             [
              0.4444444444444444,
              "#bd3786"
             ],
             [
              0.5555555555555556,
              "#d8576b"
             ],
             [
              0.6666666666666666,
              "#ed7953"
             ],
             [
              0.7777777777777778,
              "#fb9f3a"
             ],
             [
              0.8888888888888888,
              "#fdca26"
             ],
             [
              1,
              "#f0f921"
             ]
            ],
            "type": "histogram2dcontour"
           }
          ],
          "mesh3d": [
           {
            "colorbar": {
             "outlinewidth": 0,
             "ticks": ""
            },
            "type": "mesh3d"
           }
          ],
          "parcoords": [
           {
            "line": {
             "colorbar": {
              "outlinewidth": 0,
              "ticks": ""
             }
            },
            "type": "parcoords"
           }
          ],
          "pie": [
           {
            "automargin": true,
            "type": "pie"
           }
          ],
          "scatter": [
           {
            "fillpattern": {
             "fillmode": "overlay",
             "size": 10,
             "solidity": 0.2
            },
            "type": "scatter"
           }
          ],
          "scatter3d": [
           {
            "line": {
             "colorbar": {
              "outlinewidth": 0,
              "ticks": ""
             }
            },
            "marker": {
             "colorbar": {
              "outlinewidth": 0,
              "ticks": ""
             }
            },
            "type": "scatter3d"
           }
          ],
          "scattercarpet": [
           {
            "marker": {
             "colorbar": {
              "outlinewidth": 0,
              "ticks": ""
             }
            },
            "type": "scattercarpet"
           }
          ],
          "scattergeo": [
           {
            "marker": {
             "colorbar": {
              "outlinewidth": 0,
              "ticks": ""
             }
            },
            "type": "scattergeo"
           }
          ],
          "scattergl": [
           {
            "marker": {
             "colorbar": {
              "outlinewidth": 0,
              "ticks": ""
             }
            },
            "type": "scattergl"
           }
          ],
          "scattermapbox": [
           {
            "marker": {
             "colorbar": {
              "outlinewidth": 0,
              "ticks": ""
             }
            },
            "type": "scattermapbox"
           }
          ],
          "scatterpolar": [
           {
            "marker": {
             "colorbar": {
              "outlinewidth": 0,
              "ticks": ""
             }
            },
            "type": "scatterpolar"
           }
          ],
          "scatterpolargl": [
           {
            "marker": {
             "colorbar": {
              "outlinewidth": 0,
              "ticks": ""
             }
            },
            "type": "scatterpolargl"
           }
          ],
          "scatterternary": [
           {
            "marker": {
             "colorbar": {
              "outlinewidth": 0,
              "ticks": ""
             }
            },
            "type": "scatterternary"
           }
          ],
          "surface": [
           {
            "colorbar": {
             "outlinewidth": 0,
             "ticks": ""
            },
            "colorscale": [
             [
              0,
              "#0d0887"
             ],
             [
              0.1111111111111111,
              "#46039f"
             ],
             [
              0.2222222222222222,
              "#7201a8"
             ],
             [
              0.3333333333333333,
              "#9c179e"
             ],
             [
              0.4444444444444444,
              "#bd3786"
             ],
             [
              0.5555555555555556,
              "#d8576b"
             ],
             [
              0.6666666666666666,
              "#ed7953"
             ],
             [
              0.7777777777777778,
              "#fb9f3a"
             ],
             [
              0.8888888888888888,
              "#fdca26"
             ],
             [
              1,
              "#f0f921"
             ]
            ],
            "type": "surface"
           }
          ],
          "table": [
           {
            "cells": {
             "fill": {
              "color": "#EBF0F8"
             },
             "line": {
              "color": "white"
             }
            },
            "header": {
             "fill": {
              "color": "#C8D4E3"
             },
             "line": {
              "color": "white"
             }
            },
            "type": "table"
           }
          ]
         },
         "layout": {
          "annotationdefaults": {
           "arrowcolor": "#2a3f5f",
           "arrowhead": 0,
           "arrowwidth": 1
          },
          "autotypenumbers": "strict",
          "coloraxis": {
           "colorbar": {
            "outlinewidth": 0,
            "ticks": ""
           }
          },
          "colorscale": {
           "diverging": [
            [
             0,
             "#8e0152"
            ],
            [
             0.1,
             "#c51b7d"
            ],
            [
             0.2,
             "#de77ae"
            ],
            [
             0.3,
             "#f1b6da"
            ],
            [
             0.4,
             "#fde0ef"
            ],
            [
             0.5,
             "#f7f7f7"
            ],
            [
             0.6,
             "#e6f5d0"
            ],
            [
             0.7,
             "#b8e186"
            ],
            [
             0.8,
             "#7fbc41"
            ],
            [
             0.9,
             "#4d9221"
            ],
            [
             1,
             "#276419"
            ]
           ],
           "sequential": [
            [
             0,
             "#0d0887"
            ],
            [
             0.1111111111111111,
             "#46039f"
            ],
            [
             0.2222222222222222,
             "#7201a8"
            ],
            [
             0.3333333333333333,
             "#9c179e"
            ],
            [
             0.4444444444444444,
             "#bd3786"
            ],
            [
             0.5555555555555556,
             "#d8576b"
            ],
            [
             0.6666666666666666,
             "#ed7953"
            ],
            [
             0.7777777777777778,
             "#fb9f3a"
            ],
            [
             0.8888888888888888,
             "#fdca26"
            ],
            [
             1,
             "#f0f921"
            ]
           ],
           "sequentialminus": [
            [
             0,
             "#0d0887"
            ],
            [
             0.1111111111111111,
             "#46039f"
            ],
            [
             0.2222222222222222,
             "#7201a8"
            ],
            [
             0.3333333333333333,
             "#9c179e"
            ],
            [
             0.4444444444444444,
             "#bd3786"
            ],
            [
             0.5555555555555556,
             "#d8576b"
            ],
            [
             0.6666666666666666,
             "#ed7953"
            ],
            [
             0.7777777777777778,
             "#fb9f3a"
            ],
            [
             0.8888888888888888,
             "#fdca26"
            ],
            [
             1,
             "#f0f921"
            ]
           ]
          },
          "colorway": [
           "#636efa",
           "#EF553B",
           "#00cc96",
           "#ab63fa",
           "#FFA15A",
           "#19d3f3",
           "#FF6692",
           "#B6E880",
           "#FF97FF",
           "#FECB52"
          ],
          "font": {
           "color": "#2a3f5f"
          },
          "geo": {
           "bgcolor": "white",
           "lakecolor": "white",
           "landcolor": "#E5ECF6",
           "showlakes": true,
           "showland": true,
           "subunitcolor": "white"
          },
          "hoverlabel": {
           "align": "left"
          },
          "hovermode": "closest",
          "mapbox": {
           "style": "light"
          },
          "paper_bgcolor": "white",
          "plot_bgcolor": "#E5ECF6",
          "polar": {
           "angularaxis": {
            "gridcolor": "white",
            "linecolor": "white",
            "ticks": ""
           },
           "bgcolor": "#E5ECF6",
           "radialaxis": {
            "gridcolor": "white",
            "linecolor": "white",
            "ticks": ""
           }
          },
          "scene": {
           "xaxis": {
            "backgroundcolor": "#E5ECF6",
            "gridcolor": "white",
            "gridwidth": 2,
            "linecolor": "white",
            "showbackground": true,
            "ticks": "",
            "zerolinecolor": "white"
           },
           "yaxis": {
            "backgroundcolor": "#E5ECF6",
            "gridcolor": "white",
            "gridwidth": 2,
            "linecolor": "white",
            "showbackground": true,
            "ticks": "",
            "zerolinecolor": "white"
           },
           "zaxis": {
            "backgroundcolor": "#E5ECF6",
            "gridcolor": "white",
            "gridwidth": 2,
            "linecolor": "white",
            "showbackground": true,
            "ticks": "",
            "zerolinecolor": "white"
           }
          },
          "shapedefaults": {
           "line": {
            "color": "#2a3f5f"
           }
          },
          "ternary": {
           "aaxis": {
            "gridcolor": "white",
            "linecolor": "white",
            "ticks": ""
           },
           "baxis": {
            "gridcolor": "white",
            "linecolor": "white",
            "ticks": ""
           },
           "bgcolor": "#E5ECF6",
           "caxis": {
            "gridcolor": "white",
            "linecolor": "white",
            "ticks": ""
           }
          },
          "title": {
           "x": 0.05
          },
          "xaxis": {
           "automargin": true,
           "gridcolor": "white",
           "linecolor": "white",
           "ticks": "",
           "title": {
            "standoff": 15
           },
           "zerolinecolor": "white",
           "zerolinewidth": 2
          },
          "yaxis": {
           "automargin": true,
           "gridcolor": "white",
           "linecolor": "white",
           "ticks": "",
           "title": {
            "standoff": 15
           },
           "zerolinecolor": "white",
           "zerolinewidth": 2
          }
         }
        },
        "title": {
         "text": "Distribution Type"
        }
       }
      },
      "text/html": [
       "<div>                            <div id=\"1785f29a-b78e-488e-b456-2dda73131658\" class=\"plotly-graph-div\" style=\"height:525px; width:100%;\"></div>            <script type=\"text/javascript\">                require([\"plotly\"], function(Plotly) {                    window.PLOTLYENV=window.PLOTLYENV || {};                                    if (document.getElementById(\"1785f29a-b78e-488e-b456-2dda73131658\")) {                    Plotly.newPlot(                        \"1785f29a-b78e-488e-b456-2dda73131658\",                        [{\"domain\":{\"x\":[0.0,1.0],\"y\":[0.0,1.0]},\"hovertemplate\":\"type=%{label}<extra></extra>\",\"labels\":[\"Movie\",\"TV Show\",\"TV Show\",\"TV Show\",\"TV Show\",\"TV Show\",\"Movie\",\"Movie\",\"TV Show\",\"Movie\",\"TV Show\",\"TV Show\",\"Movie\",\"Movie\",\"TV Show\",\"TV Show\",\"Movie\",\"TV Show\",\"Movie\",\"TV Show\",\"TV Show\",\"TV Show\",\"Movie\",\"Movie\",\"Movie\",\"TV Show\",\"Movie\",\"Movie\",\"Movie\",\"Movie\",\"Movie\",\"TV Show\",\"TV Show\",\"TV Show\",\"TV Show\",\"Movie\",\"Movie\",\"TV Show\",\"Movie\",\"TV Show\",\"TV Show\",\"Movie\",\"Movie\",\"Movie\",\"Movie\",\"Movie\",\"Movie\",\"TV Show\",\"Movie\",\"TV Show\",\"TV Show\",\"Movie\",\"Movie\",\"Movie\",\"Movie\",\"TV Show\",\"Movie\",\"Movie\",\"Movie\",\"Movie\",\"Movie\",\"Movie\",\"Movie\",\"Movie\",\"Movie\",\"TV Show\",\"TV Show\",\"TV Show\",\"Movie\",\"TV Show\",\"TV Show\",\"Movie\",\"TV Show\",\"Movie\",\"TV Show\",\"Movie\",\"TV Show\",\"Movie\",\"Movie\",\"Movie\",\"Movie\",\"Movie\",\"TV Show\",\"TV Show\",\"Movie\",\"TV Show\",\"Movie\",\"TV Show\",\"Movie\",\"TV Show\",\"Movie\",\"Movie\",\"TV Show\",\"Movie\",\"Movie\",\"TV Show\",\"Movie\",\"TV Show\",\"TV Show\",\"TV Show\",\"TV Show\",\"Movie\",\"TV Show\",\"Movie\",\"TV Show\",\"Movie\",\"TV Show\",\"Movie\",\"TV Show\",\"TV Show\",\"TV Show\",\"TV Show\",\"Movie\",\"Movie\",\"Movie\",\"Movie\",\"Movie\",\"Movie\",\"Movie\",\"Movie\",\"TV Show\",\"TV Show\",\"Movie\",\"TV Show\",\"TV Show\",\"TV Show\",\"Movie\",\"Movie\",\"Movie\",\"Movie\",\"Movie\",\"Movie\",\"TV Show\",\"Movie\",\"Movie\",\"Movie\",\"Movie\",\"Movie\",\"Movie\",\"Movie\",\"Movie\",\"Movie\",\"Movie\",\"Movie\",\"Movie\",\"Movie\",\"Movie\",\"TV Show\",\"TV Show\",\"Movie\",\"Movie\",\"Movie\",\"Movie\",\"TV Show\",\"TV Show\",\"Movie\",\"Movie\",\"Movie\",\"Movie\",\"Movie\",\"TV Show\",\"Movie\",\"Movie\",\"Movie\",\"Movie\",\"TV Show\",\"Movie\",\"Movie\",\"Movie\",\"Movie\",\"Movie\",\"Movie\",\"Movie\",\"Movie\",\"Movie\",\"Movie\",\"Movie\",\"Movie\",\"Movie\",\"Movie\",\"Movie\",\"TV Show\",\"Movie\",\"Movie\",\"TV Show\",\"Movie\",\"TV Show\",\"TV Show\",\"Movie\",\"TV Show\",\"Movie\",\"Movie\",\"Movie\",\"TV Show\",\"TV Show\",\"Movie\",\"Movie\",\"TV Show\",\"TV Show\",\"Movie\",\"Movie\",\"Movie\",\"Movie\",\"Movie\",\"Movie\",\"Movie\",\"Movie\",\"Movie\",\"Movie\",\"Movie\",\"Movie\",\"Movie\",\"TV Show\",\"TV Show\",\"Movie\",\"Movie\",\"Movie\",\"Movie\",\"TV Show\",\"TV Show\",\"TV Show\",\"Movie\",\"TV Show\",\"TV Show\",\"TV Show\",\"TV Show\",\"TV Show\",\"Movie\",\"Movie\",\"Movie\",\"Movie\",\"Movie\",\"TV Show\",\"Movie\",\"TV Show\",\"Movie\",\"Movie\",\"Movie\",\"Movie\",\"Movie\",\"Movie\",\"TV Show\",\"TV Show\",\"TV Show\",\"Movie\",\"TV Show\",\"Movie\",\"Movie\",\"TV Show\",\"Movie\",\"Movie\",\"Movie\",\"Movie\",\"Movie\",\"TV Show\",\"Movie\",\"Movie\",\"Movie\",\"Movie\",\"Movie\",\"TV Show\",\"Movie\",\"Movie\",\"TV Show\",\"Movie\",\"TV Show\",\"TV Show\",\"Movie\",\"Movie\",\"TV Show\",\"Movie\",\"TV Show\",\"TV Show\",\"TV Show\",\"TV Show\",\"TV Show\",\"TV Show\",\"TV Show\",\"Movie\",\"Movie\",\"TV Show\",\"Movie\",\"Movie\",\"Movie\",\"Movie\",\"Movie\",\"TV Show\",\"TV Show\",\"TV Show\",\"TV Show\",\"Movie\",\"TV Show\",\"Movie\",\"Movie\",\"Movie\",\"Movie\",\"TV Show\",\"TV Show\",\"Movie\",\"Movie\",\"Movie\",\"Movie\",\"Movie\",\"Movie\",\"Movie\",\"Movie\",\"Movie\",\"Movie\",\"Movie\",\"TV Show\",\"TV Show\",\"TV Show\",\"TV Show\",\"TV Show\",\"Movie\",\"Movie\",\"TV Show\",\"Movie\",\"Movie\",\"TV Show\",\"TV Show\",\"TV Show\",\"TV Show\",\"TV Show\",\"TV Show\",\"Movie\",\"Movie\",\"Movie\",\"Movie\",\"Movie\",\"Movie\",\"TV Show\",\"Movie\",\"Movie\",\"Movie\",\"Movie\",\"TV Show\",\"Movie\",\"TV Show\",\"Movie\",\"Movie\",\"Movie\",\"Movie\",\"Movie\",\"Movie\",\"Movie\",\"Movie\",\"Movie\",\"Movie\",\"Movie\",\"Movie\",\"Movie\",\"Movie\",\"Movie\",\"Movie\",\"Movie\",\"Movie\",\"Movie\",\"Movie\",\"Movie\",\"Movie\",\"TV Show\",\"Movie\",\"Movie\",\"TV Show\",\"Movie\",\"TV Show\",\"Movie\",\"TV Show\",\"TV Show\",\"TV Show\",\"Movie\",\"Movie\",\"Movie\",\"Movie\",\"Movie\",\"TV Show\",\"Movie\",\"Movie\",\"TV Show\",\"TV Show\",\"TV Show\",\"TV Show\",\"Movie\",\"Movie\",\"TV Show\",\"TV Show\",\"Movie\",\"TV Show\",\"Movie\",\"TV Show\",\"TV Show\",\"Movie\",\"Movie\",\"Movie\",\"Movie\",\"Movie\",\"TV Show\",\"Movie\",\"TV Show\",\"TV Show\",\"TV Show\",\"Movie\",\"TV Show\",\"Movie\",\"Movie\",\"Movie\",\"Movie\",\"Movie\",\"Movie\",\"Movie\",\"Movie\",\"Movie\",\"Movie\",\"Movie\",\"Movie\",\"Movie\",\"Movie\",\"Movie\",\"Movie\",\"Movie\",\"Movie\",\"Movie\",\"Movie\",\"Movie\",\"TV Show\",\"Movie\",\"Movie\",\"Movie\",\"Movie\",\"TV Show\",\"TV Show\",\"Movie\",\"Movie\",\"TV Show\",\"TV Show\",\"Movie\",\"Movie\",\"Movie\",\"Movie\",\"TV Show\",\"Movie\",\"TV Show\",\"Movie\",\"TV Show\",\"Movie\",\"Movie\",\"Movie\",\"Movie\",\"Movie\",\"Movie\",\"Movie\",\"Movie\",\"TV Show\",\"Movie\",\"Movie\",\"TV Show\",\"Movie\",\"Movie\",\"TV Show\",\"Movie\",\"Movie\",\"Movie\",\"Movie\",\"Movie\",\"TV Show\",\"TV Show\",\"Movie\",\"Movie\",\"Movie\",\"Movie\",\"Movie\",\"TV Show\",\"Movie\",\"Movie\",\"Movie\",\"Movie\",\"TV Show\",\"TV Show\",\"Movie\",\"Movie\",\"Movie\",\"TV Show\",\"Movie\",\"Movie\",\"Movie\",\"Movie\",\"TV Show\",\"TV Show\",\"Movie\",\"TV Show\",\"Movie\",\"Movie\",\"TV Show\",\"Movie\",\"Movie\",\"Movie\",\"TV Show\",\"Movie\",\"TV Show\",\"Movie\",\"Movie\",\"Movie\",\"TV Show\",\"TV Show\",\"Movie\",\"Movie\",\"Movie\",\"Movie\",\"TV Show\",\"TV Show\",\"TV Show\",\"TV Show\",\"TV Show\",\"TV Show\",\"TV Show\",\"TV Show\",\"TV Show\",\"Movie\",\"TV Show\",\"TV Show\",\"TV Show\",\"TV Show\",\"TV Show\",\"TV Show\",\"TV Show\",\"TV Show\",\"TV Show\",\"Movie\",\"Movie\",\"TV Show\",\"Movie\",\"TV Show\",\"TV Show\",\"Movie\",\"TV Show\",\"TV Show\",\"TV Show\",\"TV Show\",\"TV Show\",\"TV Show\",\"Movie\",\"Movie\",\"TV Show\",\"TV Show\",\"TV Show\",\"TV Show\",\"TV Show\",\"TV Show\",\"TV Show\",\"Movie\",\"Movie\",\"Movie\",\"TV Show\",\"Movie\",\"Movie\",\"Movie\",\"Movie\",\"Movie\",\"Movie\",\"Movie\",\"Movie\",\"Movie\",\"Movie\",\"Movie\",\"TV Show\",\"Movie\",\"Movie\",\"Movie\",\"Movie\",\"Movie\",\"TV Show\",\"Movie\",\"Movie\",\"Movie\",\"Movie\",\"Movie\",\"TV Show\",\"Movie\",\"Movie\",\"Movie\",\"Movie\",\"Movie\",\"Movie\",\"Movie\",\"Movie\",\"Movie\",\"TV Show\",\"TV Show\",\"Movie\",\"TV Show\",\"Movie\",\"Movie\",\"Movie\",\"Movie\",\"Movie\",\"Movie\",\"Movie\",\"Movie\",\"Movie\",\"Movie\",\"Movie\",\"Movie\",\"Movie\",\"Movie\",\"Movie\",\"Movie\",\"Movie\",\"Movie\",\"Movie\",\"Movie\",\"Movie\",\"Movie\",\"Movie\",\"Movie\",\"Movie\",\"Movie\",\"TV Show\",\"Movie\",\"Movie\",\"TV Show\",\"TV Show\",\"Movie\",\"Movie\",\"Movie\",\"TV Show\",\"TV Show\",\"TV Show\",\"TV Show\",\"Movie\",\"Movie\",\"TV Show\",\"Movie\",\"Movie\",\"Movie\",\"Movie\",\"Movie\",\"TV Show\",\"TV Show\",\"TV Show\",\"TV Show\",\"Movie\",\"TV Show\",\"Movie\",\"Movie\",\"Movie\",\"Movie\",\"TV Show\",\"TV Show\",\"Movie\",\"Movie\",\"Movie\",\"Movie\",\"TV Show\",\"Movie\",\"Movie\",\"Movie\",\"TV Show\",\"TV Show\",\"TV Show\",\"TV Show\",\"TV Show\",\"TV Show\",\"TV Show\",\"TV Show\",\"TV Show\",\"TV Show\",\"TV Show\",\"TV Show\",\"TV Show\",\"Movie\",\"Movie\",\"Movie\",\"TV Show\",\"TV Show\",\"TV Show\",\"TV Show\",\"TV Show\",\"TV Show\",\"TV Show\",\"TV Show\",\"TV Show\",\"TV Show\",\"Movie\",\"TV Show\",\"Movie\",\"TV Show\",\"Movie\",\"Movie\",\"Movie\",\"Movie\",\"TV Show\",\"TV Show\",\"Movie\",\"Movie\",\"Movie\",\"TV Show\",\"TV Show\",\"Movie\",\"TV Show\",\"TV Show\",\"Movie\",\"Movie\",\"TV Show\",\"Movie\",\"Movie\",\"TV Show\",\"TV Show\",\"Movie\",\"TV Show\",\"TV Show\",\"Movie\",\"Movie\",\"TV Show\",\"TV Show\",\"TV Show\",\"Movie\",\"Movie\",\"Movie\",\"TV Show\",\"TV Show\",\"Movie\",\"Movie\",\"TV Show\",\"Movie\",\"TV Show\",\"TV Show\",\"Movie\",\"Movie\",\"Movie\",\"Movie\",\"TV Show\",\"Movie\",\"TV Show\",\"TV Show\",\"Movie\",\"Movie\",\"TV Show\",\"Movie\",\"Movie\",\"Movie\",\"Movie\",\"Movie\",\"Movie\",\"TV Show\",\"Movie\",\"Movie\",\"Movie\",\"TV Show\",\"TV Show\",\"Movie\",\"TV Show\",\"Movie\",\"TV Show\",\"Movie\",\"Movie\",\"Movie\",\"Movie\",\"TV Show\",\"Movie\",\"Movie\",\"TV Show\",\"Movie\",\"TV Show\",\"Movie\",\"Movie\",\"Movie\",\"TV Show\",\"Movie\",\"Movie\",\"Movie\",\"TV Show\",\"TV Show\",\"Movie\",\"Movie\",\"Movie\",\"Movie\",\"Movie\",\"TV Show\",\"Movie\",\"TV Show\",\"Movie\",\"Movie\",\"Movie\",\"Movie\",\"TV Show\",\"Movie\",\"Movie\",\"Movie\",\"TV Show\",\"Movie\",\"Movie\",\"Movie\",\"Movie\",\"Movie\",\"TV Show\",\"Movie\",\"Movie\",\"Movie\",\"Movie\",\"Movie\",\"Movie\",\"Movie\",\"TV Show\",\"Movie\",\"TV Show\",\"Movie\",\"Movie\",\"Movie\",\"Movie\",\"Movie\",\"Movie\",\"Movie\",\"TV Show\",\"Movie\",\"Movie\",\"Movie\",\"Movie\",\"Movie\",\"Movie\",\"TV Show\",\"Movie\",\"Movie\",\"Movie\",\"Movie\",\"TV Show\",\"Movie\",\"Movie\",\"Movie\",\"Movie\",\"TV Show\",\"TV Show\",\"TV Show\",\"TV Show\",\"Movie\",\"TV Show\",\"Movie\",\"TV Show\",\"Movie\",\"Movie\",\"Movie\",\"Movie\",\"TV Show\",\"TV Show\",\"Movie\",\"Movie\",\"Movie\",\"TV Show\",\"TV Show\",\"Movie\",\"Movie\",\"Movie\",\"Movie\",\"Movie\",\"Movie\",\"TV Show\",\"Movie\",\"TV Show\",\"Movie\",\"Movie\",\"Movie\",\"Movie\",\"TV Show\",\"Movie\",\"Movie\",\"Movie\",\"Movie\",\"Movie\",\"TV Show\",\"TV Show\",\"Movie\",\"Movie\",\"Movie\",\"Movie\",\"TV Show\",\"Movie\",\"TV Show\",\"Movie\",\"Movie\",\"TV Show\",\"TV Show\",\"Movie\",\"Movie\",\"TV Show\",\"TV Show\",\"Movie\",\"TV Show\",\"Movie\",\"Movie\",\"Movie\",\"TV Show\",\"Movie\",\"Movie\",\"Movie\",\"Movie\",\"Movie\",\"TV Show\",\"TV Show\",\"Movie\",\"Movie\",\"TV Show\",\"Movie\",\"TV Show\",\"Movie\",\"Movie\",\"Movie\",\"Movie\",\"Movie\",\"TV Show\",\"Movie\",\"Movie\",\"TV Show\",\"Movie\",\"Movie\",\"Movie\",\"Movie\",\"Movie\",\"Movie\",\"TV Show\",\"TV Show\",\"TV Show\",\"TV Show\",\"Movie\",\"TV Show\",\"Movie\",\"TV Show\",\"Movie\",\"TV Show\",\"Movie\",\"Movie\",\"Movie\",\"Movie\",\"Movie\",\"Movie\",\"Movie\",\"Movie\",\"TV Show\",\"Movie\",\"Movie\",\"Movie\",\"Movie\",\"Movie\",\"Movie\",\"Movie\",\"Movie\",\"Movie\",\"Movie\",\"Movie\",\"Movie\",\"Movie\",\"Movie\",\"Movie\",\"Movie\",\"Movie\",\"Movie\",\"Movie\",\"Movie\",\"TV Show\",\"Movie\",\"Movie\",\"TV Show\",\"Movie\",\"Movie\",\"TV Show\",\"Movie\",\"TV Show\",\"Movie\",\"TV Show\",\"TV Show\",\"Movie\",\"Movie\",\"Movie\",\"TV Show\",\"Movie\",\"Movie\",\"Movie\",\"Movie\",\"Movie\",\"Movie\",\"Movie\",\"Movie\",\"Movie\",\"Movie\",\"Movie\",\"Movie\",\"Movie\",\"Movie\",\"Movie\",\"TV Show\",\"Movie\",\"Movie\",\"Movie\",\"Movie\",\"TV Show\",\"Movie\",\"Movie\",\"Movie\",\"TV Show\",\"Movie\",\"Movie\",\"Movie\",\"Movie\",\"Movie\",\"TV Show\",\"TV Show\",\"Movie\",\"Movie\",\"Movie\",\"Movie\",\"Movie\",\"Movie\",\"Movie\",\"TV Show\",\"Movie\",\"TV Show\",\"Movie\",\"Movie\",\"Movie\",\"Movie\",\"Movie\",\"Movie\",\"Movie\",\"Movie\",\"Movie\",\"Movie\",\"TV Show\",\"Movie\",\"Movie\",\"Movie\",\"Movie\",\"Movie\",\"Movie\",\"TV Show\",\"Movie\",\"Movie\",\"Movie\",\"Movie\",\"Movie\",\"TV Show\",\"Movie\",\"TV Show\",\"Movie\",\"TV Show\",\"TV Show\",\"TV Show\",\"TV Show\",\"Movie\",\"TV Show\",\"TV Show\",\"TV Show\",\"Movie\",\"TV Show\",\"Movie\",\"Movie\",\"Movie\",\"Movie\",\"TV Show\",\"TV Show\",\"TV Show\",\"TV Show\",\"TV Show\",\"TV Show\",\"TV Show\",\"TV Show\",\"TV Show\",\"TV Show\",\"Movie\",\"TV Show\",\"TV Show\",\"Movie\",\"Movie\",\"Movie\",\"Movie\",\"Movie\",\"Movie\",\"TV Show\",\"Movie\",\"Movie\",\"Movie\",\"TV Show\",\"Movie\",\"TV Show\",\"TV Show\",\"Movie\",\"TV Show\",\"Movie\",\"Movie\",\"Movie\",\"Movie\",\"Movie\",\"Movie\",\"TV Show\",\"Movie\",\"TV Show\",\"TV Show\",\"TV Show\",\"Movie\",\"Movie\",\"Movie\",\"Movie\",\"Movie\",\"Movie\",\"Movie\",\"Movie\",\"Movie\",\"Movie\",\"Movie\",\"Movie\",\"Movie\",\"Movie\",\"Movie\",\"Movie\",\"Movie\",\"Movie\",\"Movie\",\"Movie\",\"TV Show\",\"Movie\",\"Movie\",\"Movie\",\"Movie\",\"Movie\",\"Movie\",\"TV Show\",\"Movie\",\"TV Show\",\"Movie\",\"TV Show\",\"Movie\",\"TV Show\",\"Movie\",\"Movie\",\"Movie\",\"Movie\",\"Movie\",\"Movie\",\"Movie\",\"Movie\",\"Movie\",\"Movie\",\"Movie\",\"Movie\",\"Movie\",\"TV Show\",\"Movie\",\"Movie\",\"TV Show\",\"Movie\",\"TV Show\",\"TV Show\",\"Movie\",\"Movie\",\"TV Show\",\"Movie\",\"Movie\",\"Movie\",\"Movie\",\"Movie\",\"TV Show\",\"Movie\",\"Movie\",\"Movie\",\"Movie\",\"TV Show\",\"Movie\",\"Movie\",\"TV Show\",\"Movie\",\"TV Show\",\"TV Show\",\"Movie\",\"Movie\",\"Movie\",\"TV Show\",\"TV Show\",\"Movie\",\"Movie\",\"Movie\",\"Movie\",\"TV Show\",\"TV Show\",\"TV Show\",\"TV Show\",\"Movie\",\"Movie\",\"Movie\",\"TV Show\",\"Movie\",\"Movie\",\"Movie\",\"Movie\",\"Movie\",\"Movie\",\"Movie\",\"Movie\",\"Movie\",\"TV Show\",\"Movie\",\"Movie\",\"Movie\",\"TV Show\",\"TV Show\",\"Movie\",\"Movie\",\"Movie\",\"TV Show\",\"TV Show\",\"Movie\",\"Movie\",\"Movie\",\"TV Show\",\"Movie\",\"Movie\",\"TV Show\",\"Movie\",\"Movie\",\"Movie\",\"TV Show\",\"Movie\",\"Movie\",\"Movie\",\"Movie\",\"Movie\",\"TV Show\",\"TV Show\",\"TV Show\",\"TV Show\",\"TV Show\",\"Movie\",\"TV Show\",\"Movie\",\"TV Show\",\"Movie\",\"Movie\",\"TV Show\",\"TV Show\",\"Movie\",\"Movie\",\"TV Show\",\"Movie\",\"Movie\",\"Movie\",\"TV Show\",\"Movie\",\"Movie\",\"TV Show\",\"TV Show\",\"Movie\",\"Movie\",\"Movie\",\"Movie\",\"Movie\",\"Movie\",\"Movie\",\"Movie\",\"Movie\",\"Movie\",\"TV Show\",\"Movie\",\"Movie\",\"Movie\",\"Movie\",\"Movie\",\"Movie\",\"Movie\",\"Movie\",\"Movie\",\"Movie\",\"TV Show\",\"Movie\",\"TV Show\",\"TV Show\",\"TV Show\",\"Movie\",\"TV Show\",\"TV Show\",\"Movie\",\"TV Show\",\"Movie\",\"Movie\",\"Movie\",\"Movie\",\"TV Show\",\"Movie\",\"Movie\",\"TV Show\",\"Movie\",\"Movie\",\"Movie\",\"Movie\",\"Movie\",\"Movie\",\"Movie\",\"TV Show\",\"TV Show\",\"Movie\",\"TV Show\",\"Movie\",\"TV Show\",\"TV Show\",\"TV Show\",\"TV Show\",\"TV Show\",\"Movie\",\"Movie\",\"Movie\",\"TV Show\",\"Movie\",\"TV Show\",\"Movie\",\"TV Show\",\"Movie\",\"Movie\",\"TV Show\",\"TV Show\",\"Movie\",\"Movie\",\"TV Show\",\"Movie\",\"Movie\",\"TV Show\",\"TV Show\",\"Movie\",\"Movie\",\"Movie\",\"Movie\",\"Movie\",\"Movie\",\"TV Show\",\"Movie\",\"Movie\",\"TV Show\",\"TV Show\",\"Movie\",\"Movie\",\"TV Show\",\"Movie\",\"Movie\",\"TV Show\",\"TV Show\",\"Movie\",\"Movie\",\"Movie\",\"Movie\",\"Movie\",\"Movie\",\"Movie\",\"Movie\",\"TV Show\",\"TV Show\",\"TV Show\",\"Movie\",\"TV Show\",\"Movie\",\"TV Show\",\"TV Show\",\"TV Show\",\"Movie\",\"Movie\",\"Movie\",\"TV Show\",\"TV Show\",\"TV Show\",\"TV Show\",\"Movie\",\"TV Show\",\"Movie\",\"Movie\",\"Movie\",\"Movie\",\"Movie\",\"TV Show\",\"Movie\",\"TV Show\",\"Movie\",\"TV Show\",\"Movie\",\"TV Show\",\"Movie\",\"Movie\",\"TV Show\",\"Movie\",\"Movie\",\"TV Show\",\"TV Show\",\"TV Show\",\"Movie\",\"Movie\",\"Movie\",\"Movie\",\"Movie\",\"Movie\",\"TV Show\",\"Movie\",\"TV Show\",\"TV Show\",\"Movie\",\"Movie\",\"Movie\",\"Movie\",\"TV Show\",\"TV Show\",\"TV Show\",\"Movie\",\"TV Show\",\"Movie\",\"Movie\",\"Movie\",\"TV Show\",\"Movie\",\"Movie\",\"Movie\",\"Movie\",\"Movie\",\"Movie\",\"Movie\",\"TV Show\",\"Movie\",\"Movie\",\"TV Show\",\"Movie\",\"Movie\",\"Movie\",\"Movie\",\"Movie\",\"Movie\",\"Movie\",\"TV Show\",\"Movie\",\"TV Show\",\"TV Show\",\"Movie\",\"TV Show\",\"Movie\",\"Movie\",\"Movie\",\"Movie\",\"TV Show\",\"Movie\",\"TV Show\",\"TV Show\",\"Movie\",\"TV Show\",\"TV Show\",\"Movie\",\"Movie\",\"Movie\",\"Movie\",\"TV Show\",\"TV Show\",\"Movie\",\"Movie\",\"Movie\",\"Movie\",\"Movie\",\"TV Show\",\"Movie\",\"TV Show\",\"Movie\",\"Movie\",\"TV Show\",\"Movie\",\"TV Show\",\"TV Show\",\"Movie\",\"TV Show\",\"Movie\",\"Movie\",\"Movie\",\"Movie\",\"Movie\",\"Movie\",\"Movie\",\"TV Show\",\"Movie\",\"Movie\",\"TV Show\",\"TV Show\",\"TV Show\",\"TV Show\",\"TV Show\",\"Movie\",\"TV Show\",\"TV Show\",\"Movie\",\"Movie\",\"Movie\",\"TV Show\",\"Movie\",\"TV Show\",\"Movie\",\"Movie\",\"TV Show\",\"Movie\",\"Movie\",\"Movie\",\"Movie\",\"Movie\",\"Movie\",\"Movie\",\"Movie\",\"Movie\",\"Movie\",\"TV Show\",\"Movie\",\"TV Show\",\"TV Show\",\"Movie\",\"TV Show\",\"Movie\",\"Movie\",\"Movie\",\"Movie\",\"Movie\",\"TV Show\",\"Movie\",\"TV Show\",\"Movie\",\"Movie\",\"Movie\",\"TV Show\",\"Movie\",\"Movie\",\"Movie\",\"Movie\",\"Movie\",\"Movie\",\"TV Show\",\"TV Show\",\"Movie\",\"TV Show\",\"Movie\",\"TV Show\",\"TV Show\",\"Movie\",\"TV Show\",\"Movie\",\"Movie\",\"TV Show\",\"TV Show\",\"Movie\",\"TV Show\",\"Movie\",\"TV Show\",\"Movie\",\"TV Show\",\"TV Show\",\"TV Show\",\"TV Show\",\"Movie\",\"Movie\",\"TV Show\",\"TV Show\",\"Movie\",\"TV Show\",\"TV Show\",\"Movie\",\"Movie\",\"Movie\",\"TV Show\",\"Movie\",\"Movie\",\"TV Show\",\"Movie\",\"TV Show\",\"Movie\",\"Movie\",\"Movie\",\"Movie\",\"TV Show\",\"TV Show\",\"Movie\",\"TV Show\",\"TV Show\",\"TV Show\",\"Movie\",\"Movie\",\"Movie\",\"TV Show\",\"TV Show\",\"Movie\",\"Movie\",\"Movie\",\"TV Show\",\"Movie\",\"TV Show\",\"TV Show\",\"TV Show\",\"Movie\",\"TV Show\",\"TV Show\",\"Movie\",\"Movie\",\"TV Show\",\"Movie\",\"Movie\",\"TV Show\",\"Movie\",\"Movie\",\"Movie\",\"Movie\",\"Movie\",\"Movie\",\"TV Show\",\"Movie\",\"TV Show\",\"Movie\",\"Movie\",\"Movie\",\"Movie\",\"Movie\",\"TV Show\",\"Movie\",\"Movie\",\"TV Show\",\"TV Show\",\"Movie\",\"Movie\",\"TV Show\",\"TV Show\",\"Movie\",\"Movie\",\"TV Show\",\"TV Show\",\"Movie\",\"TV Show\",\"Movie\",\"TV Show\",\"TV Show\",\"Movie\",\"Movie\",\"Movie\",\"Movie\",\"Movie\",\"TV Show\",\"Movie\",\"Movie\",\"Movie\",\"TV Show\",\"TV Show\",\"TV Show\",\"TV Show\",\"Movie\",\"Movie\",\"Movie\",\"Movie\",\"Movie\",\"Movie\",\"Movie\",\"TV Show\",\"Movie\",\"Movie\",\"Movie\",\"Movie\",\"TV Show\",\"Movie\",\"Movie\",\"Movie\",\"TV Show\",\"Movie\",\"Movie\",\"TV Show\",\"Movie\",\"Movie\",\"Movie\",\"Movie\",\"Movie\",\"TV Show\",\"TV Show\",\"Movie\",\"TV Show\",\"Movie\",\"TV Show\",\"Movie\",\"Movie\",\"Movie\",\"Movie\",\"Movie\",\"Movie\",\"Movie\",\"Movie\",\"Movie\",\"Movie\",\"Movie\",\"TV Show\",\"Movie\",\"Movie\",\"TV Show\",\"TV Show\",\"Movie\",\"Movie\",\"Movie\",\"TV Show\",\"TV Show\",\"Movie\",\"Movie\",\"TV Show\",\"TV Show\",\"TV Show\",\"Movie\",\"Movie\",\"TV Show\",\"Movie\",\"Movie\",\"Movie\",\"Movie\",\"TV Show\",\"Movie\",\"TV Show\",\"Movie\",\"Movie\",\"TV Show\",\"Movie\",\"Movie\",\"Movie\",\"TV Show\",\"TV Show\",\"TV Show\",\"TV Show\",\"Movie\",\"Movie\",\"TV Show\",\"TV Show\",\"TV Show\",\"TV Show\",\"Movie\",\"TV Show\",\"Movie\",\"Movie\",\"Movie\",\"TV Show\",\"Movie\",\"Movie\",\"TV Show\",\"Movie\",\"Movie\",\"Movie\",\"TV Show\",\"Movie\",\"Movie\",\"TV Show\",\"Movie\",\"Movie\",\"Movie\",\"Movie\",\"Movie\",\"TV Show\",\"Movie\",\"TV Show\",\"Movie\",\"TV Show\",\"Movie\",\"Movie\",\"Movie\",\"TV Show\",\"TV Show\",\"TV Show\",\"TV Show\",\"TV Show\",\"TV Show\",\"TV Show\",\"Movie\",\"Movie\",\"Movie\",\"Movie\",\"TV Show\",\"TV Show\",\"Movie\",\"Movie\",\"TV Show\",\"Movie\",\"TV Show\",\"Movie\",\"TV Show\",\"Movie\",\"Movie\",\"Movie\",\"Movie\",\"TV Show\",\"TV Show\",\"Movie\",\"TV Show\",\"TV Show\",\"Movie\",\"Movie\",\"Movie\",\"Movie\",\"Movie\",\"Movie\",\"Movie\",\"TV Show\",\"TV Show\",\"Movie\",\"Movie\",\"TV Show\",\"Movie\",\"Movie\",\"Movie\",\"Movie\",\"TV Show\",\"TV Show\",\"Movie\",\"Movie\",\"TV Show\",\"TV Show\",\"Movie\",\"Movie\",\"Movie\",\"Movie\",\"Movie\",\"Movie\",\"Movie\",\"Movie\",\"TV Show\",\"Movie\",\"Movie\",\"Movie\",\"Movie\",\"Movie\",\"Movie\",\"Movie\",\"Movie\",\"Movie\",\"Movie\",\"Movie\",\"Movie\",\"Movie\",\"Movie\",\"TV Show\",\"Movie\",\"Movie\",\"Movie\",\"Movie\",\"Movie\",\"TV Show\",\"Movie\",\"Movie\",\"TV Show\",\"Movie\",\"TV Show\",\"TV Show\",\"TV Show\",\"Movie\",\"Movie\",\"Movie\",\"Movie\",\"Movie\",\"TV Show\",\"TV Show\",\"Movie\",\"Movie\",\"TV Show\",\"TV Show\",\"Movie\",\"TV Show\",\"Movie\",\"Movie\",\"Movie\",\"Movie\",\"Movie\",\"TV Show\",\"Movie\",\"Movie\",\"Movie\",\"TV Show\",\"Movie\",\"Movie\",\"Movie\",\"TV Show\",\"Movie\",\"Movie\",\"Movie\",\"Movie\",\"TV Show\",\"Movie\",\"TV Show\",\"Movie\",\"TV Show\",\"TV Show\",\"Movie\",\"TV Show\",\"Movie\",\"Movie\",\"Movie\",\"Movie\",\"TV Show\",\"Movie\",\"Movie\",\"Movie\",\"TV Show\",\"TV Show\",\"Movie\",\"Movie\",\"TV Show\",\"TV Show\",\"TV Show\",\"Movie\",\"Movie\",\"Movie\",\"Movie\",\"Movie\",\"Movie\",\"Movie\",\"Movie\",\"Movie\",\"Movie\",\"TV Show\",\"TV Show\",\"TV Show\",\"Movie\",\"TV Show\",\"Movie\",\"Movie\",\"Movie\",\"TV Show\",\"TV Show\",\"Movie\",\"TV Show\",\"TV Show\",\"Movie\",\"Movie\",\"Movie\",\"TV Show\",\"TV Show\",\"Movie\",\"TV Show\",\"Movie\",\"Movie\",\"TV Show\",\"TV Show\",\"Movie\",\"Movie\",\"Movie\",\"TV Show\",\"Movie\",\"Movie\",\"Movie\",\"Movie\",\"Movie\",\"Movie\",\"Movie\",\"Movie\",\"Movie\",\"Movie\",\"Movie\",\"Movie\",\"Movie\",\"TV Show\",\"TV Show\",\"TV Show\",\"Movie\",\"TV Show\",\"TV Show\",\"Movie\",\"TV Show\",\"TV Show\",\"Movie\",\"Movie\",\"TV Show\",\"Movie\",\"Movie\",\"TV Show\",\"Movie\",\"Movie\",\"Movie\",\"Movie\",\"Movie\",\"Movie\",\"Movie\",\"Movie\",\"Movie\",\"Movie\",\"Movie\",\"TV Show\",\"Movie\",\"Movie\",\"Movie\",\"Movie\",\"TV Show\",\"TV Show\",\"TV Show\",\"Movie\",\"Movie\",\"TV Show\",\"Movie\",\"Movie\",\"Movie\",\"Movie\",\"TV Show\",\"TV Show\",\"TV Show\",\"TV Show\",\"Movie\",\"TV Show\",\"TV Show\",\"Movie\",\"Movie\",\"Movie\",\"TV Show\",\"Movie\",\"Movie\",\"Movie\",\"TV Show\",\"Movie\",\"Movie\",\"Movie\",\"TV Show\",\"Movie\",\"TV Show\",\"TV Show\",\"Movie\",\"Movie\",\"TV Show\",\"TV Show\",\"Movie\",\"Movie\",\"Movie\",\"Movie\",\"Movie\",\"Movie\",\"Movie\",\"TV Show\",\"TV Show\",\"Movie\",\"Movie\",\"Movie\",\"Movie\",\"Movie\",\"Movie\",\"Movie\",\"Movie\",\"Movie\",\"TV Show\",\"TV Show\",\"Movie\",\"Movie\",\"Movie\",\"TV Show\",\"Movie\",\"Movie\",\"TV Show\",\"Movie\",\"TV Show\",\"Movie\",\"TV Show\",\"Movie\",\"Movie\",\"TV Show\",\"Movie\",\"Movie\",\"Movie\",\"Movie\",\"Movie\",\"TV Show\",\"TV Show\",\"Movie\",\"Movie\",\"Movie\",\"TV Show\",\"Movie\",\"Movie\",\"Movie\",\"TV Show\",\"TV Show\",\"TV Show\",\"Movie\",\"TV Show\",\"Movie\",\"TV Show\",\"TV Show\",\"TV Show\",\"Movie\",\"Movie\",\"TV Show\",\"Movie\",\"Movie\",\"Movie\",\"Movie\",\"TV Show\",\"Movie\",\"TV Show\",\"Movie\",\"Movie\",\"Movie\",\"Movie\",\"TV Show\",\"TV Show\",\"Movie\",\"Movie\",\"TV Show\",\"Movie\",\"Movie\",\"Movie\",\"TV Show\",\"Movie\",\"Movie\",\"TV Show\",\"Movie\",\"TV Show\",\"TV Show\",\"Movie\",\"TV Show\",\"TV Show\",\"Movie\",\"Movie\",\"TV Show\",\"TV Show\",\"Movie\",\"TV Show\",\"Movie\",\"Movie\",\"Movie\",\"TV Show\",\"TV Show\",\"Movie\",\"Movie\",\"Movie\",\"Movie\",\"TV Show\",\"Movie\",\"Movie\",\"Movie\",\"TV Show\",\"TV Show\",\"TV Show\",\"TV Show\",\"Movie\",\"TV Show\",\"Movie\",\"Movie\",\"Movie\",\"Movie\",\"Movie\",\"TV Show\",\"TV Show\",\"TV Show\",\"TV Show\",\"Movie\",\"Movie\",\"Movie\",\"TV Show\",\"Movie\",\"Movie\",\"Movie\",\"TV Show\",\"TV Show\",\"Movie\",\"Movie\",\"TV Show\",\"Movie\",\"Movie\",\"TV Show\",\"TV Show\",\"TV Show\",\"Movie\",\"Movie\",\"TV Show\",\"TV Show\",\"TV Show\",\"Movie\",\"TV Show\",\"Movie\",\"TV Show\",\"Movie\",\"Movie\",\"TV Show\",\"Movie\",\"Movie\",\"TV Show\",\"Movie\",\"TV Show\",\"Movie\",\"Movie\",\"TV Show\",\"TV Show\",\"TV Show\",\"Movie\",\"Movie\",\"TV Show\",\"Movie\",\"TV Show\",\"TV Show\",\"Movie\",\"Movie\",\"TV Show\",\"Movie\",\"Movie\",\"Movie\",\"Movie\",\"TV Show\",\"TV Show\",\"Movie\",\"TV Show\",\"Movie\",\"TV Show\",\"Movie\",\"Movie\",\"Movie\",\"Movie\",\"Movie\",\"Movie\",\"TV Show\",\"Movie\",\"TV Show\",\"Movie\",\"Movie\",\"Movie\",\"Movie\",\"Movie\",\"Movie\",\"Movie\",\"Movie\",\"TV Show\",\"Movie\",\"TV Show\",\"Movie\",\"Movie\",\"TV Show\",\"TV Show\",\"Movie\",\"Movie\",\"Movie\",\"TV Show\",\"TV Show\",\"Movie\",\"TV Show\",\"TV Show\",\"TV Show\",\"Movie\",\"TV Show\",\"TV Show\",\"Movie\",\"Movie\",\"Movie\",\"Movie\",\"TV Show\",\"Movie\",\"TV Show\",\"TV Show\",\"Movie\",\"Movie\",\"TV Show\",\"Movie\",\"Movie\",\"Movie\",\"TV Show\",\"TV Show\",\"Movie\",\"Movie\",\"TV Show\",\"Movie\",\"TV Show\",\"Movie\",\"TV Show\",\"TV Show\",\"TV Show\",\"Movie\",\"Movie\",\"TV Show\",\"Movie\",\"Movie\",\"Movie\",\"Movie\",\"Movie\",\"Movie\",\"Movie\",\"Movie\",\"Movie\",\"Movie\",\"Movie\",\"Movie\",\"Movie\",\"Movie\",\"Movie\",\"Movie\",\"TV Show\",\"Movie\",\"Movie\",\"Movie\",\"Movie\",\"Movie\",\"Movie\",\"Movie\",\"Movie\",\"Movie\",\"Movie\",\"Movie\",\"Movie\",\"Movie\",\"Movie\",\"Movie\",\"Movie\",\"TV Show\",\"TV Show\",\"Movie\",\"Movie\",\"Movie\",\"TV Show\",\"TV Show\",\"TV Show\",\"Movie\",\"TV Show\",\"Movie\",\"TV Show\",\"Movie\",\"TV Show\",\"TV Show\",\"TV Show\",\"Movie\",\"Movie\",\"Movie\",\"Movie\",\"Movie\",\"TV Show\",\"Movie\",\"Movie\",\"Movie\",\"Movie\",\"TV Show\",\"Movie\",\"TV Show\",\"Movie\",\"TV Show\",\"Movie\",\"Movie\",\"Movie\",\"Movie\",\"TV Show\",\"Movie\",\"TV Show\",\"Movie\",\"TV Show\",\"Movie\",\"Movie\",\"Movie\",\"Movie\",\"Movie\",\"TV Show\",\"Movie\",\"Movie\",\"Movie\",\"Movie\",\"Movie\",\"TV Show\",\"Movie\",\"Movie\",\"TV Show\",\"Movie\",\"Movie\",\"TV Show\",\"Movie\",\"Movie\",\"TV Show\",\"Movie\",\"Movie\",\"Movie\",\"Movie\",\"TV Show\",\"Movie\",\"TV Show\",\"Movie\",\"Movie\",\"TV Show\",\"Movie\",\"Movie\",\"Movie\",\"Movie\",\"Movie\",\"Movie\",\"Movie\",\"Movie\",\"Movie\",\"Movie\",\"Movie\",\"Movie\",\"Movie\",\"Movie\",\"Movie\",\"TV Show\",\"Movie\",\"Movie\",\"Movie\",\"Movie\",\"TV Show\",\"Movie\",\"Movie\",\"Movie\",\"Movie\",\"TV Show\",\"Movie\",\"TV Show\",\"Movie\",\"Movie\",\"Movie\",\"TV Show\",\"TV Show\",\"TV Show\",\"Movie\",\"Movie\",\"TV Show\",\"TV Show\",\"TV Show\",\"Movie\",\"Movie\",\"TV Show\",\"TV Show\",\"TV Show\",\"Movie\",\"TV Show\",\"TV Show\",\"Movie\",\"Movie\",\"Movie\",\"Movie\",\"Movie\",\"TV Show\",\"Movie\",\"TV Show\",\"Movie\",\"Movie\",\"Movie\",\"Movie\",\"TV Show\",\"TV Show\",\"Movie\",\"Movie\",\"TV Show\",\"Movie\",\"Movie\",\"Movie\",\"Movie\",\"Movie\",\"TV Show\",\"Movie\",\"Movie\",\"Movie\",\"Movie\",\"Movie\",\"Movie\",\"Movie\",\"Movie\",\"Movie\",\"Movie\",\"Movie\",\"TV Show\",\"Movie\",\"Movie\",\"TV Show\",\"Movie\",\"TV Show\",\"TV Show\",\"Movie\",\"TV Show\",\"TV Show\",\"Movie\",\"Movie\",\"Movie\",\"Movie\",\"Movie\",\"TV Show\",\"Movie\",\"TV Show\",\"TV Show\",\"Movie\",\"Movie\",\"Movie\",\"TV Show\",\"Movie\",\"Movie\",\"Movie\",\"TV Show\",\"Movie\",\"TV Show\",\"TV Show\",\"Movie\",\"Movie\",\"TV Show\",\"Movie\",\"Movie\",\"Movie\",\"TV Show\",\"Movie\",\"Movie\",\"Movie\",\"Movie\",\"Movie\",\"TV Show\",\"Movie\",\"Movie\",\"Movie\",\"Movie\",\"Movie\",\"Movie\",\"Movie\",\"Movie\",\"TV Show\",\"Movie\",\"Movie\",\"Movie\",\"TV Show\",\"Movie\",\"Movie\",\"Movie\",\"Movie\",\"Movie\",\"Movie\",\"Movie\",\"TV Show\",\"TV Show\",\"Movie\",\"Movie\",\"Movie\",\"Movie\",\"Movie\",\"TV Show\",\"TV Show\",\"Movie\",\"TV Show\",\"TV Show\",\"TV Show\",\"Movie\",\"Movie\",\"TV Show\",\"TV Show\",\"TV Show\",\"TV Show\",\"TV Show\",\"TV Show\",\"TV Show\",\"TV Show\",\"TV Show\",\"Movie\",\"Movie\",\"Movie\",\"Movie\",\"Movie\",\"Movie\",\"Movie\",\"Movie\",\"Movie\",\"Movie\",\"Movie\",\"TV Show\",\"Movie\",\"Movie\",\"Movie\",\"TV Show\",\"Movie\",\"TV Show\",\"Movie\",\"Movie\",\"TV Show\",\"TV Show\",\"TV Show\",\"TV Show\",\"Movie\",\"Movie\",\"TV Show\",\"Movie\",\"Movie\",\"Movie\",\"Movie\",\"Movie\",\"Movie\",\"Movie\",\"TV Show\",\"Movie\",\"Movie\",\"TV Show\",\"TV Show\",\"Movie\",\"Movie\",\"Movie\",\"Movie\",\"TV Show\",\"TV Show\",\"Movie\",\"Movie\",\"Movie\",\"Movie\",\"TV Show\",\"Movie\",\"Movie\",\"TV Show\",\"Movie\",\"TV Show\",\"TV Show\",\"Movie\",\"TV Show\",\"Movie\",\"TV Show\",\"Movie\",\"Movie\",\"Movie\",\"Movie\",\"Movie\",\"Movie\",\"Movie\",\"TV Show\",\"TV Show\",\"TV Show\",\"Movie\",\"TV Show\",\"TV Show\",\"Movie\",\"Movie\",\"TV Show\",\"Movie\",\"Movie\",\"TV Show\",\"Movie\",\"TV Show\",\"Movie\",\"Movie\",\"Movie\",\"Movie\",\"Movie\",\"Movie\",\"Movie\",\"Movie\",\"Movie\",\"Movie\",\"Movie\",\"Movie\",\"Movie\",\"Movie\",\"Movie\",\"TV Show\",\"TV Show\",\"Movie\",\"Movie\",\"TV Show\",\"Movie\",\"Movie\",\"Movie\",\"Movie\",\"Movie\",\"Movie\",\"Movie\",\"TV Show\",\"TV Show\",\"TV Show\",\"Movie\",\"TV Show\",\"Movie\",\"TV Show\",\"Movie\",\"Movie\",\"TV Show\",\"Movie\",\"Movie\",\"TV Show\",\"Movie\",\"Movie\",\"Movie\",\"Movie\",\"Movie\",\"TV Show\",\"TV Show\",\"TV Show\",\"TV Show\",\"TV Show\",\"TV Show\",\"Movie\",\"TV Show\",\"TV Show\",\"TV Show\",\"Movie\",\"Movie\",\"TV Show\",\"TV Show\",\"Movie\",\"Movie\",\"Movie\",\"Movie\",\"TV Show\",\"TV Show\",\"Movie\",\"Movie\",\"Movie\",\"Movie\",\"Movie\",\"Movie\",\"Movie\",\"TV Show\",\"Movie\",\"Movie\",\"Movie\",\"Movie\",\"Movie\",\"Movie\",\"TV Show\",\"Movie\",\"Movie\",\"Movie\",\"Movie\",\"TV Show\",\"Movie\",\"TV Show\",\"TV Show\",\"Movie\",\"Movie\",\"Movie\",\"Movie\",\"Movie\",\"Movie\",\"Movie\",\"Movie\",\"TV Show\",\"Movie\",\"TV Show\",\"Movie\",\"Movie\",\"Movie\",\"Movie\",\"Movie\",\"Movie\",\"Movie\",\"TV Show\",\"Movie\",\"Movie\",\"Movie\",\"Movie\",\"Movie\",\"Movie\",\"Movie\",\"Movie\",\"TV Show\",\"Movie\",\"Movie\",\"Movie\",\"Movie\",\"Movie\",\"Movie\",\"Movie\",\"Movie\",\"TV Show\",\"Movie\",\"Movie\",\"TV Show\",\"TV Show\",\"Movie\",\"TV Show\",\"TV Show\",\"Movie\",\"Movie\",\"TV Show\",\"Movie\",\"TV Show\",\"Movie\",\"Movie\",\"TV Show\",\"TV Show\",\"Movie\",\"Movie\",\"Movie\",\"Movie\",\"Movie\",\"Movie\",\"TV Show\",\"Movie\",\"TV Show\",\"Movie\",\"Movie\",\"TV Show\",\"TV Show\",\"Movie\",\"TV Show\",\"Movie\",\"Movie\",\"Movie\",\"Movie\",\"TV Show\",\"Movie\",\"TV Show\",\"Movie\",\"Movie\",\"TV Show\",\"Movie\",\"Movie\",\"Movie\",\"Movie\",\"Movie\",\"TV Show\",\"TV Show\",\"TV Show\",\"Movie\",\"TV Show\",\"TV Show\",\"Movie\",\"TV Show\",\"TV Show\",\"TV Show\",\"TV Show\",\"TV Show\",\"TV Show\",\"Movie\",\"TV Show\",\"Movie\",\"Movie\",\"Movie\",\"Movie\",\"TV Show\",\"Movie\",\"TV Show\",\"Movie\",\"Movie\",\"TV Show\",\"TV Show\",\"Movie\",\"Movie\",\"Movie\",\"Movie\",\"TV Show\",\"Movie\",\"Movie\",\"TV Show\",\"Movie\",\"TV Show\",\"Movie\",\"Movie\",\"TV Show\",\"Movie\",\"Movie\",\"TV Show\",\"TV Show\",\"TV Show\",\"TV Show\",\"Movie\",\"Movie\",\"Movie\",\"Movie\",\"Movie\",\"Movie\",\"Movie\",\"Movie\",\"Movie\",\"Movie\",\"TV Show\",\"Movie\",\"Movie\",\"TV Show\",\"Movie\",\"Movie\",\"Movie\",\"Movie\",\"TV Show\",\"Movie\",\"Movie\",\"Movie\",\"Movie\",\"Movie\",\"Movie\",\"Movie\",\"TV Show\",\"TV Show\",\"Movie\",\"TV Show\",\"Movie\",\"Movie\",\"Movie\",\"Movie\",\"Movie\",\"Movie\",\"Movie\",\"Movie\",\"Movie\",\"Movie\",\"TV Show\",\"Movie\",\"TV Show\",\"TV Show\",\"TV Show\",\"Movie\",\"TV Show\",\"TV Show\",\"Movie\",\"TV Show\",\"Movie\",\"Movie\",\"TV Show\",\"Movie\",\"Movie\",\"TV Show\",\"Movie\",\"Movie\",\"Movie\",\"Movie\",\"TV Show\",\"Movie\",\"TV Show\",\"TV Show\",\"TV Show\",\"TV Show\",\"TV Show\",\"Movie\",\"Movie\",\"Movie\",\"Movie\",\"Movie\",\"TV Show\",\"Movie\",\"TV Show\",\"Movie\",\"Movie\",\"Movie\",\"TV Show\",\"Movie\",\"Movie\",\"Movie\",\"TV Show\",\"Movie\",\"Movie\",\"Movie\",\"Movie\",\"Movie\",\"Movie\",\"TV Show\",\"Movie\",\"Movie\",\"TV Show\",\"TV Show\",\"TV Show\",\"TV Show\",\"Movie\",\"Movie\",\"TV Show\",\"Movie\",\"Movie\",\"Movie\",\"Movie\",\"TV Show\",\"Movie\",\"Movie\",\"Movie\",\"Movie\",\"Movie\",\"TV Show\",\"TV Show\",\"Movie\",\"Movie\",\"TV Show\",\"TV Show\",\"Movie\",\"TV Show\",\"TV Show\",\"Movie\",\"TV Show\",\"TV Show\",\"Movie\",\"Movie\",\"Movie\",\"Movie\",\"TV Show\",\"Movie\",\"Movie\",\"Movie\",\"Movie\",\"TV Show\",\"TV Show\",\"Movie\",\"Movie\",\"TV Show\",\"Movie\",\"Movie\",\"TV Show\",\"TV Show\",\"TV Show\",\"Movie\",\"Movie\",\"Movie\",\"TV Show\",\"Movie\",\"Movie\",\"TV Show\",\"Movie\",\"TV Show\",\"TV Show\",\"Movie\",\"TV Show\",\"TV Show\",\"Movie\",\"TV Show\",\"TV Show\",\"TV Show\",\"Movie\",\"Movie\",\"Movie\",\"Movie\",\"Movie\",\"Movie\",\"TV Show\",\"TV Show\",\"TV Show\",\"TV Show\",\"Movie\",\"Movie\",\"TV Show\",\"TV Show\",\"TV Show\",\"TV Show\",\"TV Show\",\"Movie\",\"Movie\",\"Movie\",\"TV Show\",\"Movie\",\"Movie\",\"Movie\",\"Movie\",\"TV Show\",\"TV Show\",\"TV Show\",\"TV Show\",\"Movie\",\"TV Show\",\"Movie\",\"Movie\",\"Movie\",\"Movie\",\"TV Show\",\"Movie\",\"Movie\",\"Movie\",\"TV Show\",\"Movie\",\"Movie\",\"Movie\",\"TV Show\",\"Movie\",\"TV Show\",\"Movie\",\"Movie\",\"TV Show\",\"TV Show\",\"TV Show\",\"TV Show\",\"TV Show\",\"Movie\",\"TV Show\",\"TV Show\",\"Movie\",\"TV Show\",\"Movie\",\"Movie\",\"TV Show\",\"Movie\",\"TV Show\",\"Movie\",\"TV Show\",\"TV Show\",\"Movie\",\"TV Show\",\"TV Show\",\"Movie\",\"TV Show\",\"TV Show\",\"Movie\",\"Movie\",\"Movie\",\"Movie\",\"Movie\",\"Movie\",\"TV Show\",\"Movie\",\"TV Show\",\"TV Show\",\"TV Show\",\"Movie\",\"Movie\",\"Movie\",\"TV Show\",\"Movie\",\"Movie\",\"TV Show\",\"TV Show\",\"TV Show\",\"Movie\",\"Movie\",\"TV Show\",\"Movie\",\"Movie\",\"TV Show\",\"TV Show\",\"TV Show\",\"TV Show\",\"TV Show\",\"TV Show\",\"TV Show\",\"Movie\",\"Movie\",\"Movie\",\"TV Show\",\"Movie\",\"Movie\",\"TV Show\",\"TV Show\",\"Movie\",\"Movie\",\"Movie\",\"Movie\",\"Movie\",\"Movie\",\"TV Show\",\"Movie\",\"Movie\",\"TV Show\",\"Movie\",\"TV Show\",\"Movie\",\"Movie\",\"TV Show\",\"Movie\",\"Movie\",\"Movie\",\"Movie\",\"Movie\",\"TV Show\",\"Movie\",\"TV Show\",\"TV Show\",\"TV Show\",\"TV Show\",\"Movie\",\"Movie\",\"Movie\",\"Movie\",\"TV Show\",\"TV Show\",\"TV Show\",\"TV Show\",\"Movie\",\"Movie\",\"Movie\",\"Movie\",\"Movie\",\"Movie\",\"TV Show\",\"Movie\",\"Movie\",\"Movie\",\"Movie\",\"Movie\",\"Movie\",\"Movie\",\"Movie\",\"TV Show\",\"Movie\",\"TV Show\",\"Movie\",\"Movie\",\"Movie\",\"Movie\",\"Movie\",\"Movie\",\"Movie\",\"Movie\",\"Movie\",\"Movie\",\"Movie\",\"Movie\",\"Movie\",\"Movie\",\"Movie\",\"Movie\",\"TV Show\",\"Movie\",\"Movie\",\"TV Show\",\"Movie\",\"Movie\",\"Movie\",\"Movie\",\"TV Show\",\"TV Show\",\"TV Show\",\"TV Show\",\"TV Show\",\"Movie\",\"Movie\",\"Movie\",\"Movie\",\"TV Show\",\"TV Show\",\"TV Show\",\"TV Show\",\"Movie\",\"TV Show\",\"Movie\",\"Movie\",\"Movie\",\"Movie\",\"TV Show\",\"Movie\",\"Movie\",\"Movie\",\"Movie\",\"Movie\",\"Movie\",\"TV Show\",\"Movie\",\"Movie\",\"Movie\",\"Movie\",\"TV Show\",\"Movie\",\"Movie\",\"Movie\",\"TV Show\",\"Movie\",\"Movie\",\"Movie\",\"TV Show\",\"Movie\",\"Movie\",\"Movie\",\"TV Show\",\"Movie\",\"Movie\",\"TV Show\",\"TV Show\",\"TV Show\",\"TV Show\",\"Movie\",\"Movie\",\"Movie\",\"Movie\",\"Movie\",\"Movie\",\"Movie\",\"TV Show\",\"Movie\",\"TV Show\",\"Movie\",\"Movie\",\"Movie\",\"TV Show\",\"Movie\",\"TV Show\",\"Movie\",\"Movie\",\"TV Show\",\"TV Show\",\"TV Show\",\"Movie\",\"TV Show\",\"TV Show\",\"TV Show\",\"Movie\",\"TV Show\",\"Movie\",\"Movie\",\"TV Show\",\"Movie\",\"Movie\",\"TV Show\",\"Movie\",\"TV Show\",\"TV Show\",\"Movie\",\"Movie\",\"Movie\",\"Movie\",\"TV Show\",\"Movie\",\"Movie\",\"Movie\",\"Movie\",\"Movie\",\"TV Show\",\"TV Show\",\"TV Show\",\"Movie\",\"Movie\",\"TV Show\",\"TV Show\",\"TV Show\",\"TV Show\",\"Movie\",\"TV Show\",\"Movie\",\"TV Show\",\"TV Show\",\"TV Show\",\"TV Show\",\"Movie\",\"TV Show\",\"TV Show\",\"TV Show\",\"Movie\",\"Movie\",\"TV Show\",\"Movie\",\"TV Show\",\"TV Show\",\"TV Show\",\"Movie\",\"Movie\",\"TV Show\",\"Movie\",\"Movie\",\"TV Show\",\"Movie\",\"Movie\",\"TV Show\",\"Movie\",\"TV Show\",\"Movie\",\"Movie\",\"Movie\",\"TV Show\",\"Movie\",\"Movie\",\"TV Show\",\"Movie\",\"Movie\",\"TV Show\",\"Movie\",\"Movie\",\"Movie\",\"Movie\",\"Movie\",\"Movie\",\"Movie\",\"Movie\",\"TV Show\",\"Movie\",\"TV Show\",\"TV Show\",\"Movie\",\"TV Show\",\"Movie\",\"Movie\",\"TV Show\",\"Movie\",\"Movie\",\"TV Show\",\"Movie\",\"Movie\",\"TV Show\",\"TV Show\",\"TV Show\",\"TV Show\",\"Movie\",\"TV Show\",\"TV Show\",\"Movie\",\"Movie\",\"Movie\",\"Movie\",\"Movie\",\"TV Show\",\"TV Show\",\"Movie\",\"Movie\",\"TV Show\",\"TV Show\",\"TV Show\",\"TV Show\",\"Movie\",\"TV Show\",\"TV Show\",\"Movie\",\"TV Show\",\"Movie\",\"Movie\",\"Movie\",\"TV Show\",\"TV Show\",\"TV Show\",\"TV Show\",\"Movie\",\"Movie\",\"TV Show\",\"Movie\",\"TV Show\",\"Movie\",\"TV Show\",\"TV Show\",\"Movie\",\"Movie\",\"TV Show\",\"TV Show\",\"Movie\",\"Movie\",\"TV Show\",\"Movie\",\"Movie\",\"Movie\",\"Movie\",\"Movie\",\"Movie\",\"Movie\",\"TV Show\",\"Movie\",\"Movie\",\"Movie\",\"Movie\",\"Movie\",\"Movie\",\"TV Show\",\"TV Show\",\"Movie\",\"TV Show\",\"TV Show\",\"Movie\",\"TV Show\",\"Movie\",\"Movie\",\"Movie\",\"TV Show\",\"Movie\",\"Movie\",\"Movie\",\"TV Show\",\"TV Show\",\"TV Show\",\"Movie\",\"Movie\",\"Movie\",\"TV Show\",\"Movie\",\"Movie\",\"TV Show\",\"Movie\",\"Movie\",\"TV Show\",\"Movie\",\"Movie\",\"Movie\",\"TV Show\",\"Movie\",\"Movie\",\"TV Show\",\"Movie\",\"TV Show\",\"Movie\",\"TV Show\",\"Movie\",\"Movie\",\"TV Show\",\"Movie\",\"Movie\",\"Movie\",\"TV Show\",\"TV Show\",\"Movie\",\"Movie\",\"Movie\",\"TV Show\",\"Movie\",\"Movie\",\"TV Show\",\"TV Show\",\"TV Show\",\"TV Show\",\"Movie\",\"TV Show\",\"TV Show\",\"Movie\",\"Movie\",\"TV Show\",\"TV Show\",\"TV Show\",\"TV Show\",\"Movie\",\"TV Show\",\"TV Show\",\"Movie\",\"Movie\",\"TV Show\",\"Movie\",\"Movie\",\"TV Show\",\"TV Show\",\"Movie\",\"Movie\",\"TV Show\",\"Movie\",\"Movie\",\"Movie\",\"TV Show\",\"Movie\",\"TV Show\",\"Movie\",\"Movie\",\"Movie\",\"Movie\",\"TV Show\",\"TV Show\",\"Movie\",\"TV Show\",\"Movie\",\"Movie\",\"Movie\",\"Movie\",\"Movie\",\"Movie\",\"Movie\",\"TV Show\",\"Movie\",\"TV Show\",\"TV Show\",\"TV Show\",\"TV Show\",\"TV Show\",\"TV Show\",\"Movie\",\"Movie\",\"Movie\",\"TV Show\",\"Movie\",\"Movie\",\"Movie\",\"Movie\",\"TV Show\",\"Movie\",\"Movie\",\"Movie\",\"TV Show\",\"Movie\",\"TV Show\",\"Movie\",\"Movie\",\"TV Show\",\"TV Show\",\"TV Show\",\"TV Show\",\"Movie\",\"Movie\",\"Movie\",\"Movie\",\"Movie\",\"Movie\",\"TV Show\",\"Movie\",\"Movie\",\"Movie\",\"Movie\",\"TV Show\",\"TV Show\",\"TV Show\",\"Movie\",\"TV Show\",\"Movie\",\"Movie\",\"TV Show\",\"Movie\",\"Movie\",\"Movie\",\"TV Show\",\"TV Show\",\"TV Show\",\"TV Show\",\"Movie\",\"Movie\",\"Movie\",\"Movie\",\"TV Show\",\"Movie\",\"Movie\",\"TV Show\",\"TV Show\",\"Movie\",\"Movie\",\"Movie\",\"Movie\",\"Movie\",\"Movie\",\"Movie\",\"Movie\",\"TV Show\",\"Movie\",\"Movie\",\"Movie\",\"TV Show\",\"TV Show\",\"TV Show\",\"TV Show\",\"TV Show\",\"Movie\",\"TV Show\",\"Movie\",\"Movie\",\"Movie\",\"TV Show\",\"Movie\",\"TV Show\",\"TV Show\",\"TV Show\",\"TV Show\",\"Movie\",\"TV Show\",\"Movie\",\"Movie\",\"Movie\",\"Movie\",\"TV Show\",\"TV Show\",\"Movie\",\"TV Show\",\"TV Show\",\"Movie\",\"Movie\",\"TV Show\",\"TV Show\",\"TV Show\",\"TV Show\",\"TV Show\",\"TV Show\",\"TV Show\",\"TV Show\",\"TV Show\",\"TV Show\",\"TV Show\",\"TV Show\",\"Movie\",\"Movie\",\"Movie\",\"Movie\",\"Movie\",\"Movie\",\"Movie\",\"Movie\",\"TV Show\",\"Movie\",\"Movie\",\"TV Show\",\"Movie\",\"Movie\",\"Movie\",\"Movie\",\"TV Show\",\"TV Show\",\"Movie\",\"Movie\",\"TV Show\",\"Movie\",\"Movie\",\"Movie\",\"TV Show\",\"Movie\",\"TV Show\",\"Movie\",\"TV Show\",\"Movie\",\"Movie\",\"Movie\",\"Movie\",\"Movie\",\"Movie\",\"TV Show\",\"Movie\",\"TV Show\",\"TV Show\",\"TV Show\",\"TV Show\",\"Movie\",\"Movie\",\"TV Show\",\"TV Show\",\"Movie\",\"Movie\",\"TV Show\",\"TV Show\",\"TV Show\",\"TV Show\",\"TV Show\",\"Movie\",\"TV Show\",\"Movie\",\"TV Show\",\"Movie\",\"TV Show\",\"TV Show\",\"Movie\",\"Movie\",\"TV Show\",\"Movie\",\"Movie\",\"TV Show\",\"Movie\",\"TV Show\",\"Movie\",\"TV Show\",\"TV Show\",\"TV Show\",\"TV Show\",\"TV Show\",\"TV Show\",\"TV Show\",\"TV Show\",\"TV Show\",\"Movie\",\"TV Show\",\"TV Show\",\"TV Show\",\"Movie\",\"Movie\",\"Movie\",\"TV Show\",\"Movie\",\"TV Show\",\"Movie\",\"TV Show\",\"TV Show\",\"Movie\",\"TV Show\",\"TV Show\",\"Movie\",\"TV Show\",\"Movie\",\"Movie\",\"Movie\",\"Movie\",\"Movie\",\"TV Show\",\"Movie\",\"Movie\",\"TV Show\",\"Movie\",\"TV Show\",\"TV Show\",\"TV Show\",\"TV Show\",\"TV Show\",\"TV Show\",\"TV Show\",\"Movie\",\"Movie\",\"Movie\",\"Movie\",\"Movie\",\"Movie\",\"Movie\",\"Movie\",\"TV Show\",\"TV Show\",\"Movie\",\"Movie\",\"Movie\",\"TV Show\",\"TV Show\",\"TV Show\",\"TV Show\",\"TV Show\",\"TV Show\",\"Movie\",\"TV Show\",\"TV Show\",\"TV Show\",\"TV Show\",\"TV Show\",\"Movie\",\"TV Show\",\"TV Show\",\"Movie\",\"Movie\",\"Movie\",\"Movie\",\"TV Show\",\"Movie\",\"TV Show\",\"Movie\",\"Movie\",\"Movie\",\"Movie\",\"Movie\",\"Movie\",\"TV Show\",\"TV Show\",\"Movie\",\"Movie\",\"Movie\",\"TV Show\",\"Movie\",\"Movie\",\"Movie\",\"TV Show\",\"TV Show\",\"TV Show\",\"Movie\",\"TV Show\",\"Movie\",\"TV Show\",\"Movie\",\"Movie\",\"TV Show\",\"Movie\",\"TV Show\",\"Movie\",\"Movie\",\"TV Show\",\"Movie\",\"TV Show\",\"Movie\",\"TV Show\",\"Movie\",\"Movie\",\"TV Show\",\"Movie\",\"TV Show\",\"Movie\",\"Movie\",\"Movie\",\"Movie\",\"TV Show\",\"TV Show\",\"TV Show\",\"Movie\",\"Movie\",\"Movie\",\"TV Show\",\"Movie\",\"Movie\",\"Movie\",\"Movie\",\"TV Show\",\"Movie\",\"Movie\",\"Movie\",\"TV Show\",\"Movie\",\"TV Show\",\"TV Show\",\"Movie\",\"TV Show\",\"Movie\",\"Movie\",\"Movie\",\"Movie\",\"TV Show\",\"Movie\",\"Movie\",\"Movie\",\"TV Show\",\"Movie\",\"TV Show\",\"TV Show\",\"TV Show\",\"TV Show\",\"Movie\",\"Movie\",\"TV Show\",\"TV Show\",\"TV Show\",\"TV Show\",\"TV Show\",\"TV Show\",\"TV Show\",\"TV Show\",\"TV Show\",\"TV Show\",\"TV Show\",\"TV Show\",\"TV Show\",\"TV Show\",\"Movie\",\"Movie\",\"Movie\",\"TV Show\",\"TV Show\",\"Movie\",\"Movie\",\"TV Show\",\"Movie\",\"Movie\",\"TV Show\",\"Movie\",\"Movie\",\"TV Show\",\"Movie\",\"Movie\",\"Movie\",\"Movie\",\"Movie\",\"TV Show\",\"Movie\",\"TV Show\",\"TV Show\",\"TV Show\",\"TV Show\",\"TV Show\",\"TV Show\",\"TV Show\",\"Movie\",\"TV Show\",\"TV Show\",\"Movie\",\"Movie\",\"Movie\",\"Movie\",\"TV Show\",\"TV Show\",\"Movie\",\"Movie\",\"Movie\",\"TV Show\",\"TV Show\",\"Movie\",\"TV Show\",\"TV Show\",\"TV Show\",\"Movie\",\"Movie\",\"Movie\",\"Movie\",\"Movie\",\"Movie\",\"Movie\",\"Movie\",\"Movie\",\"Movie\",\"Movie\",\"Movie\",\"Movie\",\"Movie\",\"Movie\",\"Movie\",\"Movie\",\"TV Show\",\"Movie\",\"Movie\",\"Movie\",\"Movie\",\"TV Show\",\"Movie\",\"TV Show\",\"TV Show\",\"Movie\",\"Movie\",\"TV Show\",\"Movie\",\"Movie\",\"TV Show\",\"Movie\",\"TV Show\",\"TV Show\",\"TV Show\",\"Movie\",\"TV Show\",\"TV Show\",\"TV Show\",\"TV Show\",\"TV Show\",\"Movie\",\"TV Show\",\"Movie\",\"Movie\",\"TV Show\",\"Movie\",\"Movie\",\"Movie\",\"TV Show\",\"Movie\",\"Movie\",\"TV Show\",\"Movie\",\"TV Show\",\"Movie\",\"Movie\",\"TV Show\",\"Movie\",\"Movie\",\"TV Show\",\"TV Show\",\"Movie\",\"Movie\",\"TV Show\",\"TV Show\",\"TV Show\",\"TV Show\",\"Movie\",\"Movie\",\"Movie\",\"Movie\",\"TV Show\",\"Movie\",\"Movie\",\"TV Show\",\"TV Show\",\"TV Show\",\"Movie\",\"Movie\",\"TV Show\",\"Movie\",\"TV Show\",\"Movie\",\"TV Show\",\"TV Show\",\"Movie\",\"Movie\",\"Movie\",\"Movie\",\"Movie\",\"Movie\",\"TV Show\",\"Movie\",\"TV Show\",\"Movie\",\"Movie\",\"TV Show\",\"Movie\",\"Movie\",\"Movie\",\"Movie\",\"TV Show\",\"Movie\",\"Movie\",\"Movie\",\"Movie\",\"Movie\",\"TV Show\",\"Movie\",\"TV Show\",\"TV Show\",\"TV Show\",\"Movie\",\"Movie\",\"Movie\",\"Movie\",\"Movie\",\"TV Show\",\"TV Show\",\"Movie\",\"Movie\",\"TV Show\",\"TV Show\",\"TV Show\",\"TV Show\",\"TV Show\",\"Movie\",\"TV Show\",\"Movie\",\"Movie\",\"TV Show\",\"Movie\",\"Movie\",\"Movie\",\"Movie\",\"Movie\",\"Movie\",\"TV Show\",\"TV Show\",\"TV Show\",\"Movie\",\"Movie\",\"Movie\",\"Movie\",\"Movie\",\"Movie\",\"Movie\",\"Movie\",\"Movie\",\"TV Show\",\"TV Show\",\"TV Show\",\"TV Show\",\"Movie\",\"Movie\",\"Movie\",\"Movie\",\"Movie\",\"TV Show\",\"Movie\",\"Movie\",\"Movie\",\"Movie\",\"Movie\",\"Movie\",\"Movie\",\"Movie\",\"Movie\",\"Movie\",\"Movie\",\"Movie\",\"Movie\",\"Movie\",\"Movie\",\"TV Show\",\"Movie\",\"Movie\",\"Movie\",\"Movie\",\"TV Show\",\"Movie\",\"Movie\",\"Movie\",\"Movie\",\"TV Show\",\"TV Show\",\"Movie\",\"Movie\",\"Movie\",\"Movie\",\"Movie\",\"Movie\",\"Movie\",\"Movie\",\"Movie\",\"Movie\",\"Movie\",\"Movie\",\"Movie\",\"TV Show\",\"TV Show\",\"Movie\",\"Movie\",\"Movie\",\"TV Show\",\"Movie\",\"TV Show\",\"Movie\",\"Movie\",\"TV Show\",\"Movie\",\"TV Show\",\"Movie\",\"TV Show\",\"TV Show\",\"Movie\",\"Movie\",\"TV Show\",\"Movie\",\"Movie\",\"TV Show\",\"TV Show\",\"TV Show\",\"Movie\",\"TV Show\",\"TV Show\",\"TV Show\",\"TV Show\",\"Movie\",\"Movie\",\"Movie\",\"Movie\",\"Movie\",\"Movie\",\"Movie\",\"Movie\",\"TV Show\",\"TV Show\",\"TV Show\",\"TV Show\",\"Movie\",\"Movie\",\"Movie\",\"Movie\",\"TV Show\",\"Movie\",\"Movie\",\"Movie\",\"Movie\",\"Movie\",\"Movie\",\"Movie\",\"Movie\",\"Movie\",\"Movie\",\"Movie\",\"Movie\",\"TV Show\",\"TV Show\",\"Movie\",\"Movie\",\"TV Show\",\"TV Show\",\"TV Show\",\"Movie\",\"Movie\",\"TV Show\",\"TV Show\",\"Movie\",\"TV Show\",\"Movie\",\"Movie\",\"Movie\",\"TV Show\",\"TV Show\",\"Movie\",\"Movie\",\"Movie\",\"TV Show\",\"TV Show\",\"Movie\",\"Movie\",\"Movie\",\"Movie\",\"TV Show\",\"Movie\",\"Movie\",\"Movie\",\"Movie\",\"Movie\",\"Movie\",\"TV Show\",\"Movie\",\"Movie\",\"TV Show\",\"TV Show\",\"TV Show\",\"TV Show\",\"Movie\",\"Movie\",\"Movie\",\"TV Show\",\"TV Show\",\"Movie\",\"Movie\",\"Movie\",\"Movie\",\"Movie\",\"Movie\",\"Movie\",\"TV Show\",\"TV Show\",\"Movie\",\"TV Show\",\"Movie\",\"TV Show\",\"Movie\",\"Movie\",\"Movie\",\"Movie\",\"Movie\",\"TV Show\",\"TV Show\",\"Movie\",\"Movie\",\"Movie\",\"Movie\",\"Movie\",\"Movie\",\"Movie\",\"Movie\",\"Movie\",\"Movie\",\"Movie\",\"Movie\",\"Movie\",\"Movie\",\"Movie\",\"Movie\",\"Movie\",\"Movie\",\"Movie\",\"Movie\",\"Movie\",\"Movie\",\"TV Show\",\"TV Show\",\"Movie\",\"Movie\",\"TV Show\",\"Movie\",\"TV Show\",\"TV Show\",\"Movie\",\"Movie\",\"TV Show\",\"TV Show\",\"TV Show\",\"TV Show\",\"TV Show\",\"TV Show\",\"TV Show\",\"Movie\",\"Movie\",\"TV Show\",\"TV Show\",\"TV Show\",\"TV Show\",\"TV Show\",\"TV Show\",\"Movie\",\"TV Show\",\"Movie\",\"Movie\",\"TV Show\",\"Movie\",\"Movie\",\"Movie\",\"Movie\",\"TV Show\",\"Movie\",\"Movie\",\"Movie\",\"TV Show\",\"Movie\",\"TV Show\",\"Movie\",\"Movie\",\"Movie\",\"Movie\",\"Movie\",\"TV Show\",\"Movie\",\"Movie\",\"Movie\",\"Movie\",\"Movie\",\"Movie\",\"Movie\",\"TV Show\",\"TV Show\",\"Movie\",\"TV Show\",\"TV Show\",\"TV Show\",\"TV Show\",\"TV Show\",\"TV Show\",\"Movie\",\"Movie\",\"Movie\",\"TV Show\",\"Movie\",\"Movie\",\"Movie\",\"TV Show\",\"TV Show\",\"Movie\",\"Movie\",\"Movie\",\"Movie\",\"TV Show\",\"TV Show\",\"Movie\",\"Movie\",\"Movie\",\"Movie\",\"Movie\",\"Movie\",\"Movie\",\"Movie\",\"Movie\",\"Movie\",\"Movie\",\"Movie\",\"TV Show\",\"Movie\",\"Movie\",\"Movie\",\"Movie\",\"Movie\",\"Movie\",\"Movie\",\"Movie\",\"Movie\",\"TV Show\",\"Movie\",\"Movie\",\"TV Show\",\"Movie\",\"Movie\",\"TV Show\",\"Movie\",\"Movie\",\"TV Show\",\"Movie\",\"Movie\",\"TV Show\",\"TV Show\",\"Movie\",\"TV Show\",\"TV Show\",\"TV Show\",\"TV Show\",\"Movie\",\"Movie\",\"TV Show\",\"TV Show\",\"Movie\",\"Movie\",\"Movie\",\"TV Show\",\"Movie\",\"Movie\",\"TV Show\",\"TV Show\",\"TV Show\",\"Movie\",\"Movie\",\"TV Show\",\"Movie\",\"Movie\",\"TV Show\",\"Movie\",\"TV Show\",\"Movie\",\"Movie\",\"Movie\",\"Movie\",\"Movie\",\"Movie\",\"Movie\",\"Movie\",\"Movie\",\"TV Show\",\"TV Show\",\"Movie\",\"Movie\",\"TV Show\",\"Movie\",\"TV Show\",\"TV Show\",\"TV Show\",\"TV Show\",\"TV Show\",\"TV Show\",\"Movie\",\"Movie\",\"TV Show\",\"Movie\",\"TV Show\",\"Movie\",\"Movie\",\"Movie\",\"Movie\",\"Movie\",\"Movie\",\"Movie\",\"Movie\",\"Movie\",\"Movie\",\"Movie\",\"Movie\",\"Movie\",\"Movie\",\"TV Show\",\"Movie\",\"Movie\",\"Movie\",\"Movie\",\"Movie\",\"TV Show\",\"Movie\",\"Movie\",\"Movie\",\"Movie\",\"Movie\",\"Movie\",\"Movie\",\"Movie\",\"Movie\",\"Movie\",\"Movie\",\"Movie\",\"Movie\",\"Movie\",\"Movie\",\"Movie\",\"Movie\",\"Movie\",\"Movie\",\"Movie\",\"Movie\",\"Movie\",\"Movie\",\"Movie\",\"TV Show\",\"Movie\",\"Movie\",\"Movie\",\"Movie\",\"Movie\",\"Movie\",\"Movie\",\"TV Show\",\"Movie\",\"Movie\",\"Movie\",\"Movie\",\"Movie\",\"Movie\",\"TV Show\",\"Movie\",\"TV Show\",\"TV Show\",\"Movie\",\"Movie\",\"Movie\",\"TV Show\",\"Movie\",\"TV Show\",\"Movie\",\"TV Show\",\"TV Show\",\"TV Show\",\"Movie\",\"Movie\",\"Movie\",\"Movie\",\"TV Show\",\"TV Show\",\"Movie\",\"Movie\",\"TV Show\",\"Movie\",\"Movie\",\"TV Show\",\"Movie\",\"TV Show\",\"TV Show\",\"Movie\",\"Movie\",\"Movie\",\"TV Show\",\"Movie\",\"Movie\",\"TV Show\",\"Movie\",\"Movie\",\"TV Show\",\"Movie\",\"Movie\",\"TV Show\",\"TV Show\",\"Movie\",\"TV Show\",\"TV Show\",\"Movie\",\"TV Show\",\"Movie\",\"Movie\",\"Movie\",\"TV Show\",\"Movie\",\"TV Show\",\"TV Show\",\"TV Show\",\"Movie\",\"Movie\",\"Movie\",\"TV Show\",\"TV Show\",\"Movie\",\"Movie\",\"Movie\",\"Movie\",\"Movie\",\"TV Show\",\"Movie\",\"Movie\",\"Movie\",\"Movie\",\"Movie\",\"Movie\",\"TV Show\",\"TV Show\",\"TV Show\",\"Movie\",\"TV Show\",\"Movie\",\"Movie\",\"Movie\",\"Movie\",\"Movie\",\"Movie\",\"Movie\",\"Movie\",\"Movie\",\"Movie\",\"Movie\",\"Movie\",\"Movie\",\"Movie\",\"Movie\",\"Movie\",\"TV Show\",\"Movie\",\"Movie\",\"Movie\",\"Movie\",\"Movie\",\"Movie\",\"Movie\",\"Movie\",\"Movie\",\"Movie\",\"Movie\",\"Movie\",\"Movie\",\"Movie\",\"Movie\",\"Movie\",\"Movie\",\"Movie\",\"Movie\",\"Movie\",\"Movie\",\"Movie\",\"Movie\",\"Movie\",\"Movie\",\"Movie\",\"Movie\",\"Movie\",\"Movie\",\"Movie\",\"Movie\",\"Movie\",\"Movie\",\"TV Show\",\"Movie\",\"Movie\",\"Movie\",\"TV Show\",\"Movie\",\"Movie\",\"Movie\",\"Movie\",\"Movie\",\"Movie\",\"Movie\",\"Movie\",\"Movie\",\"Movie\",\"Movie\",\"Movie\",\"TV Show\",\"TV Show\",\"TV Show\",\"Movie\",\"Movie\",\"Movie\",\"TV Show\",\"TV Show\",\"TV Show\",\"Movie\",\"Movie\",\"TV Show\",\"TV Show\",\"TV Show\",\"TV Show\",\"TV Show\",\"TV Show\",\"TV Show\",\"TV Show\",\"TV Show\",\"Movie\",\"Movie\",\"TV Show\",\"Movie\",\"TV Show\",\"Movie\",\"TV Show\",\"TV Show\",\"Movie\",\"TV Show\",\"TV Show\",\"TV Show\",\"Movie\",\"TV Show\",\"TV Show\",\"Movie\",\"Movie\",\"TV Show\",\"Movie\",\"Movie\",\"Movie\",\"TV Show\",\"TV Show\",\"TV Show\",\"Movie\",\"Movie\",\"Movie\",\"Movie\",\"Movie\",\"TV Show\",\"Movie\",\"TV Show\",\"TV Show\",\"TV Show\",\"Movie\",\"TV Show\",\"TV Show\",\"TV Show\",\"Movie\",\"Movie\",\"Movie\",\"TV Show\",\"Movie\",\"Movie\",\"TV Show\",\"Movie\",\"TV Show\",\"Movie\",\"TV Show\",\"Movie\",\"Movie\",\"Movie\",\"Movie\",\"Movie\",\"Movie\",\"TV Show\",\"Movie\",\"Movie\",\"Movie\",\"Movie\",\"Movie\",\"TV Show\",\"TV Show\",\"TV Show\",\"Movie\",\"Movie\",\"Movie\",\"Movie\",\"TV Show\",\"TV Show\",\"TV Show\",\"Movie\",\"Movie\",\"Movie\",\"Movie\",\"TV Show\",\"TV Show\",\"Movie\",\"Movie\",\"Movie\",\"Movie\",\"Movie\",\"Movie\",\"Movie\",\"Movie\",\"Movie\",\"Movie\",\"Movie\",\"Movie\",\"Movie\",\"Movie\",\"Movie\",\"Movie\",\"Movie\",\"Movie\",\"Movie\",\"Movie\",\"TV Show\",\"Movie\",\"Movie\",\"TV Show\",\"TV Show\",\"TV Show\",\"TV Show\",\"Movie\",\"Movie\",\"TV Show\",\"Movie\",\"Movie\",\"TV Show\",\"Movie\",\"TV Show\",\"Movie\",\"TV Show\",\"Movie\",\"Movie\",\"Movie\",\"TV Show\",\"TV Show\",\"Movie\",\"Movie\",\"TV Show\",\"TV Show\",\"TV Show\",\"Movie\",\"Movie\",\"TV Show\",\"Movie\",\"Movie\",\"Movie\",\"TV Show\",\"TV Show\",\"Movie\",\"Movie\",\"Movie\",\"TV Show\",\"TV Show\",\"TV Show\",\"TV Show\",\"TV Show\",\"Movie\",\"Movie\",\"Movie\",\"Movie\",\"Movie\",\"Movie\",\"Movie\",\"Movie\",\"Movie\",\"Movie\",\"Movie\",\"Movie\",\"Movie\",\"Movie\",\"Movie\",\"Movie\",\"Movie\",\"TV Show\",\"Movie\",\"Movie\",\"Movie\",\"Movie\",\"Movie\",\"TV Show\",\"Movie\",\"Movie\",\"TV Show\",\"Movie\",\"TV Show\",\"Movie\",\"Movie\",\"Movie\",\"TV Show\",\"Movie\",\"TV Show\",\"Movie\",\"Movie\",\"TV Show\",\"Movie\",\"Movie\",\"TV Show\",\"Movie\",\"Movie\",\"TV Show\",\"Movie\",\"Movie\",\"Movie\",\"Movie\",\"Movie\",\"Movie\",\"TV Show\",\"TV Show\",\"Movie\",\"Movie\",\"Movie\",\"TV Show\",\"TV Show\",\"TV Show\",\"Movie\",\"Movie\",\"TV Show\",\"Movie\",\"Movie\",\"TV Show\",\"TV Show\",\"TV Show\",\"Movie\",\"TV Show\",\"Movie\",\"Movie\",\"Movie\",\"TV Show\",\"TV Show\",\"Movie\",\"Movie\",\"TV Show\",\"TV Show\",\"Movie\",\"Movie\",\"Movie\",\"Movie\",\"TV Show\",\"Movie\",\"Movie\",\"TV Show\",\"Movie\",\"TV Show\",\"Movie\",\"TV Show\",\"Movie\",\"Movie\",\"Movie\",\"Movie\",\"TV Show\",\"Movie\",\"Movie\",\"Movie\",\"Movie\",\"TV Show\",\"Movie\",\"Movie\",\"Movie\",\"Movie\",\"Movie\",\"Movie\",\"Movie\",\"Movie\",\"Movie\",\"Movie\",\"Movie\",\"Movie\",\"Movie\",\"Movie\",\"Movie\",\"Movie\",\"Movie\",\"Movie\",\"TV Show\",\"Movie\",\"TV Show\",\"Movie\",\"Movie\",\"TV Show\",\"Movie\",\"Movie\",\"TV Show\",\"Movie\",\"TV Show\",\"Movie\",\"TV Show\",\"Movie\",\"Movie\",\"TV Show\",\"TV Show\",\"Movie\",\"Movie\",\"Movie\",\"Movie\",\"Movie\",\"Movie\",\"Movie\",\"Movie\",\"Movie\",\"TV Show\",\"TV Show\",\"TV Show\",\"Movie\",\"Movie\",\"Movie\",\"TV Show\",\"Movie\",\"Movie\",\"TV Show\",\"Movie\",\"Movie\",\"Movie\",\"Movie\",\"Movie\",\"Movie\",\"Movie\",\"TV Show\",\"TV Show\",\"Movie\",\"Movie\",\"Movie\",\"TV Show\",\"Movie\",\"Movie\",\"TV Show\",\"Movie\",\"TV Show\",\"Movie\",\"Movie\",\"Movie\",\"Movie\",\"Movie\",\"TV Show\",\"Movie\",\"Movie\",\"Movie\",\"TV Show\",\"Movie\",\"Movie\",\"TV Show\",\"Movie\",\"Movie\",\"TV Show\",\"TV Show\",\"Movie\",\"Movie\",\"Movie\",\"Movie\",\"TV Show\",\"Movie\",\"Movie\",\"TV Show\",\"Movie\",\"TV Show\",\"Movie\",\"TV Show\",\"Movie\",\"Movie\",\"Movie\",\"TV Show\",\"TV Show\",\"Movie\",\"Movie\",\"TV Show\",\"Movie\",\"Movie\",\"TV Show\",\"TV Show\",\"Movie\",\"TV Show\",\"Movie\",\"Movie\",\"TV Show\",\"Movie\",\"Movie\",\"TV Show\",\"Movie\",\"Movie\",\"Movie\",\"TV Show\",\"Movie\",\"Movie\",\"Movie\",\"Movie\",\"Movie\",\"Movie\",\"Movie\",\"Movie\",\"Movie\",\"Movie\",\"Movie\",\"Movie\",\"Movie\",\"Movie\",\"Movie\",\"Movie\",\"Movie\",\"Movie\",\"Movie\",\"Movie\",\"Movie\",\"TV Show\",\"TV Show\",\"Movie\",\"TV Show\",\"TV Show\",\"Movie\",\"TV Show\",\"Movie\",\"Movie\",\"TV Show\",\"TV Show\",\"Movie\",\"TV Show\",\"Movie\",\"Movie\",\"Movie\",\"Movie\",\"Movie\",\"Movie\",\"Movie\",\"TV Show\",\"Movie\",\"TV Show\",\"Movie\",\"Movie\",\"Movie\",\"Movie\",\"Movie\",\"TV Show\",\"Movie\",\"Movie\",\"TV Show\",\"Movie\",\"Movie\",\"Movie\",\"Movie\",\"Movie\",\"TV Show\",\"Movie\",\"TV Show\",\"Movie\",\"Movie\",\"Movie\",\"TV Show\",\"TV Show\",\"Movie\",\"Movie\",\"Movie\",\"Movie\",\"TV Show\",\"Movie\",\"TV Show\",\"Movie\",\"Movie\",\"Movie\",\"Movie\",\"TV Show\",\"Movie\",\"Movie\",\"Movie\",\"Movie\",\"Movie\",\"Movie\",\"TV Show\",\"TV Show\",\"Movie\",\"TV Show\",\"Movie\",\"Movie\",\"TV Show\",\"TV Show\",\"TV Show\",\"TV Show\",\"TV Show\",\"TV Show\",\"Movie\",\"Movie\",\"TV Show\",\"Movie\",\"TV Show\",\"Movie\",\"Movie\",\"Movie\",\"TV Show\",\"Movie\",\"TV Show\",\"TV Show\",\"Movie\",\"Movie\",\"Movie\",\"Movie\",\"Movie\",\"TV Show\",\"TV Show\",\"TV Show\",\"Movie\",\"Movie\",\"Movie\",\"Movie\",\"TV Show\",\"TV Show\",\"Movie\",\"TV Show\",\"Movie\",\"Movie\",\"Movie\",\"Movie\",\"Movie\",\"Movie\",\"Movie\",\"Movie\",\"Movie\",\"TV Show\",\"TV Show\",\"Movie\",\"TV Show\",\"Movie\",\"Movie\",\"TV Show\",\"TV Show\",\"Movie\",\"TV Show\",\"Movie\",\"TV Show\",\"TV Show\",\"Movie\",\"Movie\",\"Movie\",\"TV Show\",\"TV Show\",\"TV Show\",\"TV Show\",\"Movie\",\"TV Show\",\"Movie\",\"Movie\",\"Movie\",\"Movie\",\"Movie\",\"TV Show\",\"TV Show\",\"Movie\",\"TV Show\",\"TV Show\",\"TV Show\",\"Movie\",\"Movie\",\"TV Show\",\"TV Show\",\"TV Show\",\"Movie\",\"Movie\",\"TV Show\",\"Movie\",\"TV Show\",\"Movie\",\"Movie\",\"Movie\",\"TV Show\",\"TV Show\",\"Movie\",\"Movie\",\"Movie\",\"Movie\",\"Movie\",\"TV Show\",\"TV Show\",\"TV Show\",\"TV Show\",\"TV Show\",\"Movie\",\"Movie\",\"Movie\",\"Movie\",\"TV Show\",\"Movie\",\"Movie\",\"Movie\",\"Movie\",\"TV Show\",\"TV Show\",\"Movie\",\"TV Show\",\"Movie\",\"TV Show\",\"Movie\",\"Movie\",\"Movie\",\"Movie\",\"TV Show\",\"TV Show\",\"Movie\",\"Movie\",\"TV Show\",\"Movie\",\"TV Show\",\"Movie\",\"Movie\",\"Movie\",\"Movie\",\"Movie\",\"Movie\",\"Movie\",\"Movie\",\"Movie\",\"TV Show\",\"TV Show\",\"Movie\",\"Movie\",\"Movie\",\"TV Show\",\"TV Show\",\"Movie\",\"Movie\",\"Movie\",\"Movie\",\"TV Show\",\"TV Show\",\"TV Show\",\"TV Show\",\"TV Show\",\"TV Show\",\"Movie\",\"Movie\",\"TV Show\",\"TV Show\",\"Movie\",\"Movie\",\"TV Show\",\"Movie\",\"Movie\",\"TV Show\",\"TV Show\",\"TV Show\",\"Movie\",\"Movie\",\"TV Show\",\"TV Show\",\"Movie\",\"Movie\",\"Movie\",\"Movie\",\"Movie\",\"Movie\",\"Movie\",\"Movie\",\"TV Show\",\"Movie\",\"TV Show\",\"Movie\",\"Movie\",\"Movie\",\"TV Show\",\"Movie\",\"TV Show\",\"Movie\",\"Movie\",\"Movie\",\"TV Show\",\"TV Show\",\"TV Show\",\"TV Show\",\"TV Show\",\"TV Show\",\"Movie\",\"Movie\",\"Movie\",\"Movie\",\"Movie\",\"Movie\",\"Movie\",\"TV Show\",\"TV Show\",\"TV Show\",\"Movie\",\"TV Show\",\"Movie\",\"Movie\",\"Movie\",\"TV Show\",\"Movie\",\"Movie\",\"Movie\",\"Movie\",\"Movie\",\"Movie\",\"Movie\",\"Movie\",\"Movie\",\"Movie\",\"Movie\",\"Movie\",\"Movie\",\"Movie\",\"TV Show\",\"TV Show\",\"Movie\",\"Movie\",\"TV Show\",\"Movie\",\"Movie\",\"TV Show\",\"Movie\",\"Movie\",\"Movie\",\"Movie\",\"Movie\",\"Movie\",\"Movie\",\"Movie\",\"Movie\",\"Movie\",\"Movie\",\"Movie\",\"Movie\",\"Movie\",\"Movie\",\"Movie\",\"Movie\",\"TV Show\",\"Movie\",\"TV Show\",\"TV Show\",\"TV Show\",\"TV Show\",\"Movie\",\"TV Show\",\"Movie\",\"TV Show\",\"TV Show\",\"TV Show\",\"Movie\",\"Movie\",\"Movie\",\"TV Show\",\"Movie\",\"TV Show\",\"TV Show\",\"Movie\",\"TV Show\",\"TV Show\",\"TV Show\",\"Movie\",\"Movie\",\"Movie\",\"Movie\",\"TV Show\",\"Movie\",\"Movie\",\"Movie\",\"Movie\",\"Movie\",\"Movie\",\"Movie\",\"TV Show\",\"TV Show\",\"TV Show\",\"TV Show\",\"TV Show\",\"Movie\",\"TV Show\",\"Movie\",\"TV Show\",\"Movie\",\"TV Show\",\"Movie\",\"TV Show\",\"TV Show\",\"Movie\",\"TV Show\",\"Movie\",\"TV Show\",\"Movie\",\"TV Show\",\"Movie\",\"TV Show\",\"Movie\",\"TV Show\",\"TV Show\",\"TV Show\",\"TV Show\",\"TV Show\",\"Movie\",\"TV Show\",\"TV Show\",\"Movie\",\"TV Show\",\"TV Show\",\"TV Show\",\"Movie\",\"Movie\",\"Movie\",\"Movie\",\"Movie\",\"Movie\",\"TV Show\",\"TV Show\",\"Movie\",\"Movie\",\"TV Show\",\"Movie\",\"Movie\",\"TV Show\",\"Movie\",\"Movie\",\"Movie\",\"Movie\",\"TV Show\",\"TV Show\",\"TV Show\",\"TV Show\",\"TV Show\",\"TV Show\",\"TV Show\",\"Movie\",\"Movie\",\"Movie\",\"Movie\",\"TV Show\",\"TV Show\",\"Movie\",\"Movie\",\"Movie\",\"Movie\",\"Movie\",\"Movie\",\"Movie\",\"Movie\",\"Movie\",\"Movie\",\"Movie\",\"TV Show\",\"TV Show\",\"TV Show\",\"Movie\",\"Movie\",\"Movie\",\"Movie\",\"TV Show\",\"TV Show\",\"Movie\",\"Movie\",\"Movie\",\"Movie\",\"TV Show\",\"Movie\",\"Movie\",\"Movie\",\"Movie\",\"Movie\",\"Movie\",\"TV Show\",\"Movie\",\"TV Show\",\"Movie\",\"Movie\",\"Movie\",\"Movie\",\"Movie\",\"Movie\",\"Movie\",\"Movie\",\"TV Show\",\"Movie\",\"Movie\",\"Movie\",\"Movie\",\"Movie\",\"TV Show\",\"Movie\",\"Movie\",\"Movie\",\"Movie\",\"Movie\",\"Movie\",\"Movie\",\"Movie\",\"Movie\",\"Movie\",\"Movie\",\"Movie\",\"Movie\",\"Movie\",\"TV Show\",\"TV Show\",\"Movie\",\"Movie\",\"TV Show\",\"TV Show\",\"Movie\",\"Movie\",\"Movie\",\"Movie\",\"TV Show\",\"TV Show\",\"TV Show\",\"Movie\",\"TV Show\",\"Movie\",\"Movie\",\"Movie\",\"Movie\",\"Movie\",\"Movie\",\"Movie\",\"Movie\",\"Movie\",\"Movie\",\"Movie\",\"Movie\",\"Movie\",\"TV Show\",\"TV Show\",\"Movie\",\"Movie\",\"Movie\",\"TV Show\",\"Movie\",\"Movie\",\"Movie\",\"Movie\",\"Movie\",\"Movie\",\"Movie\",\"Movie\",\"Movie\",\"Movie\",\"Movie\",\"TV Show\",\"TV Show\",\"Movie\",\"Movie\",\"TV Show\",\"Movie\",\"Movie\",\"Movie\",\"TV Show\",\"TV Show\",\"Movie\",\"Movie\",\"TV Show\",\"TV Show\",\"Movie\",\"TV Show\",\"Movie\",\"Movie\",\"Movie\",\"Movie\",\"Movie\",\"TV Show\",\"Movie\",\"Movie\",\"TV Show\",\"Movie\",\"TV Show\",\"Movie\",\"Movie\",\"TV Show\",\"Movie\",\"TV Show\",\"Movie\",\"Movie\",\"Movie\",\"Movie\",\"Movie\",\"TV Show\",\"TV Show\",\"TV Show\",\"Movie\",\"Movie\",\"Movie\",\"Movie\",\"TV Show\",\"Movie\",\"Movie\",\"TV Show\",\"Movie\",\"TV Show\",\"Movie\",\"Movie\",\"Movie\",\"Movie\",\"TV Show\",\"TV Show\",\"Movie\",\"Movie\",\"Movie\",\"Movie\",\"Movie\",\"Movie\",\"Movie\",\"Movie\",\"Movie\",\"Movie\",\"Movie\",\"Movie\",\"Movie\",\"Movie\",\"Movie\",\"Movie\",\"Movie\",\"Movie\",\"Movie\",\"Movie\",\"Movie\",\"Movie\",\"Movie\",\"Movie\",\"Movie\",\"Movie\",\"Movie\",\"Movie\",\"Movie\",\"Movie\",\"TV Show\",\"Movie\",\"Movie\",\"Movie\",\"Movie\",\"Movie\",\"Movie\",\"Movie\",\"Movie\",\"Movie\",\"TV Show\",\"Movie\",\"Movie\",\"TV Show\",\"TV Show\",\"TV Show\",\"Movie\",\"Movie\",\"TV Show\",\"Movie\",\"Movie\",\"Movie\",\"TV Show\",\"Movie\",\"Movie\",\"TV Show\",\"Movie\",\"TV Show\",\"TV Show\",\"TV Show\",\"TV Show\",\"TV Show\",\"TV Show\",\"TV Show\",\"TV Show\",\"TV Show\",\"Movie\",\"TV Show\",\"Movie\",\"Movie\",\"TV Show\",\"Movie\",\"Movie\",\"TV Show\",\"TV Show\",\"Movie\",\"TV Show\",\"Movie\",\"Movie\",\"Movie\",\"TV Show\",\"Movie\",\"TV Show\",\"Movie\",\"Movie\",\"Movie\",\"Movie\",\"Movie\",\"Movie\",\"TV Show\",\"TV Show\",\"Movie\",\"Movie\",\"TV Show\",\"Movie\",\"Movie\",\"Movie\",\"TV Show\",\"Movie\",\"Movie\",\"Movie\",\"Movie\",\"Movie\",\"Movie\",\"Movie\",\"TV Show\",\"TV Show\",\"Movie\",\"Movie\",\"Movie\",\"TV Show\",\"Movie\",\"TV Show\",\"TV Show\",\"Movie\",\"Movie\",\"Movie\",\"TV Show\",\"TV Show\",\"TV Show\",\"TV Show\",\"TV Show\",\"TV Show\",\"Movie\",\"Movie\",\"Movie\",\"Movie\",\"Movie\",\"Movie\",\"Movie\",\"Movie\",\"TV Show\",\"Movie\",\"Movie\",\"TV Show\",\"Movie\",\"Movie\",\"Movie\",\"Movie\",\"Movie\",\"Movie\",\"TV Show\",\"TV Show\",\"TV Show\",\"Movie\",\"Movie\",\"Movie\",\"Movie\",\"Movie\",\"TV Show\",\"Movie\",\"Movie\",\"TV Show\",\"TV Show\",\"Movie\",\"Movie\",\"TV Show\",\"Movie\",\"TV Show\",\"TV Show\",\"Movie\",\"TV Show\",\"Movie\",\"Movie\",\"TV Show\",\"Movie\",\"Movie\",\"TV Show\",\"Movie\",\"Movie\",\"Movie\",\"TV Show\",\"Movie\",\"Movie\",\"Movie\",\"TV Show\",\"Movie\",\"Movie\",\"Movie\",\"Movie\",\"Movie\",\"Movie\",\"Movie\",\"Movie\",\"Movie\",\"Movie\",\"Movie\",\"Movie\",\"Movie\",\"TV Show\",\"TV Show\",\"TV Show\",\"TV Show\",\"TV Show\",\"Movie\",\"TV Show\",\"TV Show\",\"TV Show\",\"Movie\",\"Movie\",\"Movie\",\"TV Show\",\"TV Show\",\"Movie\",\"Movie\",\"Movie\",\"Movie\",\"Movie\",\"Movie\",\"Movie\",\"Movie\",\"Movie\",\"TV Show\",\"TV Show\",\"Movie\",\"TV Show\",\"Movie\",\"TV Show\",\"Movie\",\"TV Show\",\"Movie\",\"Movie\",\"Movie\",\"Movie\",\"TV Show\",\"Movie\",\"TV Show\",\"Movie\",\"TV Show\",\"Movie\",\"Movie\",\"Movie\",\"Movie\",\"TV Show\",\"TV Show\",\"TV Show\",\"Movie\",\"Movie\",\"Movie\",\"Movie\",\"Movie\",\"Movie\",\"Movie\",\"TV Show\",\"Movie\",\"TV Show\",\"TV Show\",\"Movie\",\"Movie\",\"Movie\",\"Movie\",\"Movie\",\"TV Show\",\"TV Show\",\"Movie\",\"Movie\",\"TV Show\",\"TV Show\",\"Movie\",\"TV Show\",\"TV Show\",\"TV Show\",\"Movie\",\"Movie\",\"Movie\",\"Movie\",\"Movie\",\"TV Show\",\"Movie\",\"Movie\",\"Movie\",\"Movie\",\"TV Show\",\"Movie\",\"Movie\",\"TV Show\",\"Movie\",\"Movie\",\"TV Show\",\"Movie\",\"Movie\",\"Movie\",\"Movie\",\"Movie\",\"Movie\",\"TV Show\",\"Movie\",\"Movie\",\"Movie\",\"Movie\",\"TV Show\",\"Movie\",\"TV Show\",\"Movie\",\"Movie\",\"Movie\",\"Movie\",\"Movie\",\"TV Show\",\"Movie\",\"Movie\",\"Movie\",\"Movie\",\"Movie\",\"TV Show\",\"Movie\",\"Movie\",\"Movie\",\"Movie\",\"Movie\",\"Movie\",\"Movie\",\"TV Show\",\"TV Show\",\"Movie\",\"Movie\",\"Movie\",\"Movie\",\"Movie\",\"Movie\",\"Movie\",\"Movie\",\"Movie\",\"TV Show\",\"Movie\",\"Movie\",\"Movie\",\"Movie\",\"Movie\",\"TV Show\",\"TV Show\",\"Movie\",\"Movie\",\"Movie\",\"Movie\",\"Movie\",\"Movie\",\"Movie\",\"Movie\",\"Movie\",\"Movie\",\"Movie\",\"Movie\",\"Movie\",\"Movie\",\"Movie\",\"Movie\",\"Movie\",\"Movie\",\"Movie\",\"Movie\",\"Movie\",\"Movie\",\"Movie\",\"TV Show\",\"Movie\",\"Movie\",\"Movie\",\"Movie\",\"Movie\",\"Movie\",\"Movie\",\"Movie\",\"Movie\",\"TV Show\",\"Movie\",\"Movie\",\"Movie\",\"TV Show\",\"Movie\",\"Movie\",\"Movie\",\"Movie\",\"Movie\",\"TV Show\",\"Movie\",\"TV Show\",\"Movie\",\"Movie\",\"Movie\",\"Movie\",\"Movie\",\"Movie\",\"Movie\",\"Movie\",\"Movie\",\"Movie\",\"Movie\",\"Movie\",\"Movie\",\"Movie\",\"TV Show\",\"Movie\",\"Movie\",\"Movie\",\"Movie\",\"Movie\",\"Movie\",\"Movie\",\"Movie\",\"Movie\",\"Movie\",\"Movie\",\"Movie\",\"Movie\",\"Movie\",\"Movie\",\"Movie\",\"Movie\",\"Movie\",\"Movie\",\"Movie\",\"Movie\",\"Movie\",\"TV Show\",\"Movie\",\"TV Show\",\"Movie\",\"Movie\",\"Movie\",\"Movie\",\"Movie\",\"Movie\",\"Movie\",\"Movie\",\"Movie\",\"Movie\",\"TV Show\",\"Movie\",\"Movie\",\"Movie\",\"Movie\",\"Movie\",\"Movie\",\"TV Show\",\"Movie\",\"Movie\",\"Movie\",\"Movie\",\"Movie\",\"Movie\",\"Movie\",\"Movie\",\"Movie\",\"Movie\",\"Movie\",\"Movie\",\"Movie\",\"Movie\",\"Movie\",\"Movie\",\"Movie\",\"Movie\",\"Movie\",\"Movie\",\"Movie\",\"TV Show\",\"TV Show\",\"Movie\",\"Movie\",\"Movie\",\"Movie\",\"Movie\",\"Movie\",\"Movie\",\"Movie\",\"Movie\",\"Movie\",\"Movie\",\"TV Show\",\"Movie\",\"Movie\",\"Movie\",\"Movie\",\"Movie\",\"Movie\",\"Movie\",\"Movie\",\"Movie\",\"TV Show\",\"Movie\",\"Movie\",\"Movie\",\"Movie\",\"TV Show\",\"Movie\",\"Movie\",\"Movie\",\"Movie\",\"Movie\",\"TV Show\",\"TV Show\",\"TV Show\",\"Movie\",\"Movie\",\"TV Show\",\"Movie\",\"Movie\",\"Movie\",\"Movie\",\"Movie\",\"Movie\",\"Movie\",\"Movie\",\"Movie\",\"Movie\",\"Movie\",\"Movie\",\"Movie\",\"Movie\",\"Movie\",\"Movie\",\"Movie\",\"Movie\",\"Movie\",\"Movie\",\"TV Show\",\"Movie\",\"Movie\",\"Movie\",\"Movie\",\"Movie\",\"TV Show\",\"Movie\",\"Movie\",\"Movie\",\"Movie\",\"TV Show\",\"Movie\",\"TV Show\",\"Movie\",\"Movie\",\"Movie\",\"Movie\",\"Movie\",\"Movie\",\"TV Show\",\"Movie\",\"Movie\",\"Movie\",\"Movie\",\"Movie\",\"Movie\",\"Movie\",\"Movie\",\"Movie\",\"TV Show\",\"Movie\",\"Movie\",\"Movie\",\"Movie\",\"TV Show\",\"Movie\",\"Movie\",\"Movie\",\"Movie\",\"TV Show\",\"TV Show\",\"Movie\",\"Movie\",\"Movie\",\"Movie\",\"Movie\",\"Movie\",\"TV Show\",\"Movie\",\"Movie\",\"TV Show\",\"Movie\",\"Movie\",\"Movie\",\"Movie\",\"Movie\",\"Movie\",\"Movie\",\"Movie\",\"Movie\",\"Movie\",\"Movie\",\"Movie\",\"Movie\",\"Movie\",\"Movie\",\"Movie\",\"TV Show\",\"Movie\",\"Movie\",\"Movie\",\"TV Show\",\"Movie\",\"Movie\",\"Movie\",\"Movie\",\"Movie\",\"Movie\",\"Movie\",\"Movie\",\"Movie\",\"Movie\",\"Movie\",\"Movie\",\"Movie\",\"Movie\",\"TV Show\",\"Movie\",\"Movie\",\"TV Show\",\"Movie\",\"Movie\",\"TV Show\",\"Movie\",\"Movie\",\"Movie\",\"Movie\",\"Movie\",\"Movie\",\"Movie\",\"Movie\",\"TV Show\",\"Movie\",\"Movie\",\"Movie\",\"Movie\",\"Movie\",\"Movie\",\"Movie\",\"Movie\",\"Movie\",\"Movie\",\"Movie\",\"Movie\",\"Movie\",\"Movie\",\"Movie\",\"Movie\",\"Movie\",\"Movie\",\"Movie\",\"Movie\",\"TV Show\",\"TV Show\",\"Movie\",\"TV Show\",\"TV Show\",\"Movie\",\"Movie\",\"Movie\",\"Movie\",\"TV Show\",\"Movie\",\"Movie\",\"Movie\",\"TV Show\",\"TV Show\",\"TV Show\",\"TV Show\",\"Movie\",\"Movie\",\"Movie\",\"Movie\",\"Movie\",\"Movie\",\"Movie\",\"Movie\",\"Movie\",\"TV Show\",\"TV Show\",\"Movie\",\"Movie\",\"TV Show\",\"Movie\",\"TV Show\",\"Movie\",\"Movie\",\"Movie\",\"Movie\",\"Movie\",\"Movie\",\"Movie\",\"Movie\",\"Movie\",\"TV Show\",\"Movie\",\"Movie\",\"TV Show\",\"TV Show\",\"Movie\",\"Movie\",\"Movie\",\"Movie\",\"Movie\",\"TV Show\",\"Movie\",\"Movie\",\"TV Show\",\"Movie\",\"Movie\",\"Movie\",\"Movie\",\"Movie\",\"Movie\",\"Movie\",\"Movie\",\"Movie\",\"Movie\",\"Movie\",\"Movie\",\"Movie\",\"TV Show\",\"TV Show\",\"Movie\",\"Movie\",\"Movie\",\"TV Show\",\"Movie\",\"Movie\",\"Movie\",\"Movie\",\"Movie\",\"Movie\",\"Movie\",\"Movie\",\"Movie\",\"Movie\",\"Movie\",\"TV Show\",\"Movie\",\"Movie\",\"Movie\",\"Movie\",\"Movie\",\"TV Show\",\"Movie\",\"Movie\",\"Movie\",\"Movie\",\"Movie\",\"TV Show\",\"Movie\",\"Movie\",\"Movie\",\"Movie\",\"Movie\",\"Movie\",\"Movie\",\"Movie\",\"Movie\",\"TV Show\",\"Movie\",\"Movie\",\"TV Show\",\"TV Show\",\"Movie\",\"Movie\",\"TV Show\",\"Movie\",\"Movie\",\"Movie\",\"TV Show\",\"Movie\",\"Movie\",\"TV Show\",\"Movie\",\"TV Show\",\"Movie\",\"Movie\",\"Movie\",\"Movie\",\"TV Show\",\"Movie\",\"Movie\",\"TV Show\",\"Movie\",\"Movie\",\"Movie\",\"TV Show\",\"Movie\",\"Movie\",\"Movie\",\"TV Show\",\"Movie\",\"Movie\",\"Movie\",\"TV Show\",\"Movie\",\"Movie\",\"Movie\",\"Movie\",\"TV Show\",\"Movie\",\"Movie\",\"TV Show\",\"Movie\",\"Movie\",\"TV Show\",\"Movie\",\"Movie\",\"TV Show\",\"TV Show\",\"Movie\",\"Movie\",\"TV Show\",\"Movie\",\"TV Show\",\"Movie\",\"Movie\",\"TV Show\",\"Movie\",\"Movie\",\"Movie\",\"TV Show\",\"Movie\",\"Movie\",\"Movie\",\"Movie\",\"Movie\",\"TV Show\",\"Movie\",\"Movie\",\"Movie\",\"TV Show\",\"Movie\",\"Movie\",\"Movie\",\"Movie\",\"Movie\",\"Movie\",\"Movie\",\"Movie\",\"Movie\",\"Movie\",\"Movie\",\"Movie\",\"Movie\",\"Movie\",\"Movie\",\"Movie\",\"Movie\",\"Movie\",\"Movie\",\"Movie\",\"TV Show\",\"Movie\",\"Movie\",\"Movie\",\"TV Show\",\"TV Show\",\"TV Show\",\"Movie\",\"TV Show\",\"TV Show\",\"Movie\",\"Movie\",\"Movie\",\"Movie\",\"Movie\",\"Movie\",\"Movie\",\"Movie\",\"TV Show\",\"Movie\",\"Movie\",\"Movie\",\"Movie\",\"Movie\",\"Movie\",\"Movie\",\"TV Show\",\"Movie\",\"Movie\",\"Movie\",\"Movie\",\"Movie\",\"TV Show\",\"Movie\",\"Movie\",\"Movie\",\"TV Show\",\"Movie\",\"Movie\",\"TV Show\",\"Movie\",\"Movie\",\"Movie\",\"Movie\",\"TV Show\",\"Movie\",\"Movie\",\"TV Show\",\"Movie\",\"Movie\",\"Movie\",\"Movie\",\"Movie\",\"TV Show\",\"TV Show\",\"TV Show\",\"TV Show\",\"TV Show\",\"TV Show\",\"Movie\",\"Movie\",\"Movie\",\"TV Show\",\"TV Show\",\"Movie\",\"Movie\",\"Movie\",\"Movie\",\"TV Show\",\"TV Show\",\"Movie\",\"Movie\",\"Movie\",\"TV Show\",\"Movie\",\"Movie\",\"Movie\",\"Movie\",\"Movie\",\"Movie\",\"Movie\",\"TV Show\",\"Movie\",\"Movie\",\"Movie\",\"Movie\",\"Movie\",\"TV Show\",\"Movie\",\"Movie\",\"Movie\",\"TV Show\",\"Movie\",\"Movie\",\"Movie\",\"Movie\",\"Movie\",\"Movie\",\"TV Show\",\"Movie\",\"Movie\",\"Movie\",\"Movie\",\"Movie\",\"Movie\",\"TV Show\",\"Movie\",\"Movie\",\"TV Show\",\"TV Show\",\"Movie\",\"Movie\",\"Movie\",\"Movie\",\"Movie\",\"Movie\",\"Movie\",\"TV Show\",\"Movie\",\"Movie\",\"TV Show\",\"TV Show\",\"Movie\",\"Movie\",\"Movie\",\"Movie\",\"Movie\",\"Movie\",\"Movie\",\"Movie\",\"Movie\",\"Movie\",\"Movie\",\"Movie\",\"Movie\",\"TV Show\",\"TV Show\",\"Movie\",\"Movie\",\"Movie\",\"Movie\",\"Movie\",\"Movie\",\"Movie\",\"Movie\",\"Movie\",\"Movie\",\"Movie\",\"Movie\",\"Movie\",\"TV Show\",\"Movie\",\"TV Show\",\"Movie\",\"Movie\",\"Movie\",\"Movie\",\"Movie\",\"Movie\",\"Movie\",\"TV Show\",\"Movie\",\"TV Show\",\"Movie\",\"Movie\",\"Movie\",\"Movie\",\"TV Show\",\"Movie\",\"Movie\",\"Movie\",\"Movie\",\"Movie\",\"Movie\",\"Movie\",\"Movie\",\"Movie\",\"Movie\",\"Movie\",\"Movie\",\"Movie\",\"Movie\",\"Movie\",\"Movie\",\"TV Show\",\"Movie\",\"Movie\",\"Movie\",\"Movie\",\"Movie\",\"Movie\",\"Movie\",\"Movie\",\"Movie\",\"Movie\",\"TV Show\",\"Movie\",\"Movie\",\"Movie\",\"Movie\",\"TV Show\",\"TV Show\",\"Movie\",\"Movie\",\"Movie\",\"Movie\",\"Movie\",\"TV Show\",\"TV Show\",\"TV Show\",\"Movie\",\"Movie\",\"TV Show\",\"Movie\",\"Movie\",\"Movie\",\"Movie\",\"Movie\",\"Movie\",\"Movie\",\"TV Show\",\"TV Show\",\"TV Show\",\"TV Show\",\"Movie\",\"TV Show\",\"Movie\",\"TV Show\",\"Movie\",\"Movie\",\"Movie\",\"Movie\",\"Movie\",\"Movie\",\"Movie\",\"Movie\",\"Movie\",\"Movie\",\"Movie\",\"TV Show\",\"Movie\",\"Movie\",\"TV Show\",\"Movie\",\"TV Show\",\"Movie\",\"TV Show\",\"Movie\",\"Movie\",\"Movie\",\"Movie\",\"Movie\",\"Movie\",\"Movie\",\"Movie\",\"Movie\",\"Movie\",\"Movie\",\"TV Show\",\"Movie\",\"Movie\",\"Movie\",\"Movie\",\"TV Show\",\"Movie\",\"Movie\",\"TV Show\",\"TV Show\",\"Movie\",\"Movie\",\"Movie\",\"Movie\",\"Movie\",\"TV Show\",\"Movie\",\"Movie\",\"Movie\",\"TV Show\",\"Movie\",\"Movie\",\"TV Show\",\"TV Show\",\"Movie\",\"Movie\",\"Movie\",\"Movie\",\"Movie\",\"Movie\",\"Movie\",\"Movie\",\"TV Show\",\"TV Show\",\"Movie\",\"TV Show\",\"Movie\",\"Movie\",\"Movie\",\"Movie\",\"Movie\",\"TV Show\",\"Movie\",\"Movie\",\"Movie\",\"Movie\",\"Movie\",\"Movie\",\"Movie\",\"Movie\",\"Movie\",\"Movie\",\"Movie\",\"Movie\",\"TV Show\",\"Movie\",\"Movie\",\"TV Show\",\"Movie\",\"Movie\",\"Movie\",\"TV Show\",\"Movie\",\"Movie\",\"TV Show\",\"TV Show\",\"Movie\",\"Movie\",\"Movie\",\"Movie\",\"Movie\",\"Movie\",\"Movie\",\"TV Show\",\"Movie\",\"Movie\",\"TV Show\",\"Movie\",\"Movie\",\"TV Show\",\"Movie\",\"Movie\",\"TV Show\",\"Movie\",\"Movie\",\"Movie\",\"TV Show\",\"Movie\",\"Movie\",\"Movie\",\"Movie\",\"Movie\",\"Movie\",\"Movie\",\"TV Show\",\"Movie\",\"Movie\",\"TV Show\",\"Movie\",\"Movie\",\"Movie\",\"TV Show\",\"Movie\",\"Movie\",\"Movie\",\"Movie\",\"Movie\",\"Movie\",\"Movie\",\"Movie\",\"Movie\",\"TV Show\",\"Movie\",\"TV Show\",\"Movie\",\"TV Show\",\"TV Show\",\"Movie\",\"TV Show\",\"Movie\",\"Movie\",\"Movie\",\"Movie\",\"Movie\",\"Movie\",\"TV Show\",\"TV Show\",\"TV Show\",\"Movie\",\"TV Show\",\"Movie\",\"Movie\",\"TV Show\",\"Movie\",\"Movie\",\"Movie\",\"Movie\",\"Movie\",\"Movie\",\"Movie\",\"TV Show\",\"Movie\",\"Movie\",\"Movie\",\"Movie\",\"Movie\",\"Movie\",\"Movie\",\"TV Show\",\"Movie\",\"Movie\",\"Movie\",\"Movie\",\"Movie\",\"Movie\",\"Movie\",\"Movie\",\"Movie\",\"Movie\",\"TV Show\",\"Movie\",\"Movie\",\"TV Show\",\"Movie\",\"TV Show\",\"Movie\",\"Movie\",\"Movie\",\"Movie\",\"Movie\",\"Movie\",\"Movie\",\"Movie\",\"Movie\",\"Movie\",\"Movie\",\"TV Show\",\"Movie\",\"Movie\",\"Movie\",\"TV Show\",\"TV Show\",\"Movie\",\"Movie\",\"Movie\",\"TV Show\",\"TV Show\",\"Movie\",\"Movie\",\"Movie\",\"Movie\",\"Movie\",\"TV Show\",\"Movie\",\"Movie\",\"Movie\",\"Movie\",\"TV Show\",\"Movie\",\"Movie\",\"Movie\",\"Movie\",\"Movie\",\"Movie\",\"Movie\",\"Movie\",\"Movie\",\"Movie\",\"TV Show\",\"Movie\",\"TV Show\",\"Movie\",\"Movie\",\"TV Show\",\"TV Show\",\"Movie\",\"Movie\",\"Movie\",\"Movie\",\"Movie\",\"Movie\",\"TV Show\",\"Movie\",\"TV Show\",\"Movie\",\"Movie\",\"TV Show\",\"Movie\",\"TV Show\",\"Movie\",\"Movie\",\"Movie\",\"TV Show\",\"Movie\",\"Movie\",\"Movie\",\"Movie\",\"Movie\",\"Movie\",\"Movie\",\"Movie\",\"Movie\",\"TV Show\",\"Movie\",\"TV Show\",\"Movie\",\"TV Show\",\"Movie\",\"Movie\",\"Movie\",\"Movie\",\"Movie\",\"Movie\",\"Movie\",\"TV Show\",\"Movie\",\"TV Show\",\"Movie\",\"Movie\",\"Movie\",\"TV Show\",\"TV Show\",\"TV Show\",\"Movie\",\"Movie\",\"TV Show\",\"Movie\",\"TV Show\",\"Movie\",\"Movie\",\"Movie\",\"Movie\",\"TV Show\",\"Movie\",\"Movie\",\"Movie\",\"Movie\",\"Movie\",\"Movie\",\"Movie\",\"Movie\",\"Movie\",\"Movie\",\"Movie\",\"Movie\",\"Movie\",\"Movie\",\"TV Show\",\"Movie\",\"TV Show\",\"Movie\",\"Movie\",\"Movie\",\"Movie\",\"Movie\",\"Movie\",\"Movie\",\"TV Show\",\"Movie\",\"Movie\",\"Movie\",\"Movie\",\"Movie\",\"Movie\",\"Movie\",\"Movie\",\"Movie\",\"Movie\",\"TV Show\",\"Movie\",\"Movie\",\"Movie\",\"Movie\",\"Movie\",\"Movie\",\"TV Show\",\"Movie\",\"Movie\",\"Movie\",\"TV Show\",\"TV Show\",\"Movie\",\"Movie\",\"Movie\",\"TV Show\",\"Movie\",\"Movie\",\"Movie\",\"Movie\",\"Movie\",\"TV Show\",\"Movie\",\"Movie\",\"Movie\",\"Movie\",\"Movie\",\"Movie\",\"Movie\",\"Movie\",\"Movie\",\"Movie\",\"TV Show\",\"Movie\",\"Movie\",\"Movie\",\"TV Show\",\"Movie\",\"Movie\",\"Movie\",\"Movie\",\"TV Show\",\"Movie\",\"Movie\",\"Movie\",\"Movie\",\"Movie\",\"Movie\",\"Movie\",\"Movie\",\"Movie\",\"TV Show\",\"Movie\",\"Movie\",\"Movie\",\"Movie\",\"Movie\",\"Movie\",\"Movie\",\"Movie\",\"Movie\",\"Movie\",\"TV Show\",\"TV Show\",\"TV Show\",\"TV Show\",\"Movie\",\"TV Show\",\"Movie\",\"Movie\",\"Movie\",\"Movie\",\"Movie\",\"Movie\",\"Movie\",\"Movie\",\"Movie\",\"Movie\",\"Movie\",\"Movie\",\"TV Show\",\"Movie\",\"TV Show\",\"TV Show\",\"Movie\",\"Movie\",\"Movie\",\"Movie\",\"Movie\",\"Movie\",\"Movie\",\"Movie\",\"Movie\",\"Movie\",\"TV Show\",\"Movie\",\"Movie\",\"Movie\",\"Movie\",\"Movie\",\"Movie\",\"Movie\",\"TV Show\",\"Movie\",\"Movie\",\"TV Show\",\"Movie\",\"TV Show\",\"Movie\",\"Movie\",\"Movie\",\"TV Show\",\"Movie\",\"TV Show\",\"Movie\",\"Movie\",\"Movie\",\"Movie\",\"Movie\",\"Movie\",\"Movie\",\"Movie\",\"TV Show\",\"Movie\",\"TV Show\",\"TV Show\",\"Movie\",\"Movie\",\"Movie\",\"Movie\",\"TV Show\",\"Movie\",\"Movie\",\"Movie\",\"Movie\",\"Movie\",\"Movie\",\"TV Show\",\"Movie\",\"TV Show\",\"Movie\",\"Movie\",\"Movie\",\"Movie\",\"Movie\",\"Movie\",\"Movie\",\"Movie\",\"Movie\",\"Movie\",\"Movie\",\"Movie\",\"Movie\",\"Movie\",\"Movie\",\"Movie\",\"Movie\",\"TV Show\",\"TV Show\",\"TV Show\",\"Movie\",\"Movie\",\"Movie\",\"Movie\",\"TV Show\",\"Movie\",\"TV Show\",\"TV Show\",\"Movie\",\"TV Show\",\"Movie\",\"Movie\",\"Movie\",\"Movie\",\"Movie\",\"Movie\",\"Movie\",\"Movie\",\"TV Show\",\"Movie\",\"Movie\",\"Movie\",\"Movie\",\"Movie\",\"Movie\",\"Movie\",\"Movie\",\"Movie\",\"Movie\",\"Movie\",\"Movie\",\"TV Show\",\"Movie\",\"Movie\",\"Movie\",\"Movie\",\"TV Show\",\"TV Show\",\"Movie\",\"TV Show\",\"Movie\",\"Movie\",\"Movie\",\"Movie\",\"TV Show\",\"Movie\",\"Movie\",\"Movie\",\"Movie\",\"Movie\",\"Movie\",\"Movie\",\"Movie\",\"Movie\",\"Movie\",\"Movie\",\"Movie\",\"TV Show\",\"Movie\",\"Movie\",\"Movie\",\"Movie\",\"Movie\",\"Movie\",\"Movie\",\"Movie\",\"Movie\",\"TV Show\",\"Movie\",\"Movie\",\"Movie\",\"Movie\",\"Movie\",\"Movie\",\"Movie\",\"Movie\",\"TV Show\",\"TV Show\",\"TV Show\",\"TV Show\",\"TV Show\",\"Movie\",\"Movie\",\"Movie\",\"Movie\",\"Movie\",\"TV Show\",\"Movie\",\"TV Show\",\"Movie\",\"TV Show\",\"Movie\",\"Movie\",\"Movie\",\"Movie\",\"Movie\",\"Movie\",\"Movie\",\"Movie\",\"Movie\",\"Movie\",\"TV Show\",\"Movie\",\"Movie\",\"Movie\",\"Movie\",\"Movie\",\"TV Show\",\"Movie\",\"TV Show\",\"TV Show\",\"Movie\",\"Movie\",\"TV Show\",\"Movie\",\"Movie\",\"Movie\",\"TV Show\",\"Movie\",\"TV Show\",\"Movie\",\"Movie\",\"TV Show\",\"TV Show\",\"Movie\",\"Movie\",\"Movie\",\"Movie\",\"Movie\",\"TV Show\",\"Movie\",\"Movie\",\"Movie\",\"Movie\",\"TV Show\",\"Movie\",\"Movie\",\"Movie\",\"Movie\",\"Movie\",\"Movie\",\"Movie\",\"Movie\",\"TV Show\",\"Movie\",\"Movie\",\"TV Show\",\"TV Show\",\"Movie\",\"Movie\",\"Movie\",\"Movie\",\"Movie\",\"TV Show\",\"Movie\",\"TV Show\",\"Movie\",\"Movie\",\"Movie\",\"Movie\",\"TV Show\",\"Movie\",\"TV Show\",\"Movie\",\"TV Show\",\"TV Show\",\"Movie\",\"Movie\",\"Movie\",\"Movie\",\"TV Show\",\"TV Show\",\"Movie\",\"Movie\",\"Movie\",\"TV Show\",\"Movie\",\"Movie\",\"Movie\",\"Movie\",\"Movie\",\"TV Show\",\"Movie\",\"Movie\",\"Movie\",\"Movie\",\"Movie\",\"Movie\",\"Movie\",\"Movie\",\"TV Show\",\"Movie\",\"Movie\",\"Movie\",\"Movie\",\"Movie\",\"Movie\",\"TV Show\",\"TV Show\",\"Movie\",\"Movie\",\"Movie\",\"Movie\",\"TV Show\",\"TV Show\",\"TV Show\",\"Movie\",\"TV Show\",\"Movie\",\"Movie\",\"Movie\",\"Movie\",\"Movie\",\"Movie\",\"TV Show\",\"Movie\",\"Movie\",\"Movie\",\"Movie\",\"Movie\",\"Movie\",\"Movie\",\"Movie\",\"Movie\",\"Movie\",\"Movie\",\"TV Show\",\"Movie\",\"TV Show\",\"Movie\",\"TV Show\",\"TV Show\",\"Movie\",\"Movie\",\"Movie\",\"Movie\",\"Movie\",\"Movie\",\"Movie\",\"Movie\",\"TV Show\",\"Movie\",\"Movie\",\"Movie\",\"Movie\",\"Movie\",\"Movie\",\"Movie\",\"Movie\",\"Movie\",\"Movie\",\"Movie\",\"Movie\",\"Movie\",\"Movie\",\"Movie\",\"Movie\",\"TV Show\",\"TV Show\",\"Movie\",\"TV Show\",\"Movie\",\"Movie\",\"Movie\",\"Movie\",\"Movie\",\"Movie\",\"Movie\",\"TV Show\",\"TV Show\",\"Movie\",\"TV Show\",\"Movie\",\"Movie\",\"Movie\",\"TV Show\",\"Movie\",\"TV Show\",\"Movie\",\"TV Show\",\"Movie\",\"TV Show\",\"Movie\",\"Movie\",\"Movie\",\"TV Show\",\"Movie\",\"Movie\",\"Movie\",\"Movie\",\"TV Show\",\"Movie\",\"Movie\",\"Movie\",\"Movie\",\"Movie\",\"Movie\",\"Movie\",\"Movie\",\"Movie\",\"Movie\",\"Movie\",\"TV Show\",\"Movie\",\"Movie\",\"TV Show\",\"Movie\",\"TV Show\",\"Movie\",\"Movie\",\"Movie\",\"Movie\",\"Movie\",\"Movie\",\"Movie\",\"Movie\",\"Movie\",\"Movie\",\"Movie\",\"Movie\",\"Movie\",\"Movie\",\"Movie\",\"Movie\",\"TV Show\",\"Movie\",\"TV Show\",\"TV Show\",\"Movie\",\"Movie\",\"Movie\",\"Movie\",\"Movie\",\"Movie\",\"Movie\",\"Movie\",\"Movie\",\"Movie\",\"Movie\",\"Movie\",\"Movie\",\"Movie\",\"Movie\",\"TV Show\",\"Movie\",\"Movie\",\"Movie\",\"Movie\",\"Movie\",\"Movie\",\"TV Show\",\"TV Show\",\"Movie\",\"Movie\",\"Movie\",\"Movie\",\"Movie\",\"Movie\",\"Movie\",\"Movie\",\"TV Show\",\"Movie\",\"TV Show\",\"Movie\",\"Movie\",\"Movie\",\"Movie\",\"Movie\",\"Movie\",\"TV Show\",\"Movie\",\"Movie\",\"Movie\",\"TV Show\",\"Movie\",\"Movie\",\"Movie\",\"Movie\",\"Movie\",\"Movie\",\"Movie\",\"Movie\",\"Movie\",\"Movie\",\"Movie\",\"Movie\",\"Movie\",\"Movie\",\"Movie\",\"Movie\",\"TV Show\",\"TV Show\",\"Movie\",\"TV Show\",\"TV Show\",\"TV Show\",\"TV Show\",\"Movie\",\"TV Show\",\"Movie\",\"Movie\",\"Movie\",\"Movie\",\"Movie\",\"Movie\",\"Movie\",\"Movie\",\"Movie\",\"TV Show\",\"Movie\",\"TV Show\",\"TV Show\",\"Movie\",\"Movie\",\"Movie\",\"TV Show\",\"Movie\",\"Movie\",\"Movie\",\"TV Show\",\"Movie\",\"Movie\",\"Movie\",\"Movie\",\"Movie\",\"Movie\",\"Movie\",\"Movie\",\"Movie\",\"Movie\",\"Movie\",\"Movie\",\"Movie\",\"Movie\",\"Movie\",\"Movie\",\"Movie\",\"Movie\",\"Movie\",\"Movie\",\"Movie\",\"Movie\",\"Movie\",\"Movie\",\"Movie\",\"TV Show\",\"TV Show\",\"Movie\",\"Movie\",\"TV Show\",\"TV Show\",\"TV Show\",\"Movie\",\"Movie\",\"TV Show\",\"Movie\",\"Movie\",\"Movie\",\"Movie\",\"Movie\",\"Movie\",\"Movie\",\"TV Show\",\"Movie\",\"Movie\",\"Movie\",\"Movie\",\"Movie\",\"TV Show\",\"Movie\",\"TV Show\",\"TV Show\",\"Movie\",\"Movie\",\"Movie\",\"Movie\",\"Movie\",\"Movie\",\"Movie\",\"Movie\",\"Movie\",\"Movie\",\"Movie\",\"Movie\",\"Movie\",\"Movie\",\"Movie\",\"Movie\",\"TV Show\",\"Movie\",\"Movie\",\"Movie\",\"Movie\",\"TV Show\",\"Movie\",\"Movie\",\"TV Show\",\"TV Show\",\"Movie\",\"Movie\",\"Movie\",\"TV Show\",\"Movie\",\"Movie\",\"Movie\",\"Movie\",\"Movie\",\"Movie\",\"Movie\",\"Movie\",\"Movie\",\"TV Show\",\"Movie\",\"Movie\",\"Movie\",\"TV Show\",\"Movie\",\"Movie\",\"Movie\",\"Movie\",\"TV Show\",\"Movie\",\"Movie\",\"Movie\",\"Movie\",\"Movie\",\"Movie\",\"TV Show\",\"Movie\",\"Movie\",\"Movie\",\"TV Show\",\"TV Show\",\"Movie\",\"Movie\",\"Movie\",\"Movie\",\"Movie\",\"Movie\",\"Movie\",\"TV Show\",\"Movie\",\"Movie\",\"TV Show\",\"Movie\",\"Movie\",\"Movie\",\"TV Show\",\"Movie\",\"Movie\",\"Movie\",\"TV Show\",\"Movie\",\"Movie\",\"Movie\",\"Movie\",\"Movie\",\"Movie\",\"Movie\",\"Movie\",\"Movie\",\"Movie\",\"Movie\",\"Movie\",\"Movie\",\"TV Show\",\"Movie\",\"Movie\",\"Movie\",\"TV Show\",\"TV Show\",\"Movie\",\"Movie\",\"Movie\",\"Movie\",\"Movie\",\"Movie\",\"Movie\",\"TV Show\",\"Movie\",\"Movie\",\"TV Show\",\"TV Show\",\"TV Show\",\"TV Show\",\"TV Show\",\"TV Show\",\"TV Show\",\"TV Show\",\"TV Show\",\"TV Show\",\"TV Show\",\"TV Show\",\"TV Show\",\"TV Show\",\"TV Show\",\"Movie\",\"Movie\",\"Movie\",\"TV Show\",\"Movie\",\"TV Show\",\"Movie\",\"Movie\",\"TV Show\",\"TV Show\",\"TV Show\",\"TV Show\",\"TV Show\",\"Movie\",\"Movie\",\"Movie\",\"Movie\",\"Movie\",\"Movie\",\"Movie\",\"Movie\",\"TV Show\",\"Movie\",\"Movie\",\"TV Show\",\"Movie\",\"TV Show\",\"Movie\",\"Movie\",\"Movie\",\"Movie\",\"Movie\",\"TV Show\",\"Movie\",\"TV Show\",\"Movie\",\"TV Show\",\"Movie\",\"TV Show\",\"TV Show\",\"Movie\",\"TV Show\",\"Movie\",\"Movie\",\"Movie\",\"Movie\",\"Movie\",\"Movie\",\"Movie\",\"Movie\",\"Movie\",\"Movie\",\"Movie\",\"Movie\",\"TV Show\",\"Movie\",\"Movie\",\"Movie\",\"Movie\",\"Movie\",\"Movie\",\"TV Show\",\"Movie\",\"Movie\",\"TV Show\",\"Movie\",\"TV Show\",\"Movie\",\"TV Show\",\"Movie\",\"Movie\",\"Movie\",\"Movie\",\"TV Show\",\"Movie\",\"Movie\",\"TV Show\",\"Movie\",\"Movie\",\"Movie\",\"Movie\",\"Movie\",\"TV Show\",\"Movie\",\"Movie\",\"Movie\",\"Movie\",\"Movie\",\"TV Show\",\"Movie\",\"TV Show\",\"Movie\",\"Movie\",\"TV Show\",\"Movie\",\"Movie\",\"TV Show\",\"Movie\",\"TV Show\",\"Movie\",\"Movie\",\"Movie\",\"Movie\",\"Movie\",\"TV Show\",\"Movie\",\"Movie\",\"Movie\",\"Movie\",\"Movie\",\"Movie\",\"Movie\",\"Movie\",\"Movie\",\"Movie\",\"Movie\",\"Movie\",\"Movie\",\"TV Show\",\"Movie\",\"Movie\",\"Movie\",\"TV Show\",\"TV Show\",\"Movie\",\"Movie\",\"Movie\",\"Movie\",\"Movie\",\"Movie\",\"Movie\",\"Movie\",\"TV Show\",\"Movie\",\"TV Show\",\"Movie\",\"Movie\",\"Movie\",\"Movie\",\"Movie\",\"Movie\",\"Movie\",\"Movie\",\"Movie\",\"TV Show\",\"Movie\",\"Movie\",\"Movie\",\"Movie\",\"Movie\",\"Movie\",\"Movie\",\"Movie\",\"Movie\",\"Movie\",\"Movie\",\"Movie\",\"Movie\",\"Movie\",\"Movie\",\"Movie\",\"Movie\",\"Movie\",\"Movie\",\"Movie\",\"Movie\",\"Movie\",\"Movie\",\"TV Show\",\"Movie\",\"Movie\",\"Movie\",\"Movie\",\"Movie\",\"TV Show\",\"Movie\",\"Movie\",\"Movie\",\"Movie\",\"TV Show\",\"Movie\",\"Movie\",\"Movie\",\"Movie\",\"Movie\",\"Movie\",\"Movie\",\"Movie\",\"Movie\",\"Movie\",\"Movie\",\"Movie\",\"Movie\",\"Movie\",\"TV Show\",\"Movie\",\"Movie\",\"Movie\",\"Movie\",\"Movie\",\"Movie\",\"Movie\",\"Movie\",\"Movie\",\"Movie\",\"Movie\",\"Movie\",\"Movie\",\"TV Show\",\"Movie\",\"TV Show\",\"Movie\",\"Movie\",\"Movie\",\"Movie\",\"Movie\",\"Movie\",\"TV Show\",\"Movie\",\"TV Show\",\"Movie\",\"Movie\",\"Movie\",\"Movie\",\"Movie\",\"Movie\",\"Movie\",\"Movie\",\"TV Show\",\"Movie\",\"Movie\",\"Movie\",\"Movie\",\"Movie\",\"Movie\",\"Movie\",\"Movie\",\"Movie\",\"Movie\",\"Movie\",\"Movie\",\"TV Show\",\"Movie\",\"Movie\",\"Movie\",\"Movie\",\"TV Show\",\"TV Show\",\"TV Show\",\"Movie\",\"Movie\",\"Movie\",\"Movie\",\"Movie\",\"Movie\",\"Movie\",\"TV Show\",\"TV Show\",\"Movie\",\"Movie\",\"Movie\",\"Movie\",\"Movie\",\"Movie\",\"Movie\",\"Movie\",\"TV Show\",\"Movie\",\"Movie\",\"Movie\",\"Movie\",\"Movie\",\"Movie\",\"Movie\",\"Movie\",\"Movie\",\"Movie\",\"Movie\",\"Movie\",\"Movie\",\"Movie\",\"Movie\",\"Movie\",\"Movie\",\"TV Show\",\"Movie\",\"Movie\",\"Movie\",\"TV Show\",\"Movie\",\"TV Show\",\"Movie\",\"Movie\",\"Movie\",\"Movie\",\"Movie\",\"TV Show\",\"Movie\",\"Movie\",\"Movie\",\"Movie\",\"Movie\",\"Movie\",\"Movie\",\"Movie\",\"Movie\",\"Movie\",\"Movie\",\"Movie\",\"TV Show\",\"Movie\",\"TV Show\",\"Movie\",\"Movie\",\"Movie\",\"Movie\",\"Movie\",\"Movie\",\"Movie\",\"TV Show\",\"TV Show\",\"Movie\",\"Movie\",\"TV Show\",\"Movie\",\"Movie\",\"Movie\",\"Movie\",\"TV Show\",\"Movie\",\"Movie\",\"Movie\",\"Movie\",\"TV Show\",\"Movie\",\"TV Show\",\"Movie\",\"Movie\",\"Movie\",\"Movie\",\"Movie\",\"Movie\",\"Movie\",\"TV Show\",\"Movie\",\"Movie\",\"Movie\",\"TV Show\",\"Movie\",\"Movie\",\"Movie\",\"TV Show\",\"Movie\",\"Movie\",\"Movie\",\"TV Show\",\"Movie\",\"Movie\",\"TV Show\",\"Movie\",\"Movie\",\"Movie\",\"Movie\",\"TV Show\",\"Movie\",\"Movie\",\"Movie\",\"Movie\",\"Movie\",\"TV Show\",\"Movie\",\"Movie\",\"Movie\",\"TV Show\",\"TV Show\",\"Movie\",\"Movie\",\"Movie\",\"Movie\",\"Movie\",\"Movie\",\"Movie\",\"Movie\",\"Movie\",\"Movie\",\"Movie\",\"Movie\",\"Movie\",\"Movie\",\"Movie\",\"Movie\",\"TV Show\",\"Movie\",\"Movie\",\"Movie\",\"Movie\",\"Movie\",\"Movie\",\"TV Show\",\"TV Show\",\"TV Show\",\"TV Show\",\"Movie\",\"Movie\",\"Movie\",\"Movie\",\"TV Show\",\"Movie\",\"TV Show\",\"Movie\",\"Movie\",\"Movie\",\"Movie\",\"Movie\",\"Movie\",\"TV Show\",\"Movie\",\"Movie\",\"Movie\",\"TV Show\",\"Movie\",\"Movie\",\"Movie\",\"Movie\",\"Movie\",\"TV Show\",\"Movie\",\"Movie\",\"Movie\",\"Movie\",\"Movie\",\"Movie\",\"TV Show\",\"TV Show\",\"TV Show\",\"TV Show\",\"Movie\",\"Movie\",\"Movie\",\"Movie\",\"TV Show\",\"Movie\",\"TV Show\",\"Movie\",\"Movie\",\"Movie\",\"Movie\",\"Movie\",\"Movie\",\"Movie\",\"Movie\",\"Movie\",\"Movie\",\"Movie\",\"Movie\",\"Movie\",\"Movie\",\"Movie\",\"Movie\",\"Movie\",\"Movie\",\"TV Show\",\"Movie\",\"Movie\",\"Movie\",\"Movie\",\"Movie\",\"Movie\",\"Movie\",\"TV Show\",\"Movie\",\"Movie\",\"Movie\",\"Movie\",\"Movie\",\"Movie\",\"TV Show\",\"Movie\",\"Movie\",\"Movie\",\"Movie\",\"Movie\",\"Movie\",\"TV Show\",\"Movie\",\"Movie\",\"Movie\",\"Movie\",\"TV Show\",\"Movie\",\"Movie\",\"Movie\",\"Movie\",\"Movie\",\"Movie\",\"Movie\",\"Movie\",\"TV Show\",\"Movie\",\"Movie\",\"Movie\",\"Movie\",\"Movie\",\"TV Show\",\"Movie\",\"Movie\",\"Movie\",\"Movie\",\"TV Show\",\"Movie\",\"Movie\",\"Movie\",\"Movie\",\"TV Show\",\"Movie\",\"Movie\",\"Movie\",\"Movie\",\"Movie\",\"TV Show\",\"Movie\",\"Movie\",\"Movie\",\"Movie\",\"Movie\",\"Movie\",\"Movie\",\"Movie\",\"TV Show\",\"Movie\",\"Movie\",\"Movie\",\"Movie\",\"Movie\",\"Movie\",\"Movie\",\"Movie\",\"TV Show\",\"Movie\",\"Movie\",\"Movie\",\"TV Show\",\"TV Show\",\"Movie\",\"Movie\",\"Movie\",\"Movie\",\"TV Show\",\"Movie\",\"Movie\",\"Movie\",\"Movie\",\"Movie\",\"Movie\",\"Movie\",\"Movie\",\"Movie\",\"TV Show\",\"Movie\",\"Movie\",\"TV Show\",\"Movie\",\"TV Show\",\"Movie\",\"Movie\",\"Movie\",\"Movie\",\"Movie\",\"Movie\",\"Movie\",\"Movie\",\"Movie\",\"Movie\",\"TV Show\",\"Movie\",\"TV Show\",\"Movie\",\"Movie\",\"Movie\",\"TV Show\",\"Movie\",\"Movie\",\"Movie\",\"TV Show\",\"Movie\",\"Movie\",\"Movie\",\"Movie\",\"Movie\",\"Movie\",\"Movie\",\"Movie\",\"TV Show\",\"Movie\",\"TV Show\",\"Movie\",\"Movie\",\"TV Show\",\"Movie\",\"TV Show\",\"Movie\",\"Movie\",\"TV Show\",\"Movie\",\"TV Show\",\"TV Show\",\"Movie\",\"Movie\",\"Movie\",\"Movie\",\"Movie\",\"Movie\",\"Movie\",\"Movie\",\"Movie\",\"Movie\",\"Movie\",\"Movie\",\"TV Show\",\"Movie\",\"Movie\",\"Movie\",\"Movie\",\"TV Show\",\"Movie\",\"Movie\",\"Movie\",\"Movie\",\"Movie\",\"Movie\",\"Movie\",\"Movie\",\"Movie\",\"Movie\",\"Movie\",\"Movie\",\"Movie\",\"TV Show\",\"Movie\",\"Movie\",\"Movie\",\"Movie\",\"Movie\",\"Movie\",\"Movie\",\"Movie\",\"Movie\",\"TV Show\",\"TV Show\",\"TV Show\",\"TV Show\",\"Movie\",\"Movie\",\"Movie\",\"TV Show\",\"TV Show\",\"Movie\",\"TV Show\",\"Movie\",\"Movie\",\"Movie\",\"Movie\",\"Movie\",\"TV Show\",\"Movie\",\"TV Show\",\"Movie\",\"Movie\",\"TV Show\",\"Movie\",\"Movie\",\"Movie\",\"Movie\",\"Movie\",\"Movie\",\"Movie\",\"Movie\",\"Movie\",\"Movie\",\"Movie\",\"Movie\",\"Movie\",\"Movie\",\"Movie\",\"Movie\",\"Movie\",\"Movie\",\"Movie\",\"Movie\",\"Movie\",\"Movie\",\"Movie\",\"Movie\",\"Movie\",\"Movie\",\"Movie\",\"Movie\",\"TV Show\",\"Movie\",\"Movie\",\"TV Show\",\"Movie\",\"TV Show\",\"Movie\",\"Movie\",\"Movie\",\"Movie\",\"Movie\",\"TV Show\",\"Movie\",\"Movie\",\"Movie\",\"Movie\",\"Movie\",\"Movie\",\"Movie\",\"TV Show\",\"Movie\",\"Movie\",\"Movie\",\"Movie\",\"Movie\",\"Movie\",\"Movie\",\"Movie\",\"Movie\",\"Movie\",\"Movie\",\"Movie\",\"TV Show\",\"Movie\",\"Movie\",\"Movie\",\"Movie\",\"Movie\",\"Movie\",\"TV Show\",\"Movie\",\"Movie\",\"Movie\",\"Movie\",\"Movie\",\"Movie\",\"Movie\",\"TV Show\",\"TV Show\",\"Movie\",\"Movie\",\"Movie\",\"TV Show\",\"Movie\",\"Movie\",\"Movie\",\"Movie\",\"Movie\",\"Movie\",\"Movie\",\"Movie\",\"Movie\",\"TV Show\",\"Movie\",\"Movie\",\"Movie\",\"Movie\",\"Movie\",\"TV Show\",\"Movie\",\"TV Show\",\"Movie\",\"Movie\",\"TV Show\",\"TV Show\",\"Movie\",\"Movie\",\"Movie\",\"TV Show\",\"Movie\",\"TV Show\",\"Movie\",\"Movie\",\"Movie\",\"Movie\",\"Movie\",\"TV Show\",\"Movie\",\"Movie\",\"TV Show\",\"Movie\",\"Movie\",\"Movie\",\"Movie\",\"Movie\",\"Movie\",\"TV Show\",\"Movie\",\"Movie\",\"Movie\",\"Movie\",\"Movie\",\"Movie\",\"TV Show\",\"TV Show\",\"Movie\",\"Movie\",\"Movie\",\"Movie\",\"Movie\",\"Movie\",\"Movie\",\"Movie\",\"Movie\",\"Movie\",\"Movie\",\"Movie\",\"TV Show\",\"Movie\",\"Movie\",\"Movie\",\"TV Show\",\"TV Show\",\"Movie\",\"Movie\",\"TV Show\",\"Movie\",\"Movie\",\"TV Show\",\"TV Show\",\"Movie\",\"Movie\",\"Movie\",\"TV Show\",\"TV Show\",\"Movie\",\"Movie\",\"Movie\",\"TV Show\",\"Movie\",\"Movie\",\"Movie\",\"Movie\",\"Movie\",\"Movie\",\"Movie\",\"Movie\",\"Movie\",\"Movie\",\"Movie\",\"Movie\",\"Movie\",\"Movie\",\"Movie\",\"Movie\",\"Movie\",\"Movie\",\"Movie\",\"Movie\",\"Movie\",\"Movie\",\"Movie\",\"TV Show\",\"Movie\",\"Movie\",\"Movie\",\"Movie\",\"Movie\",\"Movie\",\"Movie\",\"Movie\",\"Movie\",\"Movie\",\"TV Show\",\"Movie\",\"TV Show\",\"Movie\",\"Movie\",\"Movie\",\"Movie\",\"Movie\",\"Movie\",\"TV Show\",\"Movie\",\"Movie\",\"Movie\",\"Movie\",\"Movie\",\"Movie\",\"Movie\",\"Movie\",\"Movie\",\"Movie\",\"Movie\",\"Movie\",\"Movie\",\"Movie\",\"Movie\",\"TV Show\",\"Movie\",\"Movie\",\"Movie\",\"Movie\",\"Movie\",\"Movie\",\"Movie\",\"Movie\",\"Movie\",\"TV Show\",\"Movie\",\"Movie\",\"Movie\",\"Movie\",\"TV Show\",\"Movie\",\"Movie\",\"Movie\",\"Movie\",\"Movie\",\"TV Show\",\"Movie\",\"Movie\",\"Movie\",\"Movie\",\"Movie\",\"Movie\",\"Movie\",\"Movie\",\"Movie\",\"TV Show\",\"Movie\",\"Movie\",\"Movie\",\"Movie\",\"Movie\",\"Movie\",\"Movie\",\"Movie\",\"Movie\",\"TV Show\",\"Movie\",\"TV Show\",\"Movie\",\"Movie\",\"Movie\",\"Movie\",\"Movie\",\"Movie\",\"Movie\",\"TV Show\",\"TV Show\",\"Movie\",\"Movie\",\"Movie\",\"Movie\",\"TV Show\",\"Movie\",\"Movie\",\"Movie\",\"Movie\",\"Movie\",\"Movie\",\"Movie\",\"Movie\",\"Movie\",\"TV Show\",\"Movie\",\"Movie\",\"Movie\",\"TV Show\",\"TV Show\",\"Movie\",\"Movie\",\"Movie\",\"Movie\",\"Movie\",\"TV Show\",\"Movie\",\"TV Show\",\"Movie\",\"Movie\",\"Movie\",\"Movie\",\"Movie\",\"TV Show\",\"Movie\",\"Movie\",\"TV Show\",\"Movie\",\"Movie\",\"Movie\",\"Movie\",\"Movie\",\"Movie\",\"Movie\",\"Movie\",\"Movie\",\"Movie\",\"Movie\",\"Movie\",\"Movie\",\"Movie\",\"Movie\",\"Movie\",\"TV Show\",\"Movie\",\"Movie\",\"Movie\",\"Movie\",\"TV Show\",\"Movie\",\"Movie\",\"TV Show\",\"Movie\",\"TV Show\",\"Movie\",\"Movie\",\"Movie\",\"Movie\",\"Movie\",\"Movie\",\"Movie\",\"Movie\",\"Movie\",\"TV Show\",\"TV Show\",\"TV Show\",\"Movie\",\"Movie\",\"TV Show\",\"Movie\",\"Movie\",\"TV Show\",\"Movie\",\"Movie\",\"Movie\",\"TV Show\",\"Movie\"],\"legendgroup\":\"\",\"name\":\"\",\"showlegend\":true,\"type\":\"pie\"}],                        {\"template\":{\"data\":{\"histogram2dcontour\":[{\"type\":\"histogram2dcontour\",\"colorbar\":{\"outlinewidth\":0,\"ticks\":\"\"},\"colorscale\":[[0.0,\"#0d0887\"],[0.1111111111111111,\"#46039f\"],[0.2222222222222222,\"#7201a8\"],[0.3333333333333333,\"#9c179e\"],[0.4444444444444444,\"#bd3786\"],[0.5555555555555556,\"#d8576b\"],[0.6666666666666666,\"#ed7953\"],[0.7777777777777778,\"#fb9f3a\"],[0.8888888888888888,\"#fdca26\"],[1.0,\"#f0f921\"]]}],\"choropleth\":[{\"type\":\"choropleth\",\"colorbar\":{\"outlinewidth\":0,\"ticks\":\"\"}}],\"histogram2d\":[{\"type\":\"histogram2d\",\"colorbar\":{\"outlinewidth\":0,\"ticks\":\"\"},\"colorscale\":[[0.0,\"#0d0887\"],[0.1111111111111111,\"#46039f\"],[0.2222222222222222,\"#7201a8\"],[0.3333333333333333,\"#9c179e\"],[0.4444444444444444,\"#bd3786\"],[0.5555555555555556,\"#d8576b\"],[0.6666666666666666,\"#ed7953\"],[0.7777777777777778,\"#fb9f3a\"],[0.8888888888888888,\"#fdca26\"],[1.0,\"#f0f921\"]]}],\"heatmap\":[{\"type\":\"heatmap\",\"colorbar\":{\"outlinewidth\":0,\"ticks\":\"\"},\"colorscale\":[[0.0,\"#0d0887\"],[0.1111111111111111,\"#46039f\"],[0.2222222222222222,\"#7201a8\"],[0.3333333333333333,\"#9c179e\"],[0.4444444444444444,\"#bd3786\"],[0.5555555555555556,\"#d8576b\"],[0.6666666666666666,\"#ed7953\"],[0.7777777777777778,\"#fb9f3a\"],[0.8888888888888888,\"#fdca26\"],[1.0,\"#f0f921\"]]}],\"heatmapgl\":[{\"type\":\"heatmapgl\",\"colorbar\":{\"outlinewidth\":0,\"ticks\":\"\"},\"colorscale\":[[0.0,\"#0d0887\"],[0.1111111111111111,\"#46039f\"],[0.2222222222222222,\"#7201a8\"],[0.3333333333333333,\"#9c179e\"],[0.4444444444444444,\"#bd3786\"],[0.5555555555555556,\"#d8576b\"],[0.6666666666666666,\"#ed7953\"],[0.7777777777777778,\"#fb9f3a\"],[0.8888888888888888,\"#fdca26\"],[1.0,\"#f0f921\"]]}],\"contourcarpet\":[{\"type\":\"contourcarpet\",\"colorbar\":{\"outlinewidth\":0,\"ticks\":\"\"}}],\"contour\":[{\"type\":\"contour\",\"colorbar\":{\"outlinewidth\":0,\"ticks\":\"\"},\"colorscale\":[[0.0,\"#0d0887\"],[0.1111111111111111,\"#46039f\"],[0.2222222222222222,\"#7201a8\"],[0.3333333333333333,\"#9c179e\"],[0.4444444444444444,\"#bd3786\"],[0.5555555555555556,\"#d8576b\"],[0.6666666666666666,\"#ed7953\"],[0.7777777777777778,\"#fb9f3a\"],[0.8888888888888888,\"#fdca26\"],[1.0,\"#f0f921\"]]}],\"surface\":[{\"type\":\"surface\",\"colorbar\":{\"outlinewidth\":0,\"ticks\":\"\"},\"colorscale\":[[0.0,\"#0d0887\"],[0.1111111111111111,\"#46039f\"],[0.2222222222222222,\"#7201a8\"],[0.3333333333333333,\"#9c179e\"],[0.4444444444444444,\"#bd3786\"],[0.5555555555555556,\"#d8576b\"],[0.6666666666666666,\"#ed7953\"],[0.7777777777777778,\"#fb9f3a\"],[0.8888888888888888,\"#fdca26\"],[1.0,\"#f0f921\"]]}],\"mesh3d\":[{\"type\":\"mesh3d\",\"colorbar\":{\"outlinewidth\":0,\"ticks\":\"\"}}],\"scatter\":[{\"fillpattern\":{\"fillmode\":\"overlay\",\"size\":10,\"solidity\":0.2},\"type\":\"scatter\"}],\"parcoords\":[{\"type\":\"parcoords\",\"line\":{\"colorbar\":{\"outlinewidth\":0,\"ticks\":\"\"}}}],\"scatterpolargl\":[{\"type\":\"scatterpolargl\",\"marker\":{\"colorbar\":{\"outlinewidth\":0,\"ticks\":\"\"}}}],\"bar\":[{\"error_x\":{\"color\":\"#2a3f5f\"},\"error_y\":{\"color\":\"#2a3f5f\"},\"marker\":{\"line\":{\"color\":\"#E5ECF6\",\"width\":0.5},\"pattern\":{\"fillmode\":\"overlay\",\"size\":10,\"solidity\":0.2}},\"type\":\"bar\"}],\"scattergeo\":[{\"type\":\"scattergeo\",\"marker\":{\"colorbar\":{\"outlinewidth\":0,\"ticks\":\"\"}}}],\"scatterpolar\":[{\"type\":\"scatterpolar\",\"marker\":{\"colorbar\":{\"outlinewidth\":0,\"ticks\":\"\"}}}],\"histogram\":[{\"marker\":{\"pattern\":{\"fillmode\":\"overlay\",\"size\":10,\"solidity\":0.2}},\"type\":\"histogram\"}],\"scattergl\":[{\"type\":\"scattergl\",\"marker\":{\"colorbar\":{\"outlinewidth\":0,\"ticks\":\"\"}}}],\"scatter3d\":[{\"type\":\"scatter3d\",\"line\":{\"colorbar\":{\"outlinewidth\":0,\"ticks\":\"\"}},\"marker\":{\"colorbar\":{\"outlinewidth\":0,\"ticks\":\"\"}}}],\"scattermapbox\":[{\"type\":\"scattermapbox\",\"marker\":{\"colorbar\":{\"outlinewidth\":0,\"ticks\":\"\"}}}],\"scatterternary\":[{\"type\":\"scatterternary\",\"marker\":{\"colorbar\":{\"outlinewidth\":0,\"ticks\":\"\"}}}],\"scattercarpet\":[{\"type\":\"scattercarpet\",\"marker\":{\"colorbar\":{\"outlinewidth\":0,\"ticks\":\"\"}}}],\"carpet\":[{\"aaxis\":{\"endlinecolor\":\"#2a3f5f\",\"gridcolor\":\"white\",\"linecolor\":\"white\",\"minorgridcolor\":\"white\",\"startlinecolor\":\"#2a3f5f\"},\"baxis\":{\"endlinecolor\":\"#2a3f5f\",\"gridcolor\":\"white\",\"linecolor\":\"white\",\"minorgridcolor\":\"white\",\"startlinecolor\":\"#2a3f5f\"},\"type\":\"carpet\"}],\"table\":[{\"cells\":{\"fill\":{\"color\":\"#EBF0F8\"},\"line\":{\"color\":\"white\"}},\"header\":{\"fill\":{\"color\":\"#C8D4E3\"},\"line\":{\"color\":\"white\"}},\"type\":\"table\"}],\"barpolar\":[{\"marker\":{\"line\":{\"color\":\"#E5ECF6\",\"width\":0.5},\"pattern\":{\"fillmode\":\"overlay\",\"size\":10,\"solidity\":0.2}},\"type\":\"barpolar\"}],\"pie\":[{\"automargin\":true,\"type\":\"pie\"}]},\"layout\":{\"autotypenumbers\":\"strict\",\"colorway\":[\"#636efa\",\"#EF553B\",\"#00cc96\",\"#ab63fa\",\"#FFA15A\",\"#19d3f3\",\"#FF6692\",\"#B6E880\",\"#FF97FF\",\"#FECB52\"],\"font\":{\"color\":\"#2a3f5f\"},\"hovermode\":\"closest\",\"hoverlabel\":{\"align\":\"left\"},\"paper_bgcolor\":\"white\",\"plot_bgcolor\":\"#E5ECF6\",\"polar\":{\"bgcolor\":\"#E5ECF6\",\"angularaxis\":{\"gridcolor\":\"white\",\"linecolor\":\"white\",\"ticks\":\"\"},\"radialaxis\":{\"gridcolor\":\"white\",\"linecolor\":\"white\",\"ticks\":\"\"}},\"ternary\":{\"bgcolor\":\"#E5ECF6\",\"aaxis\":{\"gridcolor\":\"white\",\"linecolor\":\"white\",\"ticks\":\"\"},\"baxis\":{\"gridcolor\":\"white\",\"linecolor\":\"white\",\"ticks\":\"\"},\"caxis\":{\"gridcolor\":\"white\",\"linecolor\":\"white\",\"ticks\":\"\"}},\"coloraxis\":{\"colorbar\":{\"outlinewidth\":0,\"ticks\":\"\"}},\"colorscale\":{\"sequential\":[[0.0,\"#0d0887\"],[0.1111111111111111,\"#46039f\"],[0.2222222222222222,\"#7201a8\"],[0.3333333333333333,\"#9c179e\"],[0.4444444444444444,\"#bd3786\"],[0.5555555555555556,\"#d8576b\"],[0.6666666666666666,\"#ed7953\"],[0.7777777777777778,\"#fb9f3a\"],[0.8888888888888888,\"#fdca26\"],[1.0,\"#f0f921\"]],\"sequentialminus\":[[0.0,\"#0d0887\"],[0.1111111111111111,\"#46039f\"],[0.2222222222222222,\"#7201a8\"],[0.3333333333333333,\"#9c179e\"],[0.4444444444444444,\"#bd3786\"],[0.5555555555555556,\"#d8576b\"],[0.6666666666666666,\"#ed7953\"],[0.7777777777777778,\"#fb9f3a\"],[0.8888888888888888,\"#fdca26\"],[1.0,\"#f0f921\"]],\"diverging\":[[0,\"#8e0152\"],[0.1,\"#c51b7d\"],[0.2,\"#de77ae\"],[0.3,\"#f1b6da\"],[0.4,\"#fde0ef\"],[0.5,\"#f7f7f7\"],[0.6,\"#e6f5d0\"],[0.7,\"#b8e186\"],[0.8,\"#7fbc41\"],[0.9,\"#4d9221\"],[1,\"#276419\"]]},\"xaxis\":{\"gridcolor\":\"white\",\"linecolor\":\"white\",\"ticks\":\"\",\"title\":{\"standoff\":15},\"zerolinecolor\":\"white\",\"automargin\":true,\"zerolinewidth\":2},\"yaxis\":{\"gridcolor\":\"white\",\"linecolor\":\"white\",\"ticks\":\"\",\"title\":{\"standoff\":15},\"zerolinecolor\":\"white\",\"automargin\":true,\"zerolinewidth\":2},\"scene\":{\"xaxis\":{\"backgroundcolor\":\"#E5ECF6\",\"gridcolor\":\"white\",\"linecolor\":\"white\",\"showbackground\":true,\"ticks\":\"\",\"zerolinecolor\":\"white\",\"gridwidth\":2},\"yaxis\":{\"backgroundcolor\":\"#E5ECF6\",\"gridcolor\":\"white\",\"linecolor\":\"white\",\"showbackground\":true,\"ticks\":\"\",\"zerolinecolor\":\"white\",\"gridwidth\":2},\"zaxis\":{\"backgroundcolor\":\"#E5ECF6\",\"gridcolor\":\"white\",\"linecolor\":\"white\",\"showbackground\":true,\"ticks\":\"\",\"zerolinecolor\":\"white\",\"gridwidth\":2}},\"shapedefaults\":{\"line\":{\"color\":\"#2a3f5f\"}},\"annotationdefaults\":{\"arrowcolor\":\"#2a3f5f\",\"arrowhead\":0,\"arrowwidth\":1},\"geo\":{\"bgcolor\":\"white\",\"landcolor\":\"#E5ECF6\",\"subunitcolor\":\"white\",\"showland\":true,\"showlakes\":true,\"lakecolor\":\"white\"},\"title\":{\"x\":0.05},\"mapbox\":{\"style\":\"light\"}}},\"legend\":{\"tracegroupgap\":0},\"title\":{\"text\":\"Distribution Type\"}},                        {\"responsive\": true}                    ).then(function(){\n",
       "                            \n",
       "var gd = document.getElementById('1785f29a-b78e-488e-b456-2dda73131658');\n",
       "var x = new MutationObserver(function (mutations, observer) {{\n",
       "        var display = window.getComputedStyle(gd).display;\n",
       "        if (!display || display === 'none') {{\n",
       "            console.log([gd, 'removed!']);\n",
       "            Plotly.purge(gd);\n",
       "            observer.disconnect();\n",
       "        }}\n",
       "}});\n",
       "\n",
       "// Listen for the removal of the full notebook cells\n",
       "var notebookContainer = gd.closest('#notebook-container');\n",
       "if (notebookContainer) {{\n",
       "    x.observe(notebookContainer, {childList: true});\n",
       "}}\n",
       "\n",
       "// Listen for the clearing of the current output cell\n",
       "var outputEl = gd.closest('.output');\n",
       "if (outputEl) {{\n",
       "    x.observe(outputEl, {childList: true});\n",
       "}}\n",
       "\n",
       "                        })                };                });            </script>        </div>"
      ]
     },
     "metadata": {},
     "output_type": "display_data"
    }
   ],
   "source": [
    "px.pie(data_frame=data,names='type',title='Distribution Type' )"
   ]
  },
  {
   "cell_type": "code",
   "execution_count": 95,
   "id": "3ea72675",
   "metadata": {},
   "outputs": [
    {
     "data": {
      "application/vnd.plotly.v1+json": {
       "config": {
        "plotlyServerURL": "https://plot.ly"
       },
       "data": [
        {
         "alignmentgroup": "True",
         "hovertemplate": "Country=%{x}<br>Count=%{text}<extra></extra>",
         "legendgroup": "",
         "marker": {
          "color": "#636efa",
          "pattern": {
           "shape": ""
          }
         },
         "name": "",
         "offsetgroup": "",
         "orientation": "v",
         "showlegend": false,
         "text": [
          2059,
          893,
          206,
          122,
          97,
          92,
          86,
          77,
          76,
          76
         ],
         "textposition": "auto",
         "type": "bar",
         "x": [
          "United States",
          "India",
          "United Kingdom",
          "Canada",
          "Spain",
          "Egypt",
          "Nigeria",
          "Indonesia",
          "Turkey",
          "Japan"
         ],
         "xaxis": "x",
         "y": [
          2059,
          893,
          206,
          122,
          97,
          92,
          86,
          77,
          76,
          76
         ],
         "yaxis": "y"
        }
       ],
       "layout": {
        "barmode": "relative",
        "legend": {
         "tracegroupgap": 0
        },
        "template": {
         "data": {
          "bar": [
           {
            "error_x": {
             "color": "#2a3f5f"
            },
            "error_y": {
             "color": "#2a3f5f"
            },
            "marker": {
             "line": {
              "color": "#E5ECF6",
              "width": 0.5
             },
             "pattern": {
              "fillmode": "overlay",
              "size": 10,
              "solidity": 0.2
             }
            },
            "type": "bar"
           }
          ],
          "barpolar": [
           {
            "marker": {
             "line": {
              "color": "#E5ECF6",
              "width": 0.5
             },
             "pattern": {
              "fillmode": "overlay",
              "size": 10,
              "solidity": 0.2
             }
            },
            "type": "barpolar"
           }
          ],
          "carpet": [
           {
            "aaxis": {
             "endlinecolor": "#2a3f5f",
             "gridcolor": "white",
             "linecolor": "white",
             "minorgridcolor": "white",
             "startlinecolor": "#2a3f5f"
            },
            "baxis": {
             "endlinecolor": "#2a3f5f",
             "gridcolor": "white",
             "linecolor": "white",
             "minorgridcolor": "white",
             "startlinecolor": "#2a3f5f"
            },
            "type": "carpet"
           }
          ],
          "choropleth": [
           {
            "colorbar": {
             "outlinewidth": 0,
             "ticks": ""
            },
            "type": "choropleth"
           }
          ],
          "contour": [
           {
            "colorbar": {
             "outlinewidth": 0,
             "ticks": ""
            },
            "colorscale": [
             [
              0,
              "#0d0887"
             ],
             [
              0.1111111111111111,
              "#46039f"
             ],
             [
              0.2222222222222222,
              "#7201a8"
             ],
             [
              0.3333333333333333,
              "#9c179e"
             ],
             [
              0.4444444444444444,
              "#bd3786"
             ],
             [
              0.5555555555555556,
              "#d8576b"
             ],
             [
              0.6666666666666666,
              "#ed7953"
             ],
             [
              0.7777777777777778,
              "#fb9f3a"
             ],
             [
              0.8888888888888888,
              "#fdca26"
             ],
             [
              1,
              "#f0f921"
             ]
            ],
            "type": "contour"
           }
          ],
          "contourcarpet": [
           {
            "colorbar": {
             "outlinewidth": 0,
             "ticks": ""
            },
            "type": "contourcarpet"
           }
          ],
          "heatmap": [
           {
            "colorbar": {
             "outlinewidth": 0,
             "ticks": ""
            },
            "colorscale": [
             [
              0,
              "#0d0887"
             ],
             [
              0.1111111111111111,
              "#46039f"
             ],
             [
              0.2222222222222222,
              "#7201a8"
             ],
             [
              0.3333333333333333,
              "#9c179e"
             ],
             [
              0.4444444444444444,
              "#bd3786"
             ],
             [
              0.5555555555555556,
              "#d8576b"
             ],
             [
              0.6666666666666666,
              "#ed7953"
             ],
             [
              0.7777777777777778,
              "#fb9f3a"
             ],
             [
              0.8888888888888888,
              "#fdca26"
             ],
             [
              1,
              "#f0f921"
             ]
            ],
            "type": "heatmap"
           }
          ],
          "heatmapgl": [
           {
            "colorbar": {
             "outlinewidth": 0,
             "ticks": ""
            },
            "colorscale": [
             [
              0,
              "#0d0887"
             ],
             [
              0.1111111111111111,
              "#46039f"
             ],
             [
              0.2222222222222222,
              "#7201a8"
             ],
             [
              0.3333333333333333,
              "#9c179e"
             ],
             [
              0.4444444444444444,
              "#bd3786"
             ],
             [
              0.5555555555555556,
              "#d8576b"
             ],
             [
              0.6666666666666666,
              "#ed7953"
             ],
             [
              0.7777777777777778,
              "#fb9f3a"
             ],
             [
              0.8888888888888888,
              "#fdca26"
             ],
             [
              1,
              "#f0f921"
             ]
            ],
            "type": "heatmapgl"
           }
          ],
          "histogram": [
           {
            "marker": {
             "pattern": {
              "fillmode": "overlay",
              "size": 10,
              "solidity": 0.2
             }
            },
            "type": "histogram"
           }
          ],
          "histogram2d": [
           {
            "colorbar": {
             "outlinewidth": 0,
             "ticks": ""
            },
            "colorscale": [
             [
              0,
              "#0d0887"
             ],
             [
              0.1111111111111111,
              "#46039f"
             ],
             [
              0.2222222222222222,
              "#7201a8"
             ],
             [
              0.3333333333333333,
              "#9c179e"
             ],
             [
              0.4444444444444444,
              "#bd3786"
             ],
             [
              0.5555555555555556,
              "#d8576b"
             ],
             [
              0.6666666666666666,
              "#ed7953"
             ],
             [
              0.7777777777777778,
              "#fb9f3a"
             ],
             [
              0.8888888888888888,
              "#fdca26"
             ],
             [
              1,
              "#f0f921"
             ]
            ],
            "type": "histogram2d"
           }
          ],
          "histogram2dcontour": [
           {
            "colorbar": {
             "outlinewidth": 0,
             "ticks": ""
            },
            "colorscale": [
             [
              0,
              "#0d0887"
             ],
             [
              0.1111111111111111,
              "#46039f"
             ],
             [
              0.2222222222222222,
              "#7201a8"
             ],
             [
              0.3333333333333333,
              "#9c179e"
             ],
             [
              0.4444444444444444,
              "#bd3786"
             ],
             [
              0.5555555555555556,
              "#d8576b"
             ],
             [
              0.6666666666666666,
              "#ed7953"
             ],
             [
              0.7777777777777778,
              "#fb9f3a"
             ],
             [
              0.8888888888888888,
              "#fdca26"
             ],
             [
              1,
              "#f0f921"
             ]
            ],
            "type": "histogram2dcontour"
           }
          ],
          "mesh3d": [
           {
            "colorbar": {
             "outlinewidth": 0,
             "ticks": ""
            },
            "type": "mesh3d"
           }
          ],
          "parcoords": [
           {
            "line": {
             "colorbar": {
              "outlinewidth": 0,
              "ticks": ""
             }
            },
            "type": "parcoords"
           }
          ],
          "pie": [
           {
            "automargin": true,
            "type": "pie"
           }
          ],
          "scatter": [
           {
            "fillpattern": {
             "fillmode": "overlay",
             "size": 10,
             "solidity": 0.2
            },
            "type": "scatter"
           }
          ],
          "scatter3d": [
           {
            "line": {
             "colorbar": {
              "outlinewidth": 0,
              "ticks": ""
             }
            },
            "marker": {
             "colorbar": {
              "outlinewidth": 0,
              "ticks": ""
             }
            },
            "type": "scatter3d"
           }
          ],
          "scattercarpet": [
           {
            "marker": {
             "colorbar": {
              "outlinewidth": 0,
              "ticks": ""
             }
            },
            "type": "scattercarpet"
           }
          ],
          "scattergeo": [
           {
            "marker": {
             "colorbar": {
              "outlinewidth": 0,
              "ticks": ""
             }
            },
            "type": "scattergeo"
           }
          ],
          "scattergl": [
           {
            "marker": {
             "colorbar": {
              "outlinewidth": 0,
              "ticks": ""
             }
            },
            "type": "scattergl"
           }
          ],
          "scattermapbox": [
           {
            "marker": {
             "colorbar": {
              "outlinewidth": 0,
              "ticks": ""
             }
            },
            "type": "scattermapbox"
           }
          ],
          "scatterpolar": [
           {
            "marker": {
             "colorbar": {
              "outlinewidth": 0,
              "ticks": ""
             }
            },
            "type": "scatterpolar"
           }
          ],
          "scatterpolargl": [
           {
            "marker": {
             "colorbar": {
              "outlinewidth": 0,
              "ticks": ""
             }
            },
            "type": "scatterpolargl"
           }
          ],
          "scatterternary": [
           {
            "marker": {
             "colorbar": {
              "outlinewidth": 0,
              "ticks": ""
             }
            },
            "type": "scatterternary"
           }
          ],
          "surface": [
           {
            "colorbar": {
             "outlinewidth": 0,
             "ticks": ""
            },
            "colorscale": [
             [
              0,
              "#0d0887"
             ],
             [
              0.1111111111111111,
              "#46039f"
             ],
             [
              0.2222222222222222,
              "#7201a8"
             ],
             [
              0.3333333333333333,
              "#9c179e"
             ],
             [
              0.4444444444444444,
              "#bd3786"
             ],
             [
              0.5555555555555556,
              "#d8576b"
             ],
             [
              0.6666666666666666,
              "#ed7953"
             ],
             [
              0.7777777777777778,
              "#fb9f3a"
             ],
             [
              0.8888888888888888,
              "#fdca26"
             ],
             [
              1,
              "#f0f921"
             ]
            ],
            "type": "surface"
           }
          ],
          "table": [
           {
            "cells": {
             "fill": {
              "color": "#EBF0F8"
             },
             "line": {
              "color": "white"
             }
            },
            "header": {
             "fill": {
              "color": "#C8D4E3"
             },
             "line": {
              "color": "white"
             }
            },
            "type": "table"
           }
          ]
         },
         "layout": {
          "annotationdefaults": {
           "arrowcolor": "#2a3f5f",
           "arrowhead": 0,
           "arrowwidth": 1
          },
          "autotypenumbers": "strict",
          "coloraxis": {
           "colorbar": {
            "outlinewidth": 0,
            "ticks": ""
           }
          },
          "colorscale": {
           "diverging": [
            [
             0,
             "#8e0152"
            ],
            [
             0.1,
             "#c51b7d"
            ],
            [
             0.2,
             "#de77ae"
            ],
            [
             0.3,
             "#f1b6da"
            ],
            [
             0.4,
             "#fde0ef"
            ],
            [
             0.5,
             "#f7f7f7"
            ],
            [
             0.6,
             "#e6f5d0"
            ],
            [
             0.7,
             "#b8e186"
            ],
            [
             0.8,
             "#7fbc41"
            ],
            [
             0.9,
             "#4d9221"
            ],
            [
             1,
             "#276419"
            ]
           ],
           "sequential": [
            [
             0,
             "#0d0887"
            ],
            [
             0.1111111111111111,
             "#46039f"
            ],
            [
             0.2222222222222222,
             "#7201a8"
            ],
            [
             0.3333333333333333,
             "#9c179e"
            ],
            [
             0.4444444444444444,
             "#bd3786"
            ],
            [
             0.5555555555555556,
             "#d8576b"
            ],
            [
             0.6666666666666666,
             "#ed7953"
            ],
            [
             0.7777777777777778,
             "#fb9f3a"
            ],
            [
             0.8888888888888888,
             "#fdca26"
            ],
            [
             1,
             "#f0f921"
            ]
           ],
           "sequentialminus": [
            [
             0,
             "#0d0887"
            ],
            [
             0.1111111111111111,
             "#46039f"
            ],
            [
             0.2222222222222222,
             "#7201a8"
            ],
            [
             0.3333333333333333,
             "#9c179e"
            ],
            [
             0.4444444444444444,
             "#bd3786"
            ],
            [
             0.5555555555555556,
             "#d8576b"
            ],
            [
             0.6666666666666666,
             "#ed7953"
            ],
            [
             0.7777777777777778,
             "#fb9f3a"
            ],
            [
             0.8888888888888888,
             "#fdca26"
            ],
            [
             1,
             "#f0f921"
            ]
           ]
          },
          "colorway": [
           "#636efa",
           "#EF553B",
           "#00cc96",
           "#ab63fa",
           "#FFA15A",
           "#19d3f3",
           "#FF6692",
           "#B6E880",
           "#FF97FF",
           "#FECB52"
          ],
          "font": {
           "color": "#2a3f5f"
          },
          "geo": {
           "bgcolor": "white",
           "lakecolor": "white",
           "landcolor": "#E5ECF6",
           "showlakes": true,
           "showland": true,
           "subunitcolor": "white"
          },
          "hoverlabel": {
           "align": "left"
          },
          "hovermode": "closest",
          "mapbox": {
           "style": "light"
          },
          "paper_bgcolor": "white",
          "plot_bgcolor": "#E5ECF6",
          "polar": {
           "angularaxis": {
            "gridcolor": "white",
            "linecolor": "white",
            "ticks": ""
           },
           "bgcolor": "#E5ECF6",
           "radialaxis": {
            "gridcolor": "white",
            "linecolor": "white",
            "ticks": ""
           }
          },
          "scene": {
           "xaxis": {
            "backgroundcolor": "#E5ECF6",
            "gridcolor": "white",
            "gridwidth": 2,
            "linecolor": "white",
            "showbackground": true,
            "ticks": "",
            "zerolinecolor": "white"
           },
           "yaxis": {
            "backgroundcolor": "#E5ECF6",
            "gridcolor": "white",
            "gridwidth": 2,
            "linecolor": "white",
            "showbackground": true,
            "ticks": "",
            "zerolinecolor": "white"
           },
           "zaxis": {
            "backgroundcolor": "#E5ECF6",
            "gridcolor": "white",
            "gridwidth": 2,
            "linecolor": "white",
            "showbackground": true,
            "ticks": "",
            "zerolinecolor": "white"
           }
          },
          "shapedefaults": {
           "line": {
            "color": "#2a3f5f"
           }
          },
          "ternary": {
           "aaxis": {
            "gridcolor": "white",
            "linecolor": "white",
            "ticks": ""
           },
           "baxis": {
            "gridcolor": "white",
            "linecolor": "white",
            "ticks": ""
           },
           "bgcolor": "#E5ECF6",
           "caxis": {
            "gridcolor": "white",
            "linecolor": "white",
            "ticks": ""
           }
          },
          "title": {
           "x": 0.05
          },
          "xaxis": {
           "automargin": true,
           "gridcolor": "white",
           "linecolor": "white",
           "ticks": "",
           "title": {
            "standoff": 15
           },
           "zerolinecolor": "white",
           "zerolinewidth": 2
          },
          "yaxis": {
           "automargin": true,
           "gridcolor": "white",
           "linecolor": "white",
           "ticks": "",
           "title": {
            "standoff": 15
           },
           "zerolinecolor": "white",
           "zerolinewidth": 2
          }
         }
        },
        "title": {
         "text": "Top 10 Countries by Movies Produced"
        },
        "xaxis": {
         "anchor": "y",
         "domain": [
          0,
          1
         ],
         "title": {
          "text": "Country"
         }
        },
        "yaxis": {
         "anchor": "x",
         "domain": [
          0,
          1
         ],
         "title": {
          "text": "Count"
         }
        }
       }
      },
      "text/html": [
       "<div>                            <div id=\"a49446de-d707-45ac-a811-dbe977ada9e5\" class=\"plotly-graph-div\" style=\"height:525px; width:100%;\"></div>            <script type=\"text/javascript\">                require([\"plotly\"], function(Plotly) {                    window.PLOTLYENV=window.PLOTLYENV || {};                                    if (document.getElementById(\"a49446de-d707-45ac-a811-dbe977ada9e5\")) {                    Plotly.newPlot(                        \"a49446de-d707-45ac-a811-dbe977ada9e5\",                        [{\"alignmentgroup\":\"True\",\"hovertemplate\":\"Country=%{x}<br>Count=%{text}<extra></extra>\",\"legendgroup\":\"\",\"marker\":{\"color\":\"#636efa\",\"pattern\":{\"shape\":\"\"}},\"name\":\"\",\"offsetgroup\":\"\",\"orientation\":\"v\",\"showlegend\":false,\"text\":[2059.0,893.0,206.0,122.0,97.0,92.0,86.0,77.0,76.0,76.0],\"textposition\":\"auto\",\"x\":[\"United States\",\"India\",\"United Kingdom\",\"Canada\",\"Spain\",\"Egypt\",\"Nigeria\",\"Indonesia\",\"Turkey\",\"Japan\"],\"xaxis\":\"x\",\"y\":[2059,893,206,122,97,92,86,77,76,76],\"yaxis\":\"y\",\"type\":\"bar\"}],                        {\"template\":{\"data\":{\"histogram2dcontour\":[{\"type\":\"histogram2dcontour\",\"colorbar\":{\"outlinewidth\":0,\"ticks\":\"\"},\"colorscale\":[[0.0,\"#0d0887\"],[0.1111111111111111,\"#46039f\"],[0.2222222222222222,\"#7201a8\"],[0.3333333333333333,\"#9c179e\"],[0.4444444444444444,\"#bd3786\"],[0.5555555555555556,\"#d8576b\"],[0.6666666666666666,\"#ed7953\"],[0.7777777777777778,\"#fb9f3a\"],[0.8888888888888888,\"#fdca26\"],[1.0,\"#f0f921\"]]}],\"choropleth\":[{\"type\":\"choropleth\",\"colorbar\":{\"outlinewidth\":0,\"ticks\":\"\"}}],\"histogram2d\":[{\"type\":\"histogram2d\",\"colorbar\":{\"outlinewidth\":0,\"ticks\":\"\"},\"colorscale\":[[0.0,\"#0d0887\"],[0.1111111111111111,\"#46039f\"],[0.2222222222222222,\"#7201a8\"],[0.3333333333333333,\"#9c179e\"],[0.4444444444444444,\"#bd3786\"],[0.5555555555555556,\"#d8576b\"],[0.6666666666666666,\"#ed7953\"],[0.7777777777777778,\"#fb9f3a\"],[0.8888888888888888,\"#fdca26\"],[1.0,\"#f0f921\"]]}],\"heatmap\":[{\"type\":\"heatmap\",\"colorbar\":{\"outlinewidth\":0,\"ticks\":\"\"},\"colorscale\":[[0.0,\"#0d0887\"],[0.1111111111111111,\"#46039f\"],[0.2222222222222222,\"#7201a8\"],[0.3333333333333333,\"#9c179e\"],[0.4444444444444444,\"#bd3786\"],[0.5555555555555556,\"#d8576b\"],[0.6666666666666666,\"#ed7953\"],[0.7777777777777778,\"#fb9f3a\"],[0.8888888888888888,\"#fdca26\"],[1.0,\"#f0f921\"]]}],\"heatmapgl\":[{\"type\":\"heatmapgl\",\"colorbar\":{\"outlinewidth\":0,\"ticks\":\"\"},\"colorscale\":[[0.0,\"#0d0887\"],[0.1111111111111111,\"#46039f\"],[0.2222222222222222,\"#7201a8\"],[0.3333333333333333,\"#9c179e\"],[0.4444444444444444,\"#bd3786\"],[0.5555555555555556,\"#d8576b\"],[0.6666666666666666,\"#ed7953\"],[0.7777777777777778,\"#fb9f3a\"],[0.8888888888888888,\"#fdca26\"],[1.0,\"#f0f921\"]]}],\"contourcarpet\":[{\"type\":\"contourcarpet\",\"colorbar\":{\"outlinewidth\":0,\"ticks\":\"\"}}],\"contour\":[{\"type\":\"contour\",\"colorbar\":{\"outlinewidth\":0,\"ticks\":\"\"},\"colorscale\":[[0.0,\"#0d0887\"],[0.1111111111111111,\"#46039f\"],[0.2222222222222222,\"#7201a8\"],[0.3333333333333333,\"#9c179e\"],[0.4444444444444444,\"#bd3786\"],[0.5555555555555556,\"#d8576b\"],[0.6666666666666666,\"#ed7953\"],[0.7777777777777778,\"#fb9f3a\"],[0.8888888888888888,\"#fdca26\"],[1.0,\"#f0f921\"]]}],\"surface\":[{\"type\":\"surface\",\"colorbar\":{\"outlinewidth\":0,\"ticks\":\"\"},\"colorscale\":[[0.0,\"#0d0887\"],[0.1111111111111111,\"#46039f\"],[0.2222222222222222,\"#7201a8\"],[0.3333333333333333,\"#9c179e\"],[0.4444444444444444,\"#bd3786\"],[0.5555555555555556,\"#d8576b\"],[0.6666666666666666,\"#ed7953\"],[0.7777777777777778,\"#fb9f3a\"],[0.8888888888888888,\"#fdca26\"],[1.0,\"#f0f921\"]]}],\"mesh3d\":[{\"type\":\"mesh3d\",\"colorbar\":{\"outlinewidth\":0,\"ticks\":\"\"}}],\"scatter\":[{\"fillpattern\":{\"fillmode\":\"overlay\",\"size\":10,\"solidity\":0.2},\"type\":\"scatter\"}],\"parcoords\":[{\"type\":\"parcoords\",\"line\":{\"colorbar\":{\"outlinewidth\":0,\"ticks\":\"\"}}}],\"scatterpolargl\":[{\"type\":\"scatterpolargl\",\"marker\":{\"colorbar\":{\"outlinewidth\":0,\"ticks\":\"\"}}}],\"bar\":[{\"error_x\":{\"color\":\"#2a3f5f\"},\"error_y\":{\"color\":\"#2a3f5f\"},\"marker\":{\"line\":{\"color\":\"#E5ECF6\",\"width\":0.5},\"pattern\":{\"fillmode\":\"overlay\",\"size\":10,\"solidity\":0.2}},\"type\":\"bar\"}],\"scattergeo\":[{\"type\":\"scattergeo\",\"marker\":{\"colorbar\":{\"outlinewidth\":0,\"ticks\":\"\"}}}],\"scatterpolar\":[{\"type\":\"scatterpolar\",\"marker\":{\"colorbar\":{\"outlinewidth\":0,\"ticks\":\"\"}}}],\"histogram\":[{\"marker\":{\"pattern\":{\"fillmode\":\"overlay\",\"size\":10,\"solidity\":0.2}},\"type\":\"histogram\"}],\"scattergl\":[{\"type\":\"scattergl\",\"marker\":{\"colorbar\":{\"outlinewidth\":0,\"ticks\":\"\"}}}],\"scatter3d\":[{\"type\":\"scatter3d\",\"line\":{\"colorbar\":{\"outlinewidth\":0,\"ticks\":\"\"}},\"marker\":{\"colorbar\":{\"outlinewidth\":0,\"ticks\":\"\"}}}],\"scattermapbox\":[{\"type\":\"scattermapbox\",\"marker\":{\"colorbar\":{\"outlinewidth\":0,\"ticks\":\"\"}}}],\"scatterternary\":[{\"type\":\"scatterternary\",\"marker\":{\"colorbar\":{\"outlinewidth\":0,\"ticks\":\"\"}}}],\"scattercarpet\":[{\"type\":\"scattercarpet\",\"marker\":{\"colorbar\":{\"outlinewidth\":0,\"ticks\":\"\"}}}],\"carpet\":[{\"aaxis\":{\"endlinecolor\":\"#2a3f5f\",\"gridcolor\":\"white\",\"linecolor\":\"white\",\"minorgridcolor\":\"white\",\"startlinecolor\":\"#2a3f5f\"},\"baxis\":{\"endlinecolor\":\"#2a3f5f\",\"gridcolor\":\"white\",\"linecolor\":\"white\",\"minorgridcolor\":\"white\",\"startlinecolor\":\"#2a3f5f\"},\"type\":\"carpet\"}],\"table\":[{\"cells\":{\"fill\":{\"color\":\"#EBF0F8\"},\"line\":{\"color\":\"white\"}},\"header\":{\"fill\":{\"color\":\"#C8D4E3\"},\"line\":{\"color\":\"white\"}},\"type\":\"table\"}],\"barpolar\":[{\"marker\":{\"line\":{\"color\":\"#E5ECF6\",\"width\":0.5},\"pattern\":{\"fillmode\":\"overlay\",\"size\":10,\"solidity\":0.2}},\"type\":\"barpolar\"}],\"pie\":[{\"automargin\":true,\"type\":\"pie\"}]},\"layout\":{\"autotypenumbers\":\"strict\",\"colorway\":[\"#636efa\",\"#EF553B\",\"#00cc96\",\"#ab63fa\",\"#FFA15A\",\"#19d3f3\",\"#FF6692\",\"#B6E880\",\"#FF97FF\",\"#FECB52\"],\"font\":{\"color\":\"#2a3f5f\"},\"hovermode\":\"closest\",\"hoverlabel\":{\"align\":\"left\"},\"paper_bgcolor\":\"white\",\"plot_bgcolor\":\"#E5ECF6\",\"polar\":{\"bgcolor\":\"#E5ECF6\",\"angularaxis\":{\"gridcolor\":\"white\",\"linecolor\":\"white\",\"ticks\":\"\"},\"radialaxis\":{\"gridcolor\":\"white\",\"linecolor\":\"white\",\"ticks\":\"\"}},\"ternary\":{\"bgcolor\":\"#E5ECF6\",\"aaxis\":{\"gridcolor\":\"white\",\"linecolor\":\"white\",\"ticks\":\"\"},\"baxis\":{\"gridcolor\":\"white\",\"linecolor\":\"white\",\"ticks\":\"\"},\"caxis\":{\"gridcolor\":\"white\",\"linecolor\":\"white\",\"ticks\":\"\"}},\"coloraxis\":{\"colorbar\":{\"outlinewidth\":0,\"ticks\":\"\"}},\"colorscale\":{\"sequential\":[[0.0,\"#0d0887\"],[0.1111111111111111,\"#46039f\"],[0.2222222222222222,\"#7201a8\"],[0.3333333333333333,\"#9c179e\"],[0.4444444444444444,\"#bd3786\"],[0.5555555555555556,\"#d8576b\"],[0.6666666666666666,\"#ed7953\"],[0.7777777777777778,\"#fb9f3a\"],[0.8888888888888888,\"#fdca26\"],[1.0,\"#f0f921\"]],\"sequentialminus\":[[0.0,\"#0d0887\"],[0.1111111111111111,\"#46039f\"],[0.2222222222222222,\"#7201a8\"],[0.3333333333333333,\"#9c179e\"],[0.4444444444444444,\"#bd3786\"],[0.5555555555555556,\"#d8576b\"],[0.6666666666666666,\"#ed7953\"],[0.7777777777777778,\"#fb9f3a\"],[0.8888888888888888,\"#fdca26\"],[1.0,\"#f0f921\"]],\"diverging\":[[0,\"#8e0152\"],[0.1,\"#c51b7d\"],[0.2,\"#de77ae\"],[0.3,\"#f1b6da\"],[0.4,\"#fde0ef\"],[0.5,\"#f7f7f7\"],[0.6,\"#e6f5d0\"],[0.7,\"#b8e186\"],[0.8,\"#7fbc41\"],[0.9,\"#4d9221\"],[1,\"#276419\"]]},\"xaxis\":{\"gridcolor\":\"white\",\"linecolor\":\"white\",\"ticks\":\"\",\"title\":{\"standoff\":15},\"zerolinecolor\":\"white\",\"automargin\":true,\"zerolinewidth\":2},\"yaxis\":{\"gridcolor\":\"white\",\"linecolor\":\"white\",\"ticks\":\"\",\"title\":{\"standoff\":15},\"zerolinecolor\":\"white\",\"automargin\":true,\"zerolinewidth\":2},\"scene\":{\"xaxis\":{\"backgroundcolor\":\"#E5ECF6\",\"gridcolor\":\"white\",\"linecolor\":\"white\",\"showbackground\":true,\"ticks\":\"\",\"zerolinecolor\":\"white\",\"gridwidth\":2},\"yaxis\":{\"backgroundcolor\":\"#E5ECF6\",\"gridcolor\":\"white\",\"linecolor\":\"white\",\"showbackground\":true,\"ticks\":\"\",\"zerolinecolor\":\"white\",\"gridwidth\":2},\"zaxis\":{\"backgroundcolor\":\"#E5ECF6\",\"gridcolor\":\"white\",\"linecolor\":\"white\",\"showbackground\":true,\"ticks\":\"\",\"zerolinecolor\":\"white\",\"gridwidth\":2}},\"shapedefaults\":{\"line\":{\"color\":\"#2a3f5f\"}},\"annotationdefaults\":{\"arrowcolor\":\"#2a3f5f\",\"arrowhead\":0,\"arrowwidth\":1},\"geo\":{\"bgcolor\":\"white\",\"landcolor\":\"#E5ECF6\",\"subunitcolor\":\"white\",\"showland\":true,\"showlakes\":true,\"lakecolor\":\"white\"},\"title\":{\"x\":0.05},\"mapbox\":{\"style\":\"light\"}}},\"xaxis\":{\"anchor\":\"y\",\"domain\":[0.0,1.0],\"title\":{\"text\":\"Country\"}},\"yaxis\":{\"anchor\":\"x\",\"domain\":[0.0,1.0],\"title\":{\"text\":\"Count\"}},\"legend\":{\"tracegroupgap\":0},\"title\":{\"text\":\"Top 10 Countries by Movies Produced\"},\"barmode\":\"relative\"},                        {\"responsive\": true}                    ).then(function(){\n",
       "                            \n",
       "var gd = document.getElementById('a49446de-d707-45ac-a811-dbe977ada9e5');\n",
       "var x = new MutationObserver(function (mutations, observer) {{\n",
       "        var display = window.getComputedStyle(gd).display;\n",
       "        if (!display || display === 'none') {{\n",
       "            console.log([gd, 'removed!']);\n",
       "            Plotly.purge(gd);\n",
       "            observer.disconnect();\n",
       "        }}\n",
       "}});\n",
       "\n",
       "// Listen for the removal of the full notebook cells\n",
       "var notebookContainer = gd.closest('#notebook-container');\n",
       "if (notebookContainer) {{\n",
       "    x.observe(notebookContainer, {childList: true});\n",
       "}}\n",
       "\n",
       "// Listen for the clearing of the current output cell\n",
       "var outputEl = gd.closest('.output');\n",
       "if (outputEl) {{\n",
       "    x.observe(outputEl, {childList: true});\n",
       "}}\n",
       "\n",
       "                        })                };                });            </script>        </div>"
      ]
     },
     "metadata": {},
     "output_type": "display_data"
    }
   ],
   "source": [
    "\n",
    "top_10_country = data[data['type'] == 'Movie']['country'].value_counts().head(10)\n",
    "top_10_country_df = top_10_country.reset_index()\n",
    "top_10_country_df.columns = ['Country', 'Count']\n",
    "fig = px.bar(\n",
    "    top_10_country_df, \n",
    "    x='Country', \n",
    "    y='Count', \n",
    "    title='Top 10 Countries by Movies Produced',\n",
    "    text='Count', \n",
    "    \n",
    ")\n",
    "fig.show()\n"
   ]
  },
  {
   "cell_type": "code",
   "execution_count": 94,
   "id": "ee49281c",
   "metadata": {},
   "outputs": [
    {
     "data": {
      "application/vnd.plotly.v1+json": {
       "config": {
        "plotlyServerURL": "https://plot.ly"
       },
       "data": [
        {
         "alignmentgroup": "True",
         "hovertemplate": "Country=%{x}<br>Count=%{text}<extra></extra>",
         "legendgroup": "",
         "marker": {
          "color": "#636efa",
          "pattern": {
           "shape": ""
          }
         },
         "name": "",
         "offsetgroup": "",
         "orientation": "v",
         "showlegend": false,
         "text": [
          760,
          213,
          169,
          159,
          79,
          68,
          59,
          49,
          48,
          48
         ],
         "textposition": "auto",
         "type": "bar",
         "x": [
          "United States",
          "United Kingdom",
          "Japan",
          "South Korea",
          "India",
          "Taiwan",
          "Canada",
          "France",
          "Australia",
          "Spain"
         ],
         "xaxis": "x",
         "y": [
          760,
          213,
          169,
          159,
          79,
          68,
          59,
          49,
          48,
          48
         ],
         "yaxis": "y"
        }
       ],
       "layout": {
        "barmode": "relative",
        "legend": {
         "tracegroupgap": 0
        },
        "template": {
         "data": {
          "bar": [
           {
            "error_x": {
             "color": "#2a3f5f"
            },
            "error_y": {
             "color": "#2a3f5f"
            },
            "marker": {
             "line": {
              "color": "#E5ECF6",
              "width": 0.5
             },
             "pattern": {
              "fillmode": "overlay",
              "size": 10,
              "solidity": 0.2
             }
            },
            "type": "bar"
           }
          ],
          "barpolar": [
           {
            "marker": {
             "line": {
              "color": "#E5ECF6",
              "width": 0.5
             },
             "pattern": {
              "fillmode": "overlay",
              "size": 10,
              "solidity": 0.2
             }
            },
            "type": "barpolar"
           }
          ],
          "carpet": [
           {
            "aaxis": {
             "endlinecolor": "#2a3f5f",
             "gridcolor": "white",
             "linecolor": "white",
             "minorgridcolor": "white",
             "startlinecolor": "#2a3f5f"
            },
            "baxis": {
             "endlinecolor": "#2a3f5f",
             "gridcolor": "white",
             "linecolor": "white",
             "minorgridcolor": "white",
             "startlinecolor": "#2a3f5f"
            },
            "type": "carpet"
           }
          ],
          "choropleth": [
           {
            "colorbar": {
             "outlinewidth": 0,
             "ticks": ""
            },
            "type": "choropleth"
           }
          ],
          "contour": [
           {
            "colorbar": {
             "outlinewidth": 0,
             "ticks": ""
            },
            "colorscale": [
             [
              0,
              "#0d0887"
             ],
             [
              0.1111111111111111,
              "#46039f"
             ],
             [
              0.2222222222222222,
              "#7201a8"
             ],
             [
              0.3333333333333333,
              "#9c179e"
             ],
             [
              0.4444444444444444,
              "#bd3786"
             ],
             [
              0.5555555555555556,
              "#d8576b"
             ],
             [
              0.6666666666666666,
              "#ed7953"
             ],
             [
              0.7777777777777778,
              "#fb9f3a"
             ],
             [
              0.8888888888888888,
              "#fdca26"
             ],
             [
              1,
              "#f0f921"
             ]
            ],
            "type": "contour"
           }
          ],
          "contourcarpet": [
           {
            "colorbar": {
             "outlinewidth": 0,
             "ticks": ""
            },
            "type": "contourcarpet"
           }
          ],
          "heatmap": [
           {
            "colorbar": {
             "outlinewidth": 0,
             "ticks": ""
            },
            "colorscale": [
             [
              0,
              "#0d0887"
             ],
             [
              0.1111111111111111,
              "#46039f"
             ],
             [
              0.2222222222222222,
              "#7201a8"
             ],
             [
              0.3333333333333333,
              "#9c179e"
             ],
             [
              0.4444444444444444,
              "#bd3786"
             ],
             [
              0.5555555555555556,
              "#d8576b"
             ],
             [
              0.6666666666666666,
              "#ed7953"
             ],
             [
              0.7777777777777778,
              "#fb9f3a"
             ],
             [
              0.8888888888888888,
              "#fdca26"
             ],
             [
              1,
              "#f0f921"
             ]
            ],
            "type": "heatmap"
           }
          ],
          "heatmapgl": [
           {
            "colorbar": {
             "outlinewidth": 0,
             "ticks": ""
            },
            "colorscale": [
             [
              0,
              "#0d0887"
             ],
             [
              0.1111111111111111,
              "#46039f"
             ],
             [
              0.2222222222222222,
              "#7201a8"
             ],
             [
              0.3333333333333333,
              "#9c179e"
             ],
             [
              0.4444444444444444,
              "#bd3786"
             ],
             [
              0.5555555555555556,
              "#d8576b"
             ],
             [
              0.6666666666666666,
              "#ed7953"
             ],
             [
              0.7777777777777778,
              "#fb9f3a"
             ],
             [
              0.8888888888888888,
              "#fdca26"
             ],
             [
              1,
              "#f0f921"
             ]
            ],
            "type": "heatmapgl"
           }
          ],
          "histogram": [
           {
            "marker": {
             "pattern": {
              "fillmode": "overlay",
              "size": 10,
              "solidity": 0.2
             }
            },
            "type": "histogram"
           }
          ],
          "histogram2d": [
           {
            "colorbar": {
             "outlinewidth": 0,
             "ticks": ""
            },
            "colorscale": [
             [
              0,
              "#0d0887"
             ],
             [
              0.1111111111111111,
              "#46039f"
             ],
             [
              0.2222222222222222,
              "#7201a8"
             ],
             [
              0.3333333333333333,
              "#9c179e"
             ],
             [
              0.4444444444444444,
              "#bd3786"
             ],
             [
              0.5555555555555556,
              "#d8576b"
             ],
             [
              0.6666666666666666,
              "#ed7953"
             ],
             [
              0.7777777777777778,
              "#fb9f3a"
             ],
             [
              0.8888888888888888,
              "#fdca26"
             ],
             [
              1,
              "#f0f921"
             ]
            ],
            "type": "histogram2d"
           }
          ],
          "histogram2dcontour": [
           {
            "colorbar": {
             "outlinewidth": 0,
             "ticks": ""
            },
            "colorscale": [
             [
              0,
              "#0d0887"
             ],
             [
              0.1111111111111111,
              "#46039f"
             ],
             [
              0.2222222222222222,
              "#7201a8"
             ],
             [
              0.3333333333333333,
              "#9c179e"
             ],
             [
              0.4444444444444444,
              "#bd3786"
             ],
             [
              0.5555555555555556,
              "#d8576b"
             ],
             [
              0.6666666666666666,
              "#ed7953"
             ],
             [
              0.7777777777777778,
              "#fb9f3a"
             ],
             [
              0.8888888888888888,
              "#fdca26"
             ],
             [
              1,
              "#f0f921"
             ]
            ],
            "type": "histogram2dcontour"
           }
          ],
          "mesh3d": [
           {
            "colorbar": {
             "outlinewidth": 0,
             "ticks": ""
            },
            "type": "mesh3d"
           }
          ],
          "parcoords": [
           {
            "line": {
             "colorbar": {
              "outlinewidth": 0,
              "ticks": ""
             }
            },
            "type": "parcoords"
           }
          ],
          "pie": [
           {
            "automargin": true,
            "type": "pie"
           }
          ],
          "scatter": [
           {
            "fillpattern": {
             "fillmode": "overlay",
             "size": 10,
             "solidity": 0.2
            },
            "type": "scatter"
           }
          ],
          "scatter3d": [
           {
            "line": {
             "colorbar": {
              "outlinewidth": 0,
              "ticks": ""
             }
            },
            "marker": {
             "colorbar": {
              "outlinewidth": 0,
              "ticks": ""
             }
            },
            "type": "scatter3d"
           }
          ],
          "scattercarpet": [
           {
            "marker": {
             "colorbar": {
              "outlinewidth": 0,
              "ticks": ""
             }
            },
            "type": "scattercarpet"
           }
          ],
          "scattergeo": [
           {
            "marker": {
             "colorbar": {
              "outlinewidth": 0,
              "ticks": ""
             }
            },
            "type": "scattergeo"
           }
          ],
          "scattergl": [
           {
            "marker": {
             "colorbar": {
              "outlinewidth": 0,
              "ticks": ""
             }
            },
            "type": "scattergl"
           }
          ],
          "scattermapbox": [
           {
            "marker": {
             "colorbar": {
              "outlinewidth": 0,
              "ticks": ""
             }
            },
            "type": "scattermapbox"
           }
          ],
          "scatterpolar": [
           {
            "marker": {
             "colorbar": {
              "outlinewidth": 0,
              "ticks": ""
             }
            },
            "type": "scatterpolar"
           }
          ],
          "scatterpolargl": [
           {
            "marker": {
             "colorbar": {
              "outlinewidth": 0,
              "ticks": ""
             }
            },
            "type": "scatterpolargl"
           }
          ],
          "scatterternary": [
           {
            "marker": {
             "colorbar": {
              "outlinewidth": 0,
              "ticks": ""
             }
            },
            "type": "scatterternary"
           }
          ],
          "surface": [
           {
            "colorbar": {
             "outlinewidth": 0,
             "ticks": ""
            },
            "colorscale": [
             [
              0,
              "#0d0887"
             ],
             [
              0.1111111111111111,
              "#46039f"
             ],
             [
              0.2222222222222222,
              "#7201a8"
             ],
             [
              0.3333333333333333,
              "#9c179e"
             ],
             [
              0.4444444444444444,
              "#bd3786"
             ],
             [
              0.5555555555555556,
              "#d8576b"
             ],
             [
              0.6666666666666666,
              "#ed7953"
             ],
             [
              0.7777777777777778,
              "#fb9f3a"
             ],
             [
              0.8888888888888888,
              "#fdca26"
             ],
             [
              1,
              "#f0f921"
             ]
            ],
            "type": "surface"
           }
          ],
          "table": [
           {
            "cells": {
             "fill": {
              "color": "#EBF0F8"
             },
             "line": {
              "color": "white"
             }
            },
            "header": {
             "fill": {
              "color": "#C8D4E3"
             },
             "line": {
              "color": "white"
             }
            },
            "type": "table"
           }
          ]
         },
         "layout": {
          "annotationdefaults": {
           "arrowcolor": "#2a3f5f",
           "arrowhead": 0,
           "arrowwidth": 1
          },
          "autotypenumbers": "strict",
          "coloraxis": {
           "colorbar": {
            "outlinewidth": 0,
            "ticks": ""
           }
          },
          "colorscale": {
           "diverging": [
            [
             0,
             "#8e0152"
            ],
            [
             0.1,
             "#c51b7d"
            ],
            [
             0.2,
             "#de77ae"
            ],
            [
             0.3,
             "#f1b6da"
            ],
            [
             0.4,
             "#fde0ef"
            ],
            [
             0.5,
             "#f7f7f7"
            ],
            [
             0.6,
             "#e6f5d0"
            ],
            [
             0.7,
             "#b8e186"
            ],
            [
             0.8,
             "#7fbc41"
            ],
            [
             0.9,
             "#4d9221"
            ],
            [
             1,
             "#276419"
            ]
           ],
           "sequential": [
            [
             0,
             "#0d0887"
            ],
            [
             0.1111111111111111,
             "#46039f"
            ],
            [
             0.2222222222222222,
             "#7201a8"
            ],
            [
             0.3333333333333333,
             "#9c179e"
            ],
            [
             0.4444444444444444,
             "#bd3786"
            ],
            [
             0.5555555555555556,
             "#d8576b"
            ],
            [
             0.6666666666666666,
             "#ed7953"
            ],
            [
             0.7777777777777778,
             "#fb9f3a"
            ],
            [
             0.8888888888888888,
             "#fdca26"
            ],
            [
             1,
             "#f0f921"
            ]
           ],
           "sequentialminus": [
            [
             0,
             "#0d0887"
            ],
            [
             0.1111111111111111,
             "#46039f"
            ],
            [
             0.2222222222222222,
             "#7201a8"
            ],
            [
             0.3333333333333333,
             "#9c179e"
            ],
            [
             0.4444444444444444,
             "#bd3786"
            ],
            [
             0.5555555555555556,
             "#d8576b"
            ],
            [
             0.6666666666666666,
             "#ed7953"
            ],
            [
             0.7777777777777778,
             "#fb9f3a"
            ],
            [
             0.8888888888888888,
             "#fdca26"
            ],
            [
             1,
             "#f0f921"
            ]
           ]
          },
          "colorway": [
           "#636efa",
           "#EF553B",
           "#00cc96",
           "#ab63fa",
           "#FFA15A",
           "#19d3f3",
           "#FF6692",
           "#B6E880",
           "#FF97FF",
           "#FECB52"
          ],
          "font": {
           "color": "#2a3f5f"
          },
          "geo": {
           "bgcolor": "white",
           "lakecolor": "white",
           "landcolor": "#E5ECF6",
           "showlakes": true,
           "showland": true,
           "subunitcolor": "white"
          },
          "hoverlabel": {
           "align": "left"
          },
          "hovermode": "closest",
          "mapbox": {
           "style": "light"
          },
          "paper_bgcolor": "white",
          "plot_bgcolor": "#E5ECF6",
          "polar": {
           "angularaxis": {
            "gridcolor": "white",
            "linecolor": "white",
            "ticks": ""
           },
           "bgcolor": "#E5ECF6",
           "radialaxis": {
            "gridcolor": "white",
            "linecolor": "white",
            "ticks": ""
           }
          },
          "scene": {
           "xaxis": {
            "backgroundcolor": "#E5ECF6",
            "gridcolor": "white",
            "gridwidth": 2,
            "linecolor": "white",
            "showbackground": true,
            "ticks": "",
            "zerolinecolor": "white"
           },
           "yaxis": {
            "backgroundcolor": "#E5ECF6",
            "gridcolor": "white",
            "gridwidth": 2,
            "linecolor": "white",
            "showbackground": true,
            "ticks": "",
            "zerolinecolor": "white"
           },
           "zaxis": {
            "backgroundcolor": "#E5ECF6",
            "gridcolor": "white",
            "gridwidth": 2,
            "linecolor": "white",
            "showbackground": true,
            "ticks": "",
            "zerolinecolor": "white"
           }
          },
          "shapedefaults": {
           "line": {
            "color": "#2a3f5f"
           }
          },
          "ternary": {
           "aaxis": {
            "gridcolor": "white",
            "linecolor": "white",
            "ticks": ""
           },
           "baxis": {
            "gridcolor": "white",
            "linecolor": "white",
            "ticks": ""
           },
           "bgcolor": "#E5ECF6",
           "caxis": {
            "gridcolor": "white",
            "linecolor": "white",
            "ticks": ""
           }
          },
          "title": {
           "x": 0.05
          },
          "xaxis": {
           "automargin": true,
           "gridcolor": "white",
           "linecolor": "white",
           "ticks": "",
           "title": {
            "standoff": 15
           },
           "zerolinecolor": "white",
           "zerolinewidth": 2
          },
          "yaxis": {
           "automargin": true,
           "gridcolor": "white",
           "linecolor": "white",
           "ticks": "",
           "title": {
            "standoff": 15
           },
           "zerolinecolor": "white",
           "zerolinewidth": 2
          }
         }
        },
        "title": {
         "text": "Top 10 Countries by TV Produced"
        },
        "xaxis": {
         "anchor": "y",
         "domain": [
          0,
          1
         ],
         "title": {
          "text": "Country"
         }
        },
        "yaxis": {
         "anchor": "x",
         "domain": [
          0,
          1
         ],
         "title": {
          "text": "Count"
         }
        }
       }
      },
      "text/html": [
       "<div>                            <div id=\"f7a569d9-7380-4369-bf3b-634e38e1cd10\" class=\"plotly-graph-div\" style=\"height:525px; width:100%;\"></div>            <script type=\"text/javascript\">                require([\"plotly\"], function(Plotly) {                    window.PLOTLYENV=window.PLOTLYENV || {};                                    if (document.getElementById(\"f7a569d9-7380-4369-bf3b-634e38e1cd10\")) {                    Plotly.newPlot(                        \"f7a569d9-7380-4369-bf3b-634e38e1cd10\",                        [{\"alignmentgroup\":\"True\",\"hovertemplate\":\"Country=%{x}<br>Count=%{text}<extra></extra>\",\"legendgroup\":\"\",\"marker\":{\"color\":\"#636efa\",\"pattern\":{\"shape\":\"\"}},\"name\":\"\",\"offsetgroup\":\"\",\"orientation\":\"v\",\"showlegend\":false,\"text\":[760.0,213.0,169.0,159.0,79.0,68.0,59.0,49.0,48.0,48.0],\"textposition\":\"auto\",\"x\":[\"United States\",\"United Kingdom\",\"Japan\",\"South Korea\",\"India\",\"Taiwan\",\"Canada\",\"France\",\"Australia\",\"Spain\"],\"xaxis\":\"x\",\"y\":[760,213,169,159,79,68,59,49,48,48],\"yaxis\":\"y\",\"type\":\"bar\"}],                        {\"template\":{\"data\":{\"histogram2dcontour\":[{\"type\":\"histogram2dcontour\",\"colorbar\":{\"outlinewidth\":0,\"ticks\":\"\"},\"colorscale\":[[0.0,\"#0d0887\"],[0.1111111111111111,\"#46039f\"],[0.2222222222222222,\"#7201a8\"],[0.3333333333333333,\"#9c179e\"],[0.4444444444444444,\"#bd3786\"],[0.5555555555555556,\"#d8576b\"],[0.6666666666666666,\"#ed7953\"],[0.7777777777777778,\"#fb9f3a\"],[0.8888888888888888,\"#fdca26\"],[1.0,\"#f0f921\"]]}],\"choropleth\":[{\"type\":\"choropleth\",\"colorbar\":{\"outlinewidth\":0,\"ticks\":\"\"}}],\"histogram2d\":[{\"type\":\"histogram2d\",\"colorbar\":{\"outlinewidth\":0,\"ticks\":\"\"},\"colorscale\":[[0.0,\"#0d0887\"],[0.1111111111111111,\"#46039f\"],[0.2222222222222222,\"#7201a8\"],[0.3333333333333333,\"#9c179e\"],[0.4444444444444444,\"#bd3786\"],[0.5555555555555556,\"#d8576b\"],[0.6666666666666666,\"#ed7953\"],[0.7777777777777778,\"#fb9f3a\"],[0.8888888888888888,\"#fdca26\"],[1.0,\"#f0f921\"]]}],\"heatmap\":[{\"type\":\"heatmap\",\"colorbar\":{\"outlinewidth\":0,\"ticks\":\"\"},\"colorscale\":[[0.0,\"#0d0887\"],[0.1111111111111111,\"#46039f\"],[0.2222222222222222,\"#7201a8\"],[0.3333333333333333,\"#9c179e\"],[0.4444444444444444,\"#bd3786\"],[0.5555555555555556,\"#d8576b\"],[0.6666666666666666,\"#ed7953\"],[0.7777777777777778,\"#fb9f3a\"],[0.8888888888888888,\"#fdca26\"],[1.0,\"#f0f921\"]]}],\"heatmapgl\":[{\"type\":\"heatmapgl\",\"colorbar\":{\"outlinewidth\":0,\"ticks\":\"\"},\"colorscale\":[[0.0,\"#0d0887\"],[0.1111111111111111,\"#46039f\"],[0.2222222222222222,\"#7201a8\"],[0.3333333333333333,\"#9c179e\"],[0.4444444444444444,\"#bd3786\"],[0.5555555555555556,\"#d8576b\"],[0.6666666666666666,\"#ed7953\"],[0.7777777777777778,\"#fb9f3a\"],[0.8888888888888888,\"#fdca26\"],[1.0,\"#f0f921\"]]}],\"contourcarpet\":[{\"type\":\"contourcarpet\",\"colorbar\":{\"outlinewidth\":0,\"ticks\":\"\"}}],\"contour\":[{\"type\":\"contour\",\"colorbar\":{\"outlinewidth\":0,\"ticks\":\"\"},\"colorscale\":[[0.0,\"#0d0887\"],[0.1111111111111111,\"#46039f\"],[0.2222222222222222,\"#7201a8\"],[0.3333333333333333,\"#9c179e\"],[0.4444444444444444,\"#bd3786\"],[0.5555555555555556,\"#d8576b\"],[0.6666666666666666,\"#ed7953\"],[0.7777777777777778,\"#fb9f3a\"],[0.8888888888888888,\"#fdca26\"],[1.0,\"#f0f921\"]]}],\"surface\":[{\"type\":\"surface\",\"colorbar\":{\"outlinewidth\":0,\"ticks\":\"\"},\"colorscale\":[[0.0,\"#0d0887\"],[0.1111111111111111,\"#46039f\"],[0.2222222222222222,\"#7201a8\"],[0.3333333333333333,\"#9c179e\"],[0.4444444444444444,\"#bd3786\"],[0.5555555555555556,\"#d8576b\"],[0.6666666666666666,\"#ed7953\"],[0.7777777777777778,\"#fb9f3a\"],[0.8888888888888888,\"#fdca26\"],[1.0,\"#f0f921\"]]}],\"mesh3d\":[{\"type\":\"mesh3d\",\"colorbar\":{\"outlinewidth\":0,\"ticks\":\"\"}}],\"scatter\":[{\"fillpattern\":{\"fillmode\":\"overlay\",\"size\":10,\"solidity\":0.2},\"type\":\"scatter\"}],\"parcoords\":[{\"type\":\"parcoords\",\"line\":{\"colorbar\":{\"outlinewidth\":0,\"ticks\":\"\"}}}],\"scatterpolargl\":[{\"type\":\"scatterpolargl\",\"marker\":{\"colorbar\":{\"outlinewidth\":0,\"ticks\":\"\"}}}],\"bar\":[{\"error_x\":{\"color\":\"#2a3f5f\"},\"error_y\":{\"color\":\"#2a3f5f\"},\"marker\":{\"line\":{\"color\":\"#E5ECF6\",\"width\":0.5},\"pattern\":{\"fillmode\":\"overlay\",\"size\":10,\"solidity\":0.2}},\"type\":\"bar\"}],\"scattergeo\":[{\"type\":\"scattergeo\",\"marker\":{\"colorbar\":{\"outlinewidth\":0,\"ticks\":\"\"}}}],\"scatterpolar\":[{\"type\":\"scatterpolar\",\"marker\":{\"colorbar\":{\"outlinewidth\":0,\"ticks\":\"\"}}}],\"histogram\":[{\"marker\":{\"pattern\":{\"fillmode\":\"overlay\",\"size\":10,\"solidity\":0.2}},\"type\":\"histogram\"}],\"scattergl\":[{\"type\":\"scattergl\",\"marker\":{\"colorbar\":{\"outlinewidth\":0,\"ticks\":\"\"}}}],\"scatter3d\":[{\"type\":\"scatter3d\",\"line\":{\"colorbar\":{\"outlinewidth\":0,\"ticks\":\"\"}},\"marker\":{\"colorbar\":{\"outlinewidth\":0,\"ticks\":\"\"}}}],\"scattermapbox\":[{\"type\":\"scattermapbox\",\"marker\":{\"colorbar\":{\"outlinewidth\":0,\"ticks\":\"\"}}}],\"scatterternary\":[{\"type\":\"scatterternary\",\"marker\":{\"colorbar\":{\"outlinewidth\":0,\"ticks\":\"\"}}}],\"scattercarpet\":[{\"type\":\"scattercarpet\",\"marker\":{\"colorbar\":{\"outlinewidth\":0,\"ticks\":\"\"}}}],\"carpet\":[{\"aaxis\":{\"endlinecolor\":\"#2a3f5f\",\"gridcolor\":\"white\",\"linecolor\":\"white\",\"minorgridcolor\":\"white\",\"startlinecolor\":\"#2a3f5f\"},\"baxis\":{\"endlinecolor\":\"#2a3f5f\",\"gridcolor\":\"white\",\"linecolor\":\"white\",\"minorgridcolor\":\"white\",\"startlinecolor\":\"#2a3f5f\"},\"type\":\"carpet\"}],\"table\":[{\"cells\":{\"fill\":{\"color\":\"#EBF0F8\"},\"line\":{\"color\":\"white\"}},\"header\":{\"fill\":{\"color\":\"#C8D4E3\"},\"line\":{\"color\":\"white\"}},\"type\":\"table\"}],\"barpolar\":[{\"marker\":{\"line\":{\"color\":\"#E5ECF6\",\"width\":0.5},\"pattern\":{\"fillmode\":\"overlay\",\"size\":10,\"solidity\":0.2}},\"type\":\"barpolar\"}],\"pie\":[{\"automargin\":true,\"type\":\"pie\"}]},\"layout\":{\"autotypenumbers\":\"strict\",\"colorway\":[\"#636efa\",\"#EF553B\",\"#00cc96\",\"#ab63fa\",\"#FFA15A\",\"#19d3f3\",\"#FF6692\",\"#B6E880\",\"#FF97FF\",\"#FECB52\"],\"font\":{\"color\":\"#2a3f5f\"},\"hovermode\":\"closest\",\"hoverlabel\":{\"align\":\"left\"},\"paper_bgcolor\":\"white\",\"plot_bgcolor\":\"#E5ECF6\",\"polar\":{\"bgcolor\":\"#E5ECF6\",\"angularaxis\":{\"gridcolor\":\"white\",\"linecolor\":\"white\",\"ticks\":\"\"},\"radialaxis\":{\"gridcolor\":\"white\",\"linecolor\":\"white\",\"ticks\":\"\"}},\"ternary\":{\"bgcolor\":\"#E5ECF6\",\"aaxis\":{\"gridcolor\":\"white\",\"linecolor\":\"white\",\"ticks\":\"\"},\"baxis\":{\"gridcolor\":\"white\",\"linecolor\":\"white\",\"ticks\":\"\"},\"caxis\":{\"gridcolor\":\"white\",\"linecolor\":\"white\",\"ticks\":\"\"}},\"coloraxis\":{\"colorbar\":{\"outlinewidth\":0,\"ticks\":\"\"}},\"colorscale\":{\"sequential\":[[0.0,\"#0d0887\"],[0.1111111111111111,\"#46039f\"],[0.2222222222222222,\"#7201a8\"],[0.3333333333333333,\"#9c179e\"],[0.4444444444444444,\"#bd3786\"],[0.5555555555555556,\"#d8576b\"],[0.6666666666666666,\"#ed7953\"],[0.7777777777777778,\"#fb9f3a\"],[0.8888888888888888,\"#fdca26\"],[1.0,\"#f0f921\"]],\"sequentialminus\":[[0.0,\"#0d0887\"],[0.1111111111111111,\"#46039f\"],[0.2222222222222222,\"#7201a8\"],[0.3333333333333333,\"#9c179e\"],[0.4444444444444444,\"#bd3786\"],[0.5555555555555556,\"#d8576b\"],[0.6666666666666666,\"#ed7953\"],[0.7777777777777778,\"#fb9f3a\"],[0.8888888888888888,\"#fdca26\"],[1.0,\"#f0f921\"]],\"diverging\":[[0,\"#8e0152\"],[0.1,\"#c51b7d\"],[0.2,\"#de77ae\"],[0.3,\"#f1b6da\"],[0.4,\"#fde0ef\"],[0.5,\"#f7f7f7\"],[0.6,\"#e6f5d0\"],[0.7,\"#b8e186\"],[0.8,\"#7fbc41\"],[0.9,\"#4d9221\"],[1,\"#276419\"]]},\"xaxis\":{\"gridcolor\":\"white\",\"linecolor\":\"white\",\"ticks\":\"\",\"title\":{\"standoff\":15},\"zerolinecolor\":\"white\",\"automargin\":true,\"zerolinewidth\":2},\"yaxis\":{\"gridcolor\":\"white\",\"linecolor\":\"white\",\"ticks\":\"\",\"title\":{\"standoff\":15},\"zerolinecolor\":\"white\",\"automargin\":true,\"zerolinewidth\":2},\"scene\":{\"xaxis\":{\"backgroundcolor\":\"#E5ECF6\",\"gridcolor\":\"white\",\"linecolor\":\"white\",\"showbackground\":true,\"ticks\":\"\",\"zerolinecolor\":\"white\",\"gridwidth\":2},\"yaxis\":{\"backgroundcolor\":\"#E5ECF6\",\"gridcolor\":\"white\",\"linecolor\":\"white\",\"showbackground\":true,\"ticks\":\"\",\"zerolinecolor\":\"white\",\"gridwidth\":2},\"zaxis\":{\"backgroundcolor\":\"#E5ECF6\",\"gridcolor\":\"white\",\"linecolor\":\"white\",\"showbackground\":true,\"ticks\":\"\",\"zerolinecolor\":\"white\",\"gridwidth\":2}},\"shapedefaults\":{\"line\":{\"color\":\"#2a3f5f\"}},\"annotationdefaults\":{\"arrowcolor\":\"#2a3f5f\",\"arrowhead\":0,\"arrowwidth\":1},\"geo\":{\"bgcolor\":\"white\",\"landcolor\":\"#E5ECF6\",\"subunitcolor\":\"white\",\"showland\":true,\"showlakes\":true,\"lakecolor\":\"white\"},\"title\":{\"x\":0.05},\"mapbox\":{\"style\":\"light\"}}},\"xaxis\":{\"anchor\":\"y\",\"domain\":[0.0,1.0],\"title\":{\"text\":\"Country\"}},\"yaxis\":{\"anchor\":\"x\",\"domain\":[0.0,1.0],\"title\":{\"text\":\"Count\"}},\"legend\":{\"tracegroupgap\":0},\"title\":{\"text\":\"Top 10 Countries by TV Produced\"},\"barmode\":\"relative\"},                        {\"responsive\": true}                    ).then(function(){\n",
       "                            \n",
       "var gd = document.getElementById('f7a569d9-7380-4369-bf3b-634e38e1cd10');\n",
       "var x = new MutationObserver(function (mutations, observer) {{\n",
       "        var display = window.getComputedStyle(gd).display;\n",
       "        if (!display || display === 'none') {{\n",
       "            console.log([gd, 'removed!']);\n",
       "            Plotly.purge(gd);\n",
       "            observer.disconnect();\n",
       "        }}\n",
       "}});\n",
       "\n",
       "// Listen for the removal of the full notebook cells\n",
       "var notebookContainer = gd.closest('#notebook-container');\n",
       "if (notebookContainer) {{\n",
       "    x.observe(notebookContainer, {childList: true});\n",
       "}}\n",
       "\n",
       "// Listen for the clearing of the current output cell\n",
       "var outputEl = gd.closest('.output');\n",
       "if (outputEl) {{\n",
       "    x.observe(outputEl, {childList: true});\n",
       "}}\n",
       "\n",
       "                        })                };                });            </script>        </div>"
      ]
     },
     "metadata": {},
     "output_type": "display_data"
    }
   ],
   "source": [
    "\n",
    "top_10_country = data[data['type'] == 'TV Show']['country'].value_counts().head(10)\n",
    "top_10_country_df = top_10_country.reset_index()\n",
    "top_10_country_df.columns = ['Country', 'Count']\n",
    "fig = px.bar(\n",
    "    top_10_country_df, \n",
    "    x='Country', \n",
    "    y='Count', \n",
    "    title='Top 10 Countries by TV Produced',\n",
    "    text='Count', \n",
    "   \n",
    ")\n",
    "\n",
    "fig.show()\n"
   ]
  },
  {
   "cell_type": "code",
   "execution_count": 40,
   "id": "e3ce0e0d",
   "metadata": {},
   "outputs": [
    {
     "name": "stdout",
     "output_type": "stream",
     "text": [
      "country\n",
      "United States                             2819\n",
      "India                                      972\n",
      "United Kingdom                             419\n",
      "Japan                                      245\n",
      "South Korea                                200\n",
      "                                          ... \n",
      "Romania, Bulgaria, Hungary                   1\n",
      "Uruguay, Guatemala                           1\n",
      "France, Senegal, Belgium                     1\n",
      "Mexico, United States, Spain, Colombia       1\n",
      "United Arab Emirates, Jordan                 1\n",
      "Name: count, Length: 748, dtype: int64\n"
     ]
    }
   ],
   "source": [
    "country_count = data['country'].value_counts()\n",
    "print(country_count)"
   ]
  },
  {
   "cell_type": "code",
   "execution_count": 57,
   "id": "9283ecd3",
   "metadata": {},
   "outputs": [
    {
     "data": {
      "application/vnd.plotly.v1+json": {
       "config": {
        "plotlyServerURL": "https://plot.ly"
       },
       "data": [
        {
         "alignmentgroup": "True",
         "hovertemplate": "variable=count<br>country=%{x}<br>value=%{y}<extra></extra>",
         "legendgroup": "count",
         "marker": {
          "color": "#636efa",
          "pattern": {
           "shape": ""
          }
         },
         "name": "count",
         "offsetgroup": "count",
         "orientation": "v",
         "showlegend": true,
         "textposition": "auto",
         "texttemplate": "%{y}",
         "type": "bar",
         "x": [
          "United States",
          "India",
          "United Kingdom",
          "Japan",
          "South Korea",
          "Canada",
          "Spain",
          "France",
          "Mexico",
          "Egypt"
         ],
         "xaxis": "x",
         "y": [
          2819,
          972,
          419,
          245,
          200,
          181,
          145,
          124,
          110,
          106
         ],
         "yaxis": "y"
        }
       ],
       "layout": {
        "barmode": "relative",
        "legend": {
         "title": {
          "text": "variable"
         },
         "tracegroupgap": 0
        },
        "template": {
         "data": {
          "bar": [
           {
            "error_x": {
             "color": "#2a3f5f"
            },
            "error_y": {
             "color": "#2a3f5f"
            },
            "marker": {
             "line": {
              "color": "#E5ECF6",
              "width": 0.5
             },
             "pattern": {
              "fillmode": "overlay",
              "size": 10,
              "solidity": 0.2
             }
            },
            "type": "bar"
           }
          ],
          "barpolar": [
           {
            "marker": {
             "line": {
              "color": "#E5ECF6",
              "width": 0.5
             },
             "pattern": {
              "fillmode": "overlay",
              "size": 10,
              "solidity": 0.2
             }
            },
            "type": "barpolar"
           }
          ],
          "carpet": [
           {
            "aaxis": {
             "endlinecolor": "#2a3f5f",
             "gridcolor": "white",
             "linecolor": "white",
             "minorgridcolor": "white",
             "startlinecolor": "#2a3f5f"
            },
            "baxis": {
             "endlinecolor": "#2a3f5f",
             "gridcolor": "white",
             "linecolor": "white",
             "minorgridcolor": "white",
             "startlinecolor": "#2a3f5f"
            },
            "type": "carpet"
           }
          ],
          "choropleth": [
           {
            "colorbar": {
             "outlinewidth": 0,
             "ticks": ""
            },
            "type": "choropleth"
           }
          ],
          "contour": [
           {
            "colorbar": {
             "outlinewidth": 0,
             "ticks": ""
            },
            "colorscale": [
             [
              0,
              "#0d0887"
             ],
             [
              0.1111111111111111,
              "#46039f"
             ],
             [
              0.2222222222222222,
              "#7201a8"
             ],
             [
              0.3333333333333333,
              "#9c179e"
             ],
             [
              0.4444444444444444,
              "#bd3786"
             ],
             [
              0.5555555555555556,
              "#d8576b"
             ],
             [
              0.6666666666666666,
              "#ed7953"
             ],
             [
              0.7777777777777778,
              "#fb9f3a"
             ],
             [
              0.8888888888888888,
              "#fdca26"
             ],
             [
              1,
              "#f0f921"
             ]
            ],
            "type": "contour"
           }
          ],
          "contourcarpet": [
           {
            "colorbar": {
             "outlinewidth": 0,
             "ticks": ""
            },
            "type": "contourcarpet"
           }
          ],
          "heatmap": [
           {
            "colorbar": {
             "outlinewidth": 0,
             "ticks": ""
            },
            "colorscale": [
             [
              0,
              "#0d0887"
             ],
             [
              0.1111111111111111,
              "#46039f"
             ],
             [
              0.2222222222222222,
              "#7201a8"
             ],
             [
              0.3333333333333333,
              "#9c179e"
             ],
             [
              0.4444444444444444,
              "#bd3786"
             ],
             [
              0.5555555555555556,
              "#d8576b"
             ],
             [
              0.6666666666666666,
              "#ed7953"
             ],
             [
              0.7777777777777778,
              "#fb9f3a"
             ],
             [
              0.8888888888888888,
              "#fdca26"
             ],
             [
              1,
              "#f0f921"
             ]
            ],
            "type": "heatmap"
           }
          ],
          "heatmapgl": [
           {
            "colorbar": {
             "outlinewidth": 0,
             "ticks": ""
            },
            "colorscale": [
             [
              0,
              "#0d0887"
             ],
             [
              0.1111111111111111,
              "#46039f"
             ],
             [
              0.2222222222222222,
              "#7201a8"
             ],
             [
              0.3333333333333333,
              "#9c179e"
             ],
             [
              0.4444444444444444,
              "#bd3786"
             ],
             [
              0.5555555555555556,
              "#d8576b"
             ],
             [
              0.6666666666666666,
              "#ed7953"
             ],
             [
              0.7777777777777778,
              "#fb9f3a"
             ],
             [
              0.8888888888888888,
              "#fdca26"
             ],
             [
              1,
              "#f0f921"
             ]
            ],
            "type": "heatmapgl"
           }
          ],
          "histogram": [
           {
            "marker": {
             "pattern": {
              "fillmode": "overlay",
              "size": 10,
              "solidity": 0.2
             }
            },
            "type": "histogram"
           }
          ],
          "histogram2d": [
           {
            "colorbar": {
             "outlinewidth": 0,
             "ticks": ""
            },
            "colorscale": [
             [
              0,
              "#0d0887"
             ],
             [
              0.1111111111111111,
              "#46039f"
             ],
             [
              0.2222222222222222,
              "#7201a8"
             ],
             [
              0.3333333333333333,
              "#9c179e"
             ],
             [
              0.4444444444444444,
              "#bd3786"
             ],
             [
              0.5555555555555556,
              "#d8576b"
             ],
             [
              0.6666666666666666,
              "#ed7953"
             ],
             [
              0.7777777777777778,
              "#fb9f3a"
             ],
             [
              0.8888888888888888,
              "#fdca26"
             ],
             [
              1,
              "#f0f921"
             ]
            ],
            "type": "histogram2d"
           }
          ],
          "histogram2dcontour": [
           {
            "colorbar": {
             "outlinewidth": 0,
             "ticks": ""
            },
            "colorscale": [
             [
              0,
              "#0d0887"
             ],
             [
              0.1111111111111111,
              "#46039f"
             ],
             [
              0.2222222222222222,
              "#7201a8"
             ],
             [
              0.3333333333333333,
              "#9c179e"
             ],
             [
              0.4444444444444444,
              "#bd3786"
             ],
             [
              0.5555555555555556,
              "#d8576b"
             ],
             [
              0.6666666666666666,
              "#ed7953"
             ],
             [
              0.7777777777777778,
              "#fb9f3a"
             ],
             [
              0.8888888888888888,
              "#fdca26"
             ],
             [
              1,
              "#f0f921"
             ]
            ],
            "type": "histogram2dcontour"
           }
          ],
          "mesh3d": [
           {
            "colorbar": {
             "outlinewidth": 0,
             "ticks": ""
            },
            "type": "mesh3d"
           }
          ],
          "parcoords": [
           {
            "line": {
             "colorbar": {
              "outlinewidth": 0,
              "ticks": ""
             }
            },
            "type": "parcoords"
           }
          ],
          "pie": [
           {
            "automargin": true,
            "type": "pie"
           }
          ],
          "scatter": [
           {
            "fillpattern": {
             "fillmode": "overlay",
             "size": 10,
             "solidity": 0.2
            },
            "type": "scatter"
           }
          ],
          "scatter3d": [
           {
            "line": {
             "colorbar": {
              "outlinewidth": 0,
              "ticks": ""
             }
            },
            "marker": {
             "colorbar": {
              "outlinewidth": 0,
              "ticks": ""
             }
            },
            "type": "scatter3d"
           }
          ],
          "scattercarpet": [
           {
            "marker": {
             "colorbar": {
              "outlinewidth": 0,
              "ticks": ""
             }
            },
            "type": "scattercarpet"
           }
          ],
          "scattergeo": [
           {
            "marker": {
             "colorbar": {
              "outlinewidth": 0,
              "ticks": ""
             }
            },
            "type": "scattergeo"
           }
          ],
          "scattergl": [
           {
            "marker": {
             "colorbar": {
              "outlinewidth": 0,
              "ticks": ""
             }
            },
            "type": "scattergl"
           }
          ],
          "scattermapbox": [
           {
            "marker": {
             "colorbar": {
              "outlinewidth": 0,
              "ticks": ""
             }
            },
            "type": "scattermapbox"
           }
          ],
          "scatterpolar": [
           {
            "marker": {
             "colorbar": {
              "outlinewidth": 0,
              "ticks": ""
             }
            },
            "type": "scatterpolar"
           }
          ],
          "scatterpolargl": [
           {
            "marker": {
             "colorbar": {
              "outlinewidth": 0,
              "ticks": ""
             }
            },
            "type": "scatterpolargl"
           }
          ],
          "scatterternary": [
           {
            "marker": {
             "colorbar": {
              "outlinewidth": 0,
              "ticks": ""
             }
            },
            "type": "scatterternary"
           }
          ],
          "surface": [
           {
            "colorbar": {
             "outlinewidth": 0,
             "ticks": ""
            },
            "colorscale": [
             [
              0,
              "#0d0887"
             ],
             [
              0.1111111111111111,
              "#46039f"
             ],
             [
              0.2222222222222222,
              "#7201a8"
             ],
             [
              0.3333333333333333,
              "#9c179e"
             ],
             [
              0.4444444444444444,
              "#bd3786"
             ],
             [
              0.5555555555555556,
              "#d8576b"
             ],
             [
              0.6666666666666666,
              "#ed7953"
             ],
             [
              0.7777777777777778,
              "#fb9f3a"
             ],
             [
              0.8888888888888888,
              "#fdca26"
             ],
             [
              1,
              "#f0f921"
             ]
            ],
            "type": "surface"
           }
          ],
          "table": [
           {
            "cells": {
             "fill": {
              "color": "#EBF0F8"
             },
             "line": {
              "color": "white"
             }
            },
            "header": {
             "fill": {
              "color": "#C8D4E3"
             },
             "line": {
              "color": "white"
             }
            },
            "type": "table"
           }
          ]
         },
         "layout": {
          "annotationdefaults": {
           "arrowcolor": "#2a3f5f",
           "arrowhead": 0,
           "arrowwidth": 1
          },
          "autotypenumbers": "strict",
          "coloraxis": {
           "colorbar": {
            "outlinewidth": 0,
            "ticks": ""
           }
          },
          "colorscale": {
           "diverging": [
            [
             0,
             "#8e0152"
            ],
            [
             0.1,
             "#c51b7d"
            ],
            [
             0.2,
             "#de77ae"
            ],
            [
             0.3,
             "#f1b6da"
            ],
            [
             0.4,
             "#fde0ef"
            ],
            [
             0.5,
             "#f7f7f7"
            ],
            [
             0.6,
             "#e6f5d0"
            ],
            [
             0.7,
             "#b8e186"
            ],
            [
             0.8,
             "#7fbc41"
            ],
            [
             0.9,
             "#4d9221"
            ],
            [
             1,
             "#276419"
            ]
           ],
           "sequential": [
            [
             0,
             "#0d0887"
            ],
            [
             0.1111111111111111,
             "#46039f"
            ],
            [
             0.2222222222222222,
             "#7201a8"
            ],
            [
             0.3333333333333333,
             "#9c179e"
            ],
            [
             0.4444444444444444,
             "#bd3786"
            ],
            [
             0.5555555555555556,
             "#d8576b"
            ],
            [
             0.6666666666666666,
             "#ed7953"
            ],
            [
             0.7777777777777778,
             "#fb9f3a"
            ],
            [
             0.8888888888888888,
             "#fdca26"
            ],
            [
             1,
             "#f0f921"
            ]
           ],
           "sequentialminus": [
            [
             0,
             "#0d0887"
            ],
            [
             0.1111111111111111,
             "#46039f"
            ],
            [
             0.2222222222222222,
             "#7201a8"
            ],
            [
             0.3333333333333333,
             "#9c179e"
            ],
            [
             0.4444444444444444,
             "#bd3786"
            ],
            [
             0.5555555555555556,
             "#d8576b"
            ],
            [
             0.6666666666666666,
             "#ed7953"
            ],
            [
             0.7777777777777778,
             "#fb9f3a"
            ],
            [
             0.8888888888888888,
             "#fdca26"
            ],
            [
             1,
             "#f0f921"
            ]
           ]
          },
          "colorway": [
           "#636efa",
           "#EF553B",
           "#00cc96",
           "#ab63fa",
           "#FFA15A",
           "#19d3f3",
           "#FF6692",
           "#B6E880",
           "#FF97FF",
           "#FECB52"
          ],
          "font": {
           "color": "#2a3f5f"
          },
          "geo": {
           "bgcolor": "white",
           "lakecolor": "white",
           "landcolor": "#E5ECF6",
           "showlakes": true,
           "showland": true,
           "subunitcolor": "white"
          },
          "hoverlabel": {
           "align": "left"
          },
          "hovermode": "closest",
          "mapbox": {
           "style": "light"
          },
          "paper_bgcolor": "white",
          "plot_bgcolor": "#E5ECF6",
          "polar": {
           "angularaxis": {
            "gridcolor": "white",
            "linecolor": "white",
            "ticks": ""
           },
           "bgcolor": "#E5ECF6",
           "radialaxis": {
            "gridcolor": "white",
            "linecolor": "white",
            "ticks": ""
           }
          },
          "scene": {
           "xaxis": {
            "backgroundcolor": "#E5ECF6",
            "gridcolor": "white",
            "gridwidth": 2,
            "linecolor": "white",
            "showbackground": true,
            "ticks": "",
            "zerolinecolor": "white"
           },
           "yaxis": {
            "backgroundcolor": "#E5ECF6",
            "gridcolor": "white",
            "gridwidth": 2,
            "linecolor": "white",
            "showbackground": true,
            "ticks": "",
            "zerolinecolor": "white"
           },
           "zaxis": {
            "backgroundcolor": "#E5ECF6",
            "gridcolor": "white",
            "gridwidth": 2,
            "linecolor": "white",
            "showbackground": true,
            "ticks": "",
            "zerolinecolor": "white"
           }
          },
          "shapedefaults": {
           "line": {
            "color": "#2a3f5f"
           }
          },
          "ternary": {
           "aaxis": {
            "gridcolor": "white",
            "linecolor": "white",
            "ticks": ""
           },
           "baxis": {
            "gridcolor": "white",
            "linecolor": "white",
            "ticks": ""
           },
           "bgcolor": "#E5ECF6",
           "caxis": {
            "gridcolor": "white",
            "linecolor": "white",
            "ticks": ""
           }
          },
          "title": {
           "x": 0.05
          },
          "xaxis": {
           "automargin": true,
           "gridcolor": "white",
           "linecolor": "white",
           "ticks": "",
           "title": {
            "standoff": 15
           },
           "zerolinecolor": "white",
           "zerolinewidth": 2
          },
          "yaxis": {
           "automargin": true,
           "gridcolor": "white",
           "linecolor": "white",
           "ticks": "",
           "title": {
            "standoff": 15
           },
           "zerolinecolor": "white",
           "zerolinewidth": 2
          }
         }
        },
        "title": {
         "text": "Top 10 Distribution Movies Country"
        },
        "xaxis": {
         "anchor": "y",
         "domain": [
          0,
          1
         ],
         "title": {
          "text": "country"
         }
        },
        "yaxis": {
         "anchor": "x",
         "domain": [
          0,
          1
         ],
         "title": {
          "text": "value"
         }
        }
       }
      },
      "text/html": [
       "<div>                            <div id=\"62662d34-cc50-464f-8797-294c2b0a0037\" class=\"plotly-graph-div\" style=\"height:525px; width:100%;\"></div>            <script type=\"text/javascript\">                require([\"plotly\"], function(Plotly) {                    window.PLOTLYENV=window.PLOTLYENV || {};                                    if (document.getElementById(\"62662d34-cc50-464f-8797-294c2b0a0037\")) {                    Plotly.newPlot(                        \"62662d34-cc50-464f-8797-294c2b0a0037\",                        [{\"alignmentgroup\":\"True\",\"hovertemplate\":\"variable=count<br>country=%{x}<br>value=%{y}<extra></extra>\",\"legendgroup\":\"count\",\"marker\":{\"color\":\"#636efa\",\"pattern\":{\"shape\":\"\"}},\"name\":\"count\",\"offsetgroup\":\"count\",\"orientation\":\"v\",\"showlegend\":true,\"textposition\":\"auto\",\"texttemplate\":\"%{y}\",\"x\":[\"United States\",\"India\",\"United Kingdom\",\"Japan\",\"South Korea\",\"Canada\",\"Spain\",\"France\",\"Mexico\",\"Egypt\"],\"xaxis\":\"x\",\"y\":[2819,972,419,245,200,181,145,124,110,106],\"yaxis\":\"y\",\"type\":\"bar\"}],                        {\"template\":{\"data\":{\"histogram2dcontour\":[{\"type\":\"histogram2dcontour\",\"colorbar\":{\"outlinewidth\":0,\"ticks\":\"\"},\"colorscale\":[[0.0,\"#0d0887\"],[0.1111111111111111,\"#46039f\"],[0.2222222222222222,\"#7201a8\"],[0.3333333333333333,\"#9c179e\"],[0.4444444444444444,\"#bd3786\"],[0.5555555555555556,\"#d8576b\"],[0.6666666666666666,\"#ed7953\"],[0.7777777777777778,\"#fb9f3a\"],[0.8888888888888888,\"#fdca26\"],[1.0,\"#f0f921\"]]}],\"choropleth\":[{\"type\":\"choropleth\",\"colorbar\":{\"outlinewidth\":0,\"ticks\":\"\"}}],\"histogram2d\":[{\"type\":\"histogram2d\",\"colorbar\":{\"outlinewidth\":0,\"ticks\":\"\"},\"colorscale\":[[0.0,\"#0d0887\"],[0.1111111111111111,\"#46039f\"],[0.2222222222222222,\"#7201a8\"],[0.3333333333333333,\"#9c179e\"],[0.4444444444444444,\"#bd3786\"],[0.5555555555555556,\"#d8576b\"],[0.6666666666666666,\"#ed7953\"],[0.7777777777777778,\"#fb9f3a\"],[0.8888888888888888,\"#fdca26\"],[1.0,\"#f0f921\"]]}],\"heatmap\":[{\"type\":\"heatmap\",\"colorbar\":{\"outlinewidth\":0,\"ticks\":\"\"},\"colorscale\":[[0.0,\"#0d0887\"],[0.1111111111111111,\"#46039f\"],[0.2222222222222222,\"#7201a8\"],[0.3333333333333333,\"#9c179e\"],[0.4444444444444444,\"#bd3786\"],[0.5555555555555556,\"#d8576b\"],[0.6666666666666666,\"#ed7953\"],[0.7777777777777778,\"#fb9f3a\"],[0.8888888888888888,\"#fdca26\"],[1.0,\"#f0f921\"]]}],\"heatmapgl\":[{\"type\":\"heatmapgl\",\"colorbar\":{\"outlinewidth\":0,\"ticks\":\"\"},\"colorscale\":[[0.0,\"#0d0887\"],[0.1111111111111111,\"#46039f\"],[0.2222222222222222,\"#7201a8\"],[0.3333333333333333,\"#9c179e\"],[0.4444444444444444,\"#bd3786\"],[0.5555555555555556,\"#d8576b\"],[0.6666666666666666,\"#ed7953\"],[0.7777777777777778,\"#fb9f3a\"],[0.8888888888888888,\"#fdca26\"],[1.0,\"#f0f921\"]]}],\"contourcarpet\":[{\"type\":\"contourcarpet\",\"colorbar\":{\"outlinewidth\":0,\"ticks\":\"\"}}],\"contour\":[{\"type\":\"contour\",\"colorbar\":{\"outlinewidth\":0,\"ticks\":\"\"},\"colorscale\":[[0.0,\"#0d0887\"],[0.1111111111111111,\"#46039f\"],[0.2222222222222222,\"#7201a8\"],[0.3333333333333333,\"#9c179e\"],[0.4444444444444444,\"#bd3786\"],[0.5555555555555556,\"#d8576b\"],[0.6666666666666666,\"#ed7953\"],[0.7777777777777778,\"#fb9f3a\"],[0.8888888888888888,\"#fdca26\"],[1.0,\"#f0f921\"]]}],\"surface\":[{\"type\":\"surface\",\"colorbar\":{\"outlinewidth\":0,\"ticks\":\"\"},\"colorscale\":[[0.0,\"#0d0887\"],[0.1111111111111111,\"#46039f\"],[0.2222222222222222,\"#7201a8\"],[0.3333333333333333,\"#9c179e\"],[0.4444444444444444,\"#bd3786\"],[0.5555555555555556,\"#d8576b\"],[0.6666666666666666,\"#ed7953\"],[0.7777777777777778,\"#fb9f3a\"],[0.8888888888888888,\"#fdca26\"],[1.0,\"#f0f921\"]]}],\"mesh3d\":[{\"type\":\"mesh3d\",\"colorbar\":{\"outlinewidth\":0,\"ticks\":\"\"}}],\"scatter\":[{\"fillpattern\":{\"fillmode\":\"overlay\",\"size\":10,\"solidity\":0.2},\"type\":\"scatter\"}],\"parcoords\":[{\"type\":\"parcoords\",\"line\":{\"colorbar\":{\"outlinewidth\":0,\"ticks\":\"\"}}}],\"scatterpolargl\":[{\"type\":\"scatterpolargl\",\"marker\":{\"colorbar\":{\"outlinewidth\":0,\"ticks\":\"\"}}}],\"bar\":[{\"error_x\":{\"color\":\"#2a3f5f\"},\"error_y\":{\"color\":\"#2a3f5f\"},\"marker\":{\"line\":{\"color\":\"#E5ECF6\",\"width\":0.5},\"pattern\":{\"fillmode\":\"overlay\",\"size\":10,\"solidity\":0.2}},\"type\":\"bar\"}],\"scattergeo\":[{\"type\":\"scattergeo\",\"marker\":{\"colorbar\":{\"outlinewidth\":0,\"ticks\":\"\"}}}],\"scatterpolar\":[{\"type\":\"scatterpolar\",\"marker\":{\"colorbar\":{\"outlinewidth\":0,\"ticks\":\"\"}}}],\"histogram\":[{\"marker\":{\"pattern\":{\"fillmode\":\"overlay\",\"size\":10,\"solidity\":0.2}},\"type\":\"histogram\"}],\"scattergl\":[{\"type\":\"scattergl\",\"marker\":{\"colorbar\":{\"outlinewidth\":0,\"ticks\":\"\"}}}],\"scatter3d\":[{\"type\":\"scatter3d\",\"line\":{\"colorbar\":{\"outlinewidth\":0,\"ticks\":\"\"}},\"marker\":{\"colorbar\":{\"outlinewidth\":0,\"ticks\":\"\"}}}],\"scattermapbox\":[{\"type\":\"scattermapbox\",\"marker\":{\"colorbar\":{\"outlinewidth\":0,\"ticks\":\"\"}}}],\"scatterternary\":[{\"type\":\"scatterternary\",\"marker\":{\"colorbar\":{\"outlinewidth\":0,\"ticks\":\"\"}}}],\"scattercarpet\":[{\"type\":\"scattercarpet\",\"marker\":{\"colorbar\":{\"outlinewidth\":0,\"ticks\":\"\"}}}],\"carpet\":[{\"aaxis\":{\"endlinecolor\":\"#2a3f5f\",\"gridcolor\":\"white\",\"linecolor\":\"white\",\"minorgridcolor\":\"white\",\"startlinecolor\":\"#2a3f5f\"},\"baxis\":{\"endlinecolor\":\"#2a3f5f\",\"gridcolor\":\"white\",\"linecolor\":\"white\",\"minorgridcolor\":\"white\",\"startlinecolor\":\"#2a3f5f\"},\"type\":\"carpet\"}],\"table\":[{\"cells\":{\"fill\":{\"color\":\"#EBF0F8\"},\"line\":{\"color\":\"white\"}},\"header\":{\"fill\":{\"color\":\"#C8D4E3\"},\"line\":{\"color\":\"white\"}},\"type\":\"table\"}],\"barpolar\":[{\"marker\":{\"line\":{\"color\":\"#E5ECF6\",\"width\":0.5},\"pattern\":{\"fillmode\":\"overlay\",\"size\":10,\"solidity\":0.2}},\"type\":\"barpolar\"}],\"pie\":[{\"automargin\":true,\"type\":\"pie\"}]},\"layout\":{\"autotypenumbers\":\"strict\",\"colorway\":[\"#636efa\",\"#EF553B\",\"#00cc96\",\"#ab63fa\",\"#FFA15A\",\"#19d3f3\",\"#FF6692\",\"#B6E880\",\"#FF97FF\",\"#FECB52\"],\"font\":{\"color\":\"#2a3f5f\"},\"hovermode\":\"closest\",\"hoverlabel\":{\"align\":\"left\"},\"paper_bgcolor\":\"white\",\"plot_bgcolor\":\"#E5ECF6\",\"polar\":{\"bgcolor\":\"#E5ECF6\",\"angularaxis\":{\"gridcolor\":\"white\",\"linecolor\":\"white\",\"ticks\":\"\"},\"radialaxis\":{\"gridcolor\":\"white\",\"linecolor\":\"white\",\"ticks\":\"\"}},\"ternary\":{\"bgcolor\":\"#E5ECF6\",\"aaxis\":{\"gridcolor\":\"white\",\"linecolor\":\"white\",\"ticks\":\"\"},\"baxis\":{\"gridcolor\":\"white\",\"linecolor\":\"white\",\"ticks\":\"\"},\"caxis\":{\"gridcolor\":\"white\",\"linecolor\":\"white\",\"ticks\":\"\"}},\"coloraxis\":{\"colorbar\":{\"outlinewidth\":0,\"ticks\":\"\"}},\"colorscale\":{\"sequential\":[[0.0,\"#0d0887\"],[0.1111111111111111,\"#46039f\"],[0.2222222222222222,\"#7201a8\"],[0.3333333333333333,\"#9c179e\"],[0.4444444444444444,\"#bd3786\"],[0.5555555555555556,\"#d8576b\"],[0.6666666666666666,\"#ed7953\"],[0.7777777777777778,\"#fb9f3a\"],[0.8888888888888888,\"#fdca26\"],[1.0,\"#f0f921\"]],\"sequentialminus\":[[0.0,\"#0d0887\"],[0.1111111111111111,\"#46039f\"],[0.2222222222222222,\"#7201a8\"],[0.3333333333333333,\"#9c179e\"],[0.4444444444444444,\"#bd3786\"],[0.5555555555555556,\"#d8576b\"],[0.6666666666666666,\"#ed7953\"],[0.7777777777777778,\"#fb9f3a\"],[0.8888888888888888,\"#fdca26\"],[1.0,\"#f0f921\"]],\"diverging\":[[0,\"#8e0152\"],[0.1,\"#c51b7d\"],[0.2,\"#de77ae\"],[0.3,\"#f1b6da\"],[0.4,\"#fde0ef\"],[0.5,\"#f7f7f7\"],[0.6,\"#e6f5d0\"],[0.7,\"#b8e186\"],[0.8,\"#7fbc41\"],[0.9,\"#4d9221\"],[1,\"#276419\"]]},\"xaxis\":{\"gridcolor\":\"white\",\"linecolor\":\"white\",\"ticks\":\"\",\"title\":{\"standoff\":15},\"zerolinecolor\":\"white\",\"automargin\":true,\"zerolinewidth\":2},\"yaxis\":{\"gridcolor\":\"white\",\"linecolor\":\"white\",\"ticks\":\"\",\"title\":{\"standoff\":15},\"zerolinecolor\":\"white\",\"automargin\":true,\"zerolinewidth\":2},\"scene\":{\"xaxis\":{\"backgroundcolor\":\"#E5ECF6\",\"gridcolor\":\"white\",\"linecolor\":\"white\",\"showbackground\":true,\"ticks\":\"\",\"zerolinecolor\":\"white\",\"gridwidth\":2},\"yaxis\":{\"backgroundcolor\":\"#E5ECF6\",\"gridcolor\":\"white\",\"linecolor\":\"white\",\"showbackground\":true,\"ticks\":\"\",\"zerolinecolor\":\"white\",\"gridwidth\":2},\"zaxis\":{\"backgroundcolor\":\"#E5ECF6\",\"gridcolor\":\"white\",\"linecolor\":\"white\",\"showbackground\":true,\"ticks\":\"\",\"zerolinecolor\":\"white\",\"gridwidth\":2}},\"shapedefaults\":{\"line\":{\"color\":\"#2a3f5f\"}},\"annotationdefaults\":{\"arrowcolor\":\"#2a3f5f\",\"arrowhead\":0,\"arrowwidth\":1},\"geo\":{\"bgcolor\":\"white\",\"landcolor\":\"#E5ECF6\",\"subunitcolor\":\"white\",\"showland\":true,\"showlakes\":true,\"lakecolor\":\"white\"},\"title\":{\"x\":0.05},\"mapbox\":{\"style\":\"light\"}}},\"xaxis\":{\"anchor\":\"y\",\"domain\":[0.0,1.0],\"title\":{\"text\":\"country\"}},\"yaxis\":{\"anchor\":\"x\",\"domain\":[0.0,1.0],\"title\":{\"text\":\"value\"}},\"legend\":{\"title\":{\"text\":\"variable\"},\"tracegroupgap\":0},\"title\":{\"text\":\"Top 10 Distribution Movies Country\"},\"barmode\":\"relative\"},                        {\"responsive\": true}                    ).then(function(){\n",
       "                            \n",
       "var gd = document.getElementById('62662d34-cc50-464f-8797-294c2b0a0037');\n",
       "var x = new MutationObserver(function (mutations, observer) {{\n",
       "        var display = window.getComputedStyle(gd).display;\n",
       "        if (!display || display === 'none') {{\n",
       "            console.log([gd, 'removed!']);\n",
       "            Plotly.purge(gd);\n",
       "            observer.disconnect();\n",
       "        }}\n",
       "}});\n",
       "\n",
       "// Listen for the removal of the full notebook cells\n",
       "var notebookContainer = gd.closest('#notebook-container');\n",
       "if (notebookContainer) {{\n",
       "    x.observe(notebookContainer, {childList: true});\n",
       "}}\n",
       "\n",
       "// Listen for the clearing of the current output cell\n",
       "var outputEl = gd.closest('.output');\n",
       "if (outputEl) {{\n",
       "    x.observe(outputEl, {childList: true});\n",
       "}}\n",
       "\n",
       "                        })                };                });            </script>        </div>"
      ]
     },
     "metadata": {},
     "output_type": "display_data"
    }
   ],
   "source": [
    "top_10 = country_count.sort_values(ascending=False).head(10)\n",
    "fig = px.bar(data_frame=top_10, text_auto=True, title='Top 10 Distribution Movies Country')\n",
    "fig.show()"
   ]
  },
  {
   "cell_type": "code",
   "execution_count": 64,
   "id": "831b28a3",
   "metadata": {},
   "outputs": [
    {
     "data": {
      "application/vnd.plotly.v1+json": {
       "config": {
        "plotlyServerURL": "https://plot.ly"
       },
       "data": [
        {
         "alignmentgroup": "True",
         "hovertemplate": "variable=count<br>Main_genre=%{x}<br>value=%{y}<extra></extra>",
         "legendgroup": "count",
         "marker": {
          "color": "#636efa",
          "pattern": {
           "shape": ""
          }
         },
         "name": "count",
         "offsetgroup": "count",
         "orientation": "v",
         "showlegend": true,
         "textposition": "auto",
         "texttemplate": "%{y}",
         "type": "bar",
         "x": [
          "Drama",
          "Comedies",
          "International",
          "Action",
          "Documentaries",
          "Children",
          "Crime",
          "Kids",
          "Stand-Up",
          "Horror",
          "TV",
          "British",
          "Docuseries",
          "Anime",
          "Reality",
          "Classic",
          "Thrillers",
          "Movies",
          "Romantic",
          "Independent",
          "Music",
          "Sci",
          "Cult",
          "Spanish",
          "LGBTQ",
          "Sports"
         ],
         "xaxis": "x",
         "y": [
          1601,
          1210,
          902,
          859,
          829,
          605,
          399,
          388,
          368,
          275,
          255,
          253,
          221,
          197,
          120,
          102,
          65,
          57,
          35,
          20,
          18,
          14,
          12,
          2,
          1,
          1
         ],
         "yaxis": "y"
        }
       ],
       "layout": {
        "barmode": "relative",
        "legend": {
         "title": {
          "text": "variable"
         },
         "tracegroupgap": 0
        },
        "template": {
         "data": {
          "bar": [
           {
            "error_x": {
             "color": "#2a3f5f"
            },
            "error_y": {
             "color": "#2a3f5f"
            },
            "marker": {
             "line": {
              "color": "#E5ECF6",
              "width": 0.5
             },
             "pattern": {
              "fillmode": "overlay",
              "size": 10,
              "solidity": 0.2
             }
            },
            "type": "bar"
           }
          ],
          "barpolar": [
           {
            "marker": {
             "line": {
              "color": "#E5ECF6",
              "width": 0.5
             },
             "pattern": {
              "fillmode": "overlay",
              "size": 10,
              "solidity": 0.2
             }
            },
            "type": "barpolar"
           }
          ],
          "carpet": [
           {
            "aaxis": {
             "endlinecolor": "#2a3f5f",
             "gridcolor": "white",
             "linecolor": "white",
             "minorgridcolor": "white",
             "startlinecolor": "#2a3f5f"
            },
            "baxis": {
             "endlinecolor": "#2a3f5f",
             "gridcolor": "white",
             "linecolor": "white",
             "minorgridcolor": "white",
             "startlinecolor": "#2a3f5f"
            },
            "type": "carpet"
           }
          ],
          "choropleth": [
           {
            "colorbar": {
             "outlinewidth": 0,
             "ticks": ""
            },
            "type": "choropleth"
           }
          ],
          "contour": [
           {
            "colorbar": {
             "outlinewidth": 0,
             "ticks": ""
            },
            "colorscale": [
             [
              0,
              "#0d0887"
             ],
             [
              0.1111111111111111,
              "#46039f"
             ],
             [
              0.2222222222222222,
              "#7201a8"
             ],
             [
              0.3333333333333333,
              "#9c179e"
             ],
             [
              0.4444444444444444,
              "#bd3786"
             ],
             [
              0.5555555555555556,
              "#d8576b"
             ],
             [
              0.6666666666666666,
              "#ed7953"
             ],
             [
              0.7777777777777778,
              "#fb9f3a"
             ],
             [
              0.8888888888888888,
              "#fdca26"
             ],
             [
              1,
              "#f0f921"
             ]
            ],
            "type": "contour"
           }
          ],
          "contourcarpet": [
           {
            "colorbar": {
             "outlinewidth": 0,
             "ticks": ""
            },
            "type": "contourcarpet"
           }
          ],
          "heatmap": [
           {
            "colorbar": {
             "outlinewidth": 0,
             "ticks": ""
            },
            "colorscale": [
             [
              0,
              "#0d0887"
             ],
             [
              0.1111111111111111,
              "#46039f"
             ],
             [
              0.2222222222222222,
              "#7201a8"
             ],
             [
              0.3333333333333333,
              "#9c179e"
             ],
             [
              0.4444444444444444,
              "#bd3786"
             ],
             [
              0.5555555555555556,
              "#d8576b"
             ],
             [
              0.6666666666666666,
              "#ed7953"
             ],
             [
              0.7777777777777778,
              "#fb9f3a"
             ],
             [
              0.8888888888888888,
              "#fdca26"
             ],
             [
              1,
              "#f0f921"
             ]
            ],
            "type": "heatmap"
           }
          ],
          "heatmapgl": [
           {
            "colorbar": {
             "outlinewidth": 0,
             "ticks": ""
            },
            "colorscale": [
             [
              0,
              "#0d0887"
             ],
             [
              0.1111111111111111,
              "#46039f"
             ],
             [
              0.2222222222222222,
              "#7201a8"
             ],
             [
              0.3333333333333333,
              "#9c179e"
             ],
             [
              0.4444444444444444,
              "#bd3786"
             ],
             [
              0.5555555555555556,
              "#d8576b"
             ],
             [
              0.6666666666666666,
              "#ed7953"
             ],
             [
              0.7777777777777778,
              "#fb9f3a"
             ],
             [
              0.8888888888888888,
              "#fdca26"
             ],
             [
              1,
              "#f0f921"
             ]
            ],
            "type": "heatmapgl"
           }
          ],
          "histogram": [
           {
            "marker": {
             "pattern": {
              "fillmode": "overlay",
              "size": 10,
              "solidity": 0.2
             }
            },
            "type": "histogram"
           }
          ],
          "histogram2d": [
           {
            "colorbar": {
             "outlinewidth": 0,
             "ticks": ""
            },
            "colorscale": [
             [
              0,
              "#0d0887"
             ],
             [
              0.1111111111111111,
              "#46039f"
             ],
             [
              0.2222222222222222,
              "#7201a8"
             ],
             [
              0.3333333333333333,
              "#9c179e"
             ],
             [
              0.4444444444444444,
              "#bd3786"
             ],
             [
              0.5555555555555556,
              "#d8576b"
             ],
             [
              0.6666666666666666,
              "#ed7953"
             ],
             [
              0.7777777777777778,
              "#fb9f3a"
             ],
             [
              0.8888888888888888,
              "#fdca26"
             ],
             [
              1,
              "#f0f921"
             ]
            ],
            "type": "histogram2d"
           }
          ],
          "histogram2dcontour": [
           {
            "colorbar": {
             "outlinewidth": 0,
             "ticks": ""
            },
            "colorscale": [
             [
              0,
              "#0d0887"
             ],
             [
              0.1111111111111111,
              "#46039f"
             ],
             [
              0.2222222222222222,
              "#7201a8"
             ],
             [
              0.3333333333333333,
              "#9c179e"
             ],
             [
              0.4444444444444444,
              "#bd3786"
             ],
             [
              0.5555555555555556,
              "#d8576b"
             ],
             [
              0.6666666666666666,
              "#ed7953"
             ],
             [
              0.7777777777777778,
              "#fb9f3a"
             ],
             [
              0.8888888888888888,
              "#fdca26"
             ],
             [
              1,
              "#f0f921"
             ]
            ],
            "type": "histogram2dcontour"
           }
          ],
          "mesh3d": [
           {
            "colorbar": {
             "outlinewidth": 0,
             "ticks": ""
            },
            "type": "mesh3d"
           }
          ],
          "parcoords": [
           {
            "line": {
             "colorbar": {
              "outlinewidth": 0,
              "ticks": ""
             }
            },
            "type": "parcoords"
           }
          ],
          "pie": [
           {
            "automargin": true,
            "type": "pie"
           }
          ],
          "scatter": [
           {
            "fillpattern": {
             "fillmode": "overlay",
             "size": 10,
             "solidity": 0.2
            },
            "type": "scatter"
           }
          ],
          "scatter3d": [
           {
            "line": {
             "colorbar": {
              "outlinewidth": 0,
              "ticks": ""
             }
            },
            "marker": {
             "colorbar": {
              "outlinewidth": 0,
              "ticks": ""
             }
            },
            "type": "scatter3d"
           }
          ],
          "scattercarpet": [
           {
            "marker": {
             "colorbar": {
              "outlinewidth": 0,
              "ticks": ""
             }
            },
            "type": "scattercarpet"
           }
          ],
          "scattergeo": [
           {
            "marker": {
             "colorbar": {
              "outlinewidth": 0,
              "ticks": ""
             }
            },
            "type": "scattergeo"
           }
          ],
          "scattergl": [
           {
            "marker": {
             "colorbar": {
              "outlinewidth": 0,
              "ticks": ""
             }
            },
            "type": "scattergl"
           }
          ],
          "scattermapbox": [
           {
            "marker": {
             "colorbar": {
              "outlinewidth": 0,
              "ticks": ""
             }
            },
            "type": "scattermapbox"
           }
          ],
          "scatterpolar": [
           {
            "marker": {
             "colorbar": {
              "outlinewidth": 0,
              "ticks": ""
             }
            },
            "type": "scatterpolar"
           }
          ],
          "scatterpolargl": [
           {
            "marker": {
             "colorbar": {
              "outlinewidth": 0,
              "ticks": ""
             }
            },
            "type": "scatterpolargl"
           }
          ],
          "scatterternary": [
           {
            "marker": {
             "colorbar": {
              "outlinewidth": 0,
              "ticks": ""
             }
            },
            "type": "scatterternary"
           }
          ],
          "surface": [
           {
            "colorbar": {
             "outlinewidth": 0,
             "ticks": ""
            },
            "colorscale": [
             [
              0,
              "#0d0887"
             ],
             [
              0.1111111111111111,
              "#46039f"
             ],
             [
              0.2222222222222222,
              "#7201a8"
             ],
             [
              0.3333333333333333,
              "#9c179e"
             ],
             [
              0.4444444444444444,
              "#bd3786"
             ],
             [
              0.5555555555555556,
              "#d8576b"
             ],
             [
              0.6666666666666666,
              "#ed7953"
             ],
             [
              0.7777777777777778,
              "#fb9f3a"
             ],
             [
              0.8888888888888888,
              "#fdca26"
             ],
             [
              1,
              "#f0f921"
             ]
            ],
            "type": "surface"
           }
          ],
          "table": [
           {
            "cells": {
             "fill": {
              "color": "#EBF0F8"
             },
             "line": {
              "color": "white"
             }
            },
            "header": {
             "fill": {
              "color": "#C8D4E3"
             },
             "line": {
              "color": "white"
             }
            },
            "type": "table"
           }
          ]
         },
         "layout": {
          "annotationdefaults": {
           "arrowcolor": "#2a3f5f",
           "arrowhead": 0,
           "arrowwidth": 1
          },
          "autotypenumbers": "strict",
          "coloraxis": {
           "colorbar": {
            "outlinewidth": 0,
            "ticks": ""
           }
          },
          "colorscale": {
           "diverging": [
            [
             0,
             "#8e0152"
            ],
            [
             0.1,
             "#c51b7d"
            ],
            [
             0.2,
             "#de77ae"
            ],
            [
             0.3,
             "#f1b6da"
            ],
            [
             0.4,
             "#fde0ef"
            ],
            [
             0.5,
             "#f7f7f7"
            ],
            [
             0.6,
             "#e6f5d0"
            ],
            [
             0.7,
             "#b8e186"
            ],
            [
             0.8,
             "#7fbc41"
            ],
            [
             0.9,
             "#4d9221"
            ],
            [
             1,
             "#276419"
            ]
           ],
           "sequential": [
            [
             0,
             "#0d0887"
            ],
            [
             0.1111111111111111,
             "#46039f"
            ],
            [
             0.2222222222222222,
             "#7201a8"
            ],
            [
             0.3333333333333333,
             "#9c179e"
            ],
            [
             0.4444444444444444,
             "#bd3786"
            ],
            [
             0.5555555555555556,
             "#d8576b"
            ],
            [
             0.6666666666666666,
             "#ed7953"
            ],
            [
             0.7777777777777778,
             "#fb9f3a"
            ],
            [
             0.8888888888888888,
             "#fdca26"
            ],
            [
             1,
             "#f0f921"
            ]
           ],
           "sequentialminus": [
            [
             0,
             "#0d0887"
            ],
            [
             0.1111111111111111,
             "#46039f"
            ],
            [
             0.2222222222222222,
             "#7201a8"
            ],
            [
             0.3333333333333333,
             "#9c179e"
            ],
            [
             0.4444444444444444,
             "#bd3786"
            ],
            [
             0.5555555555555556,
             "#d8576b"
            ],
            [
             0.6666666666666666,
             "#ed7953"
            ],
            [
             0.7777777777777778,
             "#fb9f3a"
            ],
            [
             0.8888888888888888,
             "#fdca26"
            ],
            [
             1,
             "#f0f921"
            ]
           ]
          },
          "colorway": [
           "#636efa",
           "#EF553B",
           "#00cc96",
           "#ab63fa",
           "#FFA15A",
           "#19d3f3",
           "#FF6692",
           "#B6E880",
           "#FF97FF",
           "#FECB52"
          ],
          "font": {
           "color": "#2a3f5f"
          },
          "geo": {
           "bgcolor": "white",
           "lakecolor": "white",
           "landcolor": "#E5ECF6",
           "showlakes": true,
           "showland": true,
           "subunitcolor": "white"
          },
          "hoverlabel": {
           "align": "left"
          },
          "hovermode": "closest",
          "mapbox": {
           "style": "light"
          },
          "paper_bgcolor": "white",
          "plot_bgcolor": "#E5ECF6",
          "polar": {
           "angularaxis": {
            "gridcolor": "white",
            "linecolor": "white",
            "ticks": ""
           },
           "bgcolor": "#E5ECF6",
           "radialaxis": {
            "gridcolor": "white",
            "linecolor": "white",
            "ticks": ""
           }
          },
          "scene": {
           "xaxis": {
            "backgroundcolor": "#E5ECF6",
            "gridcolor": "white",
            "gridwidth": 2,
            "linecolor": "white",
            "showbackground": true,
            "ticks": "",
            "zerolinecolor": "white"
           },
           "yaxis": {
            "backgroundcolor": "#E5ECF6",
            "gridcolor": "white",
            "gridwidth": 2,
            "linecolor": "white",
            "showbackground": true,
            "ticks": "",
            "zerolinecolor": "white"
           },
           "zaxis": {
            "backgroundcolor": "#E5ECF6",
            "gridcolor": "white",
            "gridwidth": 2,
            "linecolor": "white",
            "showbackground": true,
            "ticks": "",
            "zerolinecolor": "white"
           }
          },
          "shapedefaults": {
           "line": {
            "color": "#2a3f5f"
           }
          },
          "ternary": {
           "aaxis": {
            "gridcolor": "white",
            "linecolor": "white",
            "ticks": ""
           },
           "baxis": {
            "gridcolor": "white",
            "linecolor": "white",
            "ticks": ""
           },
           "bgcolor": "#E5ECF6",
           "caxis": {
            "gridcolor": "white",
            "linecolor": "white",
            "ticks": ""
           }
          },
          "title": {
           "x": 0.05
          },
          "xaxis": {
           "automargin": true,
           "gridcolor": "white",
           "linecolor": "white",
           "ticks": "",
           "title": {
            "standoff": 15
           },
           "zerolinecolor": "white",
           "zerolinewidth": 2
          },
          "yaxis": {
           "automargin": true,
           "gridcolor": "white",
           "linecolor": "white",
           "ticks": "",
           "title": {
            "standoff": 15
           },
           "zerolinecolor": "white",
           "zerolinewidth": 2
          }
         }
        },
        "title": {
         "text": "Distribution Type Movies"
        },
        "xaxis": {
         "anchor": "y",
         "domain": [
          0,
          1
         ],
         "title": {
          "text": "Main_genre"
         }
        },
        "yaxis": {
         "anchor": "x",
         "domain": [
          0,
          1
         ],
         "title": {
          "text": "value"
         }
        }
       }
      },
      "text/html": [
       "<div>                            <div id=\"c970e7a4-85a4-4443-b9f9-ab2a2841a6a6\" class=\"plotly-graph-div\" style=\"height:525px; width:100%;\"></div>            <script type=\"text/javascript\">                require([\"plotly\"], function(Plotly) {                    window.PLOTLYENV=window.PLOTLYENV || {};                                    if (document.getElementById(\"c970e7a4-85a4-4443-b9f9-ab2a2841a6a6\")) {                    Plotly.newPlot(                        \"c970e7a4-85a4-4443-b9f9-ab2a2841a6a6\",                        [{\"alignmentgroup\":\"True\",\"hovertemplate\":\"variable=count<br>Main_genre=%{x}<br>value=%{y}<extra></extra>\",\"legendgroup\":\"count\",\"marker\":{\"color\":\"#636efa\",\"pattern\":{\"shape\":\"\"}},\"name\":\"count\",\"offsetgroup\":\"count\",\"orientation\":\"v\",\"showlegend\":true,\"textposition\":\"auto\",\"texttemplate\":\"%{y}\",\"x\":[\"Drama\",\"Comedies\",\"International\",\"Action\",\"Documentaries\",\"Children\",\"Crime\",\"Kids\",\"Stand-Up\",\"Horror\",\"TV\",\"British\",\"Docuseries\",\"Anime\",\"Reality\",\"Classic\",\"Thrillers\",\"Movies\",\"Romantic\",\"Independent\",\"Music\",\"Sci\",\"Cult\",\"Spanish\",\"LGBTQ\",\"Sports\"],\"xaxis\":\"x\",\"y\":[1601,1210,902,859,829,605,399,388,368,275,255,253,221,197,120,102,65,57,35,20,18,14,12,2,1,1],\"yaxis\":\"y\",\"type\":\"bar\"}],                        {\"template\":{\"data\":{\"histogram2dcontour\":[{\"type\":\"histogram2dcontour\",\"colorbar\":{\"outlinewidth\":0,\"ticks\":\"\"},\"colorscale\":[[0.0,\"#0d0887\"],[0.1111111111111111,\"#46039f\"],[0.2222222222222222,\"#7201a8\"],[0.3333333333333333,\"#9c179e\"],[0.4444444444444444,\"#bd3786\"],[0.5555555555555556,\"#d8576b\"],[0.6666666666666666,\"#ed7953\"],[0.7777777777777778,\"#fb9f3a\"],[0.8888888888888888,\"#fdca26\"],[1.0,\"#f0f921\"]]}],\"choropleth\":[{\"type\":\"choropleth\",\"colorbar\":{\"outlinewidth\":0,\"ticks\":\"\"}}],\"histogram2d\":[{\"type\":\"histogram2d\",\"colorbar\":{\"outlinewidth\":0,\"ticks\":\"\"},\"colorscale\":[[0.0,\"#0d0887\"],[0.1111111111111111,\"#46039f\"],[0.2222222222222222,\"#7201a8\"],[0.3333333333333333,\"#9c179e\"],[0.4444444444444444,\"#bd3786\"],[0.5555555555555556,\"#d8576b\"],[0.6666666666666666,\"#ed7953\"],[0.7777777777777778,\"#fb9f3a\"],[0.8888888888888888,\"#fdca26\"],[1.0,\"#f0f921\"]]}],\"heatmap\":[{\"type\":\"heatmap\",\"colorbar\":{\"outlinewidth\":0,\"ticks\":\"\"},\"colorscale\":[[0.0,\"#0d0887\"],[0.1111111111111111,\"#46039f\"],[0.2222222222222222,\"#7201a8\"],[0.3333333333333333,\"#9c179e\"],[0.4444444444444444,\"#bd3786\"],[0.5555555555555556,\"#d8576b\"],[0.6666666666666666,\"#ed7953\"],[0.7777777777777778,\"#fb9f3a\"],[0.8888888888888888,\"#fdca26\"],[1.0,\"#f0f921\"]]}],\"heatmapgl\":[{\"type\":\"heatmapgl\",\"colorbar\":{\"outlinewidth\":0,\"ticks\":\"\"},\"colorscale\":[[0.0,\"#0d0887\"],[0.1111111111111111,\"#46039f\"],[0.2222222222222222,\"#7201a8\"],[0.3333333333333333,\"#9c179e\"],[0.4444444444444444,\"#bd3786\"],[0.5555555555555556,\"#d8576b\"],[0.6666666666666666,\"#ed7953\"],[0.7777777777777778,\"#fb9f3a\"],[0.8888888888888888,\"#fdca26\"],[1.0,\"#f0f921\"]]}],\"contourcarpet\":[{\"type\":\"contourcarpet\",\"colorbar\":{\"outlinewidth\":0,\"ticks\":\"\"}}],\"contour\":[{\"type\":\"contour\",\"colorbar\":{\"outlinewidth\":0,\"ticks\":\"\"},\"colorscale\":[[0.0,\"#0d0887\"],[0.1111111111111111,\"#46039f\"],[0.2222222222222222,\"#7201a8\"],[0.3333333333333333,\"#9c179e\"],[0.4444444444444444,\"#bd3786\"],[0.5555555555555556,\"#d8576b\"],[0.6666666666666666,\"#ed7953\"],[0.7777777777777778,\"#fb9f3a\"],[0.8888888888888888,\"#fdca26\"],[1.0,\"#f0f921\"]]}],\"surface\":[{\"type\":\"surface\",\"colorbar\":{\"outlinewidth\":0,\"ticks\":\"\"},\"colorscale\":[[0.0,\"#0d0887\"],[0.1111111111111111,\"#46039f\"],[0.2222222222222222,\"#7201a8\"],[0.3333333333333333,\"#9c179e\"],[0.4444444444444444,\"#bd3786\"],[0.5555555555555556,\"#d8576b\"],[0.6666666666666666,\"#ed7953\"],[0.7777777777777778,\"#fb9f3a\"],[0.8888888888888888,\"#fdca26\"],[1.0,\"#f0f921\"]]}],\"mesh3d\":[{\"type\":\"mesh3d\",\"colorbar\":{\"outlinewidth\":0,\"ticks\":\"\"}}],\"scatter\":[{\"fillpattern\":{\"fillmode\":\"overlay\",\"size\":10,\"solidity\":0.2},\"type\":\"scatter\"}],\"parcoords\":[{\"type\":\"parcoords\",\"line\":{\"colorbar\":{\"outlinewidth\":0,\"ticks\":\"\"}}}],\"scatterpolargl\":[{\"type\":\"scatterpolargl\",\"marker\":{\"colorbar\":{\"outlinewidth\":0,\"ticks\":\"\"}}}],\"bar\":[{\"error_x\":{\"color\":\"#2a3f5f\"},\"error_y\":{\"color\":\"#2a3f5f\"},\"marker\":{\"line\":{\"color\":\"#E5ECF6\",\"width\":0.5},\"pattern\":{\"fillmode\":\"overlay\",\"size\":10,\"solidity\":0.2}},\"type\":\"bar\"}],\"scattergeo\":[{\"type\":\"scattergeo\",\"marker\":{\"colorbar\":{\"outlinewidth\":0,\"ticks\":\"\"}}}],\"scatterpolar\":[{\"type\":\"scatterpolar\",\"marker\":{\"colorbar\":{\"outlinewidth\":0,\"ticks\":\"\"}}}],\"histogram\":[{\"marker\":{\"pattern\":{\"fillmode\":\"overlay\",\"size\":10,\"solidity\":0.2}},\"type\":\"histogram\"}],\"scattergl\":[{\"type\":\"scattergl\",\"marker\":{\"colorbar\":{\"outlinewidth\":0,\"ticks\":\"\"}}}],\"scatter3d\":[{\"type\":\"scatter3d\",\"line\":{\"colorbar\":{\"outlinewidth\":0,\"ticks\":\"\"}},\"marker\":{\"colorbar\":{\"outlinewidth\":0,\"ticks\":\"\"}}}],\"scattermapbox\":[{\"type\":\"scattermapbox\",\"marker\":{\"colorbar\":{\"outlinewidth\":0,\"ticks\":\"\"}}}],\"scatterternary\":[{\"type\":\"scatterternary\",\"marker\":{\"colorbar\":{\"outlinewidth\":0,\"ticks\":\"\"}}}],\"scattercarpet\":[{\"type\":\"scattercarpet\",\"marker\":{\"colorbar\":{\"outlinewidth\":0,\"ticks\":\"\"}}}],\"carpet\":[{\"aaxis\":{\"endlinecolor\":\"#2a3f5f\",\"gridcolor\":\"white\",\"linecolor\":\"white\",\"minorgridcolor\":\"white\",\"startlinecolor\":\"#2a3f5f\"},\"baxis\":{\"endlinecolor\":\"#2a3f5f\",\"gridcolor\":\"white\",\"linecolor\":\"white\",\"minorgridcolor\":\"white\",\"startlinecolor\":\"#2a3f5f\"},\"type\":\"carpet\"}],\"table\":[{\"cells\":{\"fill\":{\"color\":\"#EBF0F8\"},\"line\":{\"color\":\"white\"}},\"header\":{\"fill\":{\"color\":\"#C8D4E3\"},\"line\":{\"color\":\"white\"}},\"type\":\"table\"}],\"barpolar\":[{\"marker\":{\"line\":{\"color\":\"#E5ECF6\",\"width\":0.5},\"pattern\":{\"fillmode\":\"overlay\",\"size\":10,\"solidity\":0.2}},\"type\":\"barpolar\"}],\"pie\":[{\"automargin\":true,\"type\":\"pie\"}]},\"layout\":{\"autotypenumbers\":\"strict\",\"colorway\":[\"#636efa\",\"#EF553B\",\"#00cc96\",\"#ab63fa\",\"#FFA15A\",\"#19d3f3\",\"#FF6692\",\"#B6E880\",\"#FF97FF\",\"#FECB52\"],\"font\":{\"color\":\"#2a3f5f\"},\"hovermode\":\"closest\",\"hoverlabel\":{\"align\":\"left\"},\"paper_bgcolor\":\"white\",\"plot_bgcolor\":\"#E5ECF6\",\"polar\":{\"bgcolor\":\"#E5ECF6\",\"angularaxis\":{\"gridcolor\":\"white\",\"linecolor\":\"white\",\"ticks\":\"\"},\"radialaxis\":{\"gridcolor\":\"white\",\"linecolor\":\"white\",\"ticks\":\"\"}},\"ternary\":{\"bgcolor\":\"#E5ECF6\",\"aaxis\":{\"gridcolor\":\"white\",\"linecolor\":\"white\",\"ticks\":\"\"},\"baxis\":{\"gridcolor\":\"white\",\"linecolor\":\"white\",\"ticks\":\"\"},\"caxis\":{\"gridcolor\":\"white\",\"linecolor\":\"white\",\"ticks\":\"\"}},\"coloraxis\":{\"colorbar\":{\"outlinewidth\":0,\"ticks\":\"\"}},\"colorscale\":{\"sequential\":[[0.0,\"#0d0887\"],[0.1111111111111111,\"#46039f\"],[0.2222222222222222,\"#7201a8\"],[0.3333333333333333,\"#9c179e\"],[0.4444444444444444,\"#bd3786\"],[0.5555555555555556,\"#d8576b\"],[0.6666666666666666,\"#ed7953\"],[0.7777777777777778,\"#fb9f3a\"],[0.8888888888888888,\"#fdca26\"],[1.0,\"#f0f921\"]],\"sequentialminus\":[[0.0,\"#0d0887\"],[0.1111111111111111,\"#46039f\"],[0.2222222222222222,\"#7201a8\"],[0.3333333333333333,\"#9c179e\"],[0.4444444444444444,\"#bd3786\"],[0.5555555555555556,\"#d8576b\"],[0.6666666666666666,\"#ed7953\"],[0.7777777777777778,\"#fb9f3a\"],[0.8888888888888888,\"#fdca26\"],[1.0,\"#f0f921\"]],\"diverging\":[[0,\"#8e0152\"],[0.1,\"#c51b7d\"],[0.2,\"#de77ae\"],[0.3,\"#f1b6da\"],[0.4,\"#fde0ef\"],[0.5,\"#f7f7f7\"],[0.6,\"#e6f5d0\"],[0.7,\"#b8e186\"],[0.8,\"#7fbc41\"],[0.9,\"#4d9221\"],[1,\"#276419\"]]},\"xaxis\":{\"gridcolor\":\"white\",\"linecolor\":\"white\",\"ticks\":\"\",\"title\":{\"standoff\":15},\"zerolinecolor\":\"white\",\"automargin\":true,\"zerolinewidth\":2},\"yaxis\":{\"gridcolor\":\"white\",\"linecolor\":\"white\",\"ticks\":\"\",\"title\":{\"standoff\":15},\"zerolinecolor\":\"white\",\"automargin\":true,\"zerolinewidth\":2},\"scene\":{\"xaxis\":{\"backgroundcolor\":\"#E5ECF6\",\"gridcolor\":\"white\",\"linecolor\":\"white\",\"showbackground\":true,\"ticks\":\"\",\"zerolinecolor\":\"white\",\"gridwidth\":2},\"yaxis\":{\"backgroundcolor\":\"#E5ECF6\",\"gridcolor\":\"white\",\"linecolor\":\"white\",\"showbackground\":true,\"ticks\":\"\",\"zerolinecolor\":\"white\",\"gridwidth\":2},\"zaxis\":{\"backgroundcolor\":\"#E5ECF6\",\"gridcolor\":\"white\",\"linecolor\":\"white\",\"showbackground\":true,\"ticks\":\"\",\"zerolinecolor\":\"white\",\"gridwidth\":2}},\"shapedefaults\":{\"line\":{\"color\":\"#2a3f5f\"}},\"annotationdefaults\":{\"arrowcolor\":\"#2a3f5f\",\"arrowhead\":0,\"arrowwidth\":1},\"geo\":{\"bgcolor\":\"white\",\"landcolor\":\"#E5ECF6\",\"subunitcolor\":\"white\",\"showland\":true,\"showlakes\":true,\"lakecolor\":\"white\"},\"title\":{\"x\":0.05},\"mapbox\":{\"style\":\"light\"}}},\"xaxis\":{\"anchor\":\"y\",\"domain\":[0.0,1.0],\"title\":{\"text\":\"Main_genre\"}},\"yaxis\":{\"anchor\":\"x\",\"domain\":[0.0,1.0],\"title\":{\"text\":\"value\"}},\"legend\":{\"title\":{\"text\":\"variable\"},\"tracegroupgap\":0},\"title\":{\"text\":\"Distribution Type Movies\"},\"barmode\":\"relative\"},                        {\"responsive\": true}                    ).then(function(){\n",
       "                            \n",
       "var gd = document.getElementById('c970e7a4-85a4-4443-b9f9-ab2a2841a6a6');\n",
       "var x = new MutationObserver(function (mutations, observer) {{\n",
       "        var display = window.getComputedStyle(gd).display;\n",
       "        if (!display || display === 'none') {{\n",
       "            console.log([gd, 'removed!']);\n",
       "            Plotly.purge(gd);\n",
       "            observer.disconnect();\n",
       "        }}\n",
       "}});\n",
       "\n",
       "// Listen for the removal of the full notebook cells\n",
       "var notebookContainer = gd.closest('#notebook-container');\n",
       "if (notebookContainer) {{\n",
       "    x.observe(notebookContainer, {childList: true});\n",
       "}}\n",
       "\n",
       "// Listen for the clearing of the current output cell\n",
       "var outputEl = gd.closest('.output');\n",
       "if (outputEl) {{\n",
       "    x.observe(outputEl, {childList: true});\n",
       "}}\n",
       "\n",
       "                        })                };                });            </script>        </div>"
      ]
     },
     "metadata": {},
     "output_type": "display_data"
    }
   ],
   "source": [
    "px.bar(data_frame=data.Main_genre.value_counts() ,text_auto=True, title='Distribution Type Movies' )"
   ]
  },
  {
   "cell_type": "code",
   "execution_count": 69,
   "id": "346167c5",
   "metadata": {},
   "outputs": [
    {
     "data": {
      "application/vnd.plotly.v1+json": {
       "config": {
        "plotlyServerURL": "https://plot.ly"
       },
       "data": [
        {
         "alignmentgroup": "True",
         "hovertemplate": "variable=count<br>rating=%{x}<br>value=%{y}<extra></extra>",
         "legendgroup": "count",
         "marker": {
          "color": "#636efa",
          "pattern": {
           "shape": ""
          }
         },
         "name": "count",
         "offsetgroup": "count",
         "orientation": "v",
         "showlegend": true,
         "textposition": "auto",
         "texttemplate": "%{y}",
         "type": "bar",
         "x": [
          "TV-MA",
          "TV-14",
          "TV-PG",
          "R",
          "PG-13",
          "TV-Y7",
          "TV-Y",
          "PG",
          "TV-G",
          "NR",
          "G",
          "TV-Y7-FV",
          "NC-17",
          "UR",
          "74 min",
          "84 min",
          "66 min",
          "A"
         ],
         "xaxis": "x",
         "y": [
          3208,
          2160,
          863,
          799,
          490,
          334,
          307,
          287,
          220,
          80,
          41,
          6,
          3,
          3,
          1,
          1,
          1,
          1
         ],
         "yaxis": "y"
        }
       ],
       "layout": {
        "barmode": "relative",
        "legend": {
         "title": {
          "text": "variable"
         },
         "tracegroupgap": 0
        },
        "template": {
         "data": {
          "bar": [
           {
            "error_x": {
             "color": "#2a3f5f"
            },
            "error_y": {
             "color": "#2a3f5f"
            },
            "marker": {
             "line": {
              "color": "#E5ECF6",
              "width": 0.5
             },
             "pattern": {
              "fillmode": "overlay",
              "size": 10,
              "solidity": 0.2
             }
            },
            "type": "bar"
           }
          ],
          "barpolar": [
           {
            "marker": {
             "line": {
              "color": "#E5ECF6",
              "width": 0.5
             },
             "pattern": {
              "fillmode": "overlay",
              "size": 10,
              "solidity": 0.2
             }
            },
            "type": "barpolar"
           }
          ],
          "carpet": [
           {
            "aaxis": {
             "endlinecolor": "#2a3f5f",
             "gridcolor": "white",
             "linecolor": "white",
             "minorgridcolor": "white",
             "startlinecolor": "#2a3f5f"
            },
            "baxis": {
             "endlinecolor": "#2a3f5f",
             "gridcolor": "white",
             "linecolor": "white",
             "minorgridcolor": "white",
             "startlinecolor": "#2a3f5f"
            },
            "type": "carpet"
           }
          ],
          "choropleth": [
           {
            "colorbar": {
             "outlinewidth": 0,
             "ticks": ""
            },
            "type": "choropleth"
           }
          ],
          "contour": [
           {
            "colorbar": {
             "outlinewidth": 0,
             "ticks": ""
            },
            "colorscale": [
             [
              0,
              "#0d0887"
             ],
             [
              0.1111111111111111,
              "#46039f"
             ],
             [
              0.2222222222222222,
              "#7201a8"
             ],
             [
              0.3333333333333333,
              "#9c179e"
             ],
             [
              0.4444444444444444,
              "#bd3786"
             ],
             [
              0.5555555555555556,
              "#d8576b"
             ],
             [
              0.6666666666666666,
              "#ed7953"
             ],
             [
              0.7777777777777778,
              "#fb9f3a"
             ],
             [
              0.8888888888888888,
              "#fdca26"
             ],
             [
              1,
              "#f0f921"
             ]
            ],
            "type": "contour"
           }
          ],
          "contourcarpet": [
           {
            "colorbar": {
             "outlinewidth": 0,
             "ticks": ""
            },
            "type": "contourcarpet"
           }
          ],
          "heatmap": [
           {
            "colorbar": {
             "outlinewidth": 0,
             "ticks": ""
            },
            "colorscale": [
             [
              0,
              "#0d0887"
             ],
             [
              0.1111111111111111,
              "#46039f"
             ],
             [
              0.2222222222222222,
              "#7201a8"
             ],
             [
              0.3333333333333333,
              "#9c179e"
             ],
             [
              0.4444444444444444,
              "#bd3786"
             ],
             [
              0.5555555555555556,
              "#d8576b"
             ],
             [
              0.6666666666666666,
              "#ed7953"
             ],
             [
              0.7777777777777778,
              "#fb9f3a"
             ],
             [
              0.8888888888888888,
              "#fdca26"
             ],
             [
              1,
              "#f0f921"
             ]
            ],
            "type": "heatmap"
           }
          ],
          "heatmapgl": [
           {
            "colorbar": {
             "outlinewidth": 0,
             "ticks": ""
            },
            "colorscale": [
             [
              0,
              "#0d0887"
             ],
             [
              0.1111111111111111,
              "#46039f"
             ],
             [
              0.2222222222222222,
              "#7201a8"
             ],
             [
              0.3333333333333333,
              "#9c179e"
             ],
             [
              0.4444444444444444,
              "#bd3786"
             ],
             [
              0.5555555555555556,
              "#d8576b"
             ],
             [
              0.6666666666666666,
              "#ed7953"
             ],
             [
              0.7777777777777778,
              "#fb9f3a"
             ],
             [
              0.8888888888888888,
              "#fdca26"
             ],
             [
              1,
              "#f0f921"
             ]
            ],
            "type": "heatmapgl"
           }
          ],
          "histogram": [
           {
            "marker": {
             "pattern": {
              "fillmode": "overlay",
              "size": 10,
              "solidity": 0.2
             }
            },
            "type": "histogram"
           }
          ],
          "histogram2d": [
           {
            "colorbar": {
             "outlinewidth": 0,
             "ticks": ""
            },
            "colorscale": [
             [
              0,
              "#0d0887"
             ],
             [
              0.1111111111111111,
              "#46039f"
             ],
             [
              0.2222222222222222,
              "#7201a8"
             ],
             [
              0.3333333333333333,
              "#9c179e"
             ],
             [
              0.4444444444444444,
              "#bd3786"
             ],
             [
              0.5555555555555556,
              "#d8576b"
             ],
             [
              0.6666666666666666,
              "#ed7953"
             ],
             [
              0.7777777777777778,
              "#fb9f3a"
             ],
             [
              0.8888888888888888,
              "#fdca26"
             ],
             [
              1,
              "#f0f921"
             ]
            ],
            "type": "histogram2d"
           }
          ],
          "histogram2dcontour": [
           {
            "colorbar": {
             "outlinewidth": 0,
             "ticks": ""
            },
            "colorscale": [
             [
              0,
              "#0d0887"
             ],
             [
              0.1111111111111111,
              "#46039f"
             ],
             [
              0.2222222222222222,
              "#7201a8"
             ],
             [
              0.3333333333333333,
              "#9c179e"
             ],
             [
              0.4444444444444444,
              "#bd3786"
             ],
             [
              0.5555555555555556,
              "#d8576b"
             ],
             [
              0.6666666666666666,
              "#ed7953"
             ],
             [
              0.7777777777777778,
              "#fb9f3a"
             ],
             [
              0.8888888888888888,
              "#fdca26"
             ],
             [
              1,
              "#f0f921"
             ]
            ],
            "type": "histogram2dcontour"
           }
          ],
          "mesh3d": [
           {
            "colorbar": {
             "outlinewidth": 0,
             "ticks": ""
            },
            "type": "mesh3d"
           }
          ],
          "parcoords": [
           {
            "line": {
             "colorbar": {
              "outlinewidth": 0,
              "ticks": ""
             }
            },
            "type": "parcoords"
           }
          ],
          "pie": [
           {
            "automargin": true,
            "type": "pie"
           }
          ],
          "scatter": [
           {
            "fillpattern": {
             "fillmode": "overlay",
             "size": 10,
             "solidity": 0.2
            },
            "type": "scatter"
           }
          ],
          "scatter3d": [
           {
            "line": {
             "colorbar": {
              "outlinewidth": 0,
              "ticks": ""
             }
            },
            "marker": {
             "colorbar": {
              "outlinewidth": 0,
              "ticks": ""
             }
            },
            "type": "scatter3d"
           }
          ],
          "scattercarpet": [
           {
            "marker": {
             "colorbar": {
              "outlinewidth": 0,
              "ticks": ""
             }
            },
            "type": "scattercarpet"
           }
          ],
          "scattergeo": [
           {
            "marker": {
             "colorbar": {
              "outlinewidth": 0,
              "ticks": ""
             }
            },
            "type": "scattergeo"
           }
          ],
          "scattergl": [
           {
            "marker": {
             "colorbar": {
              "outlinewidth": 0,
              "ticks": ""
             }
            },
            "type": "scattergl"
           }
          ],
          "scattermapbox": [
           {
            "marker": {
             "colorbar": {
              "outlinewidth": 0,
              "ticks": ""
             }
            },
            "type": "scattermapbox"
           }
          ],
          "scatterpolar": [
           {
            "marker": {
             "colorbar": {
              "outlinewidth": 0,
              "ticks": ""
             }
            },
            "type": "scatterpolar"
           }
          ],
          "scatterpolargl": [
           {
            "marker": {
             "colorbar": {
              "outlinewidth": 0,
              "ticks": ""
             }
            },
            "type": "scatterpolargl"
           }
          ],
          "scatterternary": [
           {
            "marker": {
             "colorbar": {
              "outlinewidth": 0,
              "ticks": ""
             }
            },
            "type": "scatterternary"
           }
          ],
          "surface": [
           {
            "colorbar": {
             "outlinewidth": 0,
             "ticks": ""
            },
            "colorscale": [
             [
              0,
              "#0d0887"
             ],
             [
              0.1111111111111111,
              "#46039f"
             ],
             [
              0.2222222222222222,
              "#7201a8"
             ],
             [
              0.3333333333333333,
              "#9c179e"
             ],
             [
              0.4444444444444444,
              "#bd3786"
             ],
             [
              0.5555555555555556,
              "#d8576b"
             ],
             [
              0.6666666666666666,
              "#ed7953"
             ],
             [
              0.7777777777777778,
              "#fb9f3a"
             ],
             [
              0.8888888888888888,
              "#fdca26"
             ],
             [
              1,
              "#f0f921"
             ]
            ],
            "type": "surface"
           }
          ],
          "table": [
           {
            "cells": {
             "fill": {
              "color": "#EBF0F8"
             },
             "line": {
              "color": "white"
             }
            },
            "header": {
             "fill": {
              "color": "#C8D4E3"
             },
             "line": {
              "color": "white"
             }
            },
            "type": "table"
           }
          ]
         },
         "layout": {
          "annotationdefaults": {
           "arrowcolor": "#2a3f5f",
           "arrowhead": 0,
           "arrowwidth": 1
          },
          "autotypenumbers": "strict",
          "coloraxis": {
           "colorbar": {
            "outlinewidth": 0,
            "ticks": ""
           }
          },
          "colorscale": {
           "diverging": [
            [
             0,
             "#8e0152"
            ],
            [
             0.1,
             "#c51b7d"
            ],
            [
             0.2,
             "#de77ae"
            ],
            [
             0.3,
             "#f1b6da"
            ],
            [
             0.4,
             "#fde0ef"
            ],
            [
             0.5,
             "#f7f7f7"
            ],
            [
             0.6,
             "#e6f5d0"
            ],
            [
             0.7,
             "#b8e186"
            ],
            [
             0.8,
             "#7fbc41"
            ],
            [
             0.9,
             "#4d9221"
            ],
            [
             1,
             "#276419"
            ]
           ],
           "sequential": [
            [
             0,
             "#0d0887"
            ],
            [
             0.1111111111111111,
             "#46039f"
            ],
            [
             0.2222222222222222,
             "#7201a8"
            ],
            [
             0.3333333333333333,
             "#9c179e"
            ],
            [
             0.4444444444444444,
             "#bd3786"
            ],
            [
             0.5555555555555556,
             "#d8576b"
            ],
            [
             0.6666666666666666,
             "#ed7953"
            ],
            [
             0.7777777777777778,
             "#fb9f3a"
            ],
            [
             0.8888888888888888,
             "#fdca26"
            ],
            [
             1,
             "#f0f921"
            ]
           ],
           "sequentialminus": [
            [
             0,
             "#0d0887"
            ],
            [
             0.1111111111111111,
             "#46039f"
            ],
            [
             0.2222222222222222,
             "#7201a8"
            ],
            [
             0.3333333333333333,
             "#9c179e"
            ],
            [
             0.4444444444444444,
             "#bd3786"
            ],
            [
             0.5555555555555556,
             "#d8576b"
            ],
            [
             0.6666666666666666,
             "#ed7953"
            ],
            [
             0.7777777777777778,
             "#fb9f3a"
            ],
            [
             0.8888888888888888,
             "#fdca26"
            ],
            [
             1,
             "#f0f921"
            ]
           ]
          },
          "colorway": [
           "#636efa",
           "#EF553B",
           "#00cc96",
           "#ab63fa",
           "#FFA15A",
           "#19d3f3",
           "#FF6692",
           "#B6E880",
           "#FF97FF",
           "#FECB52"
          ],
          "font": {
           "color": "#2a3f5f"
          },
          "geo": {
           "bgcolor": "white",
           "lakecolor": "white",
           "landcolor": "#E5ECF6",
           "showlakes": true,
           "showland": true,
           "subunitcolor": "white"
          },
          "hoverlabel": {
           "align": "left"
          },
          "hovermode": "closest",
          "mapbox": {
           "style": "light"
          },
          "paper_bgcolor": "white",
          "plot_bgcolor": "#E5ECF6",
          "polar": {
           "angularaxis": {
            "gridcolor": "white",
            "linecolor": "white",
            "ticks": ""
           },
           "bgcolor": "#E5ECF6",
           "radialaxis": {
            "gridcolor": "white",
            "linecolor": "white",
            "ticks": ""
           }
          },
          "scene": {
           "xaxis": {
            "backgroundcolor": "#E5ECF6",
            "gridcolor": "white",
            "gridwidth": 2,
            "linecolor": "white",
            "showbackground": true,
            "ticks": "",
            "zerolinecolor": "white"
           },
           "yaxis": {
            "backgroundcolor": "#E5ECF6",
            "gridcolor": "white",
            "gridwidth": 2,
            "linecolor": "white",
            "showbackground": true,
            "ticks": "",
            "zerolinecolor": "white"
           },
           "zaxis": {
            "backgroundcolor": "#E5ECF6",
            "gridcolor": "white",
            "gridwidth": 2,
            "linecolor": "white",
            "showbackground": true,
            "ticks": "",
            "zerolinecolor": "white"
           }
          },
          "shapedefaults": {
           "line": {
            "color": "#2a3f5f"
           }
          },
          "ternary": {
           "aaxis": {
            "gridcolor": "white",
            "linecolor": "white",
            "ticks": ""
           },
           "baxis": {
            "gridcolor": "white",
            "linecolor": "white",
            "ticks": ""
           },
           "bgcolor": "#E5ECF6",
           "caxis": {
            "gridcolor": "white",
            "linecolor": "white",
            "ticks": ""
           }
          },
          "title": {
           "x": 0.05
          },
          "xaxis": {
           "automargin": true,
           "gridcolor": "white",
           "linecolor": "white",
           "ticks": "",
           "title": {
            "standoff": 15
           },
           "zerolinecolor": "white",
           "zerolinewidth": 2
          },
          "yaxis": {
           "automargin": true,
           "gridcolor": "white",
           "linecolor": "white",
           "ticks": "",
           "title": {
            "standoff": 15
           },
           "zerolinecolor": "white",
           "zerolinewidth": 2
          }
         }
        },
        "title": {
         "text": "Distribution Type Movies"
        },
        "xaxis": {
         "anchor": "y",
         "domain": [
          0,
          1
         ],
         "title": {
          "text": "rating"
         }
        },
        "yaxis": {
         "anchor": "x",
         "domain": [
          0,
          1
         ],
         "title": {
          "text": "value"
         }
        }
       }
      },
      "text/html": [
       "<div>                            <div id=\"56744d19-e88b-4fff-839a-8129319a9480\" class=\"plotly-graph-div\" style=\"height:525px; width:100%;\"></div>            <script type=\"text/javascript\">                require([\"plotly\"], function(Plotly) {                    window.PLOTLYENV=window.PLOTLYENV || {};                                    if (document.getElementById(\"56744d19-e88b-4fff-839a-8129319a9480\")) {                    Plotly.newPlot(                        \"56744d19-e88b-4fff-839a-8129319a9480\",                        [{\"alignmentgroup\":\"True\",\"hovertemplate\":\"variable=count<br>rating=%{x}<br>value=%{y}<extra></extra>\",\"legendgroup\":\"count\",\"marker\":{\"color\":\"#636efa\",\"pattern\":{\"shape\":\"\"}},\"name\":\"count\",\"offsetgroup\":\"count\",\"orientation\":\"v\",\"showlegend\":true,\"textposition\":\"auto\",\"texttemplate\":\"%{y}\",\"x\":[\"TV-MA\",\"TV-14\",\"TV-PG\",\"R\",\"PG-13\",\"TV-Y7\",\"TV-Y\",\"PG\",\"TV-G\",\"NR\",\"G\",\"TV-Y7-FV\",\"NC-17\",\"UR\",\"74 min\",\"84 min\",\"66 min\",\"A\"],\"xaxis\":\"x\",\"y\":[3208,2160,863,799,490,334,307,287,220,80,41,6,3,3,1,1,1,1],\"yaxis\":\"y\",\"type\":\"bar\"}],                        {\"template\":{\"data\":{\"histogram2dcontour\":[{\"type\":\"histogram2dcontour\",\"colorbar\":{\"outlinewidth\":0,\"ticks\":\"\"},\"colorscale\":[[0.0,\"#0d0887\"],[0.1111111111111111,\"#46039f\"],[0.2222222222222222,\"#7201a8\"],[0.3333333333333333,\"#9c179e\"],[0.4444444444444444,\"#bd3786\"],[0.5555555555555556,\"#d8576b\"],[0.6666666666666666,\"#ed7953\"],[0.7777777777777778,\"#fb9f3a\"],[0.8888888888888888,\"#fdca26\"],[1.0,\"#f0f921\"]]}],\"choropleth\":[{\"type\":\"choropleth\",\"colorbar\":{\"outlinewidth\":0,\"ticks\":\"\"}}],\"histogram2d\":[{\"type\":\"histogram2d\",\"colorbar\":{\"outlinewidth\":0,\"ticks\":\"\"},\"colorscale\":[[0.0,\"#0d0887\"],[0.1111111111111111,\"#46039f\"],[0.2222222222222222,\"#7201a8\"],[0.3333333333333333,\"#9c179e\"],[0.4444444444444444,\"#bd3786\"],[0.5555555555555556,\"#d8576b\"],[0.6666666666666666,\"#ed7953\"],[0.7777777777777778,\"#fb9f3a\"],[0.8888888888888888,\"#fdca26\"],[1.0,\"#f0f921\"]]}],\"heatmap\":[{\"type\":\"heatmap\",\"colorbar\":{\"outlinewidth\":0,\"ticks\":\"\"},\"colorscale\":[[0.0,\"#0d0887\"],[0.1111111111111111,\"#46039f\"],[0.2222222222222222,\"#7201a8\"],[0.3333333333333333,\"#9c179e\"],[0.4444444444444444,\"#bd3786\"],[0.5555555555555556,\"#d8576b\"],[0.6666666666666666,\"#ed7953\"],[0.7777777777777778,\"#fb9f3a\"],[0.8888888888888888,\"#fdca26\"],[1.0,\"#f0f921\"]]}],\"heatmapgl\":[{\"type\":\"heatmapgl\",\"colorbar\":{\"outlinewidth\":0,\"ticks\":\"\"},\"colorscale\":[[0.0,\"#0d0887\"],[0.1111111111111111,\"#46039f\"],[0.2222222222222222,\"#7201a8\"],[0.3333333333333333,\"#9c179e\"],[0.4444444444444444,\"#bd3786\"],[0.5555555555555556,\"#d8576b\"],[0.6666666666666666,\"#ed7953\"],[0.7777777777777778,\"#fb9f3a\"],[0.8888888888888888,\"#fdca26\"],[1.0,\"#f0f921\"]]}],\"contourcarpet\":[{\"type\":\"contourcarpet\",\"colorbar\":{\"outlinewidth\":0,\"ticks\":\"\"}}],\"contour\":[{\"type\":\"contour\",\"colorbar\":{\"outlinewidth\":0,\"ticks\":\"\"},\"colorscale\":[[0.0,\"#0d0887\"],[0.1111111111111111,\"#46039f\"],[0.2222222222222222,\"#7201a8\"],[0.3333333333333333,\"#9c179e\"],[0.4444444444444444,\"#bd3786\"],[0.5555555555555556,\"#d8576b\"],[0.6666666666666666,\"#ed7953\"],[0.7777777777777778,\"#fb9f3a\"],[0.8888888888888888,\"#fdca26\"],[1.0,\"#f0f921\"]]}],\"surface\":[{\"type\":\"surface\",\"colorbar\":{\"outlinewidth\":0,\"ticks\":\"\"},\"colorscale\":[[0.0,\"#0d0887\"],[0.1111111111111111,\"#46039f\"],[0.2222222222222222,\"#7201a8\"],[0.3333333333333333,\"#9c179e\"],[0.4444444444444444,\"#bd3786\"],[0.5555555555555556,\"#d8576b\"],[0.6666666666666666,\"#ed7953\"],[0.7777777777777778,\"#fb9f3a\"],[0.8888888888888888,\"#fdca26\"],[1.0,\"#f0f921\"]]}],\"mesh3d\":[{\"type\":\"mesh3d\",\"colorbar\":{\"outlinewidth\":0,\"ticks\":\"\"}}],\"scatter\":[{\"fillpattern\":{\"fillmode\":\"overlay\",\"size\":10,\"solidity\":0.2},\"type\":\"scatter\"}],\"parcoords\":[{\"type\":\"parcoords\",\"line\":{\"colorbar\":{\"outlinewidth\":0,\"ticks\":\"\"}}}],\"scatterpolargl\":[{\"type\":\"scatterpolargl\",\"marker\":{\"colorbar\":{\"outlinewidth\":0,\"ticks\":\"\"}}}],\"bar\":[{\"error_x\":{\"color\":\"#2a3f5f\"},\"error_y\":{\"color\":\"#2a3f5f\"},\"marker\":{\"line\":{\"color\":\"#E5ECF6\",\"width\":0.5},\"pattern\":{\"fillmode\":\"overlay\",\"size\":10,\"solidity\":0.2}},\"type\":\"bar\"}],\"scattergeo\":[{\"type\":\"scattergeo\",\"marker\":{\"colorbar\":{\"outlinewidth\":0,\"ticks\":\"\"}}}],\"scatterpolar\":[{\"type\":\"scatterpolar\",\"marker\":{\"colorbar\":{\"outlinewidth\":0,\"ticks\":\"\"}}}],\"histogram\":[{\"marker\":{\"pattern\":{\"fillmode\":\"overlay\",\"size\":10,\"solidity\":0.2}},\"type\":\"histogram\"}],\"scattergl\":[{\"type\":\"scattergl\",\"marker\":{\"colorbar\":{\"outlinewidth\":0,\"ticks\":\"\"}}}],\"scatter3d\":[{\"type\":\"scatter3d\",\"line\":{\"colorbar\":{\"outlinewidth\":0,\"ticks\":\"\"}},\"marker\":{\"colorbar\":{\"outlinewidth\":0,\"ticks\":\"\"}}}],\"scattermapbox\":[{\"type\":\"scattermapbox\",\"marker\":{\"colorbar\":{\"outlinewidth\":0,\"ticks\":\"\"}}}],\"scatterternary\":[{\"type\":\"scatterternary\",\"marker\":{\"colorbar\":{\"outlinewidth\":0,\"ticks\":\"\"}}}],\"scattercarpet\":[{\"type\":\"scattercarpet\",\"marker\":{\"colorbar\":{\"outlinewidth\":0,\"ticks\":\"\"}}}],\"carpet\":[{\"aaxis\":{\"endlinecolor\":\"#2a3f5f\",\"gridcolor\":\"white\",\"linecolor\":\"white\",\"minorgridcolor\":\"white\",\"startlinecolor\":\"#2a3f5f\"},\"baxis\":{\"endlinecolor\":\"#2a3f5f\",\"gridcolor\":\"white\",\"linecolor\":\"white\",\"minorgridcolor\":\"white\",\"startlinecolor\":\"#2a3f5f\"},\"type\":\"carpet\"}],\"table\":[{\"cells\":{\"fill\":{\"color\":\"#EBF0F8\"},\"line\":{\"color\":\"white\"}},\"header\":{\"fill\":{\"color\":\"#C8D4E3\"},\"line\":{\"color\":\"white\"}},\"type\":\"table\"}],\"barpolar\":[{\"marker\":{\"line\":{\"color\":\"#E5ECF6\",\"width\":0.5},\"pattern\":{\"fillmode\":\"overlay\",\"size\":10,\"solidity\":0.2}},\"type\":\"barpolar\"}],\"pie\":[{\"automargin\":true,\"type\":\"pie\"}]},\"layout\":{\"autotypenumbers\":\"strict\",\"colorway\":[\"#636efa\",\"#EF553B\",\"#00cc96\",\"#ab63fa\",\"#FFA15A\",\"#19d3f3\",\"#FF6692\",\"#B6E880\",\"#FF97FF\",\"#FECB52\"],\"font\":{\"color\":\"#2a3f5f\"},\"hovermode\":\"closest\",\"hoverlabel\":{\"align\":\"left\"},\"paper_bgcolor\":\"white\",\"plot_bgcolor\":\"#E5ECF6\",\"polar\":{\"bgcolor\":\"#E5ECF6\",\"angularaxis\":{\"gridcolor\":\"white\",\"linecolor\":\"white\",\"ticks\":\"\"},\"radialaxis\":{\"gridcolor\":\"white\",\"linecolor\":\"white\",\"ticks\":\"\"}},\"ternary\":{\"bgcolor\":\"#E5ECF6\",\"aaxis\":{\"gridcolor\":\"white\",\"linecolor\":\"white\",\"ticks\":\"\"},\"baxis\":{\"gridcolor\":\"white\",\"linecolor\":\"white\",\"ticks\":\"\"},\"caxis\":{\"gridcolor\":\"white\",\"linecolor\":\"white\",\"ticks\":\"\"}},\"coloraxis\":{\"colorbar\":{\"outlinewidth\":0,\"ticks\":\"\"}},\"colorscale\":{\"sequential\":[[0.0,\"#0d0887\"],[0.1111111111111111,\"#46039f\"],[0.2222222222222222,\"#7201a8\"],[0.3333333333333333,\"#9c179e\"],[0.4444444444444444,\"#bd3786\"],[0.5555555555555556,\"#d8576b\"],[0.6666666666666666,\"#ed7953\"],[0.7777777777777778,\"#fb9f3a\"],[0.8888888888888888,\"#fdca26\"],[1.0,\"#f0f921\"]],\"sequentialminus\":[[0.0,\"#0d0887\"],[0.1111111111111111,\"#46039f\"],[0.2222222222222222,\"#7201a8\"],[0.3333333333333333,\"#9c179e\"],[0.4444444444444444,\"#bd3786\"],[0.5555555555555556,\"#d8576b\"],[0.6666666666666666,\"#ed7953\"],[0.7777777777777778,\"#fb9f3a\"],[0.8888888888888888,\"#fdca26\"],[1.0,\"#f0f921\"]],\"diverging\":[[0,\"#8e0152\"],[0.1,\"#c51b7d\"],[0.2,\"#de77ae\"],[0.3,\"#f1b6da\"],[0.4,\"#fde0ef\"],[0.5,\"#f7f7f7\"],[0.6,\"#e6f5d0\"],[0.7,\"#b8e186\"],[0.8,\"#7fbc41\"],[0.9,\"#4d9221\"],[1,\"#276419\"]]},\"xaxis\":{\"gridcolor\":\"white\",\"linecolor\":\"white\",\"ticks\":\"\",\"title\":{\"standoff\":15},\"zerolinecolor\":\"white\",\"automargin\":true,\"zerolinewidth\":2},\"yaxis\":{\"gridcolor\":\"white\",\"linecolor\":\"white\",\"ticks\":\"\",\"title\":{\"standoff\":15},\"zerolinecolor\":\"white\",\"automargin\":true,\"zerolinewidth\":2},\"scene\":{\"xaxis\":{\"backgroundcolor\":\"#E5ECF6\",\"gridcolor\":\"white\",\"linecolor\":\"white\",\"showbackground\":true,\"ticks\":\"\",\"zerolinecolor\":\"white\",\"gridwidth\":2},\"yaxis\":{\"backgroundcolor\":\"#E5ECF6\",\"gridcolor\":\"white\",\"linecolor\":\"white\",\"showbackground\":true,\"ticks\":\"\",\"zerolinecolor\":\"white\",\"gridwidth\":2},\"zaxis\":{\"backgroundcolor\":\"#E5ECF6\",\"gridcolor\":\"white\",\"linecolor\":\"white\",\"showbackground\":true,\"ticks\":\"\",\"zerolinecolor\":\"white\",\"gridwidth\":2}},\"shapedefaults\":{\"line\":{\"color\":\"#2a3f5f\"}},\"annotationdefaults\":{\"arrowcolor\":\"#2a3f5f\",\"arrowhead\":0,\"arrowwidth\":1},\"geo\":{\"bgcolor\":\"white\",\"landcolor\":\"#E5ECF6\",\"subunitcolor\":\"white\",\"showland\":true,\"showlakes\":true,\"lakecolor\":\"white\"},\"title\":{\"x\":0.05},\"mapbox\":{\"style\":\"light\"}}},\"xaxis\":{\"anchor\":\"y\",\"domain\":[0.0,1.0],\"title\":{\"text\":\"rating\"}},\"yaxis\":{\"anchor\":\"x\",\"domain\":[0.0,1.0],\"title\":{\"text\":\"value\"}},\"legend\":{\"title\":{\"text\":\"variable\"},\"tracegroupgap\":0},\"title\":{\"text\":\"Distribution Type Movies\"},\"barmode\":\"relative\"},                        {\"responsive\": true}                    ).then(function(){\n",
       "                            \n",
       "var gd = document.getElementById('56744d19-e88b-4fff-839a-8129319a9480');\n",
       "var x = new MutationObserver(function (mutations, observer) {{\n",
       "        var display = window.getComputedStyle(gd).display;\n",
       "        if (!display || display === 'none') {{\n",
       "            console.log([gd, 'removed!']);\n",
       "            Plotly.purge(gd);\n",
       "            observer.disconnect();\n",
       "        }}\n",
       "}});\n",
       "\n",
       "// Listen for the removal of the full notebook cells\n",
       "var notebookContainer = gd.closest('#notebook-container');\n",
       "if (notebookContainer) {{\n",
       "    x.observe(notebookContainer, {childList: true});\n",
       "}}\n",
       "\n",
       "// Listen for the clearing of the current output cell\n",
       "var outputEl = gd.closest('.output');\n",
       "if (outputEl) {{\n",
       "    x.observe(outputEl, {childList: true});\n",
       "}}\n",
       "\n",
       "                        })                };                });            </script>        </div>"
      ]
     },
     "metadata": {},
     "output_type": "display_data"
    }
   ],
   "source": [
    "px.bar(data_frame=data.rating.value_counts() ,text_auto=True, title='Distribution Type Movies' )"
   ]
  },
  {
   "cell_type": "code",
   "execution_count": 76,
   "id": "ba078568",
   "metadata": {},
   "outputs": [
    {
     "name": "stdout",
     "output_type": "stream",
     "text": [
      "director\n",
      "Rajiv Chilaka                     19\n",
      "RaÃºl Campos, Jan Suter           18\n",
      "Marcus Raboy                      16\n",
      "Suhas Kadav                       16\n",
      "Jay Karas                         14\n",
      "                                  ..\n",
      "Raymie Muzquiz, Stu Livingston     1\n",
      "Joe Menendez                       1\n",
      "Eric Bross                         1\n",
      "Will Eisenberg                     1\n",
      "Yeon Sang-ho                       1\n",
      "Name: count, Length: 4529, dtype: int64\n"
     ]
    }
   ],
   "source": [
    "top_10_director= data[\"director\"].value_counts()\n",
    "print(top_10_director)"
   ]
  },
  {
   "cell_type": "code",
   "execution_count": 79,
   "id": "9ffff187",
   "metadata": {},
   "outputs": [
    {
     "data": {
      "application/vnd.plotly.v1+json": {
       "config": {
        "plotlyServerURL": "https://plot.ly"
       },
       "data": [
        {
         "alignmentgroup": "True",
         "hovertemplate": "variable=count<br>director=%{x}<br>value=%{y}<extra></extra>",
         "legendgroup": "count",
         "marker": {
          "color": "#636efa",
          "pattern": {
           "shape": ""
          }
         },
         "name": "count",
         "offsetgroup": "count",
         "orientation": "v",
         "showlegend": true,
         "textposition": "auto",
         "texttemplate": "%{y}",
         "type": "bar",
         "x": [
          "Rajiv Chilaka",
          "RaÃºl Campos, Jan Suter",
          "Marcus Raboy",
          "Suhas Kadav",
          "Jay Karas",
          "Cathy Garcia-Molina",
          "Martin Scorsese",
          "Jay Chapman",
          "Youssef Chahine",
          "Steven Spielberg"
         ],
         "xaxis": "x",
         "y": [
          19,
          18,
          16,
          16,
          14,
          13,
          12,
          12,
          12,
          11
         ],
         "yaxis": "y"
        }
       ],
       "layout": {
        "barmode": "relative",
        "legend": {
         "title": {
          "text": "variable"
         },
         "tracegroupgap": 0
        },
        "template": {
         "data": {
          "bar": [
           {
            "error_x": {
             "color": "#2a3f5f"
            },
            "error_y": {
             "color": "#2a3f5f"
            },
            "marker": {
             "line": {
              "color": "#E5ECF6",
              "width": 0.5
             },
             "pattern": {
              "fillmode": "overlay",
              "size": 10,
              "solidity": 0.2
             }
            },
            "type": "bar"
           }
          ],
          "barpolar": [
           {
            "marker": {
             "line": {
              "color": "#E5ECF6",
              "width": 0.5
             },
             "pattern": {
              "fillmode": "overlay",
              "size": 10,
              "solidity": 0.2
             }
            },
            "type": "barpolar"
           }
          ],
          "carpet": [
           {
            "aaxis": {
             "endlinecolor": "#2a3f5f",
             "gridcolor": "white",
             "linecolor": "white",
             "minorgridcolor": "white",
             "startlinecolor": "#2a3f5f"
            },
            "baxis": {
             "endlinecolor": "#2a3f5f",
             "gridcolor": "white",
             "linecolor": "white",
             "minorgridcolor": "white",
             "startlinecolor": "#2a3f5f"
            },
            "type": "carpet"
           }
          ],
          "choropleth": [
           {
            "colorbar": {
             "outlinewidth": 0,
             "ticks": ""
            },
            "type": "choropleth"
           }
          ],
          "contour": [
           {
            "colorbar": {
             "outlinewidth": 0,
             "ticks": ""
            },
            "colorscale": [
             [
              0,
              "#0d0887"
             ],
             [
              0.1111111111111111,
              "#46039f"
             ],
             [
              0.2222222222222222,
              "#7201a8"
             ],
             [
              0.3333333333333333,
              "#9c179e"
             ],
             [
              0.4444444444444444,
              "#bd3786"
             ],
             [
              0.5555555555555556,
              "#d8576b"
             ],
             [
              0.6666666666666666,
              "#ed7953"
             ],
             [
              0.7777777777777778,
              "#fb9f3a"
             ],
             [
              0.8888888888888888,
              "#fdca26"
             ],
             [
              1,
              "#f0f921"
             ]
            ],
            "type": "contour"
           }
          ],
          "contourcarpet": [
           {
            "colorbar": {
             "outlinewidth": 0,
             "ticks": ""
            },
            "type": "contourcarpet"
           }
          ],
          "heatmap": [
           {
            "colorbar": {
             "outlinewidth": 0,
             "ticks": ""
            },
            "colorscale": [
             [
              0,
              "#0d0887"
             ],
             [
              0.1111111111111111,
              "#46039f"
             ],
             [
              0.2222222222222222,
              "#7201a8"
             ],
             [
              0.3333333333333333,
              "#9c179e"
             ],
             [
              0.4444444444444444,
              "#bd3786"
             ],
             [
              0.5555555555555556,
              "#d8576b"
             ],
             [
              0.6666666666666666,
              "#ed7953"
             ],
             [
              0.7777777777777778,
              "#fb9f3a"
             ],
             [
              0.8888888888888888,
              "#fdca26"
             ],
             [
              1,
              "#f0f921"
             ]
            ],
            "type": "heatmap"
           }
          ],
          "heatmapgl": [
           {
            "colorbar": {
             "outlinewidth": 0,
             "ticks": ""
            },
            "colorscale": [
             [
              0,
              "#0d0887"
             ],
             [
              0.1111111111111111,
              "#46039f"
             ],
             [
              0.2222222222222222,
              "#7201a8"
             ],
             [
              0.3333333333333333,
              "#9c179e"
             ],
             [
              0.4444444444444444,
              "#bd3786"
             ],
             [
              0.5555555555555556,
              "#d8576b"
             ],
             [
              0.6666666666666666,
              "#ed7953"
             ],
             [
              0.7777777777777778,
              "#fb9f3a"
             ],
             [
              0.8888888888888888,
              "#fdca26"
             ],
             [
              1,
              "#f0f921"
             ]
            ],
            "type": "heatmapgl"
           }
          ],
          "histogram": [
           {
            "marker": {
             "pattern": {
              "fillmode": "overlay",
              "size": 10,
              "solidity": 0.2
             }
            },
            "type": "histogram"
           }
          ],
          "histogram2d": [
           {
            "colorbar": {
             "outlinewidth": 0,
             "ticks": ""
            },
            "colorscale": [
             [
              0,
              "#0d0887"
             ],
             [
              0.1111111111111111,
              "#46039f"
             ],
             [
              0.2222222222222222,
              "#7201a8"
             ],
             [
              0.3333333333333333,
              "#9c179e"
             ],
             [
              0.4444444444444444,
              "#bd3786"
             ],
             [
              0.5555555555555556,
              "#d8576b"
             ],
             [
              0.6666666666666666,
              "#ed7953"
             ],
             [
              0.7777777777777778,
              "#fb9f3a"
             ],
             [
              0.8888888888888888,
              "#fdca26"
             ],
             [
              1,
              "#f0f921"
             ]
            ],
            "type": "histogram2d"
           }
          ],
          "histogram2dcontour": [
           {
            "colorbar": {
             "outlinewidth": 0,
             "ticks": ""
            },
            "colorscale": [
             [
              0,
              "#0d0887"
             ],
             [
              0.1111111111111111,
              "#46039f"
             ],
             [
              0.2222222222222222,
              "#7201a8"
             ],
             [
              0.3333333333333333,
              "#9c179e"
             ],
             [
              0.4444444444444444,
              "#bd3786"
             ],
             [
              0.5555555555555556,
              "#d8576b"
             ],
             [
              0.6666666666666666,
              "#ed7953"
             ],
             [
              0.7777777777777778,
              "#fb9f3a"
             ],
             [
              0.8888888888888888,
              "#fdca26"
             ],
             [
              1,
              "#f0f921"
             ]
            ],
            "type": "histogram2dcontour"
           }
          ],
          "mesh3d": [
           {
            "colorbar": {
             "outlinewidth": 0,
             "ticks": ""
            },
            "type": "mesh3d"
           }
          ],
          "parcoords": [
           {
            "line": {
             "colorbar": {
              "outlinewidth": 0,
              "ticks": ""
             }
            },
            "type": "parcoords"
           }
          ],
          "pie": [
           {
            "automargin": true,
            "type": "pie"
           }
          ],
          "scatter": [
           {
            "fillpattern": {
             "fillmode": "overlay",
             "size": 10,
             "solidity": 0.2
            },
            "type": "scatter"
           }
          ],
          "scatter3d": [
           {
            "line": {
             "colorbar": {
              "outlinewidth": 0,
              "ticks": ""
             }
            },
            "marker": {
             "colorbar": {
              "outlinewidth": 0,
              "ticks": ""
             }
            },
            "type": "scatter3d"
           }
          ],
          "scattercarpet": [
           {
            "marker": {
             "colorbar": {
              "outlinewidth": 0,
              "ticks": ""
             }
            },
            "type": "scattercarpet"
           }
          ],
          "scattergeo": [
           {
            "marker": {
             "colorbar": {
              "outlinewidth": 0,
              "ticks": ""
             }
            },
            "type": "scattergeo"
           }
          ],
          "scattergl": [
           {
            "marker": {
             "colorbar": {
              "outlinewidth": 0,
              "ticks": ""
             }
            },
            "type": "scattergl"
           }
          ],
          "scattermapbox": [
           {
            "marker": {
             "colorbar": {
              "outlinewidth": 0,
              "ticks": ""
             }
            },
            "type": "scattermapbox"
           }
          ],
          "scatterpolar": [
           {
            "marker": {
             "colorbar": {
              "outlinewidth": 0,
              "ticks": ""
             }
            },
            "type": "scatterpolar"
           }
          ],
          "scatterpolargl": [
           {
            "marker": {
             "colorbar": {
              "outlinewidth": 0,
              "ticks": ""
             }
            },
            "type": "scatterpolargl"
           }
          ],
          "scatterternary": [
           {
            "marker": {
             "colorbar": {
              "outlinewidth": 0,
              "ticks": ""
             }
            },
            "type": "scatterternary"
           }
          ],
          "surface": [
           {
            "colorbar": {
             "outlinewidth": 0,
             "ticks": ""
            },
            "colorscale": [
             [
              0,
              "#0d0887"
             ],
             [
              0.1111111111111111,
              "#46039f"
             ],
             [
              0.2222222222222222,
              "#7201a8"
             ],
             [
              0.3333333333333333,
              "#9c179e"
             ],
             [
              0.4444444444444444,
              "#bd3786"
             ],
             [
              0.5555555555555556,
              "#d8576b"
             ],
             [
              0.6666666666666666,
              "#ed7953"
             ],
             [
              0.7777777777777778,
              "#fb9f3a"
             ],
             [
              0.8888888888888888,
              "#fdca26"
             ],
             [
              1,
              "#f0f921"
             ]
            ],
            "type": "surface"
           }
          ],
          "table": [
           {
            "cells": {
             "fill": {
              "color": "#EBF0F8"
             },
             "line": {
              "color": "white"
             }
            },
            "header": {
             "fill": {
              "color": "#C8D4E3"
             },
             "line": {
              "color": "white"
             }
            },
            "type": "table"
           }
          ]
         },
         "layout": {
          "annotationdefaults": {
           "arrowcolor": "#2a3f5f",
           "arrowhead": 0,
           "arrowwidth": 1
          },
          "autotypenumbers": "strict",
          "coloraxis": {
           "colorbar": {
            "outlinewidth": 0,
            "ticks": ""
           }
          },
          "colorscale": {
           "diverging": [
            [
             0,
             "#8e0152"
            ],
            [
             0.1,
             "#c51b7d"
            ],
            [
             0.2,
             "#de77ae"
            ],
            [
             0.3,
             "#f1b6da"
            ],
            [
             0.4,
             "#fde0ef"
            ],
            [
             0.5,
             "#f7f7f7"
            ],
            [
             0.6,
             "#e6f5d0"
            ],
            [
             0.7,
             "#b8e186"
            ],
            [
             0.8,
             "#7fbc41"
            ],
            [
             0.9,
             "#4d9221"
            ],
            [
             1,
             "#276419"
            ]
           ],
           "sequential": [
            [
             0,
             "#0d0887"
            ],
            [
             0.1111111111111111,
             "#46039f"
            ],
            [
             0.2222222222222222,
             "#7201a8"
            ],
            [
             0.3333333333333333,
             "#9c179e"
            ],
            [
             0.4444444444444444,
             "#bd3786"
            ],
            [
             0.5555555555555556,
             "#d8576b"
            ],
            [
             0.6666666666666666,
             "#ed7953"
            ],
            [
             0.7777777777777778,
             "#fb9f3a"
            ],
            [
             0.8888888888888888,
             "#fdca26"
            ],
            [
             1,
             "#f0f921"
            ]
           ],
           "sequentialminus": [
            [
             0,
             "#0d0887"
            ],
            [
             0.1111111111111111,
             "#46039f"
            ],
            [
             0.2222222222222222,
             "#7201a8"
            ],
            [
             0.3333333333333333,
             "#9c179e"
            ],
            [
             0.4444444444444444,
             "#bd3786"
            ],
            [
             0.5555555555555556,
             "#d8576b"
            ],
            [
             0.6666666666666666,
             "#ed7953"
            ],
            [
             0.7777777777777778,
             "#fb9f3a"
            ],
            [
             0.8888888888888888,
             "#fdca26"
            ],
            [
             1,
             "#f0f921"
            ]
           ]
          },
          "colorway": [
           "#636efa",
           "#EF553B",
           "#00cc96",
           "#ab63fa",
           "#FFA15A",
           "#19d3f3",
           "#FF6692",
           "#B6E880",
           "#FF97FF",
           "#FECB52"
          ],
          "font": {
           "color": "#2a3f5f"
          },
          "geo": {
           "bgcolor": "white",
           "lakecolor": "white",
           "landcolor": "#E5ECF6",
           "showlakes": true,
           "showland": true,
           "subunitcolor": "white"
          },
          "hoverlabel": {
           "align": "left"
          },
          "hovermode": "closest",
          "mapbox": {
           "style": "light"
          },
          "paper_bgcolor": "white",
          "plot_bgcolor": "#E5ECF6",
          "polar": {
           "angularaxis": {
            "gridcolor": "white",
            "linecolor": "white",
            "ticks": ""
           },
           "bgcolor": "#E5ECF6",
           "radialaxis": {
            "gridcolor": "white",
            "linecolor": "white",
            "ticks": ""
           }
          },
          "scene": {
           "xaxis": {
            "backgroundcolor": "#E5ECF6",
            "gridcolor": "white",
            "gridwidth": 2,
            "linecolor": "white",
            "showbackground": true,
            "ticks": "",
            "zerolinecolor": "white"
           },
           "yaxis": {
            "backgroundcolor": "#E5ECF6",
            "gridcolor": "white",
            "gridwidth": 2,
            "linecolor": "white",
            "showbackground": true,
            "ticks": "",
            "zerolinecolor": "white"
           },
           "zaxis": {
            "backgroundcolor": "#E5ECF6",
            "gridcolor": "white",
            "gridwidth": 2,
            "linecolor": "white",
            "showbackground": true,
            "ticks": "",
            "zerolinecolor": "white"
           }
          },
          "shapedefaults": {
           "line": {
            "color": "#2a3f5f"
           }
          },
          "ternary": {
           "aaxis": {
            "gridcolor": "white",
            "linecolor": "white",
            "ticks": ""
           },
           "baxis": {
            "gridcolor": "white",
            "linecolor": "white",
            "ticks": ""
           },
           "bgcolor": "#E5ECF6",
           "caxis": {
            "gridcolor": "white",
            "linecolor": "white",
            "ticks": ""
           }
          },
          "title": {
           "x": 0.05
          },
          "xaxis": {
           "automargin": true,
           "gridcolor": "white",
           "linecolor": "white",
           "ticks": "",
           "title": {
            "standoff": 15
           },
           "zerolinecolor": "white",
           "zerolinewidth": 2
          },
          "yaxis": {
           "automargin": true,
           "gridcolor": "white",
           "linecolor": "white",
           "ticks": "",
           "title": {
            "standoff": 15
           },
           "zerolinecolor": "white",
           "zerolinewidth": 2
          }
         }
        },
        "title": {
         "text": "Top 10 Distribution Director Movies"
        },
        "xaxis": {
         "anchor": "y",
         "domain": [
          0,
          1
         ],
         "title": {
          "text": "director"
         }
        },
        "yaxis": {
         "anchor": "x",
         "domain": [
          0,
          1
         ],
         "title": {
          "text": "value"
         }
        }
       }
      },
      "text/html": [
       "<div>                            <div id=\"0eaaf586-b578-4a1e-b921-001950d77bd6\" class=\"plotly-graph-div\" style=\"height:525px; width:100%;\"></div>            <script type=\"text/javascript\">                require([\"plotly\"], function(Plotly) {                    window.PLOTLYENV=window.PLOTLYENV || {};                                    if (document.getElementById(\"0eaaf586-b578-4a1e-b921-001950d77bd6\")) {                    Plotly.newPlot(                        \"0eaaf586-b578-4a1e-b921-001950d77bd6\",                        [{\"alignmentgroup\":\"True\",\"hovertemplate\":\"variable=count<br>director=%{x}<br>value=%{y}<extra></extra>\",\"legendgroup\":\"count\",\"marker\":{\"color\":\"#636efa\",\"pattern\":{\"shape\":\"\"}},\"name\":\"count\",\"offsetgroup\":\"count\",\"orientation\":\"v\",\"showlegend\":true,\"textposition\":\"auto\",\"texttemplate\":\"%{y}\",\"x\":[\"Rajiv Chilaka\",\"Ra\\u00c3\\u00bal Campos, Jan Suter\",\"Marcus Raboy\",\"Suhas Kadav\",\"Jay Karas\",\"Cathy Garcia-Molina\",\"Martin Scorsese\",\"Jay Chapman\",\"Youssef Chahine\",\"Steven Spielberg\"],\"xaxis\":\"x\",\"y\":[19,18,16,16,14,13,12,12,12,11],\"yaxis\":\"y\",\"type\":\"bar\"}],                        {\"template\":{\"data\":{\"histogram2dcontour\":[{\"type\":\"histogram2dcontour\",\"colorbar\":{\"outlinewidth\":0,\"ticks\":\"\"},\"colorscale\":[[0.0,\"#0d0887\"],[0.1111111111111111,\"#46039f\"],[0.2222222222222222,\"#7201a8\"],[0.3333333333333333,\"#9c179e\"],[0.4444444444444444,\"#bd3786\"],[0.5555555555555556,\"#d8576b\"],[0.6666666666666666,\"#ed7953\"],[0.7777777777777778,\"#fb9f3a\"],[0.8888888888888888,\"#fdca26\"],[1.0,\"#f0f921\"]]}],\"choropleth\":[{\"type\":\"choropleth\",\"colorbar\":{\"outlinewidth\":0,\"ticks\":\"\"}}],\"histogram2d\":[{\"type\":\"histogram2d\",\"colorbar\":{\"outlinewidth\":0,\"ticks\":\"\"},\"colorscale\":[[0.0,\"#0d0887\"],[0.1111111111111111,\"#46039f\"],[0.2222222222222222,\"#7201a8\"],[0.3333333333333333,\"#9c179e\"],[0.4444444444444444,\"#bd3786\"],[0.5555555555555556,\"#d8576b\"],[0.6666666666666666,\"#ed7953\"],[0.7777777777777778,\"#fb9f3a\"],[0.8888888888888888,\"#fdca26\"],[1.0,\"#f0f921\"]]}],\"heatmap\":[{\"type\":\"heatmap\",\"colorbar\":{\"outlinewidth\":0,\"ticks\":\"\"},\"colorscale\":[[0.0,\"#0d0887\"],[0.1111111111111111,\"#46039f\"],[0.2222222222222222,\"#7201a8\"],[0.3333333333333333,\"#9c179e\"],[0.4444444444444444,\"#bd3786\"],[0.5555555555555556,\"#d8576b\"],[0.6666666666666666,\"#ed7953\"],[0.7777777777777778,\"#fb9f3a\"],[0.8888888888888888,\"#fdca26\"],[1.0,\"#f0f921\"]]}],\"heatmapgl\":[{\"type\":\"heatmapgl\",\"colorbar\":{\"outlinewidth\":0,\"ticks\":\"\"},\"colorscale\":[[0.0,\"#0d0887\"],[0.1111111111111111,\"#46039f\"],[0.2222222222222222,\"#7201a8\"],[0.3333333333333333,\"#9c179e\"],[0.4444444444444444,\"#bd3786\"],[0.5555555555555556,\"#d8576b\"],[0.6666666666666666,\"#ed7953\"],[0.7777777777777778,\"#fb9f3a\"],[0.8888888888888888,\"#fdca26\"],[1.0,\"#f0f921\"]]}],\"contourcarpet\":[{\"type\":\"contourcarpet\",\"colorbar\":{\"outlinewidth\":0,\"ticks\":\"\"}}],\"contour\":[{\"type\":\"contour\",\"colorbar\":{\"outlinewidth\":0,\"ticks\":\"\"},\"colorscale\":[[0.0,\"#0d0887\"],[0.1111111111111111,\"#46039f\"],[0.2222222222222222,\"#7201a8\"],[0.3333333333333333,\"#9c179e\"],[0.4444444444444444,\"#bd3786\"],[0.5555555555555556,\"#d8576b\"],[0.6666666666666666,\"#ed7953\"],[0.7777777777777778,\"#fb9f3a\"],[0.8888888888888888,\"#fdca26\"],[1.0,\"#f0f921\"]]}],\"surface\":[{\"type\":\"surface\",\"colorbar\":{\"outlinewidth\":0,\"ticks\":\"\"},\"colorscale\":[[0.0,\"#0d0887\"],[0.1111111111111111,\"#46039f\"],[0.2222222222222222,\"#7201a8\"],[0.3333333333333333,\"#9c179e\"],[0.4444444444444444,\"#bd3786\"],[0.5555555555555556,\"#d8576b\"],[0.6666666666666666,\"#ed7953\"],[0.7777777777777778,\"#fb9f3a\"],[0.8888888888888888,\"#fdca26\"],[1.0,\"#f0f921\"]]}],\"mesh3d\":[{\"type\":\"mesh3d\",\"colorbar\":{\"outlinewidth\":0,\"ticks\":\"\"}}],\"scatter\":[{\"fillpattern\":{\"fillmode\":\"overlay\",\"size\":10,\"solidity\":0.2},\"type\":\"scatter\"}],\"parcoords\":[{\"type\":\"parcoords\",\"line\":{\"colorbar\":{\"outlinewidth\":0,\"ticks\":\"\"}}}],\"scatterpolargl\":[{\"type\":\"scatterpolargl\",\"marker\":{\"colorbar\":{\"outlinewidth\":0,\"ticks\":\"\"}}}],\"bar\":[{\"error_x\":{\"color\":\"#2a3f5f\"},\"error_y\":{\"color\":\"#2a3f5f\"},\"marker\":{\"line\":{\"color\":\"#E5ECF6\",\"width\":0.5},\"pattern\":{\"fillmode\":\"overlay\",\"size\":10,\"solidity\":0.2}},\"type\":\"bar\"}],\"scattergeo\":[{\"type\":\"scattergeo\",\"marker\":{\"colorbar\":{\"outlinewidth\":0,\"ticks\":\"\"}}}],\"scatterpolar\":[{\"type\":\"scatterpolar\",\"marker\":{\"colorbar\":{\"outlinewidth\":0,\"ticks\":\"\"}}}],\"histogram\":[{\"marker\":{\"pattern\":{\"fillmode\":\"overlay\",\"size\":10,\"solidity\":0.2}},\"type\":\"histogram\"}],\"scattergl\":[{\"type\":\"scattergl\",\"marker\":{\"colorbar\":{\"outlinewidth\":0,\"ticks\":\"\"}}}],\"scatter3d\":[{\"type\":\"scatter3d\",\"line\":{\"colorbar\":{\"outlinewidth\":0,\"ticks\":\"\"}},\"marker\":{\"colorbar\":{\"outlinewidth\":0,\"ticks\":\"\"}}}],\"scattermapbox\":[{\"type\":\"scattermapbox\",\"marker\":{\"colorbar\":{\"outlinewidth\":0,\"ticks\":\"\"}}}],\"scatterternary\":[{\"type\":\"scatterternary\",\"marker\":{\"colorbar\":{\"outlinewidth\":0,\"ticks\":\"\"}}}],\"scattercarpet\":[{\"type\":\"scattercarpet\",\"marker\":{\"colorbar\":{\"outlinewidth\":0,\"ticks\":\"\"}}}],\"carpet\":[{\"aaxis\":{\"endlinecolor\":\"#2a3f5f\",\"gridcolor\":\"white\",\"linecolor\":\"white\",\"minorgridcolor\":\"white\",\"startlinecolor\":\"#2a3f5f\"},\"baxis\":{\"endlinecolor\":\"#2a3f5f\",\"gridcolor\":\"white\",\"linecolor\":\"white\",\"minorgridcolor\":\"white\",\"startlinecolor\":\"#2a3f5f\"},\"type\":\"carpet\"}],\"table\":[{\"cells\":{\"fill\":{\"color\":\"#EBF0F8\"},\"line\":{\"color\":\"white\"}},\"header\":{\"fill\":{\"color\":\"#C8D4E3\"},\"line\":{\"color\":\"white\"}},\"type\":\"table\"}],\"barpolar\":[{\"marker\":{\"line\":{\"color\":\"#E5ECF6\",\"width\":0.5},\"pattern\":{\"fillmode\":\"overlay\",\"size\":10,\"solidity\":0.2}},\"type\":\"barpolar\"}],\"pie\":[{\"automargin\":true,\"type\":\"pie\"}]},\"layout\":{\"autotypenumbers\":\"strict\",\"colorway\":[\"#636efa\",\"#EF553B\",\"#00cc96\",\"#ab63fa\",\"#FFA15A\",\"#19d3f3\",\"#FF6692\",\"#B6E880\",\"#FF97FF\",\"#FECB52\"],\"font\":{\"color\":\"#2a3f5f\"},\"hovermode\":\"closest\",\"hoverlabel\":{\"align\":\"left\"},\"paper_bgcolor\":\"white\",\"plot_bgcolor\":\"#E5ECF6\",\"polar\":{\"bgcolor\":\"#E5ECF6\",\"angularaxis\":{\"gridcolor\":\"white\",\"linecolor\":\"white\",\"ticks\":\"\"},\"radialaxis\":{\"gridcolor\":\"white\",\"linecolor\":\"white\",\"ticks\":\"\"}},\"ternary\":{\"bgcolor\":\"#E5ECF6\",\"aaxis\":{\"gridcolor\":\"white\",\"linecolor\":\"white\",\"ticks\":\"\"},\"baxis\":{\"gridcolor\":\"white\",\"linecolor\":\"white\",\"ticks\":\"\"},\"caxis\":{\"gridcolor\":\"white\",\"linecolor\":\"white\",\"ticks\":\"\"}},\"coloraxis\":{\"colorbar\":{\"outlinewidth\":0,\"ticks\":\"\"}},\"colorscale\":{\"sequential\":[[0.0,\"#0d0887\"],[0.1111111111111111,\"#46039f\"],[0.2222222222222222,\"#7201a8\"],[0.3333333333333333,\"#9c179e\"],[0.4444444444444444,\"#bd3786\"],[0.5555555555555556,\"#d8576b\"],[0.6666666666666666,\"#ed7953\"],[0.7777777777777778,\"#fb9f3a\"],[0.8888888888888888,\"#fdca26\"],[1.0,\"#f0f921\"]],\"sequentialminus\":[[0.0,\"#0d0887\"],[0.1111111111111111,\"#46039f\"],[0.2222222222222222,\"#7201a8\"],[0.3333333333333333,\"#9c179e\"],[0.4444444444444444,\"#bd3786\"],[0.5555555555555556,\"#d8576b\"],[0.6666666666666666,\"#ed7953\"],[0.7777777777777778,\"#fb9f3a\"],[0.8888888888888888,\"#fdca26\"],[1.0,\"#f0f921\"]],\"diverging\":[[0,\"#8e0152\"],[0.1,\"#c51b7d\"],[0.2,\"#de77ae\"],[0.3,\"#f1b6da\"],[0.4,\"#fde0ef\"],[0.5,\"#f7f7f7\"],[0.6,\"#e6f5d0\"],[0.7,\"#b8e186\"],[0.8,\"#7fbc41\"],[0.9,\"#4d9221\"],[1,\"#276419\"]]},\"xaxis\":{\"gridcolor\":\"white\",\"linecolor\":\"white\",\"ticks\":\"\",\"title\":{\"standoff\":15},\"zerolinecolor\":\"white\",\"automargin\":true,\"zerolinewidth\":2},\"yaxis\":{\"gridcolor\":\"white\",\"linecolor\":\"white\",\"ticks\":\"\",\"title\":{\"standoff\":15},\"zerolinecolor\":\"white\",\"automargin\":true,\"zerolinewidth\":2},\"scene\":{\"xaxis\":{\"backgroundcolor\":\"#E5ECF6\",\"gridcolor\":\"white\",\"linecolor\":\"white\",\"showbackground\":true,\"ticks\":\"\",\"zerolinecolor\":\"white\",\"gridwidth\":2},\"yaxis\":{\"backgroundcolor\":\"#E5ECF6\",\"gridcolor\":\"white\",\"linecolor\":\"white\",\"showbackground\":true,\"ticks\":\"\",\"zerolinecolor\":\"white\",\"gridwidth\":2},\"zaxis\":{\"backgroundcolor\":\"#E5ECF6\",\"gridcolor\":\"white\",\"linecolor\":\"white\",\"showbackground\":true,\"ticks\":\"\",\"zerolinecolor\":\"white\",\"gridwidth\":2}},\"shapedefaults\":{\"line\":{\"color\":\"#2a3f5f\"}},\"annotationdefaults\":{\"arrowcolor\":\"#2a3f5f\",\"arrowhead\":0,\"arrowwidth\":1},\"geo\":{\"bgcolor\":\"white\",\"landcolor\":\"#E5ECF6\",\"subunitcolor\":\"white\",\"showland\":true,\"showlakes\":true,\"lakecolor\":\"white\"},\"title\":{\"x\":0.05},\"mapbox\":{\"style\":\"light\"}}},\"xaxis\":{\"anchor\":\"y\",\"domain\":[0.0,1.0],\"title\":{\"text\":\"director\"}},\"yaxis\":{\"anchor\":\"x\",\"domain\":[0.0,1.0],\"title\":{\"text\":\"value\"}},\"legend\":{\"title\":{\"text\":\"variable\"},\"tracegroupgap\":0},\"title\":{\"text\":\"Top 10 Distribution Director Movies\"},\"barmode\":\"relative\"},                        {\"responsive\": true}                    ).then(function(){\n",
       "                            \n",
       "var gd = document.getElementById('0eaaf586-b578-4a1e-b921-001950d77bd6');\n",
       "var x = new MutationObserver(function (mutations, observer) {{\n",
       "        var display = window.getComputedStyle(gd).display;\n",
       "        if (!display || display === 'none') {{\n",
       "            console.log([gd, 'removed!']);\n",
       "            Plotly.purge(gd);\n",
       "            observer.disconnect();\n",
       "        }}\n",
       "}});\n",
       "\n",
       "// Listen for the removal of the full notebook cells\n",
       "var notebookContainer = gd.closest('#notebook-container');\n",
       "if (notebookContainer) {{\n",
       "    x.observe(notebookContainer, {childList: true});\n",
       "}}\n",
       "\n",
       "// Listen for the clearing of the current output cell\n",
       "var outputEl = gd.closest('.output');\n",
       "if (outputEl) {{\n",
       "    x.observe(outputEl, {childList: true});\n",
       "}}\n",
       "\n",
       "                        })                };                });            </script>        </div>"
      ]
     },
     "metadata": {},
     "output_type": "display_data"
    }
   ],
   "source": [
    "top_10_director = top_10_director.sort_values(ascending=False).head(10)\n",
    "px.bar(data_frame=top_10_director, text_auto=True, title='Top 10 Distribution Director Movies')"
   ]
  },
  {
   "cell_type": "code",
   "execution_count": 85,
   "id": "978054fe",
   "metadata": {},
   "outputs": [
    {
     "data": {
      "image/png": "[encoded data removed]",
      "text/plain": [
       "<Figure size 600x300 with 1 Axes>"
      ]
     },
     "metadata": {},
     "output_type": "display_data"
    }
   ],
   "source": [
    "release_year_counts = data['release_year'].value_counts().sort_index()\n",
    "plt.figure(figsize=(6, 3))\n",
    "release_year_counts.plot(kind='line', color='blue')\n",
    "plt.title('Distribution of Release Years Movies')\n",
    "plt.xlabel('Release Year')\n",
    "plt.ylabel('Count')\n",
    "plt.grid(True)\n",
    "plt.show()"
   ]
  },
  {
   "cell_type": "code",
   "execution_count": 100,
   "id": "d288ec4c",
   "metadata": {},
   "outputs": [
    {
     "data": {
      "application/vnd.plotly.v1+json": {
       "config": {
        "plotlyServerURL": "https://plot.ly"
       },
       "data": [
        {
         "hovertemplate": "Content Type=Movie<br>release_year=%{x}<br>Count=%{y}<extra></extra>",
         "legendgroup": "Movie",
         "line": {
          "color": "#636efa",
          "dash": "solid"
         },
         "marker": {
          "symbol": "circle"
         },
         "mode": "lines",
         "name": "Movie",
         "orientation": "v",
         "showlegend": true,
         "type": "scatter",
         "x": [
          1925,
          1942,
          1943,
          1944,
          1945,
          1946,
          1947,
          1954,
          1955,
          1956,
          1958,
          1959,
          1960,
          1961,
          1962,
          1963,
          1964,
          1965,
          1966,
          1967,
          1968,
          1969,
          1970,
          1971,
          1972,
          1973,
          1974,
          1975,
          1976,
          1977,
          1978,
          1979,
          1980,
          1981,
          1982,
          1983,
          1984,
          1985,
          1986,
          1987,
          1988,
          1989,
          1990,
          1991,
          1992,
          1993,
          1994,
          1995,
          1996,
          1997,
          1998,
          1999,
          2000,
          2001,
          2002,
          2003,
          2004,
          2005,
          2006,
          2007,
          2008,
          2009,
          2010,
          2011,
          2012,
          2013,
          2014,
          2015,
          2016,
          2017,
          2018,
          2019,
          2020,
          2021,
          2024
         ],
         "xaxis": "x",
         "y": [
          0,
          2,
          3,
          3,
          3,
          1,
          1,
          2,
          3,
          2,
          3,
          1,
          4,
          1,
          3,
          1,
          2,
          2,
          1,
          4,
          3,
          2,
          2,
          5,
          4,
          10,
          6,
          7,
          9,
          6,
          7,
          10,
          11,
          12,
          17,
          11,
          12,
          9,
          11,
          8,
          16,
          15,
          19,
          16,
          20,
          24,
          20,
          23,
          21,
          34,
          32,
          32,
          33,
          40,
          44,
          51,
          55,
          67,
          82,
          74,
          113,
          118,
          154,
          145,
          173,
          225,
          265,
          398,
          658,
          767,
          767,
          633,
          517,
          277,
          0
         ],
         "yaxis": "y"
        },
        {
         "hovertemplate": "Content Type=TV Show<br>release_year=%{x}<br>Count=%{y}<extra></extra>",
         "legendgroup": "TV Show",
         "line": {
          "color": "#EF553B",
          "dash": "solid"
         },
         "marker": {
          "symbol": "circle"
         },
         "mode": "lines",
         "name": "TV Show",
         "orientation": "v",
         "showlegend": true,
         "type": "scatter",
         "x": [
          1925,
          1942,
          1943,
          1944,
          1945,
          1946,
          1947,
          1954,
          1955,
          1956,
          1958,
          1959,
          1960,
          1961,
          1962,
          1963,
          1964,
          1965,
          1966,
          1967,
          1968,
          1969,
          1970,
          1971,
          1972,
          1973,
          1974,
          1975,
          1976,
          1977,
          1978,
          1979,
          1980,
          1981,
          1982,
          1983,
          1984,
          1985,
          1986,
          1987,
          1988,
          1989,
          1990,
          1991,
          1992,
          1993,
          1994,
          1995,
          1996,
          1997,
          1998,
          1999,
          2000,
          2001,
          2002,
          2003,
          2004,
          2005,
          2006,
          2007,
          2008,
          2009,
          2010,
          2011,
          2012,
          2013,
          2014,
          2015,
          2016,
          2017,
          2018,
          2019,
          2020,
          2021,
          2024
         ],
         "xaxis": "x",
         "y": [
          1,
          0,
          0,
          0,
          1,
          1,
          0,
          0,
          0,
          0,
          0,
          0,
          0,
          0,
          0,
          1,
          0,
          0,
          0,
          1,
          0,
          0,
          0,
          0,
          1,
          0,
          1,
          0,
          0,
          1,
          0,
          1,
          0,
          1,
          0,
          0,
          0,
          1,
          2,
          0,
          2,
          1,
          3,
          1,
          3,
          4,
          2,
          2,
          3,
          4,
          4,
          7,
          4,
          5,
          7,
          10,
          9,
          13,
          14,
          14,
          23,
          34,
          40,
          40,
          64,
          63,
          88,
          162,
          244,
          265,
          380,
          397,
          436,
          315,
          1
         ],
         "yaxis": "y"
        },
        {
         "hovertemplate": "Content Type=Total<br>release_year=%{x}<br>Count=%{y}<extra></extra>",
         "legendgroup": "Total",
         "line": {
          "color": "#00cc96",
          "dash": "solid"
         },
         "marker": {
          "symbol": "circle"
         },
         "mode": "lines",
         "name": "Total",
         "orientation": "v",
         "showlegend": true,
         "type": "scatter",
         "x": [
          1925,
          1942,
          1943,
          1944,
          1945,
          1946,
          1947,
          1954,
          1955,
          1956,
          1958,
          1959,
          1960,
          1961,
          1962,
          1963,
          1964,
          1965,
          1966,
          1967,
          1968,
          1969,
          1970,
          1971,
          1972,
          1973,
          1974,
          1975,
          1976,
          1977,
          1978,
          1979,
          1980,
          1981,
          1982,
          1983,
          1984,
          1985,
          1986,
          1987,
          1988,
          1989,
          1990,
          1991,
          1992,
          1993,
          1994,
          1995,
          1996,
          1997,
          1998,
          1999,
          2000,
          2001,
          2002,
          2003,
          2004,
          2005,
          2006,
          2007,
          2008,
          2009,
          2010,
          2011,
          2012,
          2013,
          2014,
          2015,
          2016,
          2017,
          2018,
          2019,
          2020,
          2021,
          2024
         ],
         "xaxis": "x",
         "y": [
          1,
          2,
          3,
          3,
          4,
          2,
          1,
          2,
          3,
          2,
          3,
          1,
          4,
          1,
          3,
          2,
          2,
          2,
          1,
          5,
          3,
          2,
          2,
          5,
          5,
          10,
          7,
          7,
          9,
          7,
          7,
          11,
          11,
          13,
          17,
          11,
          12,
          10,
          13,
          8,
          18,
          16,
          22,
          17,
          23,
          28,
          22,
          25,
          24,
          38,
          36,
          39,
          37,
          45,
          51,
          61,
          64,
          80,
          96,
          88,
          136,
          152,
          194,
          185,
          237,
          288,
          353,
          560,
          902,
          1032,
          1147,
          1030,
          953,
          592,
          1
         ],
         "yaxis": "y"
        }
       ],
       "layout": {
        "legend": {
         "title": {
          "text": "Content Type"
         },
         "tracegroupgap": 0
        },
        "template": {
         "data": {
          "bar": [
           {
            "error_x": {
             "color": "#2a3f5f"
            },
            "error_y": {
             "color": "#2a3f5f"
            },
            "marker": {
             "line": {
              "color": "#E5ECF6",
              "width": 0.5
             },
             "pattern": {
              "fillmode": "overlay",
              "size": 10,
              "solidity": 0.2
             }
            },
            "type": "bar"
           }
          ],
          "barpolar": [
           {
            "marker": {
             "line": {
              "color": "#E5ECF6",
              "width": 0.5
             },
             "pattern": {
              "fillmode": "overlay",
              "size": 10,
              "solidity": 0.2
             }
            },
            "type": "barpolar"
           }
          ],
          "carpet": [
           {
            "aaxis": {
             "endlinecolor": "#2a3f5f",
             "gridcolor": "white",
             "linecolor": "white",
             "minorgridcolor": "white",
             "startlinecolor": "#2a3f5f"
            },
            "baxis": {
             "endlinecolor": "#2a3f5f",
             "gridcolor": "white",
             "linecolor": "white",
             "minorgridcolor": "white",
             "startlinecolor": "#2a3f5f"
            },
            "type": "carpet"
           }
          ],
          "choropleth": [
           {
            "colorbar": {
             "outlinewidth": 0,
             "ticks": ""
            },
            "type": "choropleth"
           }
          ],
          "contour": [
           {
            "colorbar": {
             "outlinewidth": 0,
             "ticks": ""
            },
            "colorscale": [
             [
              0,
              "#0d0887"
             ],
             [
              0.1111111111111111,
              "#46039f"
             ],
             [
              0.2222222222222222,
              "#7201a8"
             ],
             [
              0.3333333333333333,
              "#9c179e"
             ],
             [
              0.4444444444444444,
              "#bd3786"
             ],
             [
              0.5555555555555556,
              "#d8576b"
             ],
             [
              0.6666666666666666,
              "#ed7953"
             ],
             [
              0.7777777777777778,
              "#fb9f3a"
             ],
             [
              0.8888888888888888,
              "#fdca26"
             ],
             [
              1,
              "#f0f921"
             ]
            ],
            "type": "contour"
           }
          ],
          "contourcarpet": [
           {
            "colorbar": {
             "outlinewidth": 0,
             "ticks": ""
            },
            "type": "contourcarpet"
           }
          ],
          "heatmap": [
           {
            "colorbar": {
             "outlinewidth": 0,
             "ticks": ""
            },
            "colorscale": [
             [
              0,
              "#0d0887"
             ],
             [
              0.1111111111111111,
              "#46039f"
             ],
             [
              0.2222222222222222,
              "#7201a8"
             ],
             [
              0.3333333333333333,
              "#9c179e"
             ],
             [
              0.4444444444444444,
              "#bd3786"
             ],
             [
              0.5555555555555556,
              "#d8576b"
             ],
             [
              0.6666666666666666,
              "#ed7953"
             ],
             [
              0.7777777777777778,
              "#fb9f3a"
             ],
             [
              0.8888888888888888,
              "#fdca26"
             ],
             [
              1,
              "#f0f921"
             ]
            ],
            "type": "heatmap"
           }
          ],
          "heatmapgl": [
           {
            "colorbar": {
             "outlinewidth": 0,
             "ticks": ""
            },
            "colorscale": [
             [
              0,
              "#0d0887"
             ],
             [
              0.1111111111111111,
              "#46039f"
             ],
             [
              0.2222222222222222,
              "#7201a8"
             ],
             [
              0.3333333333333333,
              "#9c179e"
             ],
             [
              0.4444444444444444,
              "#bd3786"
             ],
             [
              0.5555555555555556,
              "#d8576b"
             ],
             [
              0.6666666666666666,
              "#ed7953"
             ],
             [
              0.7777777777777778,
              "#fb9f3a"
             ],
             [
              0.8888888888888888,
              "#fdca26"
             ],
             [
              1,
              "#f0f921"
             ]
            ],
            "type": "heatmapgl"
           }
          ],
          "histogram": [
           {
            "marker": {
             "pattern": {
              "fillmode": "overlay",
              "size": 10,
              "solidity": 0.2
             }
            },
            "type": "histogram"
           }
          ],
          "histogram2d": [
           {
            "colorbar": {
             "outlinewidth": 0,
             "ticks": ""
            },
            "colorscale": [
             [
              0,
              "#0d0887"
             ],
             [
              0.1111111111111111,
              "#46039f"
             ],
             [
              0.2222222222222222,
              "#7201a8"
             ],
             [
              0.3333333333333333,
              "#9c179e"
             ],
             [
              0.4444444444444444,
              "#bd3786"
             ],
             [
              0.5555555555555556,
              "#d8576b"
             ],
             [
              0.6666666666666666,
              "#ed7953"
             ],
             [
              0.7777777777777778,
              "#fb9f3a"
             ],
             [
              0.8888888888888888,
              "#fdca26"
             ],
             [
              1,
              "#f0f921"
             ]
            ],
            "type": "histogram2d"
           }
          ],
          "histogram2dcontour": [
           {
            "colorbar": {
             "outlinewidth": 0,
             "ticks": ""
            },
            "colorscale": [
             [
              0,
              "#0d0887"
             ],
             [
              0.1111111111111111,
              "#46039f"
             ],
             [
              0.2222222222222222,
              "#7201a8"
             ],
             [
              0.3333333333333333,
              "#9c179e"
             ],
             [
              0.4444444444444444,
              "#bd3786"
             ],
             [
              0.5555555555555556,
              "#d8576b"
             ],
             [
              0.6666666666666666,
              "#ed7953"
             ],
             [
              0.7777777777777778,
              "#fb9f3a"
             ],
             [
              0.8888888888888888,
              "#fdca26"
             ],
             [
              1,
              "#f0f921"
             ]
            ],
            "type": "histogram2dcontour"
           }
          ],
          "mesh3d": [
           {
            "colorbar": {
             "outlinewidth": 0,
             "ticks": ""
            },
            "type": "mesh3d"
           }
          ],
          "parcoords": [
           {
            "line": {
             "colorbar": {
              "outlinewidth": 0,
              "ticks": ""
             }
            },
            "type": "parcoords"
           }
          ],
          "pie": [
           {
            "automargin": true,
            "type": "pie"
           }
          ],
          "scatter": [
           {
            "fillpattern": {
             "fillmode": "overlay",
             "size": 10,
             "solidity": 0.2
            },
            "type": "scatter"
           }
          ],
          "scatter3d": [
           {
            "line": {
             "colorbar": {
              "outlinewidth": 0,
              "ticks": ""
             }
            },
            "marker": {
             "colorbar": {
              "outlinewidth": 0,
              "ticks": ""
             }
            },
            "type": "scatter3d"
           }
          ],
          "scattercarpet": [
           {
            "marker": {
             "colorbar": {
              "outlinewidth": 0,
              "ticks": ""
             }
            },
            "type": "scattercarpet"
           }
          ],
          "scattergeo": [
           {
            "marker": {
             "colorbar": {
              "outlinewidth": 0,
              "ticks": ""
             }
            },
            "type": "scattergeo"
           }
          ],
          "scattergl": [
           {
            "marker": {
             "colorbar": {
              "outlinewidth": 0,
              "ticks": ""
             }
            },
            "type": "scattergl"
           }
          ],
          "scattermapbox": [
           {
            "marker": {
             "colorbar": {
              "outlinewidth": 0,
              "ticks": ""
             }
            },
            "type": "scattermapbox"
           }
          ],
          "scatterpolar": [
           {
            "marker": {
             "colorbar": {
              "outlinewidth": 0,
              "ticks": ""
             }
            },
            "type": "scatterpolar"
           }
          ],
          "scatterpolargl": [
           {
            "marker": {
             "colorbar": {
              "outlinewidth": 0,
              "ticks": ""
             }
            },
            "type": "scatterpolargl"
           }
          ],
          "scatterternary": [
           {
            "marker": {
             "colorbar": {
              "outlinewidth": 0,
              "ticks": ""
             }
            },
            "type": "scatterternary"
           }
          ],
          "surface": [
           {
            "colorbar": {
             "outlinewidth": 0,
             "ticks": ""
            },
            "colorscale": [
             [
              0,
              "#0d0887"
             ],
             [
              0.1111111111111111,
              "#46039f"
             ],
             [
              0.2222222222222222,
              "#7201a8"
             ],
             [
              0.3333333333333333,
              "#9c179e"
             ],
             [
              0.4444444444444444,
              "#bd3786"
             ],
             [
              0.5555555555555556,
              "#d8576b"
             ],
             [
              0.6666666666666666,
              "#ed7953"
             ],
             [
              0.7777777777777778,
              "#fb9f3a"
             ],
             [
              0.8888888888888888,
              "#fdca26"
             ],
             [
              1,
              "#f0f921"
             ]
            ],
            "type": "surface"
           }
          ],
          "table": [
           {
            "cells": {
             "fill": {
              "color": "#EBF0F8"
             },
             "line": {
              "color": "white"
             }
            },
            "header": {
             "fill": {
              "color": "#C8D4E3"
             },
             "line": {
              "color": "white"
             }
            },
            "type": "table"
           }
          ]
         },
         "layout": {
          "annotationdefaults": {
           "arrowcolor": "#2a3f5f",
           "arrowhead": 0,
           "arrowwidth": 1
          },
          "autotypenumbers": "strict",
          "coloraxis": {
           "colorbar": {
            "outlinewidth": 0,
            "ticks": ""
           }
          },
          "colorscale": {
           "diverging": [
            [
             0,
             "#8e0152"
            ],
            [
             0.1,
             "#c51b7d"
            ],
            [
             0.2,
             "#de77ae"
            ],
            [
             0.3,
             "#f1b6da"
            ],
            [
             0.4,
             "#fde0ef"
            ],
            [
             0.5,
             "#f7f7f7"
            ],
            [
             0.6,
             "#e6f5d0"
            ],
            [
             0.7,
             "#b8e186"
            ],
            [
             0.8,
             "#7fbc41"
            ],
            [
             0.9,
             "#4d9221"
            ],
            [
             1,
             "#276419"
            ]
           ],
           "sequential": [
            [
             0,
             "#0d0887"
            ],
            [
             0.1111111111111111,
             "#46039f"
            ],
            [
             0.2222222222222222,
             "#7201a8"
            ],
            [
             0.3333333333333333,
             "#9c179e"
            ],
            [
             0.4444444444444444,
             "#bd3786"
            ],
            [
             0.5555555555555556,
             "#d8576b"
            ],
            [
             0.6666666666666666,
             "#ed7953"
            ],
            [
             0.7777777777777778,
             "#fb9f3a"
            ],
            [
             0.8888888888888888,
             "#fdca26"
            ],
            [
             1,
             "#f0f921"
            ]
           ],
           "sequentialminus": [
            [
             0,
             "#0d0887"
            ],
            [
             0.1111111111111111,
             "#46039f"
            ],
            [
             0.2222222222222222,
             "#7201a8"
            ],
            [
             0.3333333333333333,
             "#9c179e"
            ],
            [
             0.4444444444444444,
             "#bd3786"
            ],
            [
             0.5555555555555556,
             "#d8576b"
            ],
            [
             0.6666666666666666,
             "#ed7953"
            ],
            [
             0.7777777777777778,
             "#fb9f3a"
            ],
            [
             0.8888888888888888,
             "#fdca26"
            ],
            [
             1,
             "#f0f921"
            ]
           ]
          },
          "colorway": [
           "#636efa",
           "#EF553B",
           "#00cc96",
           "#ab63fa",
           "#FFA15A",
           "#19d3f3",
           "#FF6692",
           "#B6E880",
           "#FF97FF",
           "#FECB52"
          ],
          "font": {
           "color": "#2a3f5f"
          },
          "geo": {
           "bgcolor": "white",
           "lakecolor": "white",
           "landcolor": "#E5ECF6",
           "showlakes": true,
           "showland": true,
           "subunitcolor": "white"
          },
          "hoverlabel": {
           "align": "left"
          },
          "hovermode": "closest",
          "mapbox": {
           "style": "light"
          },
          "paper_bgcolor": "white",
          "plot_bgcolor": "#E5ECF6",
          "polar": {
           "angularaxis": {
            "gridcolor": "white",
            "linecolor": "white",
            "ticks": ""
           },
           "bgcolor": "#E5ECF6",
           "radialaxis": {
            "gridcolor": "white",
            "linecolor": "white",
            "ticks": ""
           }
          },
          "scene": {
           "xaxis": {
            "backgroundcolor": "#E5ECF6",
            "gridcolor": "white",
            "gridwidth": 2,
            "linecolor": "white",
            "showbackground": true,
            "ticks": "",
            "zerolinecolor": "white"
           },
           "yaxis": {
            "backgroundcolor": "#E5ECF6",
            "gridcolor": "white",
            "gridwidth": 2,
            "linecolor": "white",
            "showbackground": true,
            "ticks": "",
            "zerolinecolor": "white"
           },
           "zaxis": {
            "backgroundcolor": "#E5ECF6",
            "gridcolor": "white",
            "gridwidth": 2,
            "linecolor": "white",
            "showbackground": true,
            "ticks": "",
            "zerolinecolor": "white"
           }
          },
          "shapedefaults": {
           "line": {
            "color": "#2a3f5f"
           }
          },
          "ternary": {
           "aaxis": {
            "gridcolor": "white",
            "linecolor": "white",
            "ticks": ""
           },
           "baxis": {
            "gridcolor": "white",
            "linecolor": "white",
            "ticks": ""
           },
           "bgcolor": "#E5ECF6",
           "caxis": {
            "gridcolor": "white",
            "linecolor": "white",
            "ticks": ""
           }
          },
          "title": {
           "x": 0.05
          },
          "xaxis": {
           "automargin": true,
           "gridcolor": "white",
           "linecolor": "white",
           "ticks": "",
           "title": {
            "standoff": 15
           },
           "zerolinecolor": "white",
           "zerolinewidth": 2
          },
          "yaxis": {
           "automargin": true,
           "gridcolor": "white",
           "linecolor": "white",
           "ticks": "",
           "title": {
            "standoff": 15
           },
           "zerolinecolor": "white",
           "zerolinewidth": 2
          }
         }
        },
        "title": {
         "text": "Movie, TV Shows and Total Released Each Year"
        },
        "xaxis": {
         "anchor": "y",
         "domain": [
          0,
          1
         ],
         "title": {
          "text": "release_year"
         }
        },
        "yaxis": {
         "anchor": "x",
         "domain": [
          0,
          1
         ],
         "title": {
          "text": "Count"
         }
        }
       }
      },
      "text/html": [
       "<div>                            <div id=\"b6179f75-3bd9-40df-963d-97d8c46ffc9b\" class=\"plotly-graph-div\" style=\"height:525px; width:100%;\"></div>            <script type=\"text/javascript\">                require([\"plotly\"], function(Plotly) {                    window.PLOTLYENV=window.PLOTLYENV || {};                                    if (document.getElementById(\"b6179f75-3bd9-40df-963d-97d8c46ffc9b\")) {                    Plotly.newPlot(                        \"b6179f75-3bd9-40df-963d-97d8c46ffc9b\",                        [{\"hovertemplate\":\"Content Type=Movie<br>release_year=%{x}<br>Count=%{y}<extra></extra>\",\"legendgroup\":\"Movie\",\"line\":{\"color\":\"#636efa\",\"dash\":\"solid\"},\"marker\":{\"symbol\":\"circle\"},\"mode\":\"lines\",\"name\":\"Movie\",\"orientation\":\"v\",\"showlegend\":true,\"x\":[1925,1942,1943,1944,1945,1946,1947,1954,1955,1956,1958,1959,1960,1961,1962,1963,1964,1965,1966,1967,1968,1969,1970,1971,1972,1973,1974,1975,1976,1977,1978,1979,1980,1981,1982,1983,1984,1985,1986,1987,1988,1989,1990,1991,1992,1993,1994,1995,1996,1997,1998,1999,2000,2001,2002,2003,2004,2005,2006,2007,2008,2009,2010,2011,2012,2013,2014,2015,2016,2017,2018,2019,2020,2021,2024],\"xaxis\":\"x\",\"y\":[0,2,3,3,3,1,1,2,3,2,3,1,4,1,3,1,2,2,1,4,3,2,2,5,4,10,6,7,9,6,7,10,11,12,17,11,12,9,11,8,16,15,19,16,20,24,20,23,21,34,32,32,33,40,44,51,55,67,82,74,113,118,154,145,173,225,265,398,658,767,767,633,517,277,0],\"yaxis\":\"y\",\"type\":\"scatter\"},{\"hovertemplate\":\"Content Type=TV Show<br>release_year=%{x}<br>Count=%{y}<extra></extra>\",\"legendgroup\":\"TV Show\",\"line\":{\"color\":\"#EF553B\",\"dash\":\"solid\"},\"marker\":{\"symbol\":\"circle\"},\"mode\":\"lines\",\"name\":\"TV Show\",\"orientation\":\"v\",\"showlegend\":true,\"x\":[1925,1942,1943,1944,1945,1946,1947,1954,1955,1956,1958,1959,1960,1961,1962,1963,1964,1965,1966,1967,1968,1969,1970,1971,1972,1973,1974,1975,1976,1977,1978,1979,1980,1981,1982,1983,1984,1985,1986,1987,1988,1989,1990,1991,1992,1993,1994,1995,1996,1997,1998,1999,2000,2001,2002,2003,2004,2005,2006,2007,2008,2009,2010,2011,2012,2013,2014,2015,2016,2017,2018,2019,2020,2021,2024],\"xaxis\":\"x\",\"y\":[1,0,0,0,1,1,0,0,0,0,0,0,0,0,0,1,0,0,0,1,0,0,0,0,1,0,1,0,0,1,0,1,0,1,0,0,0,1,2,0,2,1,3,1,3,4,2,2,3,4,4,7,4,5,7,10,9,13,14,14,23,34,40,40,64,63,88,162,244,265,380,397,436,315,1],\"yaxis\":\"y\",\"type\":\"scatter\"},{\"hovertemplate\":\"Content Type=Total<br>release_year=%{x}<br>Count=%{y}<extra></extra>\",\"legendgroup\":\"Total\",\"line\":{\"color\":\"#00cc96\",\"dash\":\"solid\"},\"marker\":{\"symbol\":\"circle\"},\"mode\":\"lines\",\"name\":\"Total\",\"orientation\":\"v\",\"showlegend\":true,\"x\":[1925,1942,1943,1944,1945,1946,1947,1954,1955,1956,1958,1959,1960,1961,1962,1963,1964,1965,1966,1967,1968,1969,1970,1971,1972,1973,1974,1975,1976,1977,1978,1979,1980,1981,1982,1983,1984,1985,1986,1987,1988,1989,1990,1991,1992,1993,1994,1995,1996,1997,1998,1999,2000,2001,2002,2003,2004,2005,2006,2007,2008,2009,2010,2011,2012,2013,2014,2015,2016,2017,2018,2019,2020,2021,2024],\"xaxis\":\"x\",\"y\":[1,2,3,3,4,2,1,2,3,2,3,1,4,1,3,2,2,2,1,5,3,2,2,5,5,10,7,7,9,7,7,11,11,13,17,11,12,10,13,8,18,16,22,17,23,28,22,25,24,38,36,39,37,45,51,61,64,80,96,88,136,152,194,185,237,288,353,560,902,1032,1147,1030,953,592,1],\"yaxis\":\"y\",\"type\":\"scatter\"}],                        {\"template\":{\"data\":{\"histogram2dcontour\":[{\"type\":\"histogram2dcontour\",\"colorbar\":{\"outlinewidth\":0,\"ticks\":\"\"},\"colorscale\":[[0.0,\"#0d0887\"],[0.1111111111111111,\"#46039f\"],[0.2222222222222222,\"#7201a8\"],[0.3333333333333333,\"#9c179e\"],[0.4444444444444444,\"#bd3786\"],[0.5555555555555556,\"#d8576b\"],[0.6666666666666666,\"#ed7953\"],[0.7777777777777778,\"#fb9f3a\"],[0.8888888888888888,\"#fdca26\"],[1.0,\"#f0f921\"]]}],\"choropleth\":[{\"type\":\"choropleth\",\"colorbar\":{\"outlinewidth\":0,\"ticks\":\"\"}}],\"histogram2d\":[{\"type\":\"histogram2d\",\"colorbar\":{\"outlinewidth\":0,\"ticks\":\"\"},\"colorscale\":[[0.0,\"#0d0887\"],[0.1111111111111111,\"#46039f\"],[0.2222222222222222,\"#7201a8\"],[0.3333333333333333,\"#9c179e\"],[0.4444444444444444,\"#bd3786\"],[0.5555555555555556,\"#d8576b\"],[0.6666666666666666,\"#ed7953\"],[0.7777777777777778,\"#fb9f3a\"],[0.8888888888888888,\"#fdca26\"],[1.0,\"#f0f921\"]]}],\"heatmap\":[{\"type\":\"heatmap\",\"colorbar\":{\"outlinewidth\":0,\"ticks\":\"\"},\"colorscale\":[[0.0,\"#0d0887\"],[0.1111111111111111,\"#46039f\"],[0.2222222222222222,\"#7201a8\"],[0.3333333333333333,\"#9c179e\"],[0.4444444444444444,\"#bd3786\"],[0.5555555555555556,\"#d8576b\"],[0.6666666666666666,\"#ed7953\"],[0.7777777777777778,\"#fb9f3a\"],[0.8888888888888888,\"#fdca26\"],[1.0,\"#f0f921\"]]}],\"heatmapgl\":[{\"type\":\"heatmapgl\",\"colorbar\":{\"outlinewidth\":0,\"ticks\":\"\"},\"colorscale\":[[0.0,\"#0d0887\"],[0.1111111111111111,\"#46039f\"],[0.2222222222222222,\"#7201a8\"],[0.3333333333333333,\"#9c179e\"],[0.4444444444444444,\"#bd3786\"],[0.5555555555555556,\"#d8576b\"],[0.6666666666666666,\"#ed7953\"],[0.7777777777777778,\"#fb9f3a\"],[0.8888888888888888,\"#fdca26\"],[1.0,\"#f0f921\"]]}],\"contourcarpet\":[{\"type\":\"contourcarpet\",\"colorbar\":{\"outlinewidth\":0,\"ticks\":\"\"}}],\"contour\":[{\"type\":\"contour\",\"colorbar\":{\"outlinewidth\":0,\"ticks\":\"\"},\"colorscale\":[[0.0,\"#0d0887\"],[0.1111111111111111,\"#46039f\"],[0.2222222222222222,\"#7201a8\"],[0.3333333333333333,\"#9c179e\"],[0.4444444444444444,\"#bd3786\"],[0.5555555555555556,\"#d8576b\"],[0.6666666666666666,\"#ed7953\"],[0.7777777777777778,\"#fb9f3a\"],[0.8888888888888888,\"#fdca26\"],[1.0,\"#f0f921\"]]}],\"surface\":[{\"type\":\"surface\",\"colorbar\":{\"outlinewidth\":0,\"ticks\":\"\"},\"colorscale\":[[0.0,\"#0d0887\"],[0.1111111111111111,\"#46039f\"],[0.2222222222222222,\"#7201a8\"],[0.3333333333333333,\"#9c179e\"],[0.4444444444444444,\"#bd3786\"],[0.5555555555555556,\"#d8576b\"],[0.6666666666666666,\"#ed7953\"],[0.7777777777777778,\"#fb9f3a\"],[0.8888888888888888,\"#fdca26\"],[1.0,\"#f0f921\"]]}],\"mesh3d\":[{\"type\":\"mesh3d\",\"colorbar\":{\"outlinewidth\":0,\"ticks\":\"\"}}],\"scatter\":[{\"fillpattern\":{\"fillmode\":\"overlay\",\"size\":10,\"solidity\":0.2},\"type\":\"scatter\"}],\"parcoords\":[{\"type\":\"parcoords\",\"line\":{\"colorbar\":{\"outlinewidth\":0,\"ticks\":\"\"}}}],\"scatterpolargl\":[{\"type\":\"scatterpolargl\",\"marker\":{\"colorbar\":{\"outlinewidth\":0,\"ticks\":\"\"}}}],\"bar\":[{\"error_x\":{\"color\":\"#2a3f5f\"},\"error_y\":{\"color\":\"#2a3f5f\"},\"marker\":{\"line\":{\"color\":\"#E5ECF6\",\"width\":0.5},\"pattern\":{\"fillmode\":\"overlay\",\"size\":10,\"solidity\":0.2}},\"type\":\"bar\"}],\"scattergeo\":[{\"type\":\"scattergeo\",\"marker\":{\"colorbar\":{\"outlinewidth\":0,\"ticks\":\"\"}}}],\"scatterpolar\":[{\"type\":\"scatterpolar\",\"marker\":{\"colorbar\":{\"outlinewidth\":0,\"ticks\":\"\"}}}],\"histogram\":[{\"marker\":{\"pattern\":{\"fillmode\":\"overlay\",\"size\":10,\"solidity\":0.2}},\"type\":\"histogram\"}],\"scattergl\":[{\"type\":\"scattergl\",\"marker\":{\"colorbar\":{\"outlinewidth\":0,\"ticks\":\"\"}}}],\"scatter3d\":[{\"type\":\"scatter3d\",\"line\":{\"colorbar\":{\"outlinewidth\":0,\"ticks\":\"\"}},\"marker\":{\"colorbar\":{\"outlinewidth\":0,\"ticks\":\"\"}}}],\"scattermapbox\":[{\"type\":\"scattermapbox\",\"marker\":{\"colorbar\":{\"outlinewidth\":0,\"ticks\":\"\"}}}],\"scatterternary\":[{\"type\":\"scatterternary\",\"marker\":{\"colorbar\":{\"outlinewidth\":0,\"ticks\":\"\"}}}],\"scattercarpet\":[{\"type\":\"scattercarpet\",\"marker\":{\"colorbar\":{\"outlinewidth\":0,\"ticks\":\"\"}}}],\"carpet\":[{\"aaxis\":{\"endlinecolor\":\"#2a3f5f\",\"gridcolor\":\"white\",\"linecolor\":\"white\",\"minorgridcolor\":\"white\",\"startlinecolor\":\"#2a3f5f\"},\"baxis\":{\"endlinecolor\":\"#2a3f5f\",\"gridcolor\":\"white\",\"linecolor\":\"white\",\"minorgridcolor\":\"white\",\"startlinecolor\":\"#2a3f5f\"},\"type\":\"carpet\"}],\"table\":[{\"cells\":{\"fill\":{\"color\":\"#EBF0F8\"},\"line\":{\"color\":\"white\"}},\"header\":{\"fill\":{\"color\":\"#C8D4E3\"},\"line\":{\"color\":\"white\"}},\"type\":\"table\"}],\"barpolar\":[{\"marker\":{\"line\":{\"color\":\"#E5ECF6\",\"width\":0.5},\"pattern\":{\"fillmode\":\"overlay\",\"size\":10,\"solidity\":0.2}},\"type\":\"barpolar\"}],\"pie\":[{\"automargin\":true,\"type\":\"pie\"}]},\"layout\":{\"autotypenumbers\":\"strict\",\"colorway\":[\"#636efa\",\"#EF553B\",\"#00cc96\",\"#ab63fa\",\"#FFA15A\",\"#19d3f3\",\"#FF6692\",\"#B6E880\",\"#FF97FF\",\"#FECB52\"],\"font\":{\"color\":\"#2a3f5f\"},\"hovermode\":\"closest\",\"hoverlabel\":{\"align\":\"left\"},\"paper_bgcolor\":\"white\",\"plot_bgcolor\":\"#E5ECF6\",\"polar\":{\"bgcolor\":\"#E5ECF6\",\"angularaxis\":{\"gridcolor\":\"white\",\"linecolor\":\"white\",\"ticks\":\"\"},\"radialaxis\":{\"gridcolor\":\"white\",\"linecolor\":\"white\",\"ticks\":\"\"}},\"ternary\":{\"bgcolor\":\"#E5ECF6\",\"aaxis\":{\"gridcolor\":\"white\",\"linecolor\":\"white\",\"ticks\":\"\"},\"baxis\":{\"gridcolor\":\"white\",\"linecolor\":\"white\",\"ticks\":\"\"},\"caxis\":{\"gridcolor\":\"white\",\"linecolor\":\"white\",\"ticks\":\"\"}},\"coloraxis\":{\"colorbar\":{\"outlinewidth\":0,\"ticks\":\"\"}},\"colorscale\":{\"sequential\":[[0.0,\"#0d0887\"],[0.1111111111111111,\"#46039f\"],[0.2222222222222222,\"#7201a8\"],[0.3333333333333333,\"#9c179e\"],[0.4444444444444444,\"#bd3786\"],[0.5555555555555556,\"#d8576b\"],[0.6666666666666666,\"#ed7953\"],[0.7777777777777778,\"#fb9f3a\"],[0.8888888888888888,\"#fdca26\"],[1.0,\"#f0f921\"]],\"sequentialminus\":[[0.0,\"#0d0887\"],[0.1111111111111111,\"#46039f\"],[0.2222222222222222,\"#7201a8\"],[0.3333333333333333,\"#9c179e\"],[0.4444444444444444,\"#bd3786\"],[0.5555555555555556,\"#d8576b\"],[0.6666666666666666,\"#ed7953\"],[0.7777777777777778,\"#fb9f3a\"],[0.8888888888888888,\"#fdca26\"],[1.0,\"#f0f921\"]],\"diverging\":[[0,\"#8e0152\"],[0.1,\"#c51b7d\"],[0.2,\"#de77ae\"],[0.3,\"#f1b6da\"],[0.4,\"#fde0ef\"],[0.5,\"#f7f7f7\"],[0.6,\"#e6f5d0\"],[0.7,\"#b8e186\"],[0.8,\"#7fbc41\"],[0.9,\"#4d9221\"],[1,\"#276419\"]]},\"xaxis\":{\"gridcolor\":\"white\",\"linecolor\":\"white\",\"ticks\":\"\",\"title\":{\"standoff\":15},\"zerolinecolor\":\"white\",\"automargin\":true,\"zerolinewidth\":2},\"yaxis\":{\"gridcolor\":\"white\",\"linecolor\":\"white\",\"ticks\":\"\",\"title\":{\"standoff\":15},\"zerolinecolor\":\"white\",\"automargin\":true,\"zerolinewidth\":2},\"scene\":{\"xaxis\":{\"backgroundcolor\":\"#E5ECF6\",\"gridcolor\":\"white\",\"linecolor\":\"white\",\"showbackground\":true,\"ticks\":\"\",\"zerolinecolor\":\"white\",\"gridwidth\":2},\"yaxis\":{\"backgroundcolor\":\"#E5ECF6\",\"gridcolor\":\"white\",\"linecolor\":\"white\",\"showbackground\":true,\"ticks\":\"\",\"zerolinecolor\":\"white\",\"gridwidth\":2},\"zaxis\":{\"backgroundcolor\":\"#E5ECF6\",\"gridcolor\":\"white\",\"linecolor\":\"white\",\"showbackground\":true,\"ticks\":\"\",\"zerolinecolor\":\"white\",\"gridwidth\":2}},\"shapedefaults\":{\"line\":{\"color\":\"#2a3f5f\"}},\"annotationdefaults\":{\"arrowcolor\":\"#2a3f5f\",\"arrowhead\":0,\"arrowwidth\":1},\"geo\":{\"bgcolor\":\"white\",\"landcolor\":\"#E5ECF6\",\"subunitcolor\":\"white\",\"showland\":true,\"showlakes\":true,\"lakecolor\":\"white\"},\"title\":{\"x\":0.05},\"mapbox\":{\"style\":\"light\"}}},\"xaxis\":{\"anchor\":\"y\",\"domain\":[0.0,1.0],\"title\":{\"text\":\"release_year\"}},\"yaxis\":{\"anchor\":\"x\",\"domain\":[0.0,1.0],\"title\":{\"text\":\"Count\"}},\"legend\":{\"title\":{\"text\":\"Content Type\"},\"tracegroupgap\":0},\"title\":{\"text\":\"Movie, TV Shows and Total Released Each Year\"}},                        {\"responsive\": true}                    ).then(function(){\n",
       "                            \n",
       "var gd = document.getElementById('b6179f75-3bd9-40df-963d-97d8c46ffc9b');\n",
       "var x = new MutationObserver(function (mutations, observer) {{\n",
       "        var display = window.getComputedStyle(gd).display;\n",
       "        if (!display || display === 'none') {{\n",
       "            console.log([gd, 'removed!']);\n",
       "            Plotly.purge(gd);\n",
       "            observer.disconnect();\n",
       "        }}\n",
       "}});\n",
       "\n",
       "// Listen for the removal of the full notebook cells\n",
       "var notebookContainer = gd.closest('#notebook-container');\n",
       "if (notebookContainer) {{\n",
       "    x.observe(notebookContainer, {childList: true});\n",
       "}}\n",
       "\n",
       "// Listen for the clearing of the current output cell\n",
       "var outputEl = gd.closest('.output');\n",
       "if (outputEl) {{\n",
       "    x.observe(outputEl, {childList: true});\n",
       "}}\n",
       "\n",
       "                        })                };                });            </script>        </div>"
      ]
     },
     "metadata": {},
     "output_type": "display_data"
    }
   ],
   "source": [
    "content_type = data.groupby(['release_year', 'type']).size().unstack(fill_value=0)\n",
    "content_type['Total'] = content_type['Movie'] + content_type['TV Show']\n",
    "content_type = content_type.reset_index()\n",
    "fig = px.line(\n",
    "    content_type, \n",
    "    x='release_year', \n",
    "    y=['Movie', 'TV Show', 'Total'], \n",
    "    labels={'value': 'Count', 'variable': 'Content Type'}, \n",
    "    title='Movie, TV Shows and Total Released Each Year'\n",
    ")\n",
    "fig.show()\n"
   ]
  },
  {
   "cell_type": "code",
   "execution_count": null,
   "id": "2a33eae7",
   "metadata": {},
   "outputs": [],
   "source": []
  },
  {
   "cell_type": "code",
   "execution_count": null,
   "id": "ac423123",
   "metadata": {},
   "outputs": [],
   "source": []
  },
  {
   "cell_type": "code",
   "execution_count": null,
   "id": "0128d559",
   "metadata": {},
   "outputs": [],
   "source": []
  },
  {
   "cell_type": "code",
   "execution_count": null,
   "id": "8dd6b260",
   "metadata": {},
   "outputs": [],
   "source": []
  },
  {
   "cell_type": "code",
   "execution_count": null,
   "id": "0dacad72",
   "metadata": {},
   "outputs": [],
   "source": []
  },
  {
   "cell_type": "code",
   "execution_count": null,
   "id": "5fbebb4a",
   "metadata": {},
   "outputs": [],
   "source": []
  }
 ],
 "metadata": {
  "kernelspec": {
   "display_name": "Python 3 (ipykernel)",
   "language": "python",
   "name": "python3"
  },
  "language_info": {
   "codemirror_mode": {
    "name": "ipython",
    "version": 3
   },
   "file_extension": ".py",
   "mimetype": "text/x-python",
   "name": "python",
   "nbconvert_exporter": "python",
   "pygments_lexer": "ipython3",
   "version": "3.11.5"
  }
 },
 "nbformat": 4,
 "nbformat_minor": 5
}
